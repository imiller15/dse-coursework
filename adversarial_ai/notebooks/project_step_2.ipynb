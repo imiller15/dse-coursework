{
 "cells": [
  {
   "cell_type": "markdown",
   "id": "7ed7f95e",
   "metadata": {},
   "source": [
    "### Load the data"
   ]
  },
  {
   "cell_type": "code",
   "execution_count": 1,
   "id": "74d256db",
   "metadata": {},
   "outputs": [
    {
     "data": {
      "text/html": [
       "<div>\n",
       "<style scoped>\n",
       "    .dataframe tbody tr th:only-of-type {\n",
       "        vertical-align: middle;\n",
       "    }\n",
       "\n",
       "    .dataframe tbody tr th {\n",
       "        vertical-align: top;\n",
       "    }\n",
       "\n",
       "    .dataframe thead th {\n",
       "        text-align: right;\n",
       "    }\n",
       "</style>\n",
       "<table border=\"1\" class=\"dataframe\">\n",
       "  <thead>\n",
       "    <tr style=\"text-align: right;\">\n",
       "      <th></th>\n",
       "      <th>Time</th>\n",
       "      <th>SYMBOL_NAME</th>\n",
       "      <th>NV_rand</th>\n",
       "      <th>VOLUME_rand</th>\n",
       "    </tr>\n",
       "  </thead>\n",
       "  <tbody>\n",
       "    <tr>\n",
       "      <th>0</th>\n",
       "      <td>2021-09-20 09:30:00</td>\n",
       "      <td>NYSE_TAQ::A</td>\n",
       "      <td>2.523433e+07</td>\n",
       "      <td>136317.0</td>\n",
       "    </tr>\n",
       "    <tr>\n",
       "      <th>1</th>\n",
       "      <td>2021-09-20 09:30:00</td>\n",
       "      <td>NYSE_TAQ::AA</td>\n",
       "      <td>3.253425e+07</td>\n",
       "      <td>721069.0</td>\n",
       "    </tr>\n",
       "    <tr>\n",
       "      <th>2</th>\n",
       "      <td>2021-09-20 09:30:00</td>\n",
       "      <td>NYSE_TAQ::AAA</td>\n",
       "      <td>4.796918e+01</td>\n",
       "      <td>2.0</td>\n",
       "    </tr>\n",
       "    <tr>\n",
       "      <th>3</th>\n",
       "      <td>2021-09-20 09:30:00</td>\n",
       "      <td>NYSE_TAQ::AAAU</td>\n",
       "      <td>3.942529e+05</td>\n",
       "      <td>23543.0</td>\n",
       "    </tr>\n",
       "    <tr>\n",
       "      <th>4</th>\n",
       "      <td>2021-09-20 09:30:00</td>\n",
       "      <td>NYSE_TAQ::AAC</td>\n",
       "      <td>3.458813e+03</td>\n",
       "      <td>364.0</td>\n",
       "    </tr>\n",
       "  </tbody>\n",
       "</table>\n",
       "</div>"
      ],
      "text/plain": [
       "                 Time     SYMBOL_NAME       NV_rand  VOLUME_rand\n",
       "0 2021-09-20 09:30:00     NYSE_TAQ::A  2.523433e+07     136317.0\n",
       "1 2021-09-20 09:30:00    NYSE_TAQ::AA  3.253425e+07     721069.0\n",
       "2 2021-09-20 09:30:00   NYSE_TAQ::AAA  4.796918e+01          2.0\n",
       "3 2021-09-20 09:30:00  NYSE_TAQ::AAAU  3.942529e+05      23543.0\n",
       "4 2021-09-20 09:30:00   NYSE_TAQ::AAC  3.458813e+03        364.0"
      ]
     },
     "execution_count": 1,
     "metadata": {},
     "output_type": "execute_result"
    }
   ],
   "source": [
    "import pandas as pd\n",
    "import numpy as np\n",
    "\n",
    "df = pd.read_csv('VolumeAndNVbySymbol_wRand.csv', parse_dates = ['Time'])\n",
    "df.head()"
   ]
  },
  {
   "cell_type": "markdown",
   "id": "13870ab4",
   "metadata": {},
   "source": [
    "### Step 2. Compute weighted averages of the VOLUME_rand column:<br>\n",
    "#### 1.The weighted average of VOLUME_rand over the whole dataset, using NV_rand as the weights<br>"
   ]
  },
  {
   "cell_type": "code",
   "execution_count": 2,
   "id": "0ff19f22",
   "metadata": {},
   "outputs": [
    {
     "data": {
      "text/html": [
       "<div>\n",
       "<style scoped>\n",
       "    .dataframe tbody tr th:only-of-type {\n",
       "        vertical-align: middle;\n",
       "    }\n",
       "\n",
       "    .dataframe tbody tr th {\n",
       "        vertical-align: top;\n",
       "    }\n",
       "\n",
       "    .dataframe thead th {\n",
       "        text-align: right;\n",
       "    }\n",
       "</style>\n",
       "<table border=\"1\" class=\"dataframe\">\n",
       "  <thead>\n",
       "    <tr style=\"text-align: right;\">\n",
       "      <th></th>\n",
       "      <th>Time</th>\n",
       "      <th>SYMBOL_NAME</th>\n",
       "      <th>NV_rand</th>\n",
       "      <th>VOLUME_rand</th>\n",
       "      <th>weighted</th>\n",
       "    </tr>\n",
       "  </thead>\n",
       "  <tbody>\n",
       "    <tr>\n",
       "      <th>0</th>\n",
       "      <td>2021-09-20 09:30:00</td>\n",
       "      <td>NYSE_TAQ::A</td>\n",
       "      <td>2.523433e+07</td>\n",
       "      <td>136317.0</td>\n",
       "      <td>3.439869e+12</td>\n",
       "    </tr>\n",
       "  </tbody>\n",
       "</table>\n",
       "</div>"
      ],
      "text/plain": [
       "                 Time  SYMBOL_NAME       NV_rand  VOLUME_rand      weighted\n",
       "0 2021-09-20 09:30:00  NYSE_TAQ::A  2.523433e+07     136317.0  3.439869e+12"
      ]
     },
     "execution_count": 2,
     "metadata": {},
     "output_type": "execute_result"
    }
   ],
   "source": [
    "df['weighted'] = df['NV_rand'] * df['VOLUME_rand']\n",
    "df.head(1)"
   ]
  },
  {
   "cell_type": "code",
   "execution_count": 3,
   "id": "ecae3407",
   "metadata": {},
   "outputs": [
    {
     "name": "stdout",
     "output_type": "stream",
     "text": [
      "Weighted average of VOLUME_rand over the whole dataset is 932,572.88\n"
     ]
    }
   ],
   "source": [
    "# Computing the mean over the whole dataset\n",
    "dataset_weighted = df['weighted'].sum() / df['NV_rand'].sum()\n",
    "print(f'Weighted average of VOLUME_rand over the whole dataset is {dataset_weighted:,.2f}')"
   ]
  },
  {
   "cell_type": "code",
   "execution_count": 4,
   "id": "b03d0b33",
   "metadata": {},
   "outputs": [],
   "source": [
    "# checking with the built in numpy method\n",
    "# np.average(df['VOLUME_rand'], weights = df['NV_rand'])"
   ]
  },
  {
   "cell_type": "markdown",
   "id": "ee51c86b",
   "metadata": {},
   "source": [
    "#### 2.The lowest weighted average and highest weighted average you can get if you use the “natural” method we outlined in class to sort and them remove about 5% of the weight from the lowest or highest values respectively.<br>\n"
   ]
  },
  {
   "cell_type": "code",
   "execution_count": 5,
   "id": "c5d3f5e3",
   "metadata": {},
   "outputs": [
    {
     "name": "stdout",
     "output_type": "stream",
     "text": [
      "LOWEST weighted average of VOLUME_rand over bottom 95% of the dataset 36,525.64\n"
     ]
    }
   ],
   "source": [
    "# determine the top threshold using quantiles\n",
    "top_threshold =  df['weighted'].quantile(0.95)\n",
    "# print(f'Top threshold: {top_threshold:,.2f}')\n",
    "\n",
    "# filter out top 5% of the original distribution\n",
    "bottom95 = df[df['weighted'] < top_threshold]\n",
    "lowest = bottom95['weighted'].sum() / bottom95['NV_rand'].sum()\n",
    "print(f'LOWEST weighted average of VOLUME_rand over bottom 95% of the dataset {lowest:,.2f}')"
   ]
  },
  {
   "cell_type": "code",
   "execution_count": 6,
   "id": "4a9877b4",
   "metadata": {},
   "outputs": [
    {
     "name": "stdout",
     "output_type": "stream",
     "text": [
      "HIGHEST weighted average of VOLUME_rand over bottom 95% of the dataset: 932,574.83\n"
     ]
    }
   ],
   "source": [
    "# determine the bottom threshold using quantiles\n",
    "bottom_threshold =  df['weighted'].quantile(0.05)\n",
    "# print(f'Bottom threshold: {bottom_threshold:,.2f}')\n",
    "\n",
    "# filter out bottom 5% of the original distribution\n",
    "top95 = df[df['weighted'] > bottom_threshold]\n",
    "highest = top95['weighted'].sum() / top95['NV_rand'].sum()\n",
    "\n",
    "print(f'HIGHEST weighted average of VOLUME_rand over bottom 95% of the dataset: {highest:,.2f}')\n",
    "\n",
    "# checking with the built in numpy method\n",
    "# highest2 = np.average(top95['VOLUME_rand'], weights = top95['NV_rand'])\n",
    "# print(f'HIGHEST2 weighted average of VOLUME_rand over bottom 95% of the dataset: {highest2:,.2f}')"
   ]
  },
  {
   "cell_type": "markdown",
   "id": "02aa05ee",
   "metadata": {},
   "source": [
    "Since we weren't able to increase the weighted average in a meaningful way, we would like to check the distribution of the underlying data to make sure that the result actually makes sense:"
   ]
  },
  {
   "cell_type": "code",
   "execution_count": 7,
   "id": "88a0ce19",
   "metadata": {},
   "outputs": [
    {
     "data": {
      "image/png": "[encoded data removed]",
      "text/plain": [
       "<Figure size 864x216 with 2 Axes>"
      ]
     },
     "metadata": {
      "needs_background": "light"
     },
     "output_type": "display_data"
    }
   ],
   "source": [
    "import seaborn as sns\n",
    "import matplotlib.pyplot as plt\n",
    "%matplotlib inline\n",
    "\n",
    "columns_to_explore = ['NV_rand', 'weighted']\n",
    "\n",
    "fig, ax = plt.subplots(nrows=1, ncols=2, figsize = (12, 3))\n",
    "\n",
    "for i, col_list in enumerate(columns_to_explore):\n",
    "    sns.boxplot(data = df[col_list], ax = ax[i], palette = \"crest\", orient = 'h')\n",
    "    ax[i].set_title(\"Whisker Plot for Outlier Detection on\" + \" \" + col_list, fontsize = 12)\n",
    "    ax[i].set_ylabel(col_list, fontsize = 12)\n",
    "    ax[i].set(xlabel=None)\n",
    "    plt.tight_layout()"
   ]
  },
  {
   "cell_type": "markdown",
   "id": "b92a7795",
   "metadata": {},
   "source": [
    "And it does! As we could see from the box plots above, there are several extremely high values that affected our initial calculations and \"draged\" the results up. After we removed the top 5% of the distribution in step 2.1, the new weighted average was expected to be much lower compared to the original value. At the same time, since the high outliers reamined after we removed the bottom 5% of the distribution (2.2), recalculated weighted average did not change much."
   ]
  },
  {
   "cell_type": "markdown",
   "id": "1aa787a0",
   "metadata": {},
   "source": [
    "#### 3.Now aggregate by symbol (using the SYMBOL_NAME column) to compute a weighted average of VOLUME_rand for each symbol, using NV_rand as the weights. Now if you average VOLUME_rand over symbols using NV_rand totals for each symbol as the relative weights, do you get the same result as 1? Discuss why or why not.<br>"
   ]
  },
  {
   "cell_type": "code",
   "execution_count": 8,
   "id": "733b4e51",
   "metadata": {},
   "outputs": [
    {
     "data": {
      "text/html": [
       "<div>\n",
       "<style scoped>\n",
       "    .dataframe tbody tr th:only-of-type {\n",
       "        vertical-align: middle;\n",
       "    }\n",
       "\n",
       "    .dataframe tbody tr th {\n",
       "        vertical-align: top;\n",
       "    }\n",
       "\n",
       "    .dataframe thead th {\n",
       "        text-align: right;\n",
       "    }\n",
       "</style>\n",
       "<table border=\"1\" class=\"dataframe\">\n",
       "  <thead>\n",
       "    <tr style=\"text-align: right;\">\n",
       "      <th></th>\n",
       "      <th>SYMBOL_NAME</th>\n",
       "      <th>weighted</th>\n",
       "      <th>NV_rand</th>\n",
       "      <th>W_avg</th>\n",
       "    </tr>\n",
       "  </thead>\n",
       "  <tbody>\n",
       "    <tr>\n",
       "      <th>0</th>\n",
       "      <td>NYSE_TAQ::A</td>\n",
       "      <td>2.471326e+13</td>\n",
       "      <td>4.184778e+08</td>\n",
       "      <td>59055.131443</td>\n",
       "    </tr>\n",
       "    <tr>\n",
       "      <th>1</th>\n",
       "      <td>NYSE_TAQ::AA</td>\n",
       "      <td>4.260295e+14</td>\n",
       "      <td>1.060374e+09</td>\n",
       "      <td>401772.994139</td>\n",
       "    </tr>\n",
       "    <tr>\n",
       "      <th>2</th>\n",
       "      <td>NYSE_TAQ::AAA</td>\n",
       "      <td>3.842901e+06</td>\n",
       "      <td>1.777193e+04</td>\n",
       "      <td>216.234284</td>\n",
       "    </tr>\n",
       "    <tr>\n",
       "      <th>3</th>\n",
       "      <td>NYSE_TAQ::AAAU</td>\n",
       "      <td>8.690815e+10</td>\n",
       "      <td>6.144971e+06</td>\n",
       "      <td>14142.972351</td>\n",
       "    </tr>\n",
       "    <tr>\n",
       "      <th>4</th>\n",
       "      <td>NYSE_TAQ::AAC</td>\n",
       "      <td>7.063531e+11</td>\n",
       "      <td>4.621008e+06</td>\n",
       "      <td>152856.937705</td>\n",
       "    </tr>\n",
       "  </tbody>\n",
       "</table>\n",
       "</div>"
      ],
      "text/plain": [
       "      SYMBOL_NAME      weighted       NV_rand          W_avg\n",
       "0     NYSE_TAQ::A  2.471326e+13  4.184778e+08   59055.131443\n",
       "1    NYSE_TAQ::AA  4.260295e+14  1.060374e+09  401772.994139\n",
       "2   NYSE_TAQ::AAA  3.842901e+06  1.777193e+04     216.234284\n",
       "3  NYSE_TAQ::AAAU  8.690815e+10  6.144971e+06   14142.972351\n",
       "4   NYSE_TAQ::AAC  7.063531e+11  4.621008e+06  152856.937705"
      ]
     },
     "execution_count": 8,
     "metadata": {},
     "output_type": "execute_result"
    }
   ],
   "source": [
    "by_symbol = df.groupby('SYMBOL_NAME')[['weighted', 'NV_rand']].sum()\n",
    "\n",
    "#calculating the weighted average based on the aggreagated columns\n",
    "by_symbol['W_avg'] = by_symbol['weighted'] / by_symbol['NV_rand']\n",
    "\n",
    "# reseting the index and checking the result\n",
    "by_symbol.reset_index().head()"
   ]
  },
  {
   "cell_type": "code",
   "execution_count": 9,
   "id": "a503b69e",
   "metadata": {},
   "outputs": [
    {
     "name": "stdout",
     "output_type": "stream",
     "text": [
      "Weighted average of VOLUME_rand over the over symbols is 932,572.88\n"
     ]
    }
   ],
   "source": [
    "#  average VOLUME_rand over symbols using NV_rand totals for each symbol as the relative weights\n",
    "by_symbol_weighted = by_symbol['weighted'].sum() / by_symbol['NV_rand'].sum()\n",
    "print(f'Weighted average of VOLUME_rand over the over symbols is {by_symbol_weighted:,.2f}')"
   ]
  },
  {
   "cell_type": "markdown",
   "id": "dbf90ed5",
   "metadata": {},
   "source": [
    "Since instead of taking an average of an average we continued recalculating the metrics at every step, our final result remained unchanged regardless of whether we arrived to it after calculating over the whole dataset or decided to aggregate by symbols first."
   ]
  }
 ],
 "metadata": {
  "kernelspec": {
   "display_name": "Python 3 (ipykernel)",
   "language": "python",
   "name": "python3"
  },
  "language_info": {
   "codemirror_mode": {
    "name": "ipython",
    "version": 3
   },
   "file_extension": ".py",
   "mimetype": "text/x-python",
   "name": "python",
   "nbconvert_exporter": "python",
   "pygments_lexer": "ipython3",
   "version": "3.9.10"
  }
 },
 "nbformat": 4,
 "nbformat_minor": 5
}
