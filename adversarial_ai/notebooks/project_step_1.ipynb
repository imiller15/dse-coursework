{
 "cells": [
  {
   "cell_type": "markdown",
   "id": "7ed7f95e",
   "metadata": {},
   "source": [
    "#### For this week, you're asked to compute:\n",
    "a) The number of rows in the sample data set<br>\n",
    "b) The average value of each numerical column (there are two of them)<br>\n",
    "c) The min and max values of a time-based column (there is one such column) <br>"
   ]
  },
  {
   "cell_type": "code",
   "execution_count": 1,
   "id": "74d256db",
   "metadata": {},
   "outputs": [
    {
     "data": {
      "text/html": [
       "<div>\n",
       "<style scoped>\n",
       "    .dataframe tbody tr th:only-of-type {\n",
       "        vertical-align: middle;\n",
       "    }\n",
       "\n",
       "    .dataframe tbody tr th {\n",
       "        vertical-align: top;\n",
       "    }\n",
       "\n",
       "    .dataframe thead th {\n",
       "        text-align: right;\n",
       "    }\n",
       "</style>\n",
       "<table border=\"1\" class=\"dataframe\">\n",
       "  <thead>\n",
       "    <tr style=\"text-align: right;\">\n",
       "      <th></th>\n",
       "      <th>Time</th>\n",
       "      <th>SYMBOL_NAME</th>\n",
       "      <th>NV_rand</th>\n",
       "      <th>VOLUME_rand</th>\n",
       "    </tr>\n",
       "  </thead>\n",
       "  <tbody>\n",
       "    <tr>\n",
       "      <th>0</th>\n",
       "      <td>2021-09-20 09:30:00</td>\n",
       "      <td>NYSE_TAQ::A</td>\n",
       "      <td>2.523433e+07</td>\n",
       "      <td>136317.0</td>\n",
       "    </tr>\n",
       "    <tr>\n",
       "      <th>1</th>\n",
       "      <td>2021-09-20 09:30:00</td>\n",
       "      <td>NYSE_TAQ::AA</td>\n",
       "      <td>3.253425e+07</td>\n",
       "      <td>721069.0</td>\n",
       "    </tr>\n",
       "    <tr>\n",
       "      <th>2</th>\n",
       "      <td>2021-09-20 09:30:00</td>\n",
       "      <td>NYSE_TAQ::AAA</td>\n",
       "      <td>4.796918e+01</td>\n",
       "      <td>2.0</td>\n",
       "    </tr>\n",
       "    <tr>\n",
       "      <th>3</th>\n",
       "      <td>2021-09-20 09:30:00</td>\n",
       "      <td>NYSE_TAQ::AAAU</td>\n",
       "      <td>3.942529e+05</td>\n",
       "      <td>23543.0</td>\n",
       "    </tr>\n",
       "    <tr>\n",
       "      <th>4</th>\n",
       "      <td>2021-09-20 09:30:00</td>\n",
       "      <td>NYSE_TAQ::AAC</td>\n",
       "      <td>3.458813e+03</td>\n",
       "      <td>364.0</td>\n",
       "    </tr>\n",
       "  </tbody>\n",
       "</table>\n",
       "</div>"
      ],
      "text/plain": [
       "                 Time     SYMBOL_NAME       NV_rand  VOLUME_rand\n",
       "0 2021-09-20 09:30:00     NYSE_TAQ::A  2.523433e+07     136317.0\n",
       "1 2021-09-20 09:30:00    NYSE_TAQ::AA  3.253425e+07     721069.0\n",
       "2 2021-09-20 09:30:00   NYSE_TAQ::AAA  4.796918e+01          2.0\n",
       "3 2021-09-20 09:30:00  NYSE_TAQ::AAAU  3.942529e+05      23543.0\n",
       "4 2021-09-20 09:30:00   NYSE_TAQ::AAC  3.458813e+03        364.0"
      ]
     },
     "execution_count": 1,
     "metadata": {},
     "output_type": "execute_result"
    }
   ],
   "source": [
    "import pandas as pd\n",
    "\n",
    "df = pd.read_csv('VolumeAndNVbySymbol_wRand.csv', parse_dates = ['Time'])\n",
    "df.head()"
   ]
  },
  {
   "cell_type": "code",
   "execution_count": 2,
   "id": "d260d588",
   "metadata": {},
   "outputs": [
    {
     "name": "stdout",
     "output_type": "stream",
     "text": [
      "<class 'pandas.core.frame.DataFrame'>\n",
      "RangeIndex: 643214 entries, 0 to 643213\n",
      "Data columns (total 4 columns):\n",
      " #   Column       Non-Null Count   Dtype         \n",
      "---  ------       --------------   -----         \n",
      " 0   Time         643214 non-null  datetime64[ns]\n",
      " 1   SYMBOL_NAME  643214 non-null  object        \n",
      " 2   NV_rand      643214 non-null  float64       \n",
      " 3   VOLUME_rand  643214 non-null  float64       \n",
      "dtypes: datetime64[ns](1), float64(2), object(1)\n",
      "memory usage: 19.6+ MB\n"
     ]
    }
   ],
   "source": [
    "# checking to make sure that the Time column loaded as datetime\n",
    "df.info()"
   ]
  },
  {
   "cell_type": "markdown",
   "id": "6cef1cc9",
   "metadata": {},
   "source": [
    "#### a) The number of rows in the sample data set"
   ]
  },
  {
   "cell_type": "code",
   "execution_count": 3,
   "id": "e3dffea9",
   "metadata": {},
   "outputs": [
    {
     "name": "stdout",
     "output_type": "stream",
     "text": [
      "The number of rows is 643,214\n"
     ]
    }
   ],
   "source": [
    "row_num = df.shape[0]\n",
    "print(f'The number of rows is {row_num:,}')"
   ]
  },
  {
   "cell_type": "markdown",
   "id": "1eb3ea16",
   "metadata": {},
   "source": [
    "#### b) The average value of each numerical column (there are two of them)"
   ]
  },
  {
   "cell_type": "code",
   "execution_count": 4,
   "id": "73ef14af",
   "metadata": {},
   "outputs": [
    {
     "data": {
      "text/html": [
       "<div>\n",
       "<style scoped>\n",
       "    .dataframe tbody tr th:only-of-type {\n",
       "        vertical-align: middle;\n",
       "    }\n",
       "\n",
       "    .dataframe tbody tr th {\n",
       "        vertical-align: top;\n",
       "    }\n",
       "\n",
       "    .dataframe thead th {\n",
       "        text-align: right;\n",
       "    }\n",
       "</style>\n",
       "<table border=\"1\" class=\"dataframe\">\n",
       "  <thead>\n",
       "    <tr style=\"text-align: right;\">\n",
       "      <th></th>\n",
       "      <th>NV_rand</th>\n",
       "      <th>VOLUME_rand</th>\n",
       "    </tr>\n",
       "  </thead>\n",
       "  <tbody>\n",
       "    <tr>\n",
       "      <th>count</th>\n",
       "      <td>6.432140e+05</td>\n",
       "      <td>6.432140e+05</td>\n",
       "    </tr>\n",
       "    <tr>\n",
       "      <th>mean</th>\n",
       "      <td>1.734836e+06</td>\n",
       "      <td>3.222643e+04</td>\n",
       "    </tr>\n",
       "    <tr>\n",
       "      <th>std</th>\n",
       "      <td>2.031613e+07</td>\n",
       "      <td>1.849409e+05</td>\n",
       "    </tr>\n",
       "    <tr>\n",
       "      <th>min</th>\n",
       "      <td>6.630502e-02</td>\n",
       "      <td>1.000000e+00</td>\n",
       "    </tr>\n",
       "    <tr>\n",
       "      <th>25%</th>\n",
       "      <td>6.475344e+03</td>\n",
       "      <td>4.460000e+02</td>\n",
       "    </tr>\n",
       "    <tr>\n",
       "      <th>50%</th>\n",
       "      <td>5.821660e+04</td>\n",
       "      <td>3.108000e+03</td>\n",
       "    </tr>\n",
       "    <tr>\n",
       "      <th>75%</th>\n",
       "      <td>4.158061e+05</td>\n",
       "      <td>1.445500e+04</td>\n",
       "    </tr>\n",
       "    <tr>\n",
       "      <th>max</th>\n",
       "      <td>6.053256e+09</td>\n",
       "      <td>1.736854e+07</td>\n",
       "    </tr>\n",
       "  </tbody>\n",
       "</table>\n",
       "</div>"
      ],
      "text/plain": [
       "            NV_rand   VOLUME_rand\n",
       "count  6.432140e+05  6.432140e+05\n",
       "mean   1.734836e+06  3.222643e+04\n",
       "std    2.031613e+07  1.849409e+05\n",
       "min    6.630502e-02  1.000000e+00\n",
       "25%    6.475344e+03  4.460000e+02\n",
       "50%    5.821660e+04  3.108000e+03\n",
       "75%    4.158061e+05  1.445500e+04\n",
       "max    6.053256e+09  1.736854e+07"
      ]
     },
     "execution_count": 4,
     "metadata": {},
     "output_type": "execute_result"
    }
   ],
   "source": [
    "# Option1. \n",
    "# Checking descriptive statistics of the numerical columns which will return the average (mean)\n",
    "df.describe()"
   ]
  },
  {
   "cell_type": "code",
   "execution_count": 5,
   "id": "9b55ad91",
   "metadata": {},
   "outputs": [
    {
     "name": "stdout",
     "output_type": "stream",
     "text": [
      "NV_rand column average: 1,734,836.188\n",
      "VOLUME_rand column average: 32,226.431\n"
     ]
    }
   ],
   "source": [
    "# Option2 checking the averages separately for both columns\n",
    "NV_rand_mean = df.NV_rand.mean()\n",
    "VOLUME_rand_mean = df.VOLUME_rand.mean()\n",
    "\n",
    "print(f'NV_rand column average: {NV_rand_mean:,.3f}')\n",
    "print(f'VOLUME_rand column average: {VOLUME_rand_mean:,.3f}')"
   ]
  },
  {
   "cell_type": "markdown",
   "id": "ce7c0c48",
   "metadata": {},
   "source": [
    "#### c) The min and max values of a time-based column"
   ]
  },
  {
   "cell_type": "code",
   "execution_count": 6,
   "id": "e3f4e418",
   "metadata": {},
   "outputs": [
    {
     "name": "stdout",
     "output_type": "stream",
     "text": [
      "Min value of the time-based column(\"Time\") is 2021-09-20 09:30:00\n",
      "Max value of the time-based column(\"Time\") is 2021-09-21 16:00:00\n"
     ]
    }
   ],
   "source": [
    "first_record = df.Time.min()\n",
    "last_record = df.Time.max()\n",
    "\n",
    "print(f'Min value of the time-based column(\"Time\") is {first_record}')\n",
    "print(f'Max value of the time-based column(\"Time\") is {last_record}')"
   ]
  }
 ],
 "metadata": {
  "kernelspec": {
   "display_name": "Python 3 (ipykernel)",
   "language": "python",
   "name": "python3"
  },
  "language_info": {
   "codemirror_mode": {
    "name": "ipython",
    "version": 3
   },
   "file_extension": ".py",
   "mimetype": "text/x-python",
   "name": "python",
   "nbconvert_exporter": "python",
   "pygments_lexer": "ipython3",
   "version": "3.9.10"
  }
 },
 "nbformat": 4,
 "nbformat_minor": 5
}
