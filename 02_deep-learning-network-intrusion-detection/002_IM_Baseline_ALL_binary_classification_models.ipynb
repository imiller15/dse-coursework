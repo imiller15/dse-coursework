{
  "cells": [
    {
      "cell_type": "code",
      "execution_count": 1,
      "id": "e068d1d3",
      "metadata": {
        "id": "e068d1d3"
      },
      "outputs": [],
      "source": [
        "import pandas as pd\n",
        "import numpy as np\n",
        "import matplotlib.pyplot as plt\n",
        "import seaborn as sns\n",
        "from time import process_time\n",
        "\n",
        "from sklearn.model_selection import train_test_split\n",
        "from sklearn.preprocessing import StandardScaler\n",
        "\n",
        "from sklearn.metrics import accuracy_score, balanced_accuracy_score \n",
        "from sklearn.metrics import precision_score, recall_score, f1_score, roc_auc_score\n",
        "from sklearn.metrics import confusion_matrix, classification_report, roc_curve, auc\n",
        "\n",
        "from sklearn.ensemble import RandomForestClassifier\n",
        "from sklearn.linear_model import LogisticRegression\n",
        "from sklearn.neighbors import KNeighborsClassifier\n",
        "\n",
        "import tensorflow as tf\n",
        "from tensorflow import keras\n",
        "from tensorflow.keras import layers"
      ]
    },
    {
      "cell_type": "code",
      "execution_count": null,
      "id": "069c56de",
      "metadata": {
        "colab": {
          "base_uri": "https://localhost:8080/"
        },
        "id": "069c56de",
        "outputId": "e34da152-bf9d-41c7-ccbd-13043ea5493c"
      },
      "outputs": [
        {
          "output_type": "stream",
          "name": "stdout",
          "text": [
            "Downloading...\n",
            "From: https://drive.google.com/uc?id=1lWHKyBpIbQelBgaw6RUzEaBPRvPz5k8v\n",
            "To: /content/train_balanced_bin_22_features.csv\n",
            "100% 59.2M/59.2M [00:00<00:00, 151MB/s]\n",
            "Downloading...\n",
            "From: https://drive.google.com/uc?id=1wvs9kJ-_qJg-ojvKqjg0pfgVrtjnqsPc\n",
            "To: /content/test_balanced_bin_22_features.csv\n",
            "100% 10.4M/10.4M [00:00<00:00, 152MB/s]\n"
          ]
        }
      ],
      "source": [
        "# getting the cleaned data from the personal Google Drive\n",
        "!gdown '1lWHKyBpIbQelBgaw6RUzEaBPRvPz5k8v' -O train_balanced_bin_22_features.csv\n",
        "!gdown '1wvs9kJ-_qJg-ojvKqjg0pfgVrtjnqsPc' -O test_balanced_bin_22_features.csv\n"
      ]
    },
    {
      "cell_type": "code",
      "execution_count": null,
      "id": "117a2d13",
      "metadata": {
        "id": "117a2d13"
      },
      "outputs": [],
      "source": [
        "# Colab\n",
        "train = pd.read_csv('train_balanced_bin_22_features.csv')\n",
        "test = pd.read_csv('test_balanced_bin_22_features.csv')"
      ]
    },
    {
      "cell_type": "code",
      "source": [
        "# # Local\n",
        "# train = pd.read_csv('../data/train_balanced_bin.csv')\n",
        "# test = pd.read_csv('../data/test_balanced_bin.csv')"
      ],
      "metadata": {
        "id": "czq-jjtNXK6V"
      },
      "id": "czq-jjtNXK6V",
      "execution_count": null,
      "outputs": []
    },
    {
      "cell_type": "code",
      "execution_count": null,
      "id": "04766dfa",
      "metadata": {
        "colab": {
          "base_uri": "https://localhost:8080/",
          "height": 235
        },
        "id": "04766dfa",
        "outputId": "ed062572-6e95-4719-bac1-36e85cdab26d"
      },
      "outputs": [
        {
          "output_type": "execute_result",
          "data": {
            "text/plain": [
              "   sport  dsport       dur  sbytes   dbytes  sttl  dttl         sload  spkts  \\\n",
              "0   1043      53  0.000006     264        0    60     0  1.760000e+08      2   \n",
              "1  49459   50626  0.028047    3390    44988    31    29  9.498342e+05     56   \n",
              "2  54264      53  0.001079     146      178    31    29  5.412419e+05      2   \n",
              "3  52762      25  1.102414   37308     3172    31    29  2.655336e+05     52   \n",
              "4   7514      80  1.147243   18890  1087890    31    29  1.313549e+05    354   \n",
              "\n",
              "        stcpb  ...         sjit        djit    sintpkt    dintpkt    tcprtt  \\\n",
              "0           0  ...     0.000000    0.000000   0.006000   0.000000  0.000000   \n",
              "1  2353430619  ...    30.914173   29.677431   0.512981   0.481158  0.000742   \n",
              "2           0  ...     0.000000    0.000000   0.009000   0.008000  0.000000   \n",
              "3  3780377668  ...  1786.695700   59.592686  21.608590  29.782433  0.000585   \n",
              "4  4147615496  ...   192.641300  115.099230   3.249096   1.539207  0.000649   \n",
              "\n",
              "   ct_srv_src  ct_src_ltm  ct_dst_sport_ltm  attack_cat  label  \n",
              "0          25          25                13      Normal      0  \n",
              "1           2           2                 1      Normal      0  \n",
              "2           2           6                 1      Normal      0  \n",
              "3           2           2                 1      Normal      0  \n",
              "4           1           2                 1      Normal      0  \n",
              "\n",
              "[5 rows x 24 columns]"
            ],
            "text/html": [
              "\n",
              "  <div id=\"df-165faeca-9e31-4e55-80dd-3f36dcaa8a1a\">\n",
              "    <div class=\"colab-df-container\">\n",
              "      <div>\n",
              "<style scoped>\n",
              "    .dataframe tbody tr th:only-of-type {\n",
              "        vertical-align: middle;\n",
              "    }\n",
              "\n",
              "    .dataframe tbody tr th {\n",
              "        vertical-align: top;\n",
              "    }\n",
              "\n",
              "    .dataframe thead th {\n",
              "        text-align: right;\n",
              "    }\n",
              "</style>\n",
              "<table border=\"1\" class=\"dataframe\">\n",
              "  <thead>\n",
              "    <tr style=\"text-align: right;\">\n",
              "      <th></th>\n",
              "      <th>sport</th>\n",
              "      <th>dsport</th>\n",
              "      <th>dur</th>\n",
              "      <th>sbytes</th>\n",
              "      <th>dbytes</th>\n",
              "      <th>sttl</th>\n",
              "      <th>dttl</th>\n",
              "      <th>sload</th>\n",
              "      <th>spkts</th>\n",
              "      <th>stcpb</th>\n",
              "      <th>...</th>\n",
              "      <th>sjit</th>\n",
              "      <th>djit</th>\n",
              "      <th>sintpkt</th>\n",
              "      <th>dintpkt</th>\n",
              "      <th>tcprtt</th>\n",
              "      <th>ct_srv_src</th>\n",
              "      <th>ct_src_ltm</th>\n",
              "      <th>ct_dst_sport_ltm</th>\n",
              "      <th>attack_cat</th>\n",
              "      <th>label</th>\n",
              "    </tr>\n",
              "  </thead>\n",
              "  <tbody>\n",
              "    <tr>\n",
              "      <th>0</th>\n",
              "      <td>1043</td>\n",
              "      <td>53</td>\n",
              "      <td>0.000006</td>\n",
              "      <td>264</td>\n",
              "      <td>0</td>\n",
              "      <td>60</td>\n",
              "      <td>0</td>\n",
              "      <td>1.760000e+08</td>\n",
              "      <td>2</td>\n",
              "      <td>0</td>\n",
              "      <td>...</td>\n",
              "      <td>0.000000</td>\n",
              "      <td>0.000000</td>\n",
              "      <td>0.006000</td>\n",
              "      <td>0.000000</td>\n",
              "      <td>0.000000</td>\n",
              "      <td>25</td>\n",
              "      <td>25</td>\n",
              "      <td>13</td>\n",
              "      <td>Normal</td>\n",
              "      <td>0</td>\n",
              "    </tr>\n",
              "    <tr>\n",
              "      <th>1</th>\n",
              "      <td>49459</td>\n",
              "      <td>50626</td>\n",
              "      <td>0.028047</td>\n",
              "      <td>3390</td>\n",
              "      <td>44988</td>\n",
              "      <td>31</td>\n",
              "      <td>29</td>\n",
              "      <td>9.498342e+05</td>\n",
              "      <td>56</td>\n",
              "      <td>2353430619</td>\n",
              "      <td>...</td>\n",
              "      <td>30.914173</td>\n",
              "      <td>29.677431</td>\n",
              "      <td>0.512981</td>\n",
              "      <td>0.481158</td>\n",
              "      <td>0.000742</td>\n",
              "      <td>2</td>\n",
              "      <td>2</td>\n",
              "      <td>1</td>\n",
              "      <td>Normal</td>\n",
              "      <td>0</td>\n",
              "    </tr>\n",
              "    <tr>\n",
              "      <th>2</th>\n",
              "      <td>54264</td>\n",
              "      <td>53</td>\n",
              "      <td>0.001079</td>\n",
              "      <td>146</td>\n",
              "      <td>178</td>\n",
              "      <td>31</td>\n",
              "      <td>29</td>\n",
              "      <td>5.412419e+05</td>\n",
              "      <td>2</td>\n",
              "      <td>0</td>\n",
              "      <td>...</td>\n",
              "      <td>0.000000</td>\n",
              "      <td>0.000000</td>\n",
              "      <td>0.009000</td>\n",
              "      <td>0.008000</td>\n",
              "      <td>0.000000</td>\n",
              "      <td>2</td>\n",
              "      <td>6</td>\n",
              "      <td>1</td>\n",
              "      <td>Normal</td>\n",
              "      <td>0</td>\n",
              "    </tr>\n",
              "    <tr>\n",
              "      <th>3</th>\n",
              "      <td>52762</td>\n",
              "      <td>25</td>\n",
              "      <td>1.102414</td>\n",
              "      <td>37308</td>\n",
              "      <td>3172</td>\n",
              "      <td>31</td>\n",
              "      <td>29</td>\n",
              "      <td>2.655336e+05</td>\n",
              "      <td>52</td>\n",
              "      <td>3780377668</td>\n",
              "      <td>...</td>\n",
              "      <td>1786.695700</td>\n",
              "      <td>59.592686</td>\n",
              "      <td>21.608590</td>\n",
              "      <td>29.782433</td>\n",
              "      <td>0.000585</td>\n",
              "      <td>2</td>\n",
              "      <td>2</td>\n",
              "      <td>1</td>\n",
              "      <td>Normal</td>\n",
              "      <td>0</td>\n",
              "    </tr>\n",
              "    <tr>\n",
              "      <th>4</th>\n",
              "      <td>7514</td>\n",
              "      <td>80</td>\n",
              "      <td>1.147243</td>\n",
              "      <td>18890</td>\n",
              "      <td>1087890</td>\n",
              "      <td>31</td>\n",
              "      <td>29</td>\n",
              "      <td>1.313549e+05</td>\n",
              "      <td>354</td>\n",
              "      <td>4147615496</td>\n",
              "      <td>...</td>\n",
              "      <td>192.641300</td>\n",
              "      <td>115.099230</td>\n",
              "      <td>3.249096</td>\n",
              "      <td>1.539207</td>\n",
              "      <td>0.000649</td>\n",
              "      <td>1</td>\n",
              "      <td>2</td>\n",
              "      <td>1</td>\n",
              "      <td>Normal</td>\n",
              "      <td>0</td>\n",
              "    </tr>\n",
              "  </tbody>\n",
              "</table>\n",
              "<p>5 rows × 24 columns</p>\n",
              "</div>\n",
              "      <button class=\"colab-df-convert\" onclick=\"convertToInteractive('df-165faeca-9e31-4e55-80dd-3f36dcaa8a1a')\"\n",
              "              title=\"Convert this dataframe to an interactive table.\"\n",
              "              style=\"display:none;\">\n",
              "        \n",
              "  <svg xmlns=\"http://www.w3.org/2000/svg\" height=\"24px\"viewBox=\"0 0 24 24\"\n",
              "       width=\"24px\">\n",
              "    <path d=\"M0 0h24v24H0V0z\" fill=\"none\"/>\n",
              "    <path d=\"M18.56 5.44l.94 2.06.94-2.06 2.06-.94-2.06-.94-.94-2.06-.94 2.06-2.06.94zm-11 1L8.5 8.5l.94-2.06 2.06-.94-2.06-.94L8.5 2.5l-.94 2.06-2.06.94zm10 10l.94 2.06.94-2.06 2.06-.94-2.06-.94-.94-2.06-.94 2.06-2.06.94z\"/><path d=\"M17.41 7.96l-1.37-1.37c-.4-.4-.92-.59-1.43-.59-.52 0-1.04.2-1.43.59L10.3 9.45l-7.72 7.72c-.78.78-.78 2.05 0 2.83L4 21.41c.39.39.9.59 1.41.59.51 0 1.02-.2 1.41-.59l7.78-7.78 2.81-2.81c.8-.78.8-2.07 0-2.86zM5.41 20L4 18.59l7.72-7.72 1.47 1.35L5.41 20z\"/>\n",
              "  </svg>\n",
              "      </button>\n",
              "      \n",
              "  <style>\n",
              "    .colab-df-container {\n",
              "      display:flex;\n",
              "      flex-wrap:wrap;\n",
              "      gap: 12px;\n",
              "    }\n",
              "\n",
              "    .colab-df-convert {\n",
              "      background-color: #E8F0FE;\n",
              "      border: none;\n",
              "      border-radius: 50%;\n",
              "      cursor: pointer;\n",
              "      display: none;\n",
              "      fill: #1967D2;\n",
              "      height: 32px;\n",
              "      padding: 0 0 0 0;\n",
              "      width: 32px;\n",
              "    }\n",
              "\n",
              "    .colab-df-convert:hover {\n",
              "      background-color: #E2EBFA;\n",
              "      box-shadow: 0px 1px 2px rgba(60, 64, 67, 0.3), 0px 1px 3px 1px rgba(60, 64, 67, 0.15);\n",
              "      fill: #174EA6;\n",
              "    }\n",
              "\n",
              "    [theme=dark] .colab-df-convert {\n",
              "      background-color: #3B4455;\n",
              "      fill: #D2E3FC;\n",
              "    }\n",
              "\n",
              "    [theme=dark] .colab-df-convert:hover {\n",
              "      background-color: #434B5C;\n",
              "      box-shadow: 0px 1px 3px 1px rgba(0, 0, 0, 0.15);\n",
              "      filter: drop-shadow(0px 1px 2px rgba(0, 0, 0, 0.3));\n",
              "      fill: #FFFFFF;\n",
              "    }\n",
              "  </style>\n",
              "\n",
              "      <script>\n",
              "        const buttonEl =\n",
              "          document.querySelector('#df-165faeca-9e31-4e55-80dd-3f36dcaa8a1a button.colab-df-convert');\n",
              "        buttonEl.style.display =\n",
              "          google.colab.kernel.accessAllowed ? 'block' : 'none';\n",
              "\n",
              "        async function convertToInteractive(key) {\n",
              "          const element = document.querySelector('#df-165faeca-9e31-4e55-80dd-3f36dcaa8a1a');\n",
              "          const dataTable =\n",
              "            await google.colab.kernel.invokeFunction('convertToInteractive',\n",
              "                                                     [key], {});\n",
              "          if (!dataTable) return;\n",
              "\n",
              "          const docLinkHtml = 'Like what you see? Visit the ' +\n",
              "            '<a target=\"_blank\" href=https://colab.research.google.com/notebooks/data_table.ipynb>data table notebook</a>'\n",
              "            + ' to learn more about interactive tables.';\n",
              "          element.innerHTML = '';\n",
              "          dataTable['output_type'] = 'display_data';\n",
              "          await google.colab.output.renderOutput(dataTable, element);\n",
              "          const docLink = document.createElement('div');\n",
              "          docLink.innerHTML = docLinkHtml;\n",
              "          element.appendChild(docLink);\n",
              "        }\n",
              "      </script>\n",
              "    </div>\n",
              "  </div>\n",
              "  "
            ]
          },
          "metadata": {},
          "execution_count": 10
        }
      ],
      "source": [
        "train.head()"
      ]
    },
    {
      "cell_type": "code",
      "source": [
        "train.shape, train.label.value_counts()"
      ],
      "metadata": {
        "colab": {
          "base_uri": "https://localhost:8080/"
        },
        "id": "mvFCAHSdSnNb",
        "outputId": "d346502b-f809-40a9-8c52-ac793024bf83"
      },
      "id": "mvFCAHSdSnNb",
      "execution_count": null,
      "outputs": [
        {
          "output_type": "execute_result",
          "data": {
            "text/plain": [
              "((546180, 24),\n",
              " 0    273090\n",
              " 1    273090\n",
              " Name: label, dtype: int64)"
            ]
          },
          "metadata": {},
          "execution_count": 19
        }
      ]
    },
    {
      "cell_type": "code",
      "execution_count": null,
      "id": "d9897d9f",
      "metadata": {
        "colab": {
          "base_uri": "https://localhost:8080/",
          "height": 235
        },
        "id": "d9897d9f",
        "outputId": "8d73ae21-f71b-48f9-96fa-ca2fcd44f87d"
      },
      "outputs": [
        {
          "output_type": "execute_result",
          "data": {
            "text/plain": [
              "   sport  dsport       dur  sbytes  dbytes  sttl  dttl         sload  spkts  \\\n",
              "0  21459   63318  0.016364    2854   29182    31    29  1.364947e+06     46   \n",
              "1   1043      53  0.000007     264       0    60     0  1.508571e+08      2   \n",
              "2  47636    6881  0.013123    1540    1644    31    29  8.802865e+05     16   \n",
              "3  55900      53  0.000991     146     178    31    29  5.893038e+05      2   \n",
              "4  47439      53  0.000008     264       0    60     0  1.320000e+08      2   \n",
              "\n",
              "        stcpb  ...       sjit       djit   sintpkt   dintpkt    tcprtt  \\\n",
              "0  3229994277  ...  20.977210  20.363316  0.362545  0.361091  0.000585   \n",
              "1           0  ...   0.000000   0.000000  0.007000  0.000000  0.000000   \n",
              "2  2230321286  ...  58.841938   1.350065  0.852533  0.744588  0.000580   \n",
              "3           0  ...   0.000000   0.000000  0.004000  0.006000  0.000000   \n",
              "4           0  ...   0.000000   0.000000  0.008000  0.000000  0.000000   \n",
              "\n",
              "   ct_srv_src  ct_src_ltm  ct_dst_sport_ltm  label  attack_cat  \n",
              "0           4           5                 1      0      Normal  \n",
              "1          16          16                 8      0      Normal  \n",
              "2           9           5                 1      0      Normal  \n",
              "3           2           1                 1      0      Normal  \n",
              "4          32          32                12      0      Normal  \n",
              "\n",
              "[5 rows x 24 columns]"
            ],
            "text/html": [
              "\n",
              "  <div id=\"df-0440d0df-e4ab-418c-b5a9-2556303c1c1c\">\n",
              "    <div class=\"colab-df-container\">\n",
              "      <div>\n",
              "<style scoped>\n",
              "    .dataframe tbody tr th:only-of-type {\n",
              "        vertical-align: middle;\n",
              "    }\n",
              "\n",
              "    .dataframe tbody tr th {\n",
              "        vertical-align: top;\n",
              "    }\n",
              "\n",
              "    .dataframe thead th {\n",
              "        text-align: right;\n",
              "    }\n",
              "</style>\n",
              "<table border=\"1\" class=\"dataframe\">\n",
              "  <thead>\n",
              "    <tr style=\"text-align: right;\">\n",
              "      <th></th>\n",
              "      <th>sport</th>\n",
              "      <th>dsport</th>\n",
              "      <th>dur</th>\n",
              "      <th>sbytes</th>\n",
              "      <th>dbytes</th>\n",
              "      <th>sttl</th>\n",
              "      <th>dttl</th>\n",
              "      <th>sload</th>\n",
              "      <th>spkts</th>\n",
              "      <th>stcpb</th>\n",
              "      <th>...</th>\n",
              "      <th>sjit</th>\n",
              "      <th>djit</th>\n",
              "      <th>sintpkt</th>\n",
              "      <th>dintpkt</th>\n",
              "      <th>tcprtt</th>\n",
              "      <th>ct_srv_src</th>\n",
              "      <th>ct_src_ltm</th>\n",
              "      <th>ct_dst_sport_ltm</th>\n",
              "      <th>label</th>\n",
              "      <th>attack_cat</th>\n",
              "    </tr>\n",
              "  </thead>\n",
              "  <tbody>\n",
              "    <tr>\n",
              "      <th>0</th>\n",
              "      <td>21459</td>\n",
              "      <td>63318</td>\n",
              "      <td>0.016364</td>\n",
              "      <td>2854</td>\n",
              "      <td>29182</td>\n",
              "      <td>31</td>\n",
              "      <td>29</td>\n",
              "      <td>1.364947e+06</td>\n",
              "      <td>46</td>\n",
              "      <td>3229994277</td>\n",
              "      <td>...</td>\n",
              "      <td>20.977210</td>\n",
              "      <td>20.363316</td>\n",
              "      <td>0.362545</td>\n",
              "      <td>0.361091</td>\n",
              "      <td>0.000585</td>\n",
              "      <td>4</td>\n",
              "      <td>5</td>\n",
              "      <td>1</td>\n",
              "      <td>0</td>\n",
              "      <td>Normal</td>\n",
              "    </tr>\n",
              "    <tr>\n",
              "      <th>1</th>\n",
              "      <td>1043</td>\n",
              "      <td>53</td>\n",
              "      <td>0.000007</td>\n",
              "      <td>264</td>\n",
              "      <td>0</td>\n",
              "      <td>60</td>\n",
              "      <td>0</td>\n",
              "      <td>1.508571e+08</td>\n",
              "      <td>2</td>\n",
              "      <td>0</td>\n",
              "      <td>...</td>\n",
              "      <td>0.000000</td>\n",
              "      <td>0.000000</td>\n",
              "      <td>0.007000</td>\n",
              "      <td>0.000000</td>\n",
              "      <td>0.000000</td>\n",
              "      <td>16</td>\n",
              "      <td>16</td>\n",
              "      <td>8</td>\n",
              "      <td>0</td>\n",
              "      <td>Normal</td>\n",
              "    </tr>\n",
              "    <tr>\n",
              "      <th>2</th>\n",
              "      <td>47636</td>\n",
              "      <td>6881</td>\n",
              "      <td>0.013123</td>\n",
              "      <td>1540</td>\n",
              "      <td>1644</td>\n",
              "      <td>31</td>\n",
              "      <td>29</td>\n",
              "      <td>8.802865e+05</td>\n",
              "      <td>16</td>\n",
              "      <td>2230321286</td>\n",
              "      <td>...</td>\n",
              "      <td>58.841938</td>\n",
              "      <td>1.350065</td>\n",
              "      <td>0.852533</td>\n",
              "      <td>0.744588</td>\n",
              "      <td>0.000580</td>\n",
              "      <td>9</td>\n",
              "      <td>5</td>\n",
              "      <td>1</td>\n",
              "      <td>0</td>\n",
              "      <td>Normal</td>\n",
              "    </tr>\n",
              "    <tr>\n",
              "      <th>3</th>\n",
              "      <td>55900</td>\n",
              "      <td>53</td>\n",
              "      <td>0.000991</td>\n",
              "      <td>146</td>\n",
              "      <td>178</td>\n",
              "      <td>31</td>\n",
              "      <td>29</td>\n",
              "      <td>5.893038e+05</td>\n",
              "      <td>2</td>\n",
              "      <td>0</td>\n",
              "      <td>...</td>\n",
              "      <td>0.000000</td>\n",
              "      <td>0.000000</td>\n",
              "      <td>0.004000</td>\n",
              "      <td>0.006000</td>\n",
              "      <td>0.000000</td>\n",
              "      <td>2</td>\n",
              "      <td>1</td>\n",
              "      <td>1</td>\n",
              "      <td>0</td>\n",
              "      <td>Normal</td>\n",
              "    </tr>\n",
              "    <tr>\n",
              "      <th>4</th>\n",
              "      <td>47439</td>\n",
              "      <td>53</td>\n",
              "      <td>0.000008</td>\n",
              "      <td>264</td>\n",
              "      <td>0</td>\n",
              "      <td>60</td>\n",
              "      <td>0</td>\n",
              "      <td>1.320000e+08</td>\n",
              "      <td>2</td>\n",
              "      <td>0</td>\n",
              "      <td>...</td>\n",
              "      <td>0.000000</td>\n",
              "      <td>0.000000</td>\n",
              "      <td>0.008000</td>\n",
              "      <td>0.000000</td>\n",
              "      <td>0.000000</td>\n",
              "      <td>32</td>\n",
              "      <td>32</td>\n",
              "      <td>12</td>\n",
              "      <td>0</td>\n",
              "      <td>Normal</td>\n",
              "    </tr>\n",
              "  </tbody>\n",
              "</table>\n",
              "<p>5 rows × 24 columns</p>\n",
              "</div>\n",
              "      <button class=\"colab-df-convert\" onclick=\"convertToInteractive('df-0440d0df-e4ab-418c-b5a9-2556303c1c1c')\"\n",
              "              title=\"Convert this dataframe to an interactive table.\"\n",
              "              style=\"display:none;\">\n",
              "        \n",
              "  <svg xmlns=\"http://www.w3.org/2000/svg\" height=\"24px\"viewBox=\"0 0 24 24\"\n",
              "       width=\"24px\">\n",
              "    <path d=\"M0 0h24v24H0V0z\" fill=\"none\"/>\n",
              "    <path d=\"M18.56 5.44l.94 2.06.94-2.06 2.06-.94-2.06-.94-.94-2.06-.94 2.06-2.06.94zm-11 1L8.5 8.5l.94-2.06 2.06-.94-2.06-.94L8.5 2.5l-.94 2.06-2.06.94zm10 10l.94 2.06.94-2.06 2.06-.94-2.06-.94-.94-2.06-.94 2.06-2.06.94z\"/><path d=\"M17.41 7.96l-1.37-1.37c-.4-.4-.92-.59-1.43-.59-.52 0-1.04.2-1.43.59L10.3 9.45l-7.72 7.72c-.78.78-.78 2.05 0 2.83L4 21.41c.39.39.9.59 1.41.59.51 0 1.02-.2 1.41-.59l7.78-7.78 2.81-2.81c.8-.78.8-2.07 0-2.86zM5.41 20L4 18.59l7.72-7.72 1.47 1.35L5.41 20z\"/>\n",
              "  </svg>\n",
              "      </button>\n",
              "      \n",
              "  <style>\n",
              "    .colab-df-container {\n",
              "      display:flex;\n",
              "      flex-wrap:wrap;\n",
              "      gap: 12px;\n",
              "    }\n",
              "\n",
              "    .colab-df-convert {\n",
              "      background-color: #E8F0FE;\n",
              "      border: none;\n",
              "      border-radius: 50%;\n",
              "      cursor: pointer;\n",
              "      display: none;\n",
              "      fill: #1967D2;\n",
              "      height: 32px;\n",
              "      padding: 0 0 0 0;\n",
              "      width: 32px;\n",
              "    }\n",
              "\n",
              "    .colab-df-convert:hover {\n",
              "      background-color: #E2EBFA;\n",
              "      box-shadow: 0px 1px 2px rgba(60, 64, 67, 0.3), 0px 1px 3px 1px rgba(60, 64, 67, 0.15);\n",
              "      fill: #174EA6;\n",
              "    }\n",
              "\n",
              "    [theme=dark] .colab-df-convert {\n",
              "      background-color: #3B4455;\n",
              "      fill: #D2E3FC;\n",
              "    }\n",
              "\n",
              "    [theme=dark] .colab-df-convert:hover {\n",
              "      background-color: #434B5C;\n",
              "      box-shadow: 0px 1px 3px 1px rgba(0, 0, 0, 0.15);\n",
              "      filter: drop-shadow(0px 1px 2px rgba(0, 0, 0, 0.3));\n",
              "      fill: #FFFFFF;\n",
              "    }\n",
              "  </style>\n",
              "\n",
              "      <script>\n",
              "        const buttonEl =\n",
              "          document.querySelector('#df-0440d0df-e4ab-418c-b5a9-2556303c1c1c button.colab-df-convert');\n",
              "        buttonEl.style.display =\n",
              "          google.colab.kernel.accessAllowed ? 'block' : 'none';\n",
              "\n",
              "        async function convertToInteractive(key) {\n",
              "          const element = document.querySelector('#df-0440d0df-e4ab-418c-b5a9-2556303c1c1c');\n",
              "          const dataTable =\n",
              "            await google.colab.kernel.invokeFunction('convertToInteractive',\n",
              "                                                     [key], {});\n",
              "          if (!dataTable) return;\n",
              "\n",
              "          const docLinkHtml = 'Like what you see? Visit the ' +\n",
              "            '<a target=\"_blank\" href=https://colab.research.google.com/notebooks/data_table.ipynb>data table notebook</a>'\n",
              "            + ' to learn more about interactive tables.';\n",
              "          element.innerHTML = '';\n",
              "          dataTable['output_type'] = 'display_data';\n",
              "          await google.colab.output.renderOutput(dataTable, element);\n",
              "          const docLink = document.createElement('div');\n",
              "          docLink.innerHTML = docLinkHtml;\n",
              "          element.appendChild(docLink);\n",
              "        }\n",
              "      </script>\n",
              "    </div>\n",
              "  </div>\n",
              "  "
            ]
          },
          "metadata": {},
          "execution_count": 11
        }
      ],
      "source": [
        "test.head()"
      ]
    },
    {
      "cell_type": "code",
      "source": [
        "test.shape, test.label.value_counts()"
      ],
      "metadata": {
        "colab": {
          "base_uri": "https://localhost:8080/"
        },
        "id": "GIuwyBm2Svtk",
        "outputId": "b26f86a3-8b34-43a4-c5f7-15661db8f11a"
      },
      "id": "GIuwyBm2Svtk",
      "execution_count": null,
      "outputs": [
        {
          "output_type": "execute_result",
          "data": {
            "text/plain": [
              "((96386, 24),\n",
              " 0    48193\n",
              " 1    48193\n",
              " Name: label, dtype: int64)"
            ]
          },
          "metadata": {},
          "execution_count": 20
        }
      ]
    },
    {
      "cell_type": "code",
      "execution_count": null,
      "id": "531a7704",
      "metadata": {
        "colab": {
          "base_uri": "https://localhost:8080/"
        },
        "id": "531a7704",
        "outputId": "25eb7451-9963-4326-8c26-c5998fb3e541"
      },
      "outputs": [
        {
          "output_type": "execute_result",
          "data": {
            "text/plain": [
              "((546180, 22), (546180,), (96386, 22), (96386,))"
            ]
          },
          "metadata": {},
          "execution_count": 12
        }
      ],
      "source": [
        "X_train = train.drop(['attack_cat', 'label'], axis=1)\n",
        "y_train = train['label']\n",
        "\n",
        "X_test = test.drop(['attack_cat', 'label'], axis=1)\n",
        "y_test = test['label']\n",
        "\n",
        "X_train.shape, y_train.shape, X_test.shape, y_test.shape"
      ]
    },
    {
      "cell_type": "markdown",
      "id": "a96dc3d2",
      "metadata": {
        "id": "a96dc3d2"
      },
      "source": [
        "### Helper Functions"
      ]
    },
    {
      "cell_type": "code",
      "execution_count": null,
      "id": "182b4a1d",
      "metadata": {
        "id": "182b4a1d"
      },
      "outputs": [],
      "source": [
        "def train_model(clf, X_train, y_train, X_test, y_test, labels, n_classes=2, use_best_model=False):\n",
        "    from time import process_time\n",
        "    \"\"\"\n",
        "    This function will fit a model to the data and return main metrics\n",
        "    :param clf - model\n",
        "    :params X_train, y_train, X_test, y_test - datasets\n",
        "    :param labels - class labels\n",
        "    :param n_classes - number of classses\n",
        "    :return time_to_train, accuracy, balanced_accuracy, precision, recall, f1\n",
        "    \"\"\"\n",
        "\n",
        "    start_time = process_time()\n",
        "    if use_best_model == False:\n",
        "        clf.fit(X_train, y_train)\n",
        "    else:\n",
        "        clf.fit(X_train, y_train, eval_set=(X_test, y_test), verbose_eval=100,\n",
        "              use_best_model=True, plot=True)\n",
        "\n",
        "    time_to_train = process_time() - start_time\n",
        "\n",
        "    y_pred = clf.predict(X_test)\n",
        "\n",
        "    # accuracy, balanced_accuracy, precision, recall, f1 = calculate_metrics(\n",
        "    #     y_test, y_pred, labels)\n",
        "\n",
        "    return time_to_train, clf, y_pred"
      ]
    },
    {
      "cell_type": "code",
      "execution_count": null,
      "id": "eb22d8f3",
      "metadata": {
        "id": "eb22d8f3"
      },
      "outputs": [],
      "source": [
        "def calculate_metrics(y_true, y_pred, labels):\n",
        "\n",
        "\n",
        "    \"\"\"\n",
        "    Calculate main metrics:\n",
        "    :param y_test - actual value\n",
        "    :param y_pred - predicted value\n",
        "    :param labels - class labels\n",
        "    :return balanced_accuracy, accuracy, precision, recall, f1\n",
        "    \"\"\"\n",
        "    accuracy = accuracy_score(y_true, y_pred)\n",
        "    # The balanced accuracy in binary and multiclass classification problems to deal with imbalanced datasets. \n",
        "    # It is defined as the average of recall obtained on each class.\n",
        "    balanced_accuracy = balanced_accuracy_score(y_true, y_pred)\n",
        "\n",
        "    # tp / (tp + fp) Ability of the classifier not to label as positive a sample that is negative.\n",
        "    precision = precision_score(y_true, y_pred, average='weighted')\n",
        "\n",
        "    # tp / (tp + fn) Ability of the classifier to find all the positive samples.\n",
        "    recall = recall_score(y_true, y_pred, average='weighted')\n",
        "\n",
        "    # F1 = 2 * (precision * recall) / (precision + recall)\n",
        "    # harmonic mean of the precision and recall\n",
        "    f1 = f1_score(y_true, y_pred, average='weighted')\n",
        "\n",
        "\n",
        "    print(f'Accuracy:{accuracy:.2f}')\n",
        "    print(f'Balanced accuracy:{balanced_accuracy:.2f}')\n",
        "    print(f'Precision:{precision:.2f}')\n",
        "    print(f'Recall:{recall:.2f}')\n",
        "    print(f'F1-score:{f1:.2f}') \n",
        "\n",
        "    cnf_matrix = confusion_matrix(y_true, y_pred, normalize='true')\n",
        "\n",
        "    fig, ax = plt.subplots(figsize=(8, 8))\n",
        "    ax.set_title('Balanced Accuracy on Test Set: {0}%\\n'.format(\"%.2f\" % (balanced_accuracy*100.0)), size=14)\n",
        "    ax.set_ylabel('Actual Label')\n",
        "    ax.set_xlabel('Predicted Label')\n",
        "\n",
        "    sns.heatmap(cnf_matrix,\n",
        "              square=True,\n",
        "              annot=True,\n",
        "              cbar=False,\n",
        "              fmt=\".2f\",\n",
        "              linewidths=0.1,\n",
        "              cmap=\"Greens\",\n",
        "              xticklabels=labels,\n",
        "              yticklabels=labels,\n",
        "              ax=ax)\n",
        "    plt.tight_layout()\n",
        "    plt.xticks(size=10)\n",
        "    plt.yticks(size=10)\n",
        "    plt.show()\n",
        "\n",
        "    print('Classification Report:\\n',\n",
        "      classification_report(y_true,\n",
        "                            y_pred,\n",
        "                            target_names=labels))\n",
        "    return accuracy, balanced_accuracy, precision, recall, f1  "
      ]
    },
    {
      "cell_type": "markdown",
      "id": "726c3f7b",
      "metadata": {
        "id": "726c3f7b"
      },
      "source": [
        "### Standardization"
      ]
    },
    {
      "cell_type": "code",
      "execution_count": null,
      "id": "d2c84555",
      "metadata": {
        "id": "d2c84555"
      },
      "outputs": [],
      "source": [
        "stdsc = StandardScaler()\n",
        "X_train_std = stdsc.fit_transform(X_train)\n",
        "X_test_std = stdsc.transform(X_test)"
      ]
    },
    {
      "cell_type": "markdown",
      "id": "03fc0350",
      "metadata": {
        "id": "03fc0350"
      },
      "source": [
        "## Classifiers"
      ]
    },
    {
      "cell_type": "markdown",
      "id": "188968cb",
      "metadata": {
        "id": "188968cb"
      },
      "source": [
        "### Random Forest - 99.32%"
      ]
    },
    {
      "cell_type": "code",
      "execution_count": null,
      "id": "69a7d0a7",
      "metadata": {
        "id": "69a7d0a7"
      },
      "outputs": [],
      "source": [
        "rf = RandomForestClassifier()"
      ]
    },
    {
      "cell_type": "code",
      "execution_count": null,
      "id": "87fe5573",
      "metadata": {
        "id": "87fe5573"
      },
      "outputs": [],
      "source": [
        "time_to_train_rf, trained_rf, y_pred_rf = train_model(rf, \n",
        "                                                      X_train_std, \n",
        "                                                      y_train, \n",
        "                                                      X_test_std, \n",
        "                                                      y_test, \n",
        "                                                      ['Normal', 'Attack'], \n",
        "                                                      n_classes=2, \n",
        "                                                      use_best_model=False)"
      ]
    },
    {
      "cell_type": "code",
      "execution_count": null,
      "id": "3ac9c59f",
      "metadata": {
        "id": "3ac9c59f",
        "outputId": "e7b7ee24-97c2-4b52-f270-47778f02845c",
        "colab": {
          "base_uri": "https://localhost:8080/"
        }
      },
      "outputs": [
        {
          "output_type": "execute_result",
          "data": {
            "text/plain": [
              "66.86596677200001"
            ]
          },
          "metadata": {},
          "execution_count": 18
        }
      ],
      "source": [
        "time_to_train_rf"
      ]
    },
    {
      "cell_type": "code",
      "execution_count": null,
      "id": "4ac74874",
      "metadata": {
        "id": "4ac74874",
        "outputId": "faf06fb4-ba9e-4baf-83b0-2b8c58e85df9",
        "colab": {
          "base_uri": "https://localhost:8080/",
          "height": 1000
        }
      },
      "outputs": [
        {
          "output_type": "stream",
          "name": "stdout",
          "text": [
            "Accuracy:0.99\n",
            "Balanced accuracy:0.99\n",
            "Precision:0.99\n",
            "Recall:0.99\n",
            "F1-score:0.99\n"
          ]
        },
        {
          "output_type": "display_data",
          "data": {
            "text/plain": [
              "<Figure size 800x800 with 1 Axes>"
            ],
            "image/png": "[encoded data removed]"
          },
          "metadata": {}
        },
        {
          "output_type": "stream",
          "name": "stdout",
          "text": [
            "Classification Report:\n",
            "               precision    recall  f1-score   support\n",
            "\n",
            "      Normal       1.00      0.99      0.99     48193\n",
            "      Attack       0.99      1.00      0.99     48193\n",
            "\n",
            "    accuracy                           0.99     96386\n",
            "   macro avg       0.99      0.99      0.99     96386\n",
            "weighted avg       0.99      0.99      0.99     96386\n",
            "\n"
          ]
        },
        {
          "output_type": "execute_result",
          "data": {
            "text/plain": [
              "(0.9932044072790654,\n",
              " 0.9932044072790653,\n",
              " 0.9932495409457025,\n",
              " 0.9932044072790654,\n",
              " 0.9932042518217322)"
            ]
          },
          "metadata": {},
          "execution_count": 74
        }
      ],
      "source": [
        "calculate_metrics(y_test, y_pred_rf, ['Normal', 'Attack'])"
      ]
    },
    {
      "cell_type": "code",
      "execution_count": null,
      "id": "561beb46",
      "metadata": {
        "id": "561beb46",
        "outputId": "7cd79c06-e2b8-4b15-fcc4-3b88008cf23c",
        "colab": {
          "base_uri": "https://localhost:8080/"
        }
      },
      "outputs": [
        {
          "output_type": "execute_result",
          "data": {
            "text/plain": [
              "['trained_rf_bin.joblib']"
            ]
          },
          "metadata": {},
          "execution_count": 94
        }
      ],
      "source": [
        "# Exporting the model\n",
        "from joblib import dump, load\n",
        "dump(trained_rf, 'trained_rf_bin.joblib') \n",
        "\n",
        "# load with\n",
        "# trained_rf = load('trained_rf_bin.joblib')"
      ]
    },
    {
      "cell_type": "markdown",
      "id": "b2e695b2",
      "metadata": {
        "id": "b2e695b2"
      },
      "source": [
        "### Logistic Regression - 98.93%"
      ]
    },
    {
      "cell_type": "code",
      "execution_count": null,
      "id": "cafee7ce",
      "metadata": {
        "id": "cafee7ce"
      },
      "outputs": [],
      "source": [
        "lr = LogisticRegression(C=1.0, random_state=1, solver='liblinear')"
      ]
    },
    {
      "cell_type": "code",
      "execution_count": null,
      "id": "0333ca47",
      "metadata": {
        "id": "0333ca47"
      },
      "outputs": [],
      "source": [
        "time_to_train_lr, trained_lr, y_pred_lr = train_model(lr, \n",
        "                                                      X_train_std, \n",
        "                                                      y_train, \n",
        "                                                      X_test_std, \n",
        "                                                      y_test, \n",
        "                                                      ['Normal', 'Attack'], \n",
        "                                                      n_classes=2, \n",
        "                                                      use_best_model=False)"
      ]
    },
    {
      "cell_type": "code",
      "execution_count": null,
      "id": "d3b01011",
      "metadata": {
        "id": "d3b01011",
        "outputId": "42efa001-239c-4def-d4d0-448d53420f64",
        "colab": {
          "base_uri": "https://localhost:8080/"
        }
      },
      "outputs": [
        {
          "output_type": "execute_result",
          "data": {
            "text/plain": [
              "6.115753050000009"
            ]
          },
          "metadata": {},
          "execution_count": 23
        }
      ],
      "source": [
        "time_to_train_lr"
      ]
    },
    {
      "cell_type": "code",
      "execution_count": null,
      "id": "91b3a55e",
      "metadata": {
        "id": "91b3a55e",
        "outputId": "22ee7576-86e8-4bab-f4cc-2b40b8c32150",
        "colab": {
          "base_uri": "https://localhost:8080/",
          "height": 1000
        }
      },
      "outputs": [
        {
          "output_type": "stream",
          "name": "stdout",
          "text": [
            "Accuracy:0.99\n",
            "Balanced accuracy:0.99\n",
            "Precision:0.99\n",
            "Recall:0.99\n",
            "F1-score:0.99\n"
          ]
        },
        {
          "output_type": "display_data",
          "data": {
            "text/plain": [
              "<Figure size 800x800 with 1 Axes>"
            ],
            "image/png": "[encoded data removed]"
          },
          "metadata": {}
        },
        {
          "output_type": "stream",
          "name": "stdout",
          "text": [
            "Classification Report:\n",
            "               precision    recall  f1-score   support\n",
            "\n",
            "      Normal       0.99      0.98      0.99     48193\n",
            "      Attack       0.98      0.99      0.99     48193\n",
            "\n",
            "    accuracy                           0.99     96386\n",
            "   macro avg       0.99      0.99      0.99     96386\n",
            "weighted avg       0.99      0.99      0.99     96386\n",
            "\n"
          ]
        },
        {
          "output_type": "execute_result",
          "data": {
            "text/plain": [
              "(0.9893345506608844,\n",
              " 0.9893345506608844,\n",
              " 0.989391527087696,\n",
              " 0.9893345506608844,\n",
              " 0.989334240225963)"
            ]
          },
          "metadata": {},
          "execution_count": 24
        }
      ],
      "source": [
        "calculate_metrics(y_test, y_pred_lr, ['Normal', 'Attack'])"
      ]
    },
    {
      "cell_type": "code",
      "execution_count": null,
      "id": "8193109f",
      "metadata": {
        "id": "8193109f",
        "outputId": "269db401-4e97-4e81-9d19-f58946eb49b7",
        "colab": {
          "base_uri": "https://localhost:8080/"
        }
      },
      "outputs": [
        {
          "output_type": "execute_result",
          "data": {
            "text/plain": [
              "['trained_lr_bin.joblib']"
            ]
          },
          "metadata": {},
          "execution_count": 25
        }
      ],
      "source": [
        "# Exporting the model\n",
        "from joblib import dump, load\n",
        "dump(trained_lr, 'trained_lr_bin.joblib') \n",
        "\n",
        "# load with\n",
        "# trained_lr = load('trained_lr_bin.joblib')"
      ]
    },
    {
      "cell_type": "markdown",
      "id": "907fe512",
      "metadata": {
        "id": "907fe512"
      },
      "source": [
        "### K-Nearest Neighbors (KNN) - 99.19%"
      ]
    },
    {
      "cell_type": "code",
      "execution_count": null,
      "id": "c8129d44",
      "metadata": {
        "id": "c8129d44"
      },
      "outputs": [],
      "source": [
        "knn = KNeighborsClassifier(n_neighbors=5)"
      ]
    },
    {
      "cell_type": "code",
      "execution_count": null,
      "id": "df3e1e80",
      "metadata": {
        "id": "df3e1e80"
      },
      "outputs": [],
      "source": [
        "time_to_train_knn, trained_knn, y_pred_knn = train_model(knn, \n",
        "                                                          X_train_std, \n",
        "                                                          y_train, \n",
        "                                                          X_test_std, \n",
        "                                                          y_test, \n",
        "                                                          ['Normal', 'Attack'], \n",
        "                                                          n_classes=2, \n",
        "                                                          use_best_model=False)"
      ]
    },
    {
      "cell_type": "code",
      "execution_count": null,
      "id": "a38c227f",
      "metadata": {
        "id": "a38c227f",
        "outputId": "291f3262-bd5d-4520-9fb5-08b7ec26fb45",
        "colab": {
          "base_uri": "https://localhost:8080/"
        }
      },
      "outputs": [
        {
          "output_type": "execute_result",
          "data": {
            "text/plain": [
              "0.08327763500000174"
            ]
          },
          "metadata": {},
          "execution_count": 28
        }
      ],
      "source": [
        "time_to_train_knn"
      ]
    },
    {
      "cell_type": "code",
      "execution_count": null,
      "id": "147ec0af",
      "metadata": {
        "id": "147ec0af",
        "outputId": "68c6a130-8be0-47cb-b06d-0e3766eae79b",
        "colab": {
          "base_uri": "https://localhost:8080/",
          "height": 1000
        }
      },
      "outputs": [
        {
          "output_type": "stream",
          "name": "stdout",
          "text": [
            "Accuracy:0.99\n",
            "Balanced accuracy:0.99\n",
            "Precision:0.99\n",
            "Recall:0.99\n",
            "F1-score:0.99\n"
          ]
        },
        {
          "output_type": "display_data",
          "data": {
            "text/plain": [
              "<Figure size 800x800 with 1 Axes>"
            ],
            "image/png": "[encoded data removed]"
          },
          "metadata": {}
        },
        {
          "output_type": "stream",
          "name": "stdout",
          "text": [
            "Classification Report:\n",
            "               precision    recall  f1-score   support\n",
            "\n",
            "      Normal       1.00      0.99      0.99     48193\n",
            "      Attack       0.99      1.00      0.99     48193\n",
            "\n",
            "    accuracy                           0.99     96386\n",
            "   macro avg       0.99      0.99      0.99     96386\n",
            "weighted avg       0.99      0.99      0.99     96386\n",
            "\n"
          ]
        },
        {
          "output_type": "execute_result",
          "data": {
            "text/plain": [
              "(0.9919282883406304,\n",
              " 0.9919282883406304,\n",
              " 0.9919735007590721,\n",
              " 0.9919282883406304,\n",
              " 0.9919281028885739)"
            ]
          },
          "metadata": {},
          "execution_count": 29
        }
      ],
      "source": [
        "start_time = process_time()\n",
        "calculate_metrics(y_test, y_pred_knn, ['Normal', 'Attack'])"
      ]
    },
    {
      "cell_type": "code",
      "execution_count": null,
      "id": "f3eb9159",
      "metadata": {
        "id": "f3eb9159",
        "outputId": "8f516ea8-6190-4be1-ef69-49406a7df76c",
        "colab": {
          "base_uri": "https://localhost:8080/"
        }
      },
      "outputs": [
        {
          "output_type": "execute_result",
          "data": {
            "text/plain": [
              "0.5970772099999522"
            ]
          },
          "metadata": {},
          "execution_count": 30
        }
      ],
      "source": [
        "inference_time = process_time() - start_time\n",
        "inference_time"
      ]
    },
    {
      "cell_type": "code",
      "execution_count": null,
      "id": "912afad5",
      "metadata": {
        "id": "912afad5",
        "outputId": "552eb91c-76f1-4266-88b0-46ec84d60d77",
        "colab": {
          "base_uri": "https://localhost:8080/"
        }
      },
      "outputs": [
        {
          "output_type": "execute_result",
          "data": {
            "text/plain": [
              "['trained_knn_bin.joblib']"
            ]
          },
          "metadata": {},
          "execution_count": 31
        }
      ],
      "source": [
        "# Exporting the model\n",
        "from joblib import dump, load\n",
        "dump(trained_knn, 'trained_knn_bin.joblib') \n",
        "\n",
        "# load with\n",
        "# trained_knn = load('trained_knn_bin.joblib')"
      ]
    },
    {
      "cell_type": "markdown",
      "source": [
        "### Neural Network"
      ],
      "metadata": {
        "id": "7rZfwz4jXhgE"
      },
      "id": "7rZfwz4jXhgE"
    },
    {
      "cell_type": "code",
      "source": [
        "X_train.shape, y_train.shape, X_test.shape, y_test.shape"
      ],
      "metadata": {
        "colab": {
          "base_uri": "https://localhost:8080/"
        },
        "id": "m3vgMgjIX5Aa",
        "outputId": "4d56c9a2-fe60-4298-d767-975602e91347"
      },
      "id": "m3vgMgjIX5Aa",
      "execution_count": null,
      "outputs": [
        {
          "output_type": "execute_result",
          "data": {
            "text/plain": [
              "((546180, 22), (546180,), (96386, 22), (96386,))"
            ]
          },
          "metadata": {},
          "execution_count": 32
        }
      ]
    },
    {
      "cell_type": "code",
      "source": [
        "# Since there's no synthetic data in train, it is safe to split it into train and val\n",
        "X_train, X_val, y_train, y_val, = train_test_split(\n",
        "    X_train, y_train, test_size=0.2, random_state=42, stratify=y_train)\n",
        "X_train.shape, X_val.shape, y_train.shape, y_val.shape"
      ],
      "metadata": {
        "colab": {
          "base_uri": "https://localhost:8080/"
        },
        "id": "R51p2mIIkDcw",
        "outputId": "6520b82d-f00b-41ba-bff9-5d8977fb292f"
      },
      "id": "R51p2mIIkDcw",
      "execution_count": null,
      "outputs": [
        {
          "output_type": "execute_result",
          "data": {
            "text/plain": [
              "((436944, 22), (109236, 22), (436944,), (109236,))"
            ]
          },
          "metadata": {},
          "execution_count": 33
        }
      ]
    },
    {
      "cell_type": "code",
      "source": [
        "# standardize the data\n",
        "stdsc = StandardScaler()\n",
        "# fit and transform train\n",
        "X_train_std = stdsc.fit_transform(X_train)\n",
        "\n",
        "# only transform test and val\n",
        "X_test_std = stdsc.transform(X_test)\n",
        "X_val_std = stdsc.transform(X_val)"
      ],
      "metadata": {
        "id": "wInZcAGbl-Ju"
      },
      "id": "wInZcAGbl-Ju",
      "execution_count": null,
      "outputs": []
    },
    {
      "cell_type": "code",
      "source": [
        "X_train_std.shape, X_val_std.shape, X_test_std.shape"
      ],
      "metadata": {
        "colab": {
          "base_uri": "https://localhost:8080/"
        },
        "id": "YgDwDiifkDN7",
        "outputId": "8bc40e63-9c90-45db-aa71-cae33c373653"
      },
      "id": "YgDwDiifkDN7",
      "execution_count": null,
      "outputs": [
        {
          "output_type": "execute_result",
          "data": {
            "text/plain": [
              "((436944, 22), (109236, 22), (96386, 22))"
            ]
          },
          "metadata": {},
          "execution_count": 35
        }
      ]
    },
    {
      "cell_type": "code",
      "source": [
        "y_train.shape, y_val.shape, y_test.shape"
      ],
      "metadata": {
        "colab": {
          "base_uri": "https://localhost:8080/"
        },
        "id": "I_BWyzwLntT7",
        "outputId": "a7b72de3-d972-4c0f-b280-7fab2d805085"
      },
      "id": "I_BWyzwLntT7",
      "execution_count": null,
      "outputs": [
        {
          "output_type": "execute_result",
          "data": {
            "text/plain": [
              "((436944,), (109236,), (96386,))"
            ]
          },
          "metadata": {},
          "execution_count": 36
        }
      ]
    },
    {
      "cell_type": "code",
      "source": [
        "X_train_std.dtype, X_test_std.dtype, X_val_std.dtype"
      ],
      "metadata": {
        "colab": {
          "base_uri": "https://localhost:8080/"
        },
        "id": "vcc3oE-7mMB7",
        "outputId": "83206da5-e403-43ee-efdb-1e61c019919a"
      },
      "id": "vcc3oE-7mMB7",
      "execution_count": null,
      "outputs": [
        {
          "output_type": "execute_result",
          "data": {
            "text/plain": [
              "(dtype('float64'), dtype('float64'), dtype('float64'))"
            ]
          },
          "metadata": {},
          "execution_count": 37
        }
      ]
    },
    {
      "cell_type": "code",
      "source": [
        "# convert to float32\n",
        "X_train_std = np.asarray(X_train_std).astype('float32')\n",
        "X_test_std = np.asarray(X_test_std).astype('float32')\n",
        "X_val_std = np.asarray(X_val_std).astype('float32')"
      ],
      "metadata": {
        "id": "jMs15AOkmL2d"
      },
      "id": "jMs15AOkmL2d",
      "execution_count": null,
      "outputs": []
    },
    {
      "cell_type": "code",
      "source": [
        "# convert to float32 and reshape\n",
        "y_train = np.asarray(y_train).astype('float32').reshape((-1,1))\n",
        "y_val = np.asarray(y_val).astype('float32').reshape((-1,1))\n",
        "y_test = np.asarray(y_test).astype('float32').reshape((-1,1))"
      ],
      "metadata": {
        "id": "pghNq4dRmLpH"
      },
      "id": "pghNq4dRmLpH",
      "execution_count": null,
      "outputs": []
    },
    {
      "cell_type": "code",
      "source": [
        "np.unique(y_train), np.unique(y_val), np.unique(y_test)"
      ],
      "metadata": {
        "colab": {
          "base_uri": "https://localhost:8080/"
        },
        "id": "1AHx3VdImqEI",
        "outputId": "cf2e4b72-255e-4e5d-82f7-218f96175cdb"
      },
      "id": "1AHx3VdImqEI",
      "execution_count": null,
      "outputs": [
        {
          "output_type": "execute_result",
          "data": {
            "text/plain": [
              "(array([0., 1.], dtype=float32),\n",
              " array([0., 1.], dtype=float32),\n",
              " array([0., 1.], dtype=float32))"
            ]
          },
          "metadata": {},
          "execution_count": 40
        }
      ]
    },
    {
      "cell_type": "markdown",
      "source": [
        "#### Create the model"
      ],
      "metadata": {
        "id": "_gVmqppPq3Bd"
      },
      "id": "_gVmqppPq3Bd"
    },
    {
      "cell_type": "code",
      "source": [
        "# clear the sesssion\n",
        "tf.keras.backend.clear_session()"
      ],
      "metadata": {
        "id": "ntqLys3aoaYp"
      },
      "id": "ntqLys3aoaYp",
      "execution_count": null,
      "outputs": []
    },
    {
      "cell_type": "code",
      "source": [
        "inputs = keras.Input(shape=(22,))\n",
        "\n",
        "features = layers.Dense(256, activation=\"relu\")(inputs)\n",
        "features = layers.Dropout(0.5)(features)\n",
        "features = layers.Dense(128, activation=\"relu\")(features)\n",
        "features = layers.Dropout(0.5)(features)\n",
        "\n",
        "outputs = layers.Dense(2, activation=\"softmax\")(features)\n",
        "model = keras.Model(inputs=inputs, outputs=outputs)"
      ],
      "metadata": {
        "id": "ClPu_Phfq9G4"
      },
      "execution_count": 2,
      "outputs": [],
      "id": "ClPu_Phfq9G4"
    },
    {
      "cell_type": "code",
      "source": [
        "model.summary()"
      ],
      "metadata": {
        "colab": {
          "base_uri": "https://localhost:8080/"
        },
        "outputId": "3a5c9ca6-c174-43b9-8251-1b99ebe360ea",
        "id": "IjNZn45Gq9G6"
      },
      "execution_count": null,
      "outputs": [
        {
          "output_type": "stream",
          "name": "stdout",
          "text": [
            "Model: \"model\"\n",
            "_________________________________________________________________\n",
            " Layer (type)                Output Shape              Param #   \n",
            "=================================================================\n",
            " input_1 (InputLayer)        [(None, 22)]              0         \n",
            "                                                                 \n",
            " dense (Dense)               (None, 256)               5888      \n",
            "                                                                 \n",
            " dropout (Dropout)           (None, 256)               0         \n",
            "                                                                 \n",
            " dense_1 (Dense)             (None, 128)               32896     \n",
            "                                                                 \n",
            " dropout_1 (Dropout)         (None, 128)               0         \n",
            "                                                                 \n",
            " dense_2 (Dense)             (None, 2)                 258       \n",
            "                                                                 \n",
            "=================================================================\n",
            "Total params: 39,042\n",
            "Trainable params: 39,042\n",
            "Non-trainable params: 0\n",
            "_________________________________________________________________\n"
          ]
        }
      ],
      "id": "IjNZn45Gq9G6"
    },
    {
      "cell_type": "code",
      "source": [
        "tf.keras.utils.plot_model(\n",
        "    model,\n",
        "    to_file='nn_mul_plot.png',\n",
        "    show_shapes=True,\n",
        "    show_dtype=False,\n",
        "    show_layer_names=False,\n",
        "    rankdir='TB',\n",
        "    expand_nested=True,\n",
        "    dpi=96,\n",
        "    layer_range=None,\n",
        "    show_layer_activations=False,\n",
        "    show_trainable=False\n",
        ")\n"
      ],
      "metadata": {
        "colab": {
          "base_uri": "https://localhost:8080/",
          "height": 644
        },
        "id": "bounDKxtAf4z",
        "outputId": "c41b5597-4abb-47fd-e990-fe2f88d73bcd"
      },
      "id": "bounDKxtAf4z",
      "execution_count": 3,
      "outputs": [
        {
          "output_type": "execute_result",
          "data": {
            "image/png": "[encoded data removed]",
            "text/plain": [
              "<IPython.core.display.Image object>"
            ]
          },
          "metadata": {},
          "execution_count": 3
        }
      ]
    },
    {
      "cell_type": "code",
      "source": [
        "inputs.shape, inputs.dtype"
      ],
      "metadata": {
        "colab": {
          "base_uri": "https://localhost:8080/"
        },
        "outputId": "586d1f53-76a5-48c2-81aa-a51cbd64b161",
        "id": "o0zdt5Ppq9G7"
      },
      "execution_count": null,
      "outputs": [
        {
          "output_type": "execute_result",
          "data": {
            "text/plain": [
              "(TensorShape([None, 22]), tf.float32)"
            ]
          },
          "metadata": {},
          "execution_count": 79
        }
      ],
      "id": "o0zdt5Ppq9G7"
    },
    {
      "cell_type": "code",
      "source": [
        "features.shape"
      ],
      "metadata": {
        "colab": {
          "base_uri": "https://localhost:8080/"
        },
        "outputId": "6967d9be-8351-42e3-a851-c0d6e0680cd6",
        "id": "OoTADXSfq9G8"
      },
      "execution_count": null,
      "outputs": [
        {
          "output_type": "execute_result",
          "data": {
            "text/plain": [
              "TensorShape([None, 128])"
            ]
          },
          "metadata": {},
          "execution_count": 80
        }
      ],
      "id": "OoTADXSfq9G8"
    },
    {
      "cell_type": "code",
      "source": [
        "# compile the model\n",
        "model.compile(optimizer=keras.optimizers.Adam(learning_rate=1e-3),\n",
        "              loss=\"sparse_categorical_crossentropy\",\n",
        "              metrics=[\"accuracy\"])"
      ],
      "metadata": {
        "id": "OdVbT1rpq9G9"
      },
      "execution_count": null,
      "outputs": [],
      "id": "OdVbT1rpq9G9"
    },
    {
      "cell_type": "code",
      "source": [
        "callbacks_list = [\n",
        "    keras.callbacks.EarlyStopping(\n",
        "        monitor=\"val_acc\",\n",
        "        patience=5,\n",
        "    ),\n",
        "    keras.callbacks.ModelCheckpoint(\n",
        "        filepath=\"./checkpoints/binary_params\",\n",
        "        monitor=\"val_loss\",\n",
        "        save_best_only=True,\n",
        "    )\n",
        "]"
      ],
      "metadata": {
        "id": "cQeoiROgq9G9"
      },
      "execution_count": null,
      "outputs": [],
      "id": "cQeoiROgq9G9"
    },
    {
      "cell_type": "code",
      "source": [
        "start_time = process_time()\n",
        "# fit the model on training data\n",
        "history = model.fit(X_train_std, y_train,\n",
        "                            epochs=25,\n",
        "                            batch_size=1024,\n",
        "                            validation_data=(X_val_std, y_val))"
      ],
      "metadata": {
        "colab": {
          "base_uri": "https://localhost:8080/"
        },
        "outputId": "d29b9206-0d82-4e5b-b287-34924c70c75e",
        "id": "OY0wzBH-q9G9"
      },
      "execution_count": null,
      "outputs": [
        {
          "output_type": "stream",
          "name": "stdout",
          "text": [
            "Epoch 1/25\n",
            "427/427 [==============================] - 8s 17ms/step - loss: 0.0662 - accuracy: 0.9829 - val_loss: 0.0353 - val_accuracy: 0.9907\n",
            "Epoch 2/25\n",
            "427/427 [==============================] - 8s 18ms/step - loss: 0.0359 - accuracy: 0.9907 - val_loss: 0.0321 - val_accuracy: 0.9909\n",
            "Epoch 3/25\n",
            "427/427 [==============================] - 8s 18ms/step - loss: 0.0326 - accuracy: 0.9911 - val_loss: 0.0292 - val_accuracy: 0.9911\n",
            "Epoch 4/25\n",
            "427/427 [==============================] - 7s 15ms/step - loss: 0.0304 - accuracy: 0.9913 - val_loss: 0.0275 - val_accuracy: 0.9913\n",
            "Epoch 5/25\n",
            "427/427 [==============================] - 8s 19ms/step - loss: 0.0282 - accuracy: 0.9914 - val_loss: 0.0261 - val_accuracy: 0.9919\n",
            "Epoch 6/25\n",
            "427/427 [==============================] - 6s 15ms/step - loss: 0.0270 - accuracy: 0.9918 - val_loss: 0.0248 - val_accuracy: 0.9920\n",
            "Epoch 7/25\n",
            "427/427 [==============================] - 8s 18ms/step - loss: 0.0260 - accuracy: 0.9920 - val_loss: 0.0241 - val_accuracy: 0.9922\n",
            "Epoch 8/25\n",
            "427/427 [==============================] - 7s 16ms/step - loss: 0.0255 - accuracy: 0.9921 - val_loss: 0.0240 - val_accuracy: 0.9922\n",
            "Epoch 9/25\n",
            "427/427 [==============================] - 8s 19ms/step - loss: 0.0251 - accuracy: 0.9922 - val_loss: 0.0237 - val_accuracy: 0.9923\n",
            "Epoch 10/25\n",
            "427/427 [==============================] - 7s 17ms/step - loss: 0.0244 - accuracy: 0.9922 - val_loss: 0.0232 - val_accuracy: 0.9923\n",
            "Epoch 11/25\n",
            "427/427 [==============================] - 7s 16ms/step - loss: 0.0245 - accuracy: 0.9923 - val_loss: 0.0229 - val_accuracy: 0.9924\n",
            "Epoch 12/25\n",
            "427/427 [==============================] - 9s 21ms/step - loss: 0.0239 - accuracy: 0.9923 - val_loss: 0.0229 - val_accuracy: 0.9924\n",
            "Epoch 13/25\n",
            "427/427 [==============================] - 8s 18ms/step - loss: 0.0238 - accuracy: 0.9924 - val_loss: 0.0227 - val_accuracy: 0.9924\n",
            "Epoch 14/25\n",
            "427/427 [==============================] - 8s 18ms/step - loss: 0.0234 - accuracy: 0.9925 - val_loss: 0.0224 - val_accuracy: 0.9924\n",
            "Epoch 15/25\n",
            "427/427 [==============================] - 7s 16ms/step - loss: 0.0233 - accuracy: 0.9925 - val_loss: 0.0223 - val_accuracy: 0.9924\n",
            "Epoch 16/25\n",
            "427/427 [==============================] - 7s 17ms/step - loss: 0.0233 - accuracy: 0.9925 - val_loss: 0.0227 - val_accuracy: 0.9924\n",
            "Epoch 17/25\n",
            "427/427 [==============================] - 9s 21ms/step - loss: 0.0232 - accuracy: 0.9925 - val_loss: 0.0221 - val_accuracy: 0.9925\n",
            "Epoch 18/25\n",
            "427/427 [==============================] - 7s 16ms/step - loss: 0.0231 - accuracy: 0.9925 - val_loss: 0.0223 - val_accuracy: 0.9925\n",
            "Epoch 19/25\n",
            "427/427 [==============================] - 8s 19ms/step - loss: 0.0230 - accuracy: 0.9926 - val_loss: 0.0220 - val_accuracy: 0.9926\n",
            "Epoch 20/25\n",
            "427/427 [==============================] - 6s 15ms/step - loss: 0.0227 - accuracy: 0.9925 - val_loss: 0.0219 - val_accuracy: 0.9925\n",
            "Epoch 21/25\n",
            "427/427 [==============================] - 8s 19ms/step - loss: 0.0227 - accuracy: 0.9926 - val_loss: 0.0222 - val_accuracy: 0.9925\n",
            "Epoch 22/25\n",
            "427/427 [==============================] - 7s 17ms/step - loss: 0.0226 - accuracy: 0.9926 - val_loss: 0.0217 - val_accuracy: 0.9926\n",
            "Epoch 23/25\n",
            "427/427 [==============================] - 7s 17ms/step - loss: 0.0225 - accuracy: 0.9926 - val_loss: 0.0219 - val_accuracy: 0.9925\n",
            "Epoch 24/25\n",
            "427/427 [==============================] - 8s 18ms/step - loss: 0.0226 - accuracy: 0.9926 - val_loss: 0.0215 - val_accuracy: 0.9926\n",
            "Epoch 25/25\n",
            "427/427 [==============================] - 6s 15ms/step - loss: 0.0225 - accuracy: 0.9926 - val_loss: 0.0214 - val_accuracy: 0.9926\n"
          ]
        }
      ],
      "id": "OY0wzBH-q9G9"
    },
    {
      "cell_type": "code",
      "source": [
        "time_to_train = process_time() - start_time\n",
        "print(f'Time to train: {time_to_train}s')"
      ],
      "metadata": {
        "colab": {
          "base_uri": "https://localhost:8080/"
        },
        "id": "26BuYBT3Uz4S",
        "outputId": "a86c58cc-617a-414d-a639-ed27251e5b34"
      },
      "id": "26BuYBT3Uz4S",
      "execution_count": null,
      "outputs": [
        {
          "output_type": "stream",
          "name": "stdout",
          "text": [
            "Time to train: 249.02903867400005s\n"
          ]
        }
      ]
    },
    {
      "cell_type": "code",
      "source": [
        "val_acc = history.history[\"val_accuracy\"]\n",
        "train_acc = history.history[\"accuracy\"]\n",
        "\n",
        "val_loss = history.history[\"val_loss\"]\n",
        "train_loss = history.history[\"loss\"]"
      ],
      "metadata": {
        "id": "h-u6xZlYq9G-"
      },
      "execution_count": null,
      "outputs": [],
      "id": "h-u6xZlYq9G-"
    },
    {
      "cell_type": "code",
      "source": [
        "epochs = range(1, len(val_acc)+1)\n",
        "fig, ax = plt.subplots(figsize=(10, 5))\n",
        "plt.plot(epochs, train_acc, \"b-\", label=\"Training accuracy\")\n",
        "plt.plot(epochs, val_acc, \"o-\", label=\"Validation accuracy\", color = 'orange')\n",
        "\n",
        "plt.title(\"Training vs validation accuracy for the binary model\")\n",
        "plt.xlabel(\"Epochs\")\n",
        "plt.ylabel(\"Accuracy\")\n",
        "plt.legend()"
      ],
      "metadata": {
        "colab": {
          "base_uri": "https://localhost:8080/",
          "height": 506
        },
        "outputId": "2da4d902-f36f-4d6b-baaa-0b10933509bd",
        "id": "1rms5RYDq9G_"
      },
      "execution_count": null,
      "outputs": [
        {
          "output_type": "execute_result",
          "data": {
            "text/plain": [
              "<matplotlib.legend.Legend at 0x7fbcf2141330>"
            ]
          },
          "metadata": {},
          "execution_count": 86
        },
        {
          "output_type": "display_data",
          "data": {
            "text/plain": [
              "<Figure size 1000x500 with 1 Axes>"
            ],
            "image/png": "[encoded data removed]"
          },
          "metadata": {}
        }
      ],
      "id": "1rms5RYDq9G_"
    },
    {
      "cell_type": "code",
      "source": [
        "epochs = range(1, len(val_acc)+1)\n",
        "fig, ax = plt.subplots(figsize=(10, 5))\n",
        "plt.plot(epochs, train_loss, \"b-\", label=\"Training Loss\")\n",
        "plt.plot(epochs, val_loss, \"o-\", label=\"Validation Loss\", color = 'orange')\n",
        "\n",
        "plt.title(\"Training vs validation loss for binary model\")\n",
        "plt.xlabel(\"Epochs\")\n",
        "plt.ylabel(\"Loss\")\n",
        "plt.legend()"
      ],
      "metadata": {
        "colab": {
          "base_uri": "https://localhost:8080/",
          "height": 506
        },
        "outputId": "56a66bac-9ecf-4351-f497-6e487aeeef4a",
        "id": "SzHb-4AVq9G_"
      },
      "execution_count": null,
      "outputs": [
        {
          "output_type": "execute_result",
          "data": {
            "text/plain": [
              "<matplotlib.legend.Legend at 0x7fbcf17c7c70>"
            ]
          },
          "metadata": {},
          "execution_count": 87
        },
        {
          "output_type": "display_data",
          "data": {
            "text/plain": [
              "<Figure size 1000x500 with 1 Axes>"
            ],
            "image/png": "[encoded data removed]"
          },
          "metadata": {}
        }
      ],
      "id": "SzHb-4AVq9G_"
    },
    {
      "cell_type": "code",
      "source": [
        "# Evaluate the model on the test data using `evaluate`\n",
        "print(\"Evaluate on test data\")\n",
        "test_metrics = model.evaluate(X_test_std, y_test, batch_size=64)\n",
        "print(\"test loss, test acc:\", test_metrics)"
      ],
      "metadata": {
        "colab": {
          "base_uri": "https://localhost:8080/"
        },
        "outputId": "0fea2529-2cec-4108-d7c0-0d241a92503a",
        "id": "UVGAsIMDq9HA"
      },
      "execution_count": null,
      "outputs": [
        {
          "output_type": "stream",
          "name": "stdout",
          "text": [
            "Evaluate on test data\n",
            "1507/1507 [==============================] - 3s 2ms/step - loss: 0.0210 - accuracy: 0.9930\n",
            "test loss, test acc: [0.02097899653017521, 0.9929969310760498]\n"
          ]
        }
      ],
      "id": "UVGAsIMDq9HA"
    },
    {
      "cell_type": "code",
      "source": [
        "#generate predictions\n",
        "y_pred = model.predict(X_test_std)\n",
        "y_pred[:10]"
      ],
      "metadata": {
        "colab": {
          "base_uri": "https://localhost:8080/"
        },
        "outputId": "cb4b49ad-b7d5-4372-ddb2-addbd032f7cd",
        "id": "R6qmPKTgq9HA"
      },
      "execution_count": null,
      "outputs": [
        {
          "output_type": "stream",
          "name": "stdout",
          "text": [
            "3013/3013 [==============================] - 4s 1ms/step\n"
          ]
        },
        {
          "output_type": "execute_result",
          "data": {
            "text/plain": [
              "array([[9.9999994e-01, 0.0000000e+00],\n",
              "       [9.9999207e-01, 7.8818621e-06],\n",
              "       [9.9999994e-01, 6.9316197e-20],\n",
              "       [9.9999994e-01, 2.9814400e-09],\n",
              "       [9.9999994e-01, 1.3034636e-13],\n",
              "       [9.9999994e-01, 2.8242021e-17],\n",
              "       [9.9998623e-01, 1.3713986e-05],\n",
              "       [9.9999994e-01, 2.5199241e-22],\n",
              "       [9.9999994e-01, 9.8536779e-09],\n",
              "       [9.9999994e-01, 1.6211366e-15]], dtype=float32)"
            ]
          },
          "metadata": {},
          "execution_count": 89
        }
      ],
      "id": "R6qmPKTgq9HA"
    },
    {
      "cell_type": "code",
      "source": [
        "y_pred_ = tf.argmax(input=y_pred, axis=1)\n",
        "np.unique(y_pred_)"
      ],
      "metadata": {
        "colab": {
          "base_uri": "https://localhost:8080/"
        },
        "outputId": "76b3008a-ab7e-4c15-cc97-5b3178b4035d",
        "id": "L2UsSbN5q9HB"
      },
      "execution_count": null,
      "outputs": [
        {
          "output_type": "execute_result",
          "data": {
            "text/plain": [
              "array([0, 1])"
            ]
          },
          "metadata": {},
          "execution_count": 90
        }
      ],
      "id": "L2UsSbN5q9HB"
    },
    {
      "cell_type": "code",
      "source": [
        "np.unique(y_test)"
      ],
      "metadata": {
        "colab": {
          "base_uri": "https://localhost:8080/"
        },
        "outputId": "1cbbebcf-8d70-4f8c-e282-10b4c78929cd",
        "id": "S9SuBjdTq9HB"
      },
      "execution_count": null,
      "outputs": [
        {
          "output_type": "execute_result",
          "data": {
            "text/plain": [
              "array([0., 1.], dtype=float32)"
            ]
          },
          "metadata": {},
          "execution_count": 91
        }
      ],
      "id": "S9SuBjdTq9HB"
    },
    {
      "cell_type": "code",
      "source": [
        "codes = {'Normal':0,\n",
        "         'Attack':1  \n",
        "}\n",
        "labels = [x for x in codes.keys()]\n",
        "labels"
      ],
      "metadata": {
        "colab": {
          "base_uri": "https://localhost:8080/"
        },
        "outputId": "9f7f7363-bd2a-4911-8a13-8c2c788ac4d0",
        "id": "H7EKXhpjq9HB"
      },
      "execution_count": null,
      "outputs": [
        {
          "output_type": "execute_result",
          "data": {
            "text/plain": [
              "['Normal', 'Attack']"
            ]
          },
          "metadata": {},
          "execution_count": 92
        }
      ],
      "id": "H7EKXhpjq9HB"
    },
    {
      "cell_type": "code",
      "source": [
        "calculate_metrics(y_test, y_pred_, labels)"
      ],
      "metadata": {
        "colab": {
          "base_uri": "https://localhost:8080/",
          "height": 1000
        },
        "outputId": "2c421d06-c228-420c-d9f4-e3d94df8a539",
        "id": "0CaJBUd0q9HC"
      },
      "execution_count": null,
      "outputs": [
        {
          "output_type": "stream",
          "name": "stdout",
          "text": [
            "Accuracy:0.99\n",
            "Balanced accuracy:0.99\n",
            "Precision:0.99\n",
            "Recall:0.99\n",
            "F1-score:0.99\n"
          ]
        },
        {
          "output_type": "display_data",
          "data": {
            "text/plain": [
              "<Figure size 800x800 with 1 Axes>"
            ],
            "image/png": "[encoded data removed]"
          },
          "metadata": {}
        },
        {
          "output_type": "stream",
          "name": "stdout",
          "text": [
            "Classification Report:\n",
            "               precision    recall  f1-score   support\n",
            "\n",
            "      Normal       1.00      0.99      0.99     48193\n",
            "      Attack       0.99      1.00      0.99     48193\n",
            "\n",
            "    accuracy                           0.99     96386\n",
            "   macro avg       0.99      0.99      0.99     96386\n",
            "weighted avg       0.99      0.99      0.99     96386\n",
            "\n"
          ]
        },
        {
          "output_type": "execute_result",
          "data": {
            "text/plain": [
              "(0.9929969082646858,\n",
              " 0.9929969082646858,\n",
              " 0.9930835953391691,\n",
              " 0.9929969082646858,\n",
              " 0.9929966004547)"
            ]
          },
          "metadata": {},
          "execution_count": 93
        }
      ],
      "id": "0CaJBUd0q9HC"
    },
    {
      "cell_type": "markdown",
      "source": [
        "#### Export the model"
      ],
      "metadata": {
        "id": "zlZKa0lRp2cP"
      },
      "id": "zlZKa0lRp2cP"
    },
    {
      "cell_type": "code",
      "source": [
        "# Save the weights\n",
        "model.save_weights('./sequential_bin_v1')"
      ],
      "metadata": {
        "id": "GbR_BiQYpwNt"
      },
      "id": "GbR_BiQYpwNt",
      "execution_count": null,
      "outputs": []
    },
    {
      "cell_type": "code",
      "source": [
        "# Create a new model instance\n",
        "model_loaded = keras.Model(inputs=inputs, outputs=outputs)\n",
        "# Compile the model\n",
        "model_loaded.compile(optimizer=\"adam\",\n",
        "                      loss=\"sparse_categorical_crossentropy\",\n",
        "                      metrics=[\"accuracy\"])\n",
        "\n",
        "# Restore the weights\n",
        "model_loaded.load_weights('./sequential_bin_v1')"
      ],
      "metadata": {
        "colab": {
          "base_uri": "https://localhost:8080/"
        },
        "id": "3CAZx0PAp1kI",
        "outputId": "300830ad-ee0d-41ee-c934-395ea7c318f9"
      },
      "id": "3CAZx0PAp1kI",
      "execution_count": null,
      "outputs": [
        {
          "output_type": "execute_result",
          "data": {
            "text/plain": [
              "<tensorflow.python.checkpoint.checkpoint.CheckpointLoadStatus at 0x7fbcf81c6320>"
            ]
          },
          "metadata": {},
          "execution_count": 69
        }
      ]
    },
    {
      "cell_type": "code",
      "source": [
        "# Evaluate the model on the test data using `evaluate`\n",
        "print(\"Evaluate on test data\")\n",
        "test_metrics_loaded = model_loaded.evaluate(X_test_std, y_test, batch_size=64)\n",
        "# results = model.evaluate(x_test, y_test, batch_size=128)\n",
        "print(\"test loss, test acc:\", test_metrics_loaded)"
      ],
      "metadata": {
        "colab": {
          "base_uri": "https://localhost:8080/"
        },
        "id": "jJNmfrPAqD6M",
        "outputId": "01678db8-2e79-440a-f827-487b619a798b"
      },
      "id": "jJNmfrPAqD6M",
      "execution_count": null,
      "outputs": [
        {
          "output_type": "stream",
          "name": "stdout",
          "text": [
            "Evaluate on test data\n",
            "1507/1507 [==============================] - 3s 2ms/step - loss: 0.0237 - accuracy: 0.9928\n",
            "test loss, test acc: [0.02365744113922119, 0.9927893877029419]\n"
          ]
        }
      ]
    },
    {
      "cell_type": "markdown",
      "source": [
        "#### Exporting the history"
      ],
      "metadata": {
        "id": "i7sO6v5EsiN6"
      },
      "id": "i7sO6v5EsiN6"
    },
    {
      "cell_type": "code",
      "source": [
        "# convert the history.history dict to a pandas DataFrame:     \n",
        "hist_df = pd.DataFrame(history.history) \n",
        "\n",
        "# save to json:  \n",
        "hist_json_file = 'history_bin.json' \n",
        "with open(hist_json_file, mode='w') as f:\n",
        "    hist_df.to_json(f)\n",
        "\n",
        "# or save to csv: \n",
        "hist_csv_file = 'history_bin.csv'\n",
        "with open(hist_csv_file, mode='w') as f:\n",
        "    hist_df.to_csv(f)"
      ],
      "metadata": {
        "id": "VXAzlLQmslEe"
      },
      "id": "VXAzlLQmslEe",
      "execution_count": null,
      "outputs": []
    }
  ],
  "metadata": {
    "kernelspec": {
      "display_name": "Python 3 (ipykernel)",
      "language": "python",
      "name": "python3"
    },
    "language_info": {
      "codemirror_mode": {
        "name": "ipython",
        "version": 3
      },
      "file_extension": ".py",
      "mimetype": "text/x-python",
      "name": "python",
      "nbconvert_exporter": "python",
      "pygments_lexer": "ipython3",
      "version": "3.9.10"
    },
    "colab": {
      "provenance": [],
      "collapsed_sections": [
        "a96dc3d2",
        "726c3f7b",
        "188968cb",
        "b2e695b2"
      ],
      "gpuType": "V100"
    },
    "gpuClass": "standard"
  },
  "nbformat": 4,
  "nbformat_minor": 5
}