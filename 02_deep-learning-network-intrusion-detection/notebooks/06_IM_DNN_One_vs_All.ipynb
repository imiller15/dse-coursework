{
  "cells": [
    {
      "cell_type": "markdown",
      "source": [
        "Facing a challenge of pushing the performance to match the baseline, let alone beat it, with the neural network designed for a multi-class classification, we decided to split the dataset into multiple classification problems and fit a binary classifier to each of them following a one-vs-all strategy. To achieve that we implemented the following framework:\n",
        "1. Calculate class weights in the original training set\n",
        "2. Select one target class out of 10 available ones and remap it as a positive class for binary classification (1)\n",
        "3. Rebalance all classes using a combination of  SMOTE and undersampling with a goal of having a ratio between the new target class from #2 being equal to or very close to the ratio of all other classes.\n",
        "4. “Collapse” all remaining classes into one large negative class for binary classification\n",
        "5. Calculate resulting class weight to pass to the model\n",
        "Fit the model on the remapped and rebalanced binary training set\n",
        "\n",
        "We then repeated that process 10 times to create a class-specific binary classifier for each of the attack classes and one non-attack (normal) class and combined them into a voting classifier. The voting classifier was then able to beat the baseline by 4.56% and achieve a balanced accuracy of 77.24% on the train set. As you could see in the plot on Fig.9, that model has significant improvements in its ability to identify “analysis” (+51%) and “backdoor” (+32%) attack types. These gains, however, come at the expense of decrease in performance for other classes: “DoS” (-7%), “shellcode” (-5%), “worms” (-16%).\n",
        "\n",
        "\n",
        "\n"
      ],
      "metadata": {
        "id": "vi-gha6DuNDg"
      },
      "id": "vi-gha6DuNDg"
    },
    {
      "cell_type": "code",
      "source": [
        "gpu_info = !nvidia-smi\n",
        "gpu_info = '\\n'.join(gpu_info)\n",
        "if gpu_info.find('failed') >= 0:\n",
        "  print('Not connected to a GPU')\n",
        "else:\n",
        "  print(gpu_info)"
      ],
      "metadata": {
        "colab": {
          "base_uri": "https://localhost:8080/"
        },
        "id": "XuabUkyH8oEu",
        "outputId": "5310ac15-78de-4925-8fd8-4e6e3202d83f"
      },
      "id": "XuabUkyH8oEu",
      "execution_count": 1,
      "outputs": [
        {
          "output_type": "stream",
          "name": "stdout",
          "text": [
            "Tue May 23 17:44:32 2023       \n",
            "+-----------------------------------------------------------------------------+\n",
            "| NVIDIA-SMI 525.85.12    Driver Version: 525.85.12    CUDA Version: 12.0     |\n",
            "|-------------------------------+----------------------+----------------------+\n",
            "| GPU  Name        Persistence-M| Bus-Id        Disp.A | Volatile Uncorr. ECC |\n",
            "| Fan  Temp  Perf  Pwr:Usage/Cap|         Memory-Usage | GPU-Util  Compute M. |\n",
            "|                               |                      |               MIG M. |\n",
            "|===============================+======================+======================|\n",
            "|   0  Tesla T4            Off  | 00000000:00:04.0 Off |                    0 |\n",
            "| N/A   55C    P8     9W /  70W |      0MiB / 15360MiB |      0%      Default |\n",
            "|                               |                      |                  N/A |\n",
            "+-------------------------------+----------------------+----------------------+\n",
            "                                                                               \n",
            "+-----------------------------------------------------------------------------+\n",
            "| Processes:                                                                  |\n",
            "|  GPU   GI   CI        PID   Type   Process name                  GPU Memory |\n",
            "|        ID   ID                                                   Usage      |\n",
            "|=============================================================================|\n",
            "|  No running processes found                                                 |\n",
            "+-----------------------------------------------------------------------------+\n"
          ]
        }
      ]
    },
    {
      "cell_type": "code",
      "source": [
        "from psutil import virtual_memory\n",
        "ram_gb = virtual_memory().total / 1e9\n",
        "print('Your runtime has {:.1f} gigabytes of available RAM\\n'.format(ram_gb))\n",
        "\n",
        "if ram_gb < 20:\n",
        "  print('Not using a high-RAM runtime')\n",
        "else:\n",
        "  print('You are using a high-RAM runtime!')"
      ],
      "metadata": {
        "colab": {
          "base_uri": "https://localhost:8080/"
        },
        "id": "jJ73v6ou8poW",
        "outputId": "894d6a9f-a190-413f-c419-65c3c10f6d8f"
      },
      "id": "jJ73v6ou8poW",
      "execution_count": 2,
      "outputs": [
        {
          "output_type": "stream",
          "name": "stdout",
          "text": [
            "Your runtime has 13.6 gigabytes of available RAM\n",
            "\n",
            "Not using a high-RAM runtime\n"
          ]
        }
      ]
    },
    {
      "cell_type": "markdown",
      "id": "nEKj2GIN9nYI",
      "metadata": {
        "id": "nEKj2GIN9nYI"
      },
      "source": [
        "### Load the Data"
      ]
    },
    {
      "cell_type": "code",
      "execution_count": 3,
      "id": "89ee7925",
      "metadata": {
        "id": "89ee7925",
        "colab": {
          "base_uri": "https://localhost:8080/"
        },
        "outputId": "75d6643e-3675-4bb4-ef81-88d4b84324fa"
      },
      "outputs": [
        {
          "output_type": "stream",
          "name": "stdout",
          "text": [
            "0.10.1\n"
          ]
        }
      ],
      "source": [
        "import pandas as pd\n",
        "import numpy as np\n",
        "import seaborn as sns\n",
        "import matplotlib.pyplot as plt\n",
        "from time import process_time\n",
        "import datetime\n",
        "\n",
        "from sklearn.model_selection import train_test_split\n",
        "from sklearn.preprocessing import StandardScaler\n",
        "from sklearn.metrics import accuracy_score, balanced_accuracy_score \n",
        "from sklearn.metrics import precision_score, recall_score, f1_score, roc_auc_score\n",
        "from sklearn.metrics import confusion_matrix, classification_report, roc_curve, auc\n",
        "\n",
        "import imblearn\n",
        "from imblearn.over_sampling import SMOTE\n",
        "from imblearn.under_sampling import RandomUnderSampler\n",
        "from collections import Counter\n",
        "print(imblearn.__version__)\n",
        "\n",
        "\n",
        "import tensorflow as tf\n",
        "from tensorflow import keras\n",
        "from tensorflow.keras import layers\n",
        "from tensorflow.keras import regularizers"
      ]
    },
    {
      "cell_type": "code",
      "execution_count": 4,
      "id": "ilG7y1iX6vSx",
      "metadata": {
        "id": "ilG7y1iX6vSx"
      },
      "outputs": [],
      "source": [
        "import os\n",
        "os.environ['TF_FORCE_GPU_ALLOW_GROWTH'] = 'true'"
      ]
    },
    {
      "cell_type": "code",
      "source": [
        "# Load the TensorBoard notebook extension\n",
        "%load_ext tensorboard"
      ],
      "metadata": {
        "id": "BOKGU6kT3kZK"
      },
      "id": "BOKGU6kT3kZK",
      "execution_count": 5,
      "outputs": []
    },
    {
      "cell_type": "code",
      "execution_count": 6,
      "id": "07ed440b",
      "metadata": {
        "colab": {
          "base_uri": "https://localhost:8080/"
        },
        "id": "07ed440b",
        "outputId": "faeb2a2e-dba3-4697-8123-d9b993d6d347"
      },
      "outputs": [
        {
          "output_type": "stream",
          "name": "stdout",
          "text": [
            "Downloading...\n",
            "From: https://drive.google.com/uc?id=1ICZUG9vdJKSWjS1Ojr_Vb3VKgONeTXX1\n",
            "To: /content/train_imbalanced_85.csv\n",
            "100% 237M/237M [00:09<00:00, 23.8MB/s]\n",
            "Downloading...\n",
            "From: https://drive.google.com/uc?id=1F1mHLwlno3OOtpSpMsiQqhoow6aj__DN\n",
            "To: /content/test_imbalanced_15.csv\n",
            "100% 41.8M/41.8M [00:02<00:00, 20.2MB/s]\n"
          ]
        }
      ],
      "source": [
        "# uncomment if running in Colab - only loading the data for multi-class case\n",
        "!gdown '1ICZUG9vdJKSWjS1Ojr_Vb3VKgONeTXX1' -O train_imbalanced_85.csv\n",
        "!gdown '1F1mHLwlno3OOtpSpMsiQqhoow6aj__DN' -O test_imbalanced_15.csv"
      ]
    },
    {
      "cell_type": "code",
      "execution_count": 7,
      "id": "c9fc242a",
      "metadata": {
        "id": "c9fc242a"
      },
      "outputs": [],
      "source": [
        "# Colab\n",
        "train = pd.read_csv('train_imbalanced_85.csv') # 22 features Colab\n",
        "test = pd.read_csv('test_imbalanced_15.csv') # Colab"
      ]
    },
    {
      "cell_type": "code",
      "execution_count": 12,
      "id": "b7356527",
      "metadata": {
        "colab": {
          "base_uri": "https://localhost:8080/"
        },
        "id": "b7356527",
        "outputId": "bc63dfbb-2ff2-4cdd-a850-b95f450820dc"
      },
      "outputs": [
        {
          "output_type": "execute_result",
          "data": {
            "text/plain": [
              "0    1885684\n",
              "1     183159\n",
              "2      37846\n",
              "3      20609\n",
              "4      13900\n",
              "5      11889\n",
              "6       2275\n",
              "7       1980\n",
              "8       1284\n",
              "9        148\n",
              "Name: attack_cat_code, dtype: int64"
            ]
          },
          "metadata": {},
          "execution_count": 12
        }
      ],
      "source": [
        "# check the count of instances of each class\n",
        "train.attack_cat_code.value_counts()"
      ]
    },
    {
      "cell_type": "markdown",
      "source": [
        "#### Function to vizualize predictions\n"
      ],
      "metadata": {
        "id": "QHe27VSZGBWJ"
      },
      "id": "QHe27VSZGBWJ"
    },
    {
      "cell_type": "code",
      "source": [
        "# get the labels\n",
        "codes = {'Normal':0,\n",
        "         'Generic':1,\n",
        "         'Exploits':2,\n",
        "         'Fuzzers': 3,\n",
        "         'DoS':4,\n",
        "         'Reconnaissance':5,\n",
        "         'Analysis':6,\n",
        "         'Backdoor':7,\n",
        "         'Shellcode':8,\n",
        "         'Worms':9   \n",
        "}\n",
        "labels = [x for x in codes.keys()]\n",
        "\n",
        "from sklearn.metrics import precision_score, recall_score, f1_score, roc_auc_score\n",
        "from sklearn.metrics import confusion_matrix, classification_report, roc_curve, auc\n",
        "\n",
        "def calculate_metrics(y_true, y_pred, labels):\n",
        "\n",
        "\n",
        "    \"\"\"\n",
        "    Calculate main metrics:\n",
        "    :param y_test - actual value\n",
        "    :param y_pred - predicted value\n",
        "    :param labels - class labels\n",
        "    :return balanced_accuracy, accuracy, precision, recall, f1\n",
        "    \"\"\"\n",
        "    accuracy = accuracy_score(y_true, y_pred)\n",
        "    # The balanced accuracy in binary and multiclass classification problems to deal with imbalanced datasets. \n",
        "    # It is defined as the average of recall obtained on each class.\n",
        "    balanced_accuracy = balanced_accuracy_score(y_true, y_pred)\n",
        "\n",
        "    # tp / (tp + fp) Ability of the classifier not to label as positive a sample that is negative.\n",
        "    precision = precision_score(y_true, y_pred, average='weighted')\n",
        "\n",
        "    # tp / (tp + fn) Ability of the classifier to find all the positive samples.\n",
        "    recall = recall_score(y_true, y_pred, average='weighted')\n",
        "\n",
        "    # F1 = 2 * (precision * recall) / (precision + recall)\n",
        "    # harmonic mean of the precision and recall\n",
        "    f1 = f1_score(y_true, y_pred, average='weighted')\n",
        "\n",
        "\n",
        "    print(f'Accuracy:{accuracy:.2f}')\n",
        "    print(f'Balanced accuracy:{balanced_accuracy:.2f}')\n",
        "    print(f'Precision:{precision:.2f}')\n",
        "    print(f'Recall:{recall:.2f}')\n",
        "    print(f'F1-score:{f1:.2f}') \n",
        "\n",
        "    cnf_matrix = confusion_matrix(y_true, y_pred, normalize='true')\n",
        "\n",
        "    fig, ax = plt.subplots(figsize=(10, 10))\n",
        "    ax.set_title('Balanced Accuracy on Test Set: {0}%\\n'.format(\"%.2f\" % (balanced_accuracy*100.0)), size=14)\n",
        "    ax.set_ylabel('Actual Label')\n",
        "    ax.set_xlabel('Predicted Label')\n",
        "\n",
        "    sns.heatmap(cnf_matrix,\n",
        "              square=True,\n",
        "              annot=True,\n",
        "              cbar=False,\n",
        "              fmt=\".2f\",\n",
        "              linewidths=0.1,\n",
        "              cmap=\"Greens\",\n",
        "              xticklabels=labels,\n",
        "              yticklabels=labels,\n",
        "              ax=ax)\n",
        "    plt.tight_layout()\n",
        "    plt.xticks(size=10)\n",
        "    plt.yticks(size=10)\n",
        "    plt.show()\n",
        "\n",
        "    print('Classification Report:\\n',\n",
        "      classification_report(y_true,\n",
        "                            y_pred,\n",
        "                            target_names=labels))\n",
        "    return accuracy, balanced_accuracy, precision, recall, f1 "
      ],
      "metadata": {
        "id": "ALm6EpYpGHJs"
      },
      "id": "ALm6EpYpGHJs",
      "execution_count": 14,
      "outputs": []
    },
    {
      "cell_type": "markdown",
      "source": [
        "### Class-specific Classifiers: Automating with functions"
      ],
      "metadata": {
        "id": "Ro2t_Zbf19ar"
      },
      "id": "Ro2t_Zbf19ar"
    },
    {
      "cell_type": "code",
      "source": [
        "def create_model(X_tr, y_tr, Xv, yv, class_weights_):\n",
        "  tf.keras.backend.clear_session()\n",
        "  inputs = keras.Input(shape=(22,))\n",
        "\n",
        "  features = layers.Dense(256, activation=\"relu\")(inputs)\n",
        "  features = layers.Dropout(0.5)(features)\n",
        "  features = layers.Dense(128, activation=\"relu\")(features)\n",
        "  features = layers.Dropout(0.5)(features)\n",
        "\n",
        "  outputs = layers.Dense(2, activation=\"softmax\")(features)\n",
        "\n",
        "  model = keras.Model(inputs=inputs, outputs=outputs)\n",
        "\n",
        "  # compile the model\n",
        "  model.compile(optimizer=keras.optimizers.Adam(learning_rate=1e-3),\n",
        "              loss=\"sparse_categorical_crossentropy\",\n",
        "              metrics=[\"accuracy\"])\n",
        "\n",
        "  history = model.fit(X_tr, \n",
        "                    y_tr,\n",
        "                    epochs=15,\n",
        "                    batch_size=1024,\n",
        "                    validation_data=(Xv, yv),\n",
        "                    class_weight = class_weights_)\n",
        "  \n",
        "  return history, model"
      ],
      "metadata": {
        "id": "W2otCxNz0SNM"
      },
      "id": "W2otCxNz0SNM",
      "execution_count": 123,
      "outputs": []
    },
    {
      "cell_type": "code",
      "source": [
        "def plot_training(history_object):\n",
        "\n",
        "  val_acc = history_object.history[\"val_accuracy\"]\n",
        "  train_acc = history_object.history[\"accuracy\"]\n",
        "\n",
        "  val_loss = history_object.history[\"val_loss\"]\n",
        "  train_loss = history_object.history[\"loss\"]\n",
        "\n",
        "  epochs = range(1, len(val_acc)+1)\n",
        "  fig, ax = plt.subplots(figsize=(12, 6))\n",
        "\n",
        "  plt.subplot(2, 2, 1)\n",
        "  plt.title(\"Validation Loss\")\n",
        "  plt.plot(epochs, val_loss, \"o-\", label=\"Validation Loss\")\n",
        "\n",
        "  plt.subplot(2, 2, 2)\n",
        "  plt.title(\"Training Loss\")\n",
        "  plt.plot(epochs, train_loss, label=\"Training Loss\", color = 'orange')\n",
        "\n",
        "  plt.subplot(2, 2, 3)\n",
        "  plt.title(\"Validation accuracy\")\n",
        "  plt.plot(epochs, val_acc, \"o-\", label=\"Validation accuracy\")\n",
        "\n",
        "  plt.subplot(2, 2, 4)\n",
        "  plt.title(\"Training accuracy\")\n",
        "  plt.plot(epochs, train_acc,  label=\"Training accuracy\", color = 'orange')\n",
        "  plt.tight_layout()\n",
        "  plt.legend()"
      ],
      "metadata": {
        "id": "uk8HXOhV-213"
      },
      "id": "uk8HXOhV-213",
      "execution_count": 121,
      "outputs": []
    },
    {
      "cell_type": "markdown",
      "source": [
        "### Preprocess the data\n"
      ],
      "metadata": {
        "id": "IZKpklL1Ccd8"
      },
      "id": "IZKpklL1Ccd8"
    },
    {
      "cell_type": "code",
      "source": [
        "# create X and y dataframes\n",
        "X_train = train.drop('attack_cat_code', axis=1)\n",
        "y_train = train['attack_cat_code']\n",
        "\n",
        "X_test = test.drop('attack_cat_code', axis=1)\n",
        "y_test = test['attack_cat_code']\n",
        "\n",
        "X_train.shape, y_train.shape, X_test.shape, y_test.shape"
      ],
      "metadata": {
        "id": "NqujuPSxCYvD"
      },
      "id": "NqujuPSxCYvD",
      "execution_count": 109,
      "outputs": []
    },
    {
      "cell_type": "code",
      "source": [
        "# Setting aside 25% for validation\n",
        "# splitting into train and val\n",
        "X_train, X_val, y_train, y_val, = train_test_split(\n",
        "    X_train, \n",
        "    y_train, \n",
        "    test_size=0.20, \n",
        "    random_state=42, \n",
        "    stratify=y_train)"
      ],
      "metadata": {
        "id": "exggVBWx5ngS"
      },
      "id": "exggVBWx5ngS",
      "execution_count": 110,
      "outputs": []
    },
    {
      "cell_type": "code",
      "source": [
        "######## resampling\n",
        "# get count of unique labels in the training fold\n",
        "unique, counts = np.unique(y_train, return_counts=True)\n",
        "counts = dict(zip(unique, counts))\n",
        "print(f'Original counts:\\n{counts}') #{0: 1470833, 1: 142864, 2: 29520, 3: 16075, 4: 10842, 5: 9273, 6: 1775, 7: 1544, 8: 1002, 9: 115}"
      ],
      "metadata": {
        "colab": {
          "base_uri": "https://localhost:8080/"
        },
        "id": "yJWlBoW9uTA7",
        "outputId": "9f759612-7aee-45b2-c968-b9bd22d7d7b5"
      },
      "id": "yJWlBoW9uTA7",
      "execution_count": 111,
      "outputs": [
        {
          "output_type": "stream",
          "name": "stdout",
          "text": [
            "Original counts:\n",
            "{0: 1508547, 1: 146527, 2: 30277, 3: 16487, 4: 11120, 5: 9511, 6: 1820, 7: 1584, 8: 1027, 9: 119}\n"
          ]
        }
      ]
    },
    {
      "cell_type": "code",
      "source": [
        "target_ratio = {0: 9000,\n",
        "              1: 9000,\n",
        "              2: 9000,\n",
        "              3: 9000,\n",
        "              4: 9000,\n",
        "              5: 9000,\n",
        "              6: counts[6],\n",
        "              7: counts[7], \n",
        "              8: counts[8],\n",
        "              9: counts[9] }\n",
        "\n",
        "# UNDERSAMPLE large classes to 10k\n",
        "rus = RandomUnderSampler(sampling_strategy = target_ratio,\n",
        "                        replacement = False)\n",
        "\n",
        "X_train_ds, y_train_ds = rus.fit_resample(X_train, y_train)\n",
        "\n",
        "y_train_ds.value_counts()"
      ],
      "metadata": {
        "colab": {
          "base_uri": "https://localhost:8080/"
        },
        "id": "m04nXb79uS9s",
        "outputId": "f5c229da-c57d-4463-f4b9-83c0749ba578"
      },
      "id": "m04nXb79uS9s",
      "execution_count": 112,
      "outputs": [
        {
          "output_type": "execute_result",
          "data": {
            "text/plain": [
              "0    9000\n",
              "1    9000\n",
              "2    9000\n",
              "3    9000\n",
              "4    9000\n",
              "5    9000\n",
              "6    1820\n",
              "7    1584\n",
              "8    1027\n",
              "9     119\n",
              "Name: attack_cat_code, dtype: int64"
            ]
          },
          "metadata": {},
          "execution_count": 112
        }
      ]
    },
    {
      "cell_type": "code",
      "source": [
        "target_ratio2 = {0: 9000,\n",
        "              1: 9000,\n",
        "              2: 9000,\n",
        "              3: 9000,\n",
        "              4: 9000,\n",
        "              5: 9000,\n",
        "              6: counts[6],\n",
        "              7: counts[7], \n",
        "              8: counts[8],\n",
        "              9: 1000 } # bringing to at least 1k datapoints\n",
        "\n",
        "sm = SMOTE(sampling_strategy = target_ratio2)\n",
        "\n",
        "# APPLY SMOTE on the train folds\n",
        "X_train_05, y_train_05 = sm.fit_resample(X_train_ds,\n",
        "                                         y_train_ds)\n",
        "y_train_05.value_counts()"
      ],
      "metadata": {
        "colab": {
          "base_uri": "https://localhost:8080/"
        },
        "id": "ivK0ETjeu9K3",
        "outputId": "91052dad-8f1e-4cee-c221-de1aab470144"
      },
      "id": "ivK0ETjeu9K3",
      "execution_count": 113,
      "outputs": [
        {
          "output_type": "execute_result",
          "data": {
            "text/plain": [
              "0    9000\n",
              "1    9000\n",
              "2    9000\n",
              "3    9000\n",
              "4    9000\n",
              "5    9000\n",
              "6    1820\n",
              "7    1584\n",
              "8    1027\n",
              "9    1000\n",
              "Name: attack_cat_code, dtype: int64"
            ]
          },
          "metadata": {},
          "execution_count": 113
        }
      ]
    },
    {
      "cell_type": "markdown",
      "source": [
        "## Models for classes 0 through 5\n",
        "We now could iterate through classes 0 through 5 selecting all of the data points from the main (positive) class, downsampling the rest to 1k, and collapsing them into a negative class"
      ],
      "metadata": {
        "id": "PTQybnHwIIVR"
      },
      "id": "PTQybnHwIIVR"
    },
    {
      "cell_type": "code",
      "source": [
        "# create empty lists to store the results\n",
        "histories = []\n",
        "models = []\n",
        "# creating a dataframe to store predictions\n",
        "all_preds = pd.DataFrame(np.zeros((len(y_test), 10),dtype=float), columns=[i for i in range(10)])\n",
        "\n",
        "# get the count of classes\n",
        "unique, counts = np.unique(y_train_05, return_counts=True)\n",
        "counts = dict(zip(unique, counts))\n",
        "print(f'Original counts:\\n{counts}') # {0: 9000, 1: 9000, 2: 9000, 3: 9000, 4: 9000, 5: 9000, 6: 1820, 7: 1584, 8: 1027, 9: 1000}\n",
        "\n",
        "# loop to dynamically change the ratio of datapoints between classes\n",
        "for current_label in range(6):\n",
        "  # create empty dict for target ratio between classes\n",
        "  target_ratio = {}\n",
        "  # remember current classs\n",
        "  target_class = current_label\n",
        "  print(f'Current label: {target_class}')\n",
        "  for cl in range (10):\n",
        "    if cl == target_class:\n",
        "      # print(target_class, counts[target_class])\n",
        "      target_ratio[target_class] = counts[target_class]\n",
        "    else:\n",
        "      # print(cl, 1000)\n",
        "      target_ratio[cl] = 1000\n",
        "\n",
        "  print(f'Target ratio for class {target_class} is:\\n{target_ratio}')\n",
        "\n",
        "  # UNDERSAMPLE minority classes according to the target ratio\n",
        "  rus05 = RandomUnderSampler(sampling_strategy = target_ratio,\n",
        "                        replacement = False)\n",
        "\n",
        "  X_train_05_ds, y_train_05_ds = rus05.fit_resample(X_train_05, y_train_05)\n",
        "\n",
        "\n",
        "  ### mapping attack classes to binary case using current target_class as positive\n",
        "  y_train_05_bin = y_train_05_ds.apply(lambda x: 1 if x== target_class else 0)\n",
        "  \n",
        "  # repeating for the validation set\n",
        "  mapper = lambda x: 1 if x== 0 else 0\n",
        "  y_val_bin = np.array([mapper(x) for x in y_val])\n",
        "\n",
        "  print(X_train_05_ds.shape, y_train_05_bin.shape)\n",
        " \n",
        "\n",
        "  # standardize the data\n",
        "  stdsc = StandardScaler()\n",
        "  # fit and transform train\n",
        "  X_train_std_ = stdsc.fit_transform(X_train_05_ds)\n",
        "\n",
        "  # only transform test and val\n",
        "  X_test_std_ = stdsc.transform(X_test)\n",
        "  X_val_std_ = stdsc.transform(X_val)\n",
        "\n",
        "  # convert to float32\n",
        "  X_train_std_ = np.asarray(X_train_std_).astype('float32')\n",
        "  X_test_std_ = np.asarray(X_test_std_).astype('float32')\n",
        "  X_val_std_ = np.asarray(X_val_std_).astype('float32')\n",
        "\n",
        "  # convert to float32 and reshape\n",
        "  y_train_ = np.asarray(y_train_05_bin).astype('float32').reshape((-1,1))\n",
        "  y_val_ = np.asarray(y_val_bin).astype('float32').reshape((-1,1))\n",
        "  y_test_ = np.asarray(y_test).astype('float32').reshape((-1,1))\n",
        "\n",
        "  print(X_train_std_.shape, y_train_.shape)\n",
        "  print(X_val_std_.shape, y_val_.shape)\n",
        "  print(X_test_std_.shape, y_test_.shape)\n",
        "\n",
        "  # calculate final class weights after completing the above steps\n",
        "  class_weights = {}\n",
        "  for val in np.unique(y_train_):\n",
        "      rows = y_train_[y_train_ == val].shape[0]\n",
        "      total = y_train_.shape[0]\n",
        "      weight = (1 / rows) * (total / 2.0)\n",
        "      \n",
        "      class_weights[val] = weight\n",
        "  print(f'Class weights: {class_weights}\\n')\n",
        "\n",
        "  print(X_train_std_.shape, y_train_.shape)\n",
        "  # break\n",
        "  # fit the model\n",
        "  history, model = create_model(X_train_std_, \n",
        "                                y_train_, \n",
        "                                X_val_std_,\n",
        "                                y_val_,\n",
        "                                class_weights)\n",
        "\n",
        "  # record the results\n",
        "  histories.append(history) \n",
        "  models.append(model)\n",
        "\n",
        "  #generate predictions\n",
        "  y_pred = model.predict(X_test_std_)\n",
        "  # record predictions for the current model\n",
        "  all_preds[target_class] = y_pred[:,1]"
      ],
      "metadata": {
        "colab": {
          "base_uri": "https://localhost:8080/"
        },
        "id": "rt2pY4you9IX",
        "outputId": "787ad016-fe47-48e2-b7ee-63ccd80b49f5"
      },
      "id": "rt2pY4you9IX",
      "execution_count": 125,
      "outputs": [
        {
          "output_type": "stream",
          "name": "stdout",
          "text": [
            "Original counts:\n",
            "{0: 9000, 1: 9000, 2: 9000, 3: 9000, 4: 9000, 5: 9000, 6: 1820, 7: 1584, 8: 1027, 9: 1000}\n",
            "Current label: 0\n",
            "Target ratio for class 0 is:\n",
            "{0: 9000, 1: 1000, 2: 1000, 3: 1000, 4: 1000, 5: 1000, 6: 1000, 7: 1000, 8: 1000, 9: 1000}\n",
            "(18000, 22) (18000,)\n",
            "(18000, 22) (18000, 1)\n",
            "(431755, 22) (431755, 1)\n",
            "(380961, 22) (380961, 1)\n",
            "Class weights: {0.0: 1.0, 1.0: 1.0}\n",
            "\n",
            "(18000, 22) (18000, 1)\n",
            "Epoch 1/15\n",
            "18/18 [==============================] - 2s 67ms/step - loss: 0.4259 - accuracy: 0.8374 - val_loss: 0.1820 - val_accuracy: 0.9755\n",
            "Epoch 2/15\n",
            "18/18 [==============================] - 1s 65ms/step - loss: 0.1431 - accuracy: 0.9689 - val_loss: 0.1030 - val_accuracy: 0.9828\n",
            "Epoch 3/15\n",
            "18/18 [==============================] - 1s 52ms/step - loss: 0.0902 - accuracy: 0.9817 - val_loss: 0.0852 - val_accuracy: 0.9838\n",
            "Epoch 4/15\n",
            "18/18 [==============================] - 1s 46ms/step - loss: 0.0794 - accuracy: 0.9852 - val_loss: 0.0672 - val_accuracy: 0.9838\n",
            "Epoch 5/15\n",
            "18/18 [==============================] - 1s 79ms/step - loss: 0.0681 - accuracy: 0.9866 - val_loss: 0.0624 - val_accuracy: 0.9843\n",
            "Epoch 6/15\n",
            "18/18 [==============================] - 1s 45ms/step - loss: 0.0657 - accuracy: 0.9872 - val_loss: 0.0612 - val_accuracy: 0.9847\n",
            "Epoch 7/15\n",
            "18/18 [==============================] - 1s 79ms/step - loss: 0.0559 - accuracy: 0.9885 - val_loss: 0.0594 - val_accuracy: 0.9848\n",
            "Epoch 8/15\n",
            "18/18 [==============================] - 1s 79ms/step - loss: 0.0571 - accuracy: 0.9887 - val_loss: 0.0581 - val_accuracy: 0.9850\n",
            "Epoch 9/15\n",
            "18/18 [==============================] - 1s 79ms/step - loss: 0.0557 - accuracy: 0.9888 - val_loss: 0.0554 - val_accuracy: 0.9851\n",
            "Epoch 10/15\n",
            "18/18 [==============================] - 1s 47ms/step - loss: 0.0559 - accuracy: 0.9887 - val_loss: 0.0537 - val_accuracy: 0.9851\n",
            "Epoch 11/15\n",
            "18/18 [==============================] - 1s 79ms/step - loss: 0.0516 - accuracy: 0.9889 - val_loss: 0.0566 - val_accuracy: 0.9851\n",
            "Epoch 12/15\n",
            "18/18 [==============================] - 1s 54ms/step - loss: 0.0521 - accuracy: 0.9891 - val_loss: 0.0539 - val_accuracy: 0.9852\n",
            "Epoch 13/15\n",
            "18/18 [==============================] - 1s 81ms/step - loss: 0.0530 - accuracy: 0.9889 - val_loss: 0.0524 - val_accuracy: 0.9852\n",
            "Epoch 14/15\n",
            "18/18 [==============================] - 1s 47ms/step - loss: 0.0489 - accuracy: 0.9893 - val_loss: 0.0542 - val_accuracy: 0.9852\n",
            "Epoch 15/15\n",
            "18/18 [==============================] - 1s 46ms/step - loss: 0.0502 - accuracy: 0.9893 - val_loss: 0.0523 - val_accuracy: 0.9853\n",
            "11906/11906 [==============================] - 45s 4ms/step\n",
            "Current label: 1\n",
            "Target ratio for class 1 is:\n",
            "{0: 1000, 1: 9000, 2: 1000, 3: 1000, 4: 1000, 5: 1000, 6: 1000, 7: 1000, 8: 1000, 9: 1000}\n",
            "(18000, 22) (18000,)\n",
            "(18000, 22) (18000, 1)\n",
            "(431755, 22) (431755, 1)\n",
            "(380961, 22) (380961, 1)\n",
            "Class weights: {0.0: 1.0, 1.0: 1.0}\n",
            "\n",
            "(18000, 22) (18000, 1)\n",
            "Epoch 1/15\n",
            "18/18 [==============================] - 2s 78ms/step - loss: 0.3539 - accuracy: 0.8748 - val_loss: 5.1769 - val_accuracy: 0.1137\n",
            "Epoch 2/15\n",
            "18/18 [==============================] - 1s 81ms/step - loss: 0.1868 - accuracy: 0.9461 - val_loss: 5.6315 - val_accuracy: 0.1060\n",
            "Epoch 3/15\n",
            "18/18 [==============================] - 1s 66ms/step - loss: 0.1616 - accuracy: 0.9518 - val_loss: 5.3240 - val_accuracy: 0.0848\n",
            "Epoch 4/15\n",
            "18/18 [==============================] - 1s 65ms/step - loss: 0.1428 - accuracy: 0.9571 - val_loss: 5.6143 - val_accuracy: 0.0625\n",
            "Epoch 5/15\n",
            "18/18 [==============================] - 1s 54ms/step - loss: 0.1353 - accuracy: 0.9600 - val_loss: 5.7035 - val_accuracy: 0.0554\n",
            "Epoch 6/15\n",
            "18/18 [==============================] - 1s 80ms/step - loss: 0.1261 - accuracy: 0.9610 - val_loss: 6.0062 - val_accuracy: 0.0499\n",
            "Epoch 7/15\n",
            "18/18 [==============================] - 1s 64ms/step - loss: 0.1217 - accuracy: 0.9624 - val_loss: 6.1793 - val_accuracy: 0.0485\n",
            "Epoch 8/15\n",
            "18/18 [==============================] - 1s 62ms/step - loss: 0.1183 - accuracy: 0.9643 - val_loss: 6.1290 - val_accuracy: 0.0478\n",
            "Epoch 9/15\n",
            "18/18 [==============================] - 1s 79ms/step - loss: 0.1131 - accuracy: 0.9652 - val_loss: 6.2726 - val_accuracy: 0.0470\n",
            "Epoch 10/15\n",
            "18/18 [==============================] - 1s 49ms/step - loss: 0.1096 - accuracy: 0.9673 - val_loss: 6.4380 - val_accuracy: 0.0466\n",
            "Epoch 11/15\n",
            "18/18 [==============================] - 1s 80ms/step - loss: 0.1057 - accuracy: 0.9681 - val_loss: 6.6975 - val_accuracy: 0.0465\n",
            "Epoch 12/15\n",
            "18/18 [==============================] - 1s 47ms/step - loss: 0.1002 - accuracy: 0.9699 - val_loss: 6.8372 - val_accuracy: 0.0462\n",
            "Epoch 13/15\n",
            "18/18 [==============================] - 1s 47ms/step - loss: 0.0984 - accuracy: 0.9710 - val_loss: 7.1237 - val_accuracy: 0.0456\n",
            "Epoch 14/15\n",
            "18/18 [==============================] - 1s 46ms/step - loss: 0.0956 - accuracy: 0.9719 - val_loss: 7.1386 - val_accuracy: 0.0453\n",
            "Epoch 15/15\n",
            "18/18 [==============================] - 1s 79ms/step - loss: 0.0936 - accuracy: 0.9727 - val_loss: 7.5548 - val_accuracy: 0.0450\n",
            "11906/11906 [==============================] - 17s 1ms/step\n",
            "Current label: 2\n",
            "Target ratio for class 2 is:\n",
            "{0: 1000, 1: 1000, 2: 9000, 3: 1000, 4: 1000, 5: 1000, 6: 1000, 7: 1000, 8: 1000, 9: 1000}\n",
            "(18000, 22) (18000,)\n",
            "(18000, 22) (18000, 1)\n",
            "(431755, 22) (431755, 1)\n",
            "(380961, 22) (380961, 1)\n",
            "Class weights: {0.0: 1.0, 1.0: 1.0}\n",
            "\n",
            "(18000, 22) (18000, 1)\n",
            "Epoch 1/15\n",
            "18/18 [==============================] - 2s 56ms/step - loss: 0.6328 - accuracy: 0.6252 - val_loss: 1.1534 - val_accuracy: 0.2966\n",
            "Epoch 2/15\n",
            "18/18 [==============================] - 1s 46ms/step - loss: 0.5534 - accuracy: 0.6892 - val_loss: 1.6684 - val_accuracy: 0.1967\n",
            "Epoch 3/15\n",
            "18/18 [==============================] - 1s 47ms/step - loss: 0.5239 - accuracy: 0.7094 - val_loss: 2.1725 - val_accuracy: 0.1428\n",
            "Epoch 4/15\n",
            "18/18 [==============================] - 1s 45ms/step - loss: 0.5040 - accuracy: 0.7194 - val_loss: 2.4406 - val_accuracy: 0.1223\n",
            "Epoch 5/15\n",
            "18/18 [==============================] - 1s 79ms/step - loss: 0.4916 - accuracy: 0.7242 - val_loss: 2.7719 - val_accuracy: 0.1082\n",
            "Epoch 6/15\n",
            "18/18 [==============================] - 1s 68ms/step - loss: 0.4857 - accuracy: 0.7302 - val_loss: 2.8921 - val_accuracy: 0.1076\n",
            "Epoch 7/15\n",
            "18/18 [==============================] - 1s 79ms/step - loss: 0.4781 - accuracy: 0.7325 - val_loss: 3.0573 - val_accuracy: 0.1072\n",
            "Epoch 8/15\n",
            "18/18 [==============================] - 1s 82ms/step - loss: 0.4752 - accuracy: 0.7352 - val_loss: 3.2620 - val_accuracy: 0.1055\n",
            "Epoch 9/15\n",
            "18/18 [==============================] - 2s 107ms/step - loss: 0.4697 - accuracy: 0.7390 - val_loss: 3.3187 - val_accuracy: 0.1054\n",
            "Epoch 10/15\n",
            "18/18 [==============================] - 3s 171ms/step - loss: 0.4676 - accuracy: 0.7421 - val_loss: 3.4126 - val_accuracy: 0.1050\n",
            "Epoch 11/15\n",
            "18/18 [==============================] - 1s 82ms/step - loss: 0.4639 - accuracy: 0.7481 - val_loss: 3.5354 - val_accuracy: 0.1049\n",
            "Epoch 12/15\n",
            "18/18 [==============================] - 1s 63ms/step - loss: 0.4611 - accuracy: 0.7485 - val_loss: 3.6043 - val_accuracy: 0.1044\n",
            "Epoch 13/15\n",
            "18/18 [==============================] - 1s 55ms/step - loss: 0.4598 - accuracy: 0.7447 - val_loss: 3.6097 - val_accuracy: 0.1044\n",
            "Epoch 14/15\n",
            "18/18 [==============================] - 1s 79ms/step - loss: 0.4563 - accuracy: 0.7508 - val_loss: 3.5955 - val_accuracy: 0.1054\n",
            "Epoch 15/15\n",
            "18/18 [==============================] - 1s 79ms/step - loss: 0.4553 - accuracy: 0.7476 - val_loss: 3.7009 - val_accuracy: 0.1043\n",
            "11906/11906 [==============================] - 23s 2ms/step\n",
            "Current label: 3\n",
            "Target ratio for class 3 is:\n",
            "{0: 1000, 1: 1000, 2: 1000, 3: 9000, 4: 1000, 5: 1000, 6: 1000, 7: 1000, 8: 1000, 9: 1000}\n",
            "(18000, 22) (18000,)\n",
            "(18000, 22) (18000, 1)\n",
            "(431755, 22) (431755, 1)\n",
            "(380961, 22) (380961, 1)\n",
            "Class weights: {0.0: 1.0, 1.0: 1.0}\n",
            "\n",
            "(18000, 22) (18000, 1)\n",
            "Epoch 1/15\n",
            "18/18 [==============================] - 3s 91ms/step - loss: 0.5585 - accuracy: 0.7153 - val_loss: 3.8492 - val_accuracy: 0.1233\n",
            "Epoch 2/15\n",
            "18/18 [==============================] - 1s 79ms/step - loss: 0.4281 - accuracy: 0.8095 - val_loss: 6.3196 - val_accuracy: 0.1193\n",
            "Epoch 3/15\n",
            "18/18 [==============================] - 1s 79ms/step - loss: 0.3976 - accuracy: 0.8263 - val_loss: 7.2815 - val_accuracy: 0.1200\n",
            "Epoch 4/15\n",
            "18/18 [==============================] - 1s 79ms/step - loss: 0.3781 - accuracy: 0.8366 - val_loss: 7.4893 - val_accuracy: 0.1204\n",
            "Epoch 5/15\n",
            "18/18 [==============================] - 1s 79ms/step - loss: 0.3684 - accuracy: 0.8390 - val_loss: 7.5964 - val_accuracy: 0.1213\n",
            "Epoch 6/15\n",
            "18/18 [==============================] - 1s 65ms/step - loss: 0.3613 - accuracy: 0.8446 - val_loss: 7.8502 - val_accuracy: 0.1221\n",
            "Epoch 7/15\n",
            "18/18 [==============================] - 1s 50ms/step - loss: 0.3516 - accuracy: 0.8488 - val_loss: 7.8984 - val_accuracy: 0.1222\n",
            "Epoch 8/15\n",
            "18/18 [==============================] - 1s 46ms/step - loss: 0.3456 - accuracy: 0.8523 - val_loss: 8.1567 - val_accuracy: 0.1232\n",
            "Epoch 9/15\n",
            "18/18 [==============================] - 1s 46ms/step - loss: 0.3381 - accuracy: 0.8538 - val_loss: 8.3639 - val_accuracy: 0.1233\n",
            "Epoch 10/15\n",
            "18/18 [==============================] - 1s 79ms/step - loss: 0.3340 - accuracy: 0.8563 - val_loss: 8.3481 - val_accuracy: 0.1239\n",
            "Epoch 11/15\n",
            "18/18 [==============================] - 1s 46ms/step - loss: 0.3286 - accuracy: 0.8605 - val_loss: 8.3076 - val_accuracy: 0.1230\n",
            "Epoch 12/15\n",
            "18/18 [==============================] - 1s 79ms/step - loss: 0.3294 - accuracy: 0.8604 - val_loss: 8.4448 - val_accuracy: 0.1240\n",
            "Epoch 13/15\n",
            "18/18 [==============================] - 1s 79ms/step - loss: 0.3241 - accuracy: 0.8622 - val_loss: 8.9949 - val_accuracy: 0.1232\n",
            "Epoch 14/15\n",
            "18/18 [==============================] - 1s 46ms/step - loss: 0.3180 - accuracy: 0.8637 - val_loss: 9.4307 - val_accuracy: 0.1246\n",
            "Epoch 15/15\n",
            "18/18 [==============================] - 1s 45ms/step - loss: 0.3190 - accuracy: 0.8627 - val_loss: 9.5620 - val_accuracy: 0.1232\n",
            "11906/11906 [==============================] - 18s 1ms/step\n",
            "Current label: 4\n",
            "Target ratio for class 4 is:\n",
            "{0: 1000, 1: 1000, 2: 1000, 3: 1000, 4: 9000, 5: 1000, 6: 1000, 7: 1000, 8: 1000, 9: 1000}\n",
            "(18000, 22) (18000,)\n",
            "(18000, 22) (18000, 1)\n",
            "(431755, 22) (431755, 1)\n",
            "(380961, 22) (380961, 1)\n",
            "Class weights: {0.0: 1.0, 1.0: 1.0}\n",
            "\n",
            "(18000, 22) (18000, 1)\n",
            "Epoch 1/15\n",
            "18/18 [==============================] - 3s 81ms/step - loss: 0.6250 - accuracy: 0.6750 - val_loss: 1.6448 - val_accuracy: 0.1558\n",
            "Epoch 2/15\n",
            "18/18 [==============================] - 1s 81ms/step - loss: 0.5447 - accuracy: 0.7395 - val_loss: 2.1373 - val_accuracy: 0.1232\n",
            "Epoch 3/15\n",
            "18/18 [==============================] - 1s 45ms/step - loss: 0.5296 - accuracy: 0.7549 - val_loss: 2.4762 - val_accuracy: 0.1127\n",
            "Epoch 4/15\n",
            "18/18 [==============================] - 1s 79ms/step - loss: 0.5176 - accuracy: 0.7631 - val_loss: 2.5597 - val_accuracy: 0.1103\n",
            "Epoch 5/15\n",
            "18/18 [==============================] - 1s 79ms/step - loss: 0.5145 - accuracy: 0.7667 - val_loss: 2.8481 - val_accuracy: 0.1082\n",
            "Epoch 6/15\n",
            "18/18 [==============================] - 1s 46ms/step - loss: 0.5107 - accuracy: 0.7663 - val_loss: 3.0058 - val_accuracy: 0.1076\n",
            "Epoch 7/15\n",
            "18/18 [==============================] - 1s 46ms/step - loss: 0.5021 - accuracy: 0.7716 - val_loss: 3.1968 - val_accuracy: 0.1073\n",
            "Epoch 8/15\n",
            "18/18 [==============================] - 1s 79ms/step - loss: 0.5011 - accuracy: 0.7734 - val_loss: 3.2474 - val_accuracy: 0.1069\n",
            "Epoch 9/15\n",
            "18/18 [==============================] - 1s 79ms/step - loss: 0.4973 - accuracy: 0.7746 - val_loss: 3.3773 - val_accuracy: 0.1064\n",
            "Epoch 10/15\n",
            "18/18 [==============================] - 1s 80ms/step - loss: 0.4962 - accuracy: 0.7741 - val_loss: 3.5604 - val_accuracy: 0.1059\n",
            "Epoch 11/15\n",
            "18/18 [==============================] - 1s 66ms/step - loss: 0.4954 - accuracy: 0.7743 - val_loss: 3.5842 - val_accuracy: 0.1074\n",
            "Epoch 12/15\n",
            "18/18 [==============================] - 1s 80ms/step - loss: 0.4956 - accuracy: 0.7758 - val_loss: 3.5730 - val_accuracy: 0.1084\n",
            "Epoch 13/15\n",
            "18/18 [==============================] - 1s 80ms/step - loss: 0.4911 - accuracy: 0.7749 - val_loss: 3.8606 - val_accuracy: 0.1068\n",
            "Epoch 14/15\n",
            "18/18 [==============================] - 1s 80ms/step - loss: 0.4916 - accuracy: 0.7775 - val_loss: 3.7977 - val_accuracy: 0.1073\n",
            "Epoch 15/15\n",
            "18/18 [==============================] - 1s 47ms/step - loss: 0.4886 - accuracy: 0.7797 - val_loss: 3.8412 - val_accuracy: 0.1072\n",
            "11906/11906 [==============================] - 18s 2ms/step\n",
            "Current label: 5\n",
            "Target ratio for class 5 is:\n",
            "{0: 1000, 1: 1000, 2: 1000, 3: 1000, 4: 1000, 5: 9000, 6: 1000, 7: 1000, 8: 1000, 9: 1000}\n",
            "(18000, 22) (18000,)\n",
            "(18000, 22) (18000, 1)\n",
            "(431755, 22) (431755, 1)\n",
            "(380961, 22) (380961, 1)\n",
            "Class weights: {0.0: 1.0, 1.0: 1.0}\n",
            "\n",
            "(18000, 22) (18000, 1)\n",
            "Epoch 1/15\n",
            "18/18 [==============================] - 3s 88ms/step - loss: 0.5431 - accuracy: 0.7202 - val_loss: 4.8394 - val_accuracy: 0.1146\n",
            "Epoch 2/15\n",
            "18/18 [==============================] - 1s 70ms/step - loss: 0.4299 - accuracy: 0.8013 - val_loss: 6.8568 - val_accuracy: 0.1141\n",
            "Epoch 3/15\n",
            "18/18 [==============================] - 1s 81ms/step - loss: 0.3998 - accuracy: 0.8210 - val_loss: 7.0366 - val_accuracy: 0.1166\n",
            "Epoch 4/15\n",
            "18/18 [==============================] - 1s 82ms/step - loss: 0.3828 - accuracy: 0.8282 - val_loss: 6.7190 - val_accuracy: 0.1172\n",
            "Epoch 5/15\n",
            "18/18 [==============================] - 1s 45ms/step - loss: 0.3632 - accuracy: 0.8370 - val_loss: 7.1211 - val_accuracy: 0.1180\n",
            "Epoch 6/15\n",
            "18/18 [==============================] - 1s 79ms/step - loss: 0.3547 - accuracy: 0.8448 - val_loss: 7.2616 - val_accuracy: 0.1184\n",
            "Epoch 7/15\n",
            "18/18 [==============================] - 1s 79ms/step - loss: 0.3445 - accuracy: 0.8508 - val_loss: 7.8223 - val_accuracy: 0.1196\n",
            "Epoch 8/15\n",
            "18/18 [==============================] - 1s 48ms/step - loss: 0.3370 - accuracy: 0.8529 - val_loss: 7.8253 - val_accuracy: 0.1200\n",
            "Epoch 9/15\n",
            "18/18 [==============================] - 1s 45ms/step - loss: 0.3299 - accuracy: 0.8581 - val_loss: 8.4582 - val_accuracy: 0.1206\n",
            "Epoch 10/15\n",
            "18/18 [==============================] - 1s 46ms/step - loss: 0.3207 - accuracy: 0.8612 - val_loss: 8.1986 - val_accuracy: 0.1203\n",
            "Epoch 11/15\n",
            "18/18 [==============================] - 1s 79ms/step - loss: 0.3178 - accuracy: 0.8650 - val_loss: 8.2928 - val_accuracy: 0.1201\n",
            "Epoch 12/15\n",
            "18/18 [==============================] - 1s 79ms/step - loss: 0.3124 - accuracy: 0.8682 - val_loss: 8.6171 - val_accuracy: 0.1208\n",
            "Epoch 13/15\n",
            "18/18 [==============================] - 1s 67ms/step - loss: 0.3071 - accuracy: 0.8691 - val_loss: 8.7634 - val_accuracy: 0.1208\n",
            "Epoch 14/15\n",
            "18/18 [==============================] - 1s 63ms/step - loss: 0.2998 - accuracy: 0.8716 - val_loss: 9.3420 - val_accuracy: 0.1205\n",
            "Epoch 15/15\n",
            "18/18 [==============================] - 1s 79ms/step - loss: 0.2982 - accuracy: 0.8726 - val_loss: 9.3065 - val_accuracy: 0.1210\n",
            "11906/11906 [==============================] - 17s 1ms/step\n"
          ]
        }
      ]
    },
    {
      "cell_type": "markdown",
      "source": [
        "### 0-5 results"
      ],
      "metadata": {
        "id": "mgaurzejLtAA"
      },
      "id": "mgaurzejLtAA"
    },
    {
      "cell_type": "code",
      "source": [
        "all_preds.head()"
      ],
      "metadata": {
        "colab": {
          "base_uri": "https://localhost:8080/",
          "height": 206
        },
        "id": "G1RLaSIHLzzk",
        "outputId": "ff5839d5-9322-43c5-b38b-ce79591db7e0"
      },
      "id": "G1RLaSIHLzzk",
      "execution_count": 128,
      "outputs": [
        {
          "output_type": "execute_result",
          "data": {
            "text/plain": [
              "          0         1         2             3         4             5    6  \\\n",
              "0  0.999738  0.010548  0.251219  5.205778e-22  0.309575  2.340800e-06  0.0   \n",
              "1  0.996770  0.000966  0.034098  4.018041e-03  0.061152  2.113172e-02  0.0   \n",
              "2  0.999994  0.000152  0.002662  3.215770e-10  0.002680  1.977394e-11  0.0   \n",
              "3  0.998479  0.004829  0.014128  8.306607e-05  0.002247  6.183665e-05  0.0   \n",
              "4  0.999981  0.000601  0.004147  1.090044e-07  0.003458  2.647040e-07  0.0   \n",
              "\n",
              "     7    8    9  \n",
              "0  0.0  0.0  0.0  \n",
              "1  0.0  0.0  0.0  \n",
              "2  0.0  0.0  0.0  \n",
              "3  0.0  0.0  0.0  \n",
              "4  0.0  0.0  0.0  "
            ],
            "text/html": [
              "\n",
              "  <div id=\"df-dbb0a00e-8eda-43c6-bdab-961073057694\">\n",
              "    <div class=\"colab-df-container\">\n",
              "      <div>\n",
              "<style scoped>\n",
              "    .dataframe tbody tr th:only-of-type {\n",
              "        vertical-align: middle;\n",
              "    }\n",
              "\n",
              "    .dataframe tbody tr th {\n",
              "        vertical-align: top;\n",
              "    }\n",
              "\n",
              "    .dataframe thead th {\n",
              "        text-align: right;\n",
              "    }\n",
              "</style>\n",
              "<table border=\"1\" class=\"dataframe\">\n",
              "  <thead>\n",
              "    <tr style=\"text-align: right;\">\n",
              "      <th></th>\n",
              "      <th>0</th>\n",
              "      <th>1</th>\n",
              "      <th>2</th>\n",
              "      <th>3</th>\n",
              "      <th>4</th>\n",
              "      <th>5</th>\n",
              "      <th>6</th>\n",
              "      <th>7</th>\n",
              "      <th>8</th>\n",
              "      <th>9</th>\n",
              "    </tr>\n",
              "  </thead>\n",
              "  <tbody>\n",
              "    <tr>\n",
              "      <th>0</th>\n",
              "      <td>0.999738</td>\n",
              "      <td>0.010548</td>\n",
              "      <td>0.251219</td>\n",
              "      <td>5.205778e-22</td>\n",
              "      <td>0.309575</td>\n",
              "      <td>2.340800e-06</td>\n",
              "      <td>0.0</td>\n",
              "      <td>0.0</td>\n",
              "      <td>0.0</td>\n",
              "      <td>0.0</td>\n",
              "    </tr>\n",
              "    <tr>\n",
              "      <th>1</th>\n",
              "      <td>0.996770</td>\n",
              "      <td>0.000966</td>\n",
              "      <td>0.034098</td>\n",
              "      <td>4.018041e-03</td>\n",
              "      <td>0.061152</td>\n",
              "      <td>2.113172e-02</td>\n",
              "      <td>0.0</td>\n",
              "      <td>0.0</td>\n",
              "      <td>0.0</td>\n",
              "      <td>0.0</td>\n",
              "    </tr>\n",
              "    <tr>\n",
              "      <th>2</th>\n",
              "      <td>0.999994</td>\n",
              "      <td>0.000152</td>\n",
              "      <td>0.002662</td>\n",
              "      <td>3.215770e-10</td>\n",
              "      <td>0.002680</td>\n",
              "      <td>1.977394e-11</td>\n",
              "      <td>0.0</td>\n",
              "      <td>0.0</td>\n",
              "      <td>0.0</td>\n",
              "      <td>0.0</td>\n",
              "    </tr>\n",
              "    <tr>\n",
              "      <th>3</th>\n",
              "      <td>0.998479</td>\n",
              "      <td>0.004829</td>\n",
              "      <td>0.014128</td>\n",
              "      <td>8.306607e-05</td>\n",
              "      <td>0.002247</td>\n",
              "      <td>6.183665e-05</td>\n",
              "      <td>0.0</td>\n",
              "      <td>0.0</td>\n",
              "      <td>0.0</td>\n",
              "      <td>0.0</td>\n",
              "    </tr>\n",
              "    <tr>\n",
              "      <th>4</th>\n",
              "      <td>0.999981</td>\n",
              "      <td>0.000601</td>\n",
              "      <td>0.004147</td>\n",
              "      <td>1.090044e-07</td>\n",
              "      <td>0.003458</td>\n",
              "      <td>2.647040e-07</td>\n",
              "      <td>0.0</td>\n",
              "      <td>0.0</td>\n",
              "      <td>0.0</td>\n",
              "      <td>0.0</td>\n",
              "    </tr>\n",
              "  </tbody>\n",
              "</table>\n",
              "</div>\n",
              "      <button class=\"colab-df-convert\" onclick=\"convertToInteractive('df-dbb0a00e-8eda-43c6-bdab-961073057694')\"\n",
              "              title=\"Convert this dataframe to an interactive table.\"\n",
              "              style=\"display:none;\">\n",
              "        \n",
              "  <svg xmlns=\"http://www.w3.org/2000/svg\" height=\"24px\"viewBox=\"0 0 24 24\"\n",
              "       width=\"24px\">\n",
              "    <path d=\"M0 0h24v24H0V0z\" fill=\"none\"/>\n",
              "    <path d=\"M18.56 5.44l.94 2.06.94-2.06 2.06-.94-2.06-.94-.94-2.06-.94 2.06-2.06.94zm-11 1L8.5 8.5l.94-2.06 2.06-.94-2.06-.94L8.5 2.5l-.94 2.06-2.06.94zm10 10l.94 2.06.94-2.06 2.06-.94-2.06-.94-.94-2.06-.94 2.06-2.06.94z\"/><path d=\"M17.41 7.96l-1.37-1.37c-.4-.4-.92-.59-1.43-.59-.52 0-1.04.2-1.43.59L10.3 9.45l-7.72 7.72c-.78.78-.78 2.05 0 2.83L4 21.41c.39.39.9.59 1.41.59.51 0 1.02-.2 1.41-.59l7.78-7.78 2.81-2.81c.8-.78.8-2.07 0-2.86zM5.41 20L4 18.59l7.72-7.72 1.47 1.35L5.41 20z\"/>\n",
              "  </svg>\n",
              "      </button>\n",
              "      \n",
              "  <style>\n",
              "    .colab-df-container {\n",
              "      display:flex;\n",
              "      flex-wrap:wrap;\n",
              "      gap: 12px;\n",
              "    }\n",
              "\n",
              "    .colab-df-convert {\n",
              "      background-color: #E8F0FE;\n",
              "      border: none;\n",
              "      border-radius: 50%;\n",
              "      cursor: pointer;\n",
              "      display: none;\n",
              "      fill: #1967D2;\n",
              "      height: 32px;\n",
              "      padding: 0 0 0 0;\n",
              "      width: 32px;\n",
              "    }\n",
              "\n",
              "    .colab-df-convert:hover {\n",
              "      background-color: #E2EBFA;\n",
              "      box-shadow: 0px 1px 2px rgba(60, 64, 67, 0.3), 0px 1px 3px 1px rgba(60, 64, 67, 0.15);\n",
              "      fill: #174EA6;\n",
              "    }\n",
              "\n",
              "    [theme=dark] .colab-df-convert {\n",
              "      background-color: #3B4455;\n",
              "      fill: #D2E3FC;\n",
              "    }\n",
              "\n",
              "    [theme=dark] .colab-df-convert:hover {\n",
              "      background-color: #434B5C;\n",
              "      box-shadow: 0px 1px 3px 1px rgba(0, 0, 0, 0.15);\n",
              "      filter: drop-shadow(0px 1px 2px rgba(0, 0, 0, 0.3));\n",
              "      fill: #FFFFFF;\n",
              "    }\n",
              "  </style>\n",
              "\n",
              "      <script>\n",
              "        const buttonEl =\n",
              "          document.querySelector('#df-dbb0a00e-8eda-43c6-bdab-961073057694 button.colab-df-convert');\n",
              "        buttonEl.style.display =\n",
              "          google.colab.kernel.accessAllowed ? 'block' : 'none';\n",
              "\n",
              "        async function convertToInteractive(key) {\n",
              "          const element = document.querySelector('#df-dbb0a00e-8eda-43c6-bdab-961073057694');\n",
              "          const dataTable =\n",
              "            await google.colab.kernel.invokeFunction('convertToInteractive',\n",
              "                                                     [key], {});\n",
              "          if (!dataTable) return;\n",
              "\n",
              "          const docLinkHtml = 'Like what you see? Visit the ' +\n",
              "            '<a target=\"_blank\" href=https://colab.research.google.com/notebooks/data_table.ipynb>data table notebook</a>'\n",
              "            + ' to learn more about interactive tables.';\n",
              "          element.innerHTML = '';\n",
              "          dataTable['output_type'] = 'display_data';\n",
              "          await google.colab.output.renderOutput(dataTable, element);\n",
              "          const docLink = document.createElement('div');\n",
              "          docLink.innerHTML = docLinkHtml;\n",
              "          element.appendChild(docLink);\n",
              "        }\n",
              "      </script>\n",
              "    </div>\n",
              "  </div>\n",
              "  "
            ]
          },
          "metadata": {},
          "execution_count": 128
        }
      ]
    },
    {
      "cell_type": "code",
      "source": [
        "for hist in histories:\n",
        "  plot_training(hist)\n",
        "  break"
      ],
      "metadata": {
        "colab": {
          "base_uri": "https://localhost:8080/",
          "height": 588
        },
        "id": "CgyVtS0yLzxS",
        "outputId": "3b60e90b-5abd-4e9e-cc87-75a6cc6ddac5"
      },
      "id": "CgyVtS0yLzxS",
      "execution_count": 129,
      "outputs": [
        {
          "output_type": "stream",
          "name": "stderr",
          "text": [
            "<ipython-input-121-0fafdbf50865>:12: MatplotlibDeprecationWarning: Auto-removal of overlapping axes is deprecated since 3.6 and will be removed two minor releases later; explicitly call ax.remove() as needed.\n",
            "  plt.subplot(2, 2, 1)\n"
          ]
        },
        {
          "output_type": "display_data",
          "data": {
            "text/plain": [
              "<Figure size 1200x600 with 4 Axes>"
            ],
            "image/png": "[encoded data removed]"
          },
          "metadata": {}
        }
      ]
    },
    {
      "cell_type": "code",
      "source": [],
      "metadata": {
        "id": "4c5vMTTOLzvM"
      },
      "id": "4c5vMTTOLzvM",
      "execution_count": null,
      "outputs": []
    },
    {
      "cell_type": "markdown",
      "source": [
        "## Models for other classes"
      ],
      "metadata": {
        "id": "oPClKemzIRbK"
      },
      "id": "oPClKemzIRbK"
    },
    {
      "cell_type": "markdown",
      "source": [
        "#### Class 6"
      ],
      "metadata": {
        "id": "fv2uXZHU-QmO"
      },
      "id": "fv2uXZHU-QmO"
    },
    {
      "cell_type": "code",
      "source": [
        "# create X and y dataframes\n",
        "X_train = train.drop('attack_cat_code', axis=1)\n",
        "y_train = train['attack_cat_code']\n",
        "\n",
        "X_test = test.drop('attack_cat_code', axis=1)\n",
        "y_test = test['attack_cat_code']\n",
        "\n",
        "######### resampling\n",
        "# get count of unique labels in the training fold\n",
        "unique, counts = np.unique(train.attack_cat_code, return_counts=True)\n",
        "counts = dict(zip(unique, counts))\n",
        "print(f'Original counts:\\n{counts}') # {0: 29600, 1: 15097, 2: 8905, 3: 4850, 4: 3271, 5: 2797, 6: 542, 7: 467, 8: 302, 9: 35}\n",
        "\n",
        "# GET INITIAL LABEL COUNT\n",
        "# get the count for the second largest label of #1 \n",
        "# this will be the target ratio for upsamling the resto of the labels\n",
        "zero = counts[0] \n",
        "one = counts[1]\n",
        "two = counts[2]\n",
        "target_ratio = {0: counts[3],\n",
        "              1: counts[3],\n",
        "              2: counts[2],\n",
        "              3: counts[3],\n",
        "              4: counts[4],\n",
        "              5: counts[5],\n",
        "              6: counts[6],\n",
        "              7: counts[7], \n",
        "              8: counts[8],\n",
        "              9: counts[9] }\n",
        "\n",
        "\n",
        "# UNDERSAMPLE the majority class to match the rest of the labels\n",
        "rus = RandomUnderSampler(sampling_strategy = target_ratio,\n",
        "                        replacement = False)\n",
        "\n",
        "X_train_resampled, y_train_resampled = rus.fit_resample(X_train, y_train)\n",
        "\n",
        "y_train_resampled.value_counts()"
      ],
      "metadata": {
        "colab": {
          "base_uri": "https://localhost:8080/"
        },
        "outputId": "2289227b-965f-4585-bd19-d3661c4f0f5f",
        "id": "bbmYdIgr-QmP"
      },
      "execution_count": null,
      "outputs": [
        {
          "output_type": "stream",
          "name": "stdout",
          "text": [
            "Original counts:\n",
            "{0: 1885684, 1: 183159, 2: 37846, 3: 20609, 4: 13900, 5: 11889, 6: 2275, 7: 1980, 8: 1284, 9: 148}\n"
          ]
        },
        {
          "output_type": "execute_result",
          "data": {
            "text/plain": [
              "2    37846\n",
              "0    20609\n",
              "1    20609\n",
              "3    20609\n",
              "4    13900\n",
              "5    11889\n",
              "6     2275\n",
              "7     1980\n",
              "8     1284\n",
              "9      148\n",
              "Name: attack_cat_code, dtype: int64"
            ]
          },
          "metadata": {},
          "execution_count": 108
        }
      ],
      "id": "bbmYdIgr-QmP"
    },
    {
      "cell_type": "code",
      "source": [
        "# # get count of unique labels in the training fold\n",
        "# unique, counts = np.unique(y_train_resampled, return_counts=True)\n",
        "# counts = dict(zip(unique, counts))\n",
        "# print(f'Original counts:\\n{counts}') # {0: 29600, 1: 15097, 2: 8905, 3: 4850, 4: 3271, 5: 2797, 6: 542, 7: 467, 8: 302, 9: 35}"
      ],
      "metadata": {
        "outputId": "d13a3605-3287-48eb-dd97-f4b515cc835b",
        "colab": {
          "base_uri": "https://localhost:8080/"
        },
        "id": "gOVhvphO-QmR"
      },
      "execution_count": null,
      "outputs": [
        {
          "output_type": "stream",
          "name": "stdout",
          "text": [
            "Original counts:\n",
            "{0: 20609, 1: 20609, 2: 37846, 3: 20609, 4: 13900, 5: 11889, 6: 2275, 7: 1980, 8: 1284, 9: 148}\n"
          ]
        }
      ],
      "id": "gOVhvphO-QmR"
    },
    {
      "cell_type": "code",
      "source": [
        "######### resampling\n",
        "\n",
        "# get count of unique labels in the training fold\n",
        "unique, counts = np.unique(y_train_resampled, return_counts=True)\n",
        "counts = dict(zip(unique, counts))\n",
        "# print(f'Original counts:\\n{counts}')\n",
        "\n",
        "target_ratio2 =  {0: counts[0],\n",
        "              1: counts[1],\n",
        "              2: counts[2],\n",
        "              3: counts[3],\n",
        "              4: counts[4], \n",
        "              5: counts[5], \n",
        "              6: counts[1], # <<<<<<<<<<<<\n",
        "              7: counts[7], \n",
        "              8: counts[8],\n",
        "              9: counts[9] }\n",
        "\n",
        "# create SMOTE object\n",
        "sm = SMOTE(sampling_strategy = target_ratio2)\n",
        "\n",
        "# APPLY SMOTE on the train folds\n",
        "X_train_resampled, y_train_resampled = sm.fit_resample(X_train_resampled,\n",
        "                                                       y_train_resampled)\n",
        "y_train_resampled.value_counts()"
      ],
      "metadata": {
        "outputId": "7f60a931-ecc4-41ed-c24b-aa245b6eb964",
        "colab": {
          "base_uri": "https://localhost:8080/"
        },
        "id": "P1mB0dpm-QmS"
      },
      "execution_count": null,
      "outputs": [
        {
          "output_type": "execute_result",
          "data": {
            "text/plain": [
              "2    37846\n",
              "0    20609\n",
              "1    20609\n",
              "3    20609\n",
              "6    20609\n",
              "4    13900\n",
              "5    11889\n",
              "7     1980\n",
              "8     1284\n",
              "9      148\n",
              "Name: attack_cat_code, dtype: int64"
            ]
          },
          "metadata": {},
          "execution_count": 109
        }
      ],
      "id": "P1mB0dpm-QmS"
    },
    {
      "cell_type": "code",
      "source": [
        "###### mapping attack classes to binary case\n",
        "y_train_resampled = y_train_resampled.apply(lambda x: 1 if x==6 else 0)\n",
        "\n",
        "# splitting into train and val\n",
        "X_train, X_val, y_train, y_val, = train_test_split(\n",
        "    X_train_resampled, \n",
        "    y_train_resampled, \n",
        "    test_size=0.25, \n",
        "    random_state=42, \n",
        "    stratify=y_train_resampled)\n",
        "\n",
        "# standardize the data\n",
        "stdsc = StandardScaler()\n",
        "# fit and transform train\n",
        "X_train_std = stdsc.fit_transform(X_train)\n",
        "\n",
        "# only transform test and val\n",
        "X_test_std = stdsc.transform(X_test)\n",
        "X_val_std = stdsc.transform(X_val)\n",
        "\n",
        "# convert to float32\n",
        "X_train_std = np.asarray(X_train_std).astype('float32')\n",
        "X_test_std = np.asarray(X_test_std).astype('float32')\n",
        "X_val_std = np.asarray(X_val_std).astype('float32')\n",
        "\n",
        "# convert to float32 and reshape\n",
        "y_train = np.asarray(y_train).astype('float32').reshape((-1,1))\n",
        "y_val = np.asarray(y_val).astype('float32').reshape((-1,1))\n",
        "y_test = np.asarray(y_test).astype('float32').reshape((-1,1))"
      ],
      "metadata": {
        "id": "ZWlkB_gj-QmS"
      },
      "execution_count": null,
      "outputs": [],
      "id": "ZWlkB_gj-QmS"
    },
    {
      "cell_type": "code",
      "source": [
        "class_weights = {}\n",
        "for val in np.unique(y_train):\n",
        "    rows = y_train[y_train == val].shape[0]\n",
        "    total = y_train.shape[0]\n",
        "    weight = (1 / rows) * (total / 2.0)\n",
        "    \n",
        "    class_weights[val] = weight\n",
        "class_weights "
      ],
      "metadata": {
        "colab": {
          "base_uri": "https://localhost:8080/"
        },
        "outputId": "281b162b-8741-461c-ed53-3bcadaac15f6",
        "id": "C1_1zWvN-QmT"
      },
      "execution_count": null,
      "outputs": [
        {
          "output_type": "execute_result",
          "data": {
            "text/plain": [
              "{0.0: 0.5799596503026228, 1.0: 3.626576955424727}"
            ]
          },
          "metadata": {},
          "execution_count": 111
        }
      ],
      "id": "C1_1zWvN-QmT"
    },
    {
      "cell_type": "code",
      "source": [
        "history6, model6 = create_model(X_train_std, y_train, class_weights)"
      ],
      "metadata": {
        "colab": {
          "base_uri": "https://localhost:8080/"
        },
        "outputId": "5a4af0a2-5649-4dd5-ee91-e36235116645",
        "id": "XG4V6ISR-QmU"
      },
      "execution_count": null,
      "outputs": [
        {
          "output_type": "stream",
          "name": "stdout",
          "text": [
            "Epoch 1/15\n",
            "110/110 [==============================] - 4s 10ms/step - loss: 0.4315 - accuracy: 0.7422 - val_loss: 0.3911 - val_accuracy: 0.7561\n",
            "Epoch 2/15\n",
            "110/110 [==============================] - 1s 7ms/step - loss: 0.3558 - accuracy: 0.7641 - val_loss: 0.3934 - val_accuracy: 0.7616\n",
            "Epoch 3/15\n",
            "110/110 [==============================] - 1s 6ms/step - loss: 0.3413 - accuracy: 0.7682 - val_loss: 0.3761 - val_accuracy: 0.7721\n",
            "Epoch 4/15\n",
            "110/110 [==============================] - 1s 6ms/step - loss: 0.3308 - accuracy: 0.7750 - val_loss: 0.3657 - val_accuracy: 0.7836\n",
            "Epoch 5/15\n",
            "110/110 [==============================] - 1s 8ms/step - loss: 0.3223 - accuracy: 0.7822 - val_loss: 0.3785 - val_accuracy: 0.7819\n",
            "Epoch 6/15\n",
            "110/110 [==============================] - 1s 8ms/step - loss: 0.3160 - accuracy: 0.7861 - val_loss: 0.3489 - val_accuracy: 0.7928\n",
            "Epoch 7/15\n",
            "110/110 [==============================] - 1s 10ms/step - loss: 0.3116 - accuracy: 0.7900 - val_loss: 0.3429 - val_accuracy: 0.7936\n",
            "Epoch 8/15\n",
            "110/110 [==============================] - 1s 9ms/step - loss: 0.3085 - accuracy: 0.7903 - val_loss: 0.3357 - val_accuracy: 0.7940\n",
            "Epoch 9/15\n",
            "110/110 [==============================] - 0s 4ms/step - loss: 0.3056 - accuracy: 0.7916 - val_loss: 0.3461 - val_accuracy: 0.7967\n",
            "Epoch 10/15\n",
            "110/110 [==============================] - 1s 7ms/step - loss: 0.3036 - accuracy: 0.7932 - val_loss: 0.3442 - val_accuracy: 0.7963\n",
            "Epoch 11/15\n",
            "110/110 [==============================] - 1s 10ms/step - loss: 0.3002 - accuracy: 0.7938 - val_loss: 0.3458 - val_accuracy: 0.7987\n",
            "Epoch 12/15\n",
            "110/110 [==============================] - 1s 12ms/step - loss: 0.3006 - accuracy: 0.7942 - val_loss: 0.3288 - val_accuracy: 0.8004\n",
            "Epoch 13/15\n",
            "110/110 [==============================] - 1s 11ms/step - loss: 0.2974 - accuracy: 0.7952 - val_loss: 0.3272 - val_accuracy: 0.7986\n",
            "Epoch 14/15\n",
            "110/110 [==============================] - 1s 10ms/step - loss: 0.2961 - accuracy: 0.7954 - val_loss: 0.3419 - val_accuracy: 0.7961\n",
            "Epoch 15/15\n",
            "110/110 [==============================] - 1s 7ms/step - loss: 0.2963 - accuracy: 0.7943 - val_loss: 0.3349 - val_accuracy: 0.7965\n"
          ]
        }
      ],
      "id": "XG4V6ISR-QmU"
    },
    {
      "cell_type": "code",
      "source": [
        "#generate predictions\n",
        "y_pred6 = model6.predict(X_test_std)\n",
        "all_preds[6] = y_pred6[:,1]\n",
        "all_preds.head()"
      ],
      "metadata": {
        "colab": {
          "base_uri": "https://localhost:8080/",
          "height": 225
        },
        "outputId": "c7bfaa3d-8f56-48b6-f6bc-019df30dceaa",
        "id": "a7ESZ6sc-QmU"
      },
      "execution_count": null,
      "outputs": [
        {
          "output_type": "stream",
          "name": "stdout",
          "text": [
            "11906/11906 [==============================] - 25s 2ms/step\n"
          ]
        },
        {
          "output_type": "execute_result",
          "data": {
            "text/plain": [
              "     0    1             2             3         4             5             6  \\\n",
              "0  0.0  0.0  8.695768e-03  1.977974e-08  0.206227  3.224547e-03  0.000000e+00   \n",
              "1  0.0  0.0  1.348376e-02  1.595309e-03  0.030508  7.674504e-04  1.932565e-07   \n",
              "2  0.0  0.0  1.603530e-07  1.523220e-21  0.000129  0.000000e+00  0.000000e+00   \n",
              "3  0.0  0.0  1.182392e-03  1.213351e-07  0.000079  1.211057e-08  5.054508e-09   \n",
              "4  0.0  0.0  1.321613e-06  1.138505e-14  0.000373  3.562502e-28  0.000000e+00   \n",
              "\n",
              "     7    8    9  \n",
              "0  0.0  0.0  0.0  \n",
              "1  0.0  0.0  0.0  \n",
              "2  0.0  0.0  0.0  \n",
              "3  0.0  0.0  0.0  \n",
              "4  0.0  0.0  0.0  "
            ],
            "text/html": [
              "\n",
              "  <div id=\"df-38041cc4-efae-4177-ac6e-0f3f9e13a8aa\">\n",
              "    <div class=\"colab-df-container\">\n",
              "      <div>\n",
              "<style scoped>\n",
              "    .dataframe tbody tr th:only-of-type {\n",
              "        vertical-align: middle;\n",
              "    }\n",
              "\n",
              "    .dataframe tbody tr th {\n",
              "        vertical-align: top;\n",
              "    }\n",
              "\n",
              "    .dataframe thead th {\n",
              "        text-align: right;\n",
              "    }\n",
              "</style>\n",
              "<table border=\"1\" class=\"dataframe\">\n",
              "  <thead>\n",
              "    <tr style=\"text-align: right;\">\n",
              "      <th></th>\n",
              "      <th>0</th>\n",
              "      <th>1</th>\n",
              "      <th>2</th>\n",
              "      <th>3</th>\n",
              "      <th>4</th>\n",
              "      <th>5</th>\n",
              "      <th>6</th>\n",
              "      <th>7</th>\n",
              "      <th>8</th>\n",
              "      <th>9</th>\n",
              "    </tr>\n",
              "  </thead>\n",
              "  <tbody>\n",
              "    <tr>\n",
              "      <th>0</th>\n",
              "      <td>0.0</td>\n",
              "      <td>0.0</td>\n",
              "      <td>8.695768e-03</td>\n",
              "      <td>1.977974e-08</td>\n",
              "      <td>0.206227</td>\n",
              "      <td>3.224547e-03</td>\n",
              "      <td>0.000000e+00</td>\n",
              "      <td>0.0</td>\n",
              "      <td>0.0</td>\n",
              "      <td>0.0</td>\n",
              "    </tr>\n",
              "    <tr>\n",
              "      <th>1</th>\n",
              "      <td>0.0</td>\n",
              "      <td>0.0</td>\n",
              "      <td>1.348376e-02</td>\n",
              "      <td>1.595309e-03</td>\n",
              "      <td>0.030508</td>\n",
              "      <td>7.674504e-04</td>\n",
              "      <td>1.932565e-07</td>\n",
              "      <td>0.0</td>\n",
              "      <td>0.0</td>\n",
              "      <td>0.0</td>\n",
              "    </tr>\n",
              "    <tr>\n",
              "      <th>2</th>\n",
              "      <td>0.0</td>\n",
              "      <td>0.0</td>\n",
              "      <td>1.603530e-07</td>\n",
              "      <td>1.523220e-21</td>\n",
              "      <td>0.000129</td>\n",
              "      <td>0.000000e+00</td>\n",
              "      <td>0.000000e+00</td>\n",
              "      <td>0.0</td>\n",
              "      <td>0.0</td>\n",
              "      <td>0.0</td>\n",
              "    </tr>\n",
              "    <tr>\n",
              "      <th>3</th>\n",
              "      <td>0.0</td>\n",
              "      <td>0.0</td>\n",
              "      <td>1.182392e-03</td>\n",
              "      <td>1.213351e-07</td>\n",
              "      <td>0.000079</td>\n",
              "      <td>1.211057e-08</td>\n",
              "      <td>5.054508e-09</td>\n",
              "      <td>0.0</td>\n",
              "      <td>0.0</td>\n",
              "      <td>0.0</td>\n",
              "    </tr>\n",
              "    <tr>\n",
              "      <th>4</th>\n",
              "      <td>0.0</td>\n",
              "      <td>0.0</td>\n",
              "      <td>1.321613e-06</td>\n",
              "      <td>1.138505e-14</td>\n",
              "      <td>0.000373</td>\n",
              "      <td>3.562502e-28</td>\n",
              "      <td>0.000000e+00</td>\n",
              "      <td>0.0</td>\n",
              "      <td>0.0</td>\n",
              "      <td>0.0</td>\n",
              "    </tr>\n",
              "  </tbody>\n",
              "</table>\n",
              "</div>\n",
              "      <button class=\"colab-df-convert\" onclick=\"convertToInteractive('df-38041cc4-efae-4177-ac6e-0f3f9e13a8aa')\"\n",
              "              title=\"Convert this dataframe to an interactive table.\"\n",
              "              style=\"display:none;\">\n",
              "        \n",
              "  <svg xmlns=\"http://www.w3.org/2000/svg\" height=\"24px\"viewBox=\"0 0 24 24\"\n",
              "       width=\"24px\">\n",
              "    <path d=\"M0 0h24v24H0V0z\" fill=\"none\"/>\n",
              "    <path d=\"M18.56 5.44l.94 2.06.94-2.06 2.06-.94-2.06-.94-.94-2.06-.94 2.06-2.06.94zm-11 1L8.5 8.5l.94-2.06 2.06-.94-2.06-.94L8.5 2.5l-.94 2.06-2.06.94zm10 10l.94 2.06.94-2.06 2.06-.94-2.06-.94-.94-2.06-.94 2.06-2.06.94z\"/><path d=\"M17.41 7.96l-1.37-1.37c-.4-.4-.92-.59-1.43-.59-.52 0-1.04.2-1.43.59L10.3 9.45l-7.72 7.72c-.78.78-.78 2.05 0 2.83L4 21.41c.39.39.9.59 1.41.59.51 0 1.02-.2 1.41-.59l7.78-7.78 2.81-2.81c.8-.78.8-2.07 0-2.86zM5.41 20L4 18.59l7.72-7.72 1.47 1.35L5.41 20z\"/>\n",
              "  </svg>\n",
              "      </button>\n",
              "      \n",
              "  <style>\n",
              "    .colab-df-container {\n",
              "      display:flex;\n",
              "      flex-wrap:wrap;\n",
              "      gap: 12px;\n",
              "    }\n",
              "\n",
              "    .colab-df-convert {\n",
              "      background-color: #E8F0FE;\n",
              "      border: none;\n",
              "      border-radius: 50%;\n",
              "      cursor: pointer;\n",
              "      display: none;\n",
              "      fill: #1967D2;\n",
              "      height: 32px;\n",
              "      padding: 0 0 0 0;\n",
              "      width: 32px;\n",
              "    }\n",
              "\n",
              "    .colab-df-convert:hover {\n",
              "      background-color: #E2EBFA;\n",
              "      box-shadow: 0px 1px 2px rgba(60, 64, 67, 0.3), 0px 1px 3px 1px rgba(60, 64, 67, 0.15);\n",
              "      fill: #174EA6;\n",
              "    }\n",
              "\n",
              "    [theme=dark] .colab-df-convert {\n",
              "      background-color: #3B4455;\n",
              "      fill: #D2E3FC;\n",
              "    }\n",
              "\n",
              "    [theme=dark] .colab-df-convert:hover {\n",
              "      background-color: #434B5C;\n",
              "      box-shadow: 0px 1px 3px 1px rgba(0, 0, 0, 0.15);\n",
              "      filter: drop-shadow(0px 1px 2px rgba(0, 0, 0, 0.3));\n",
              "      fill: #FFFFFF;\n",
              "    }\n",
              "  </style>\n",
              "\n",
              "      <script>\n",
              "        const buttonEl =\n",
              "          document.querySelector('#df-38041cc4-efae-4177-ac6e-0f3f9e13a8aa button.colab-df-convert');\n",
              "        buttonEl.style.display =\n",
              "          google.colab.kernel.accessAllowed ? 'block' : 'none';\n",
              "\n",
              "        async function convertToInteractive(key) {\n",
              "          const element = document.querySelector('#df-38041cc4-efae-4177-ac6e-0f3f9e13a8aa');\n",
              "          const dataTable =\n",
              "            await google.colab.kernel.invokeFunction('convertToInteractive',\n",
              "                                                     [key], {});\n",
              "          if (!dataTable) return;\n",
              "\n",
              "          const docLinkHtml = 'Like what you see? Visit the ' +\n",
              "            '<a target=\"_blank\" href=https://colab.research.google.com/notebooks/data_table.ipynb>data table notebook</a>'\n",
              "            + ' to learn more about interactive tables.';\n",
              "          element.innerHTML = '';\n",
              "          dataTable['output_type'] = 'display_data';\n",
              "          await google.colab.output.renderOutput(dataTable, element);\n",
              "          const docLink = document.createElement('div');\n",
              "          docLink.innerHTML = docLinkHtml;\n",
              "          element.appendChild(docLink);\n",
              "        }\n",
              "      </script>\n",
              "    </div>\n",
              "  </div>\n",
              "  "
            ]
          },
          "metadata": {},
          "execution_count": 113
        }
      ],
      "id": "a7ESZ6sc-QmU"
    },
    {
      "cell_type": "markdown",
      "source": [
        "#### Class 7"
      ],
      "metadata": {
        "id": "_uCuNdKsAvR5"
      },
      "id": "_uCuNdKsAvR5"
    },
    {
      "cell_type": "code",
      "source": [
        "# create X and y dataframes\n",
        "X_train = train.drop('attack_cat_code', axis=1)\n",
        "y_train = train['attack_cat_code']\n",
        "\n",
        "X_test = test.drop('attack_cat_code', axis=1)\n",
        "y_test = test['attack_cat_code']\n",
        "\n",
        "######### resampling\n",
        "# get count of unique labels in the training fold\n",
        "unique, counts = np.unique(train.attack_cat_code, return_counts=True)\n",
        "counts = dict(zip(unique, counts))\n",
        "print(f'Original counts:\\n{counts}') # {0: 29600, 1: 15097, 2: 8905, 3: 4850, 4: 3271, 5: 2797, 6: 542, 7: 467, 8: 302, 9: 35}\n",
        "\n",
        "# GET INITIAL LABEL COUNT\n",
        "# get the count for the second largest label of #1 \n",
        "# this will be the target ratio for upsamling the resto of the labels\n",
        "zero = counts[0] \n",
        "one = counts[1]\n",
        "two = counts[2]\n",
        "target_ratio = {0: counts[3],\n",
        "              1: counts[3],\n",
        "              2: counts[2],\n",
        "              3: counts[3],\n",
        "              4: counts[4],\n",
        "              5: counts[5],\n",
        "              6: counts[6],\n",
        "              7: counts[7], \n",
        "              8: counts[8],\n",
        "              9: counts[9] }\n",
        "\n",
        "\n",
        "# UNDERSAMPLE the majority class to match the rest of the labels\n",
        "rus = RandomUnderSampler(sampling_strategy = target_ratio,\n",
        "                        replacement = False)\n",
        "\n",
        "X_train_resampled, y_train_resampled = rus.fit_resample(X_train, y_train)\n",
        "\n",
        "y_train_resampled.value_counts()"
      ],
      "metadata": {
        "colab": {
          "base_uri": "https://localhost:8080/"
        },
        "outputId": "0bae6c00-8e25-4dc4-e96c-8ac6d89c3ee0",
        "id": "wUo8a015AvR6"
      },
      "execution_count": null,
      "outputs": [
        {
          "output_type": "stream",
          "name": "stdout",
          "text": [
            "Original counts:\n",
            "{0: 1885684, 1: 183159, 2: 37846, 3: 20609, 4: 13900, 5: 11889, 6: 2275, 7: 1980, 8: 1284, 9: 148}\n"
          ]
        },
        {
          "output_type": "execute_result",
          "data": {
            "text/plain": [
              "2    37846\n",
              "0    20609\n",
              "1    20609\n",
              "3    20609\n",
              "4    13900\n",
              "5    11889\n",
              "6     2275\n",
              "7     1980\n",
              "8     1284\n",
              "9      148\n",
              "Name: attack_cat_code, dtype: int64"
            ]
          },
          "metadata": {},
          "execution_count": 117
        }
      ],
      "id": "wUo8a015AvR6"
    },
    {
      "cell_type": "code",
      "source": [
        "# # get count of unique labels in the training fold\n",
        "# unique, counts = np.unique(y_train_resampled, return_counts=True)\n",
        "# counts = dict(zip(unique, counts))\n",
        "# print(f'Original counts:\\n{counts}') # {0: 29600, 1: 15097, 2: 8905, 3: 4850, 4: 3271, 5: 2797, 6: 542, 7: 467, 8: 302, 9: 35}"
      ],
      "metadata": {
        "outputId": "d13a3605-3287-48eb-dd97-f4b515cc835b",
        "colab": {
          "base_uri": "https://localhost:8080/"
        },
        "id": "PdQS-sAGAvR7"
      },
      "execution_count": null,
      "outputs": [
        {
          "output_type": "stream",
          "name": "stdout",
          "text": [
            "Original counts:\n",
            "{0: 20609, 1: 20609, 2: 37846, 3: 20609, 4: 13900, 5: 11889, 6: 2275, 7: 1980, 8: 1284, 9: 148}\n"
          ]
        }
      ],
      "id": "PdQS-sAGAvR7"
    },
    {
      "cell_type": "code",
      "source": [
        "######### resampling\n",
        "\n",
        "# get count of unique labels in the training fold\n",
        "unique, counts = np.unique(y_train_resampled, return_counts=True)\n",
        "counts = dict(zip(unique, counts))\n",
        "# print(f'Original counts:\\n{counts}')\n",
        "\n",
        "target_ratio2 =  {0: counts[0],\n",
        "              1: counts[1],\n",
        "              2: counts[2],\n",
        "              3: counts[3],\n",
        "              4: counts[4], \n",
        "              5: counts[5], \n",
        "              6: counts[6], \n",
        "              7: counts[1], # <<<<<<<<<<<<\n",
        "              8: counts[8],\n",
        "              9: counts[9] }\n",
        "\n",
        "# create SMOTE object\n",
        "sm = SMOTE(sampling_strategy = target_ratio2)\n",
        "\n",
        "# APPLY SMOTE on the train folds\n",
        "X_train_resampled, y_train_resampled = sm.fit_resample(X_train_resampled,\n",
        "                                                       y_train_resampled)\n",
        "y_train_resampled.value_counts()"
      ],
      "metadata": {
        "outputId": "ebd0a394-6f23-4d1a-da35-bc27bdfc6daf",
        "colab": {
          "base_uri": "https://localhost:8080/"
        },
        "id": "51S3oF5uAvR8"
      },
      "execution_count": null,
      "outputs": [
        {
          "output_type": "execute_result",
          "data": {
            "text/plain": [
              "2    37846\n",
              "0    20609\n",
              "1    20609\n",
              "3    20609\n",
              "7    20609\n",
              "4    13900\n",
              "5    11889\n",
              "6     2275\n",
              "8     1284\n",
              "9      148\n",
              "Name: attack_cat_code, dtype: int64"
            ]
          },
          "metadata": {},
          "execution_count": 118
        }
      ],
      "id": "51S3oF5uAvR8"
    },
    {
      "cell_type": "code",
      "source": [
        "###### mapping attack classes to binary case\n",
        "y_train_resampled = y_train_resampled.apply(lambda x: 1 if x==7 else 0)\n",
        "\n",
        "# splitting into train and val\n",
        "X_train, X_val, y_train, y_val, = train_test_split(\n",
        "    X_train_resampled, \n",
        "    y_train_resampled, \n",
        "    test_size=0.25, \n",
        "    random_state=42, \n",
        "    stratify=y_train_resampled)\n",
        "\n",
        "# standardize the data\n",
        "stdsc = StandardScaler()\n",
        "# fit and transform train\n",
        "X_train_std = stdsc.fit_transform(X_train)\n",
        "\n",
        "# only transform test and val\n",
        "X_test_std = stdsc.transform(X_test)\n",
        "X_val_std = stdsc.transform(X_val)\n",
        "\n",
        "# convert to float32\n",
        "X_train_std = np.asarray(X_train_std).astype('float32')\n",
        "X_test_std = np.asarray(X_test_std).astype('float32')\n",
        "X_val_std = np.asarray(X_val_std).astype('float32')\n",
        "\n",
        "# convert to float32 and reshape\n",
        "y_train = np.asarray(y_train).astype('float32').reshape((-1,1))\n",
        "y_val = np.asarray(y_val).astype('float32').reshape((-1,1))\n",
        "y_test = np.asarray(y_test).astype('float32').reshape((-1,1))"
      ],
      "metadata": {
        "id": "PHmALeq3AvR-"
      },
      "execution_count": null,
      "outputs": [],
      "id": "PHmALeq3AvR-"
    },
    {
      "cell_type": "code",
      "source": [
        "class_weights = {}\n",
        "for val in np.unique(y_train):\n",
        "    rows = y_train[y_train == val].shape[0]\n",
        "    total = y_train.shape[0]\n",
        "    weight = (1 / rows) * (total / 2.0)\n",
        "    \n",
        "    class_weights[val] = weight\n",
        "class_weights "
      ],
      "metadata": {
        "colab": {
          "base_uri": "https://localhost:8080/"
        },
        "outputId": "858b55a5-af1e-4abb-c0eb-671db836668d",
        "id": "cR9MPbr-AvR-"
      },
      "execution_count": null,
      "outputs": [
        {
          "output_type": "execute_result",
          "data": {
            "text/plain": [
              "{0.0: 0.579777241009125, 1.0: 3.633725820016821}"
            ]
          },
          "metadata": {},
          "execution_count": 120
        }
      ],
      "id": "cR9MPbr-AvR-"
    },
    {
      "cell_type": "code",
      "source": [
        "history7, model7 = create_model(X_train_std, y_train, class_weights)"
      ],
      "metadata": {
        "colab": {
          "base_uri": "https://localhost:8080/"
        },
        "outputId": "3870db87-57a1-4a46-eb83-82163d6e1017",
        "id": "THUpk163AvR_"
      },
      "execution_count": null,
      "outputs": [
        {
          "output_type": "stream",
          "name": "stdout",
          "text": [
            "Epoch 1/15\n",
            "110/110 [==============================] - 3s 8ms/step - loss: 0.4700 - accuracy: 0.7275 - val_loss: 0.4379 - val_accuracy: 0.7531\n",
            "Epoch 2/15\n",
            "110/110 [==============================] - 1s 8ms/step - loss: 0.4129 - accuracy: 0.7467 - val_loss: 0.4287 - val_accuracy: 0.7547\n",
            "Epoch 3/15\n",
            "110/110 [==============================] - 1s 9ms/step - loss: 0.3952 - accuracy: 0.7511 - val_loss: 0.4166 - val_accuracy: 0.7561\n",
            "Epoch 4/15\n",
            "110/110 [==============================] - 1s 9ms/step - loss: 0.3844 - accuracy: 0.7540 - val_loss: 0.4069 - val_accuracy: 0.7597\n",
            "Epoch 5/15\n",
            "110/110 [==============================] - 1s 11ms/step - loss: 0.3780 - accuracy: 0.7563 - val_loss: 0.3967 - val_accuracy: 0.7605\n",
            "Epoch 6/15\n",
            "110/110 [==============================] - 1s 11ms/step - loss: 0.3725 - accuracy: 0.7585 - val_loss: 0.4135 - val_accuracy: 0.7610\n",
            "Epoch 7/15\n",
            "110/110 [==============================] - 1s 11ms/step - loss: 0.3675 - accuracy: 0.7604 - val_loss: 0.4012 - val_accuracy: 0.7632\n",
            "Epoch 8/15\n",
            "110/110 [==============================] - 1s 12ms/step - loss: 0.3619 - accuracy: 0.7636 - val_loss: 0.3942 - val_accuracy: 0.7644\n",
            "Epoch 9/15\n",
            "110/110 [==============================] - 1s 9ms/step - loss: 0.3589 - accuracy: 0.7657 - val_loss: 0.3893 - val_accuracy: 0.7684\n",
            "Epoch 10/15\n",
            "110/110 [==============================] - 1s 11ms/step - loss: 0.3535 - accuracy: 0.7685 - val_loss: 0.3766 - val_accuracy: 0.7741\n",
            "Epoch 11/15\n",
            "110/110 [==============================] - 1s 8ms/step - loss: 0.3516 - accuracy: 0.7704 - val_loss: 0.3853 - val_accuracy: 0.7732\n",
            "Epoch 12/15\n",
            "110/110 [==============================] - 1s 7ms/step - loss: 0.3485 - accuracy: 0.7717 - val_loss: 0.3825 - val_accuracy: 0.7755\n",
            "Epoch 13/15\n",
            "110/110 [==============================] - 1s 7ms/step - loss: 0.3456 - accuracy: 0.7741 - val_loss: 0.3731 - val_accuracy: 0.7769\n",
            "Epoch 14/15\n",
            "110/110 [==============================] - 1s 7ms/step - loss: 0.3426 - accuracy: 0.7756 - val_loss: 0.3806 - val_accuracy: 0.7770\n",
            "Epoch 15/15\n",
            "110/110 [==============================] - 1s 6ms/step - loss: 0.3422 - accuracy: 0.7763 - val_loss: 0.4095 - val_accuracy: 0.7730\n"
          ]
        }
      ],
      "id": "THUpk163AvR_"
    },
    {
      "cell_type": "code",
      "source": [
        "#generate predictions\n",
        "y_pred7 = model7.predict(X_test_std)\n",
        "all_preds[7] = y_pred7[:,1]\n",
        "all_preds.head()"
      ],
      "metadata": {
        "colab": {
          "base_uri": "https://localhost:8080/",
          "height": 225
        },
        "outputId": "d6877633-0115-4ede-d582-378da674df98",
        "id": "iuWztfg4AvR_"
      },
      "execution_count": null,
      "outputs": [
        {
          "output_type": "stream",
          "name": "stdout",
          "text": [
            "11906/11906 [==============================] - 25s 2ms/step\n"
          ]
        },
        {
          "output_type": "execute_result",
          "data": {
            "text/plain": [
              "     0    1             2             3         4             5             6  \\\n",
              "0  0.0  0.0  8.695768e-03  1.977974e-08  0.206227  3.224547e-03  0.000000e+00   \n",
              "1  0.0  0.0  1.348376e-02  1.595309e-03  0.030508  7.674504e-04  1.932565e-07   \n",
              "2  0.0  0.0  1.603530e-07  1.523220e-21  0.000129  0.000000e+00  0.000000e+00   \n",
              "3  0.0  0.0  1.182392e-03  1.213351e-07  0.000079  1.211057e-08  5.054508e-09   \n",
              "4  0.0  0.0  1.321613e-06  1.138505e-14  0.000373  3.562502e-28  0.000000e+00   \n",
              "\n",
              "              7    8    9  \n",
              "0  0.000000e+00  0.0  0.0  \n",
              "1  6.958081e-06  0.0  0.0  \n",
              "2  2.561504e-13  0.0  0.0  \n",
              "3  1.298711e-14  0.0  0.0  \n",
              "4  9.149493e-13  0.0  0.0  "
            ],
            "text/html": [
              "\n",
              "  <div id=\"df-82e30f9b-9b94-424c-ad21-816d1bbf4517\">\n",
              "    <div class=\"colab-df-container\">\n",
              "      <div>\n",
              "<style scoped>\n",
              "    .dataframe tbody tr th:only-of-type {\n",
              "        vertical-align: middle;\n",
              "    }\n",
              "\n",
              "    .dataframe tbody tr th {\n",
              "        vertical-align: top;\n",
              "    }\n",
              "\n",
              "    .dataframe thead th {\n",
              "        text-align: right;\n",
              "    }\n",
              "</style>\n",
              "<table border=\"1\" class=\"dataframe\">\n",
              "  <thead>\n",
              "    <tr style=\"text-align: right;\">\n",
              "      <th></th>\n",
              "      <th>0</th>\n",
              "      <th>1</th>\n",
              "      <th>2</th>\n",
              "      <th>3</th>\n",
              "      <th>4</th>\n",
              "      <th>5</th>\n",
              "      <th>6</th>\n",
              "      <th>7</th>\n",
              "      <th>8</th>\n",
              "      <th>9</th>\n",
              "    </tr>\n",
              "  </thead>\n",
              "  <tbody>\n",
              "    <tr>\n",
              "      <th>0</th>\n",
              "      <td>0.0</td>\n",
              "      <td>0.0</td>\n",
              "      <td>8.695768e-03</td>\n",
              "      <td>1.977974e-08</td>\n",
              "      <td>0.206227</td>\n",
              "      <td>3.224547e-03</td>\n",
              "      <td>0.000000e+00</td>\n",
              "      <td>0.000000e+00</td>\n",
              "      <td>0.0</td>\n",
              "      <td>0.0</td>\n",
              "    </tr>\n",
              "    <tr>\n",
              "      <th>1</th>\n",
              "      <td>0.0</td>\n",
              "      <td>0.0</td>\n",
              "      <td>1.348376e-02</td>\n",
              "      <td>1.595309e-03</td>\n",
              "      <td>0.030508</td>\n",
              "      <td>7.674504e-04</td>\n",
              "      <td>1.932565e-07</td>\n",
              "      <td>6.958081e-06</td>\n",
              "      <td>0.0</td>\n",
              "      <td>0.0</td>\n",
              "    </tr>\n",
              "    <tr>\n",
              "      <th>2</th>\n",
              "      <td>0.0</td>\n",
              "      <td>0.0</td>\n",
              "      <td>1.603530e-07</td>\n",
              "      <td>1.523220e-21</td>\n",
              "      <td>0.000129</td>\n",
              "      <td>0.000000e+00</td>\n",
              "      <td>0.000000e+00</td>\n",
              "      <td>2.561504e-13</td>\n",
              "      <td>0.0</td>\n",
              "      <td>0.0</td>\n",
              "    </tr>\n",
              "    <tr>\n",
              "      <th>3</th>\n",
              "      <td>0.0</td>\n",
              "      <td>0.0</td>\n",
              "      <td>1.182392e-03</td>\n",
              "      <td>1.213351e-07</td>\n",
              "      <td>0.000079</td>\n",
              "      <td>1.211057e-08</td>\n",
              "      <td>5.054508e-09</td>\n",
              "      <td>1.298711e-14</td>\n",
              "      <td>0.0</td>\n",
              "      <td>0.0</td>\n",
              "    </tr>\n",
              "    <tr>\n",
              "      <th>4</th>\n",
              "      <td>0.0</td>\n",
              "      <td>0.0</td>\n",
              "      <td>1.321613e-06</td>\n",
              "      <td>1.138505e-14</td>\n",
              "      <td>0.000373</td>\n",
              "      <td>3.562502e-28</td>\n",
              "      <td>0.000000e+00</td>\n",
              "      <td>9.149493e-13</td>\n",
              "      <td>0.0</td>\n",
              "      <td>0.0</td>\n",
              "    </tr>\n",
              "  </tbody>\n",
              "</table>\n",
              "</div>\n",
              "      <button class=\"colab-df-convert\" onclick=\"convertToInteractive('df-82e30f9b-9b94-424c-ad21-816d1bbf4517')\"\n",
              "              title=\"Convert this dataframe to an interactive table.\"\n",
              "              style=\"display:none;\">\n",
              "        \n",
              "  <svg xmlns=\"http://www.w3.org/2000/svg\" height=\"24px\"viewBox=\"0 0 24 24\"\n",
              "       width=\"24px\">\n",
              "    <path d=\"M0 0h24v24H0V0z\" fill=\"none\"/>\n",
              "    <path d=\"M18.56 5.44l.94 2.06.94-2.06 2.06-.94-2.06-.94-.94-2.06-.94 2.06-2.06.94zm-11 1L8.5 8.5l.94-2.06 2.06-.94-2.06-.94L8.5 2.5l-.94 2.06-2.06.94zm10 10l.94 2.06.94-2.06 2.06-.94-2.06-.94-.94-2.06-.94 2.06-2.06.94z\"/><path d=\"M17.41 7.96l-1.37-1.37c-.4-.4-.92-.59-1.43-.59-.52 0-1.04.2-1.43.59L10.3 9.45l-7.72 7.72c-.78.78-.78 2.05 0 2.83L4 21.41c.39.39.9.59 1.41.59.51 0 1.02-.2 1.41-.59l7.78-7.78 2.81-2.81c.8-.78.8-2.07 0-2.86zM5.41 20L4 18.59l7.72-7.72 1.47 1.35L5.41 20z\"/>\n",
              "  </svg>\n",
              "      </button>\n",
              "      \n",
              "  <style>\n",
              "    .colab-df-container {\n",
              "      display:flex;\n",
              "      flex-wrap:wrap;\n",
              "      gap: 12px;\n",
              "    }\n",
              "\n",
              "    .colab-df-convert {\n",
              "      background-color: #E8F0FE;\n",
              "      border: none;\n",
              "      border-radius: 50%;\n",
              "      cursor: pointer;\n",
              "      display: none;\n",
              "      fill: #1967D2;\n",
              "      height: 32px;\n",
              "      padding: 0 0 0 0;\n",
              "      width: 32px;\n",
              "    }\n",
              "\n",
              "    .colab-df-convert:hover {\n",
              "      background-color: #E2EBFA;\n",
              "      box-shadow: 0px 1px 2px rgba(60, 64, 67, 0.3), 0px 1px 3px 1px rgba(60, 64, 67, 0.15);\n",
              "      fill: #174EA6;\n",
              "    }\n",
              "\n",
              "    [theme=dark] .colab-df-convert {\n",
              "      background-color: #3B4455;\n",
              "      fill: #D2E3FC;\n",
              "    }\n",
              "\n",
              "    [theme=dark] .colab-df-convert:hover {\n",
              "      background-color: #434B5C;\n",
              "      box-shadow: 0px 1px 3px 1px rgba(0, 0, 0, 0.15);\n",
              "      filter: drop-shadow(0px 1px 2px rgba(0, 0, 0, 0.3));\n",
              "      fill: #FFFFFF;\n",
              "    }\n",
              "  </style>\n",
              "\n",
              "      <script>\n",
              "        const buttonEl =\n",
              "          document.querySelector('#df-82e30f9b-9b94-424c-ad21-816d1bbf4517 button.colab-df-convert');\n",
              "        buttonEl.style.display =\n",
              "          google.colab.kernel.accessAllowed ? 'block' : 'none';\n",
              "\n",
              "        async function convertToInteractive(key) {\n",
              "          const element = document.querySelector('#df-82e30f9b-9b94-424c-ad21-816d1bbf4517');\n",
              "          const dataTable =\n",
              "            await google.colab.kernel.invokeFunction('convertToInteractive',\n",
              "                                                     [key], {});\n",
              "          if (!dataTable) return;\n",
              "\n",
              "          const docLinkHtml = 'Like what you see? Visit the ' +\n",
              "            '<a target=\"_blank\" href=https://colab.research.google.com/notebooks/data_table.ipynb>data table notebook</a>'\n",
              "            + ' to learn more about interactive tables.';\n",
              "          element.innerHTML = '';\n",
              "          dataTable['output_type'] = 'display_data';\n",
              "          await google.colab.output.renderOutput(dataTable, element);\n",
              "          const docLink = document.createElement('div');\n",
              "          docLink.innerHTML = docLinkHtml;\n",
              "          element.appendChild(docLink);\n",
              "        }\n",
              "      </script>\n",
              "    </div>\n",
              "  </div>\n",
              "  "
            ]
          },
          "metadata": {},
          "execution_count": 122
        }
      ],
      "id": "iuWztfg4AvR_"
    },
    {
      "cell_type": "code",
      "source": [
        "plot_training(history7)"
      ],
      "metadata": {
        "outputId": "e8c99d65-32d1-4e89-a402-7a9afa64d1fa",
        "colab": {
          "base_uri": "https://localhost:8080/",
          "height": 645
        },
        "id": "mGIb-7nwAvSA"
      },
      "execution_count": null,
      "outputs": [
        {
          "output_type": "stream",
          "name": "stderr",
          "text": [
            "<ipython-input-115-3d2be021db2a>:12: MatplotlibDeprecationWarning: Auto-removal of overlapping axes is deprecated since 3.6 and will be removed two minor releases later; explicitly call ax.remove() as needed.\n",
            "  plt.subplot(2, 2, 1)\n"
          ]
        },
        {
          "output_type": "display_data",
          "data": {
            "text/plain": [
              "<Figure size 1200x600 with 4 Axes>"
            ],
            "image/png": "[encoded data removed]"
          },
          "metadata": {}
        }
      ],
      "id": "mGIb-7nwAvSA"
    },
    {
      "cell_type": "markdown",
      "source": [
        "#### Class 8"
      ],
      "metadata": {
        "id": "VfvjifLYBLOh"
      },
      "id": "VfvjifLYBLOh"
    },
    {
      "cell_type": "code",
      "source": [
        "# create X and y dataframes\n",
        "X_train = train.drop('attack_cat_code', axis=1)\n",
        "y_train = train['attack_cat_code']\n",
        "\n",
        "X_test = test.drop('attack_cat_code', axis=1)\n",
        "y_test = test['attack_cat_code']\n",
        "\n",
        "######### resampling\n",
        "# get count of unique labels in the training fold\n",
        "unique, counts = np.unique(train.attack_cat_code, return_counts=True)\n",
        "counts = dict(zip(unique, counts))\n",
        "print(f'Original counts:\\n{counts}') # {0: 29600, 1: 15097, 2: 8905, 3: 4850, 4: 3271, 5: 2797, 6: 542, 7: 467, 8: 302, 9: 35}\n",
        "\n",
        "# GET INITIAL LABEL COUNT\n",
        "# get the count for the second largest label of #1 \n",
        "# this will be the target ratio for upsamling the resto of the labels\n",
        "zero = counts[0] \n",
        "one = counts[1]\n",
        "two = counts[2]\n",
        "target_ratio = {0: counts[3],\n",
        "              1: counts[3],\n",
        "              2: counts[2],\n",
        "              3: counts[3],\n",
        "              4: counts[4],\n",
        "              5: counts[5],\n",
        "              6: counts[6],\n",
        "              7: counts[7], \n",
        "              8: counts[8],\n",
        "              9: counts[9] }\n",
        "\n",
        "\n",
        "# UNDERSAMPLE the majority class to match the rest of the labels\n",
        "rus = RandomUnderSampler(sampling_strategy = target_ratio,\n",
        "                        replacement = False)\n",
        "\n",
        "X_train_resampled, y_train_resampled = rus.fit_resample(X_train, y_train)\n",
        "\n",
        "y_train_resampled.value_counts()"
      ],
      "metadata": {
        "colab": {
          "base_uri": "https://localhost:8080/"
        },
        "outputId": "fc0864b9-4839-4ac8-ec27-2c60adeefa84",
        "id": "uPiqRFvrBLOi"
      },
      "execution_count": null,
      "outputs": [
        {
          "output_type": "stream",
          "name": "stdout",
          "text": [
            "Original counts:\n",
            "{0: 1885684, 1: 183159, 2: 37846, 3: 20609, 4: 13900, 5: 11889, 6: 2275, 7: 1980, 8: 1284, 9: 148}\n"
          ]
        },
        {
          "output_type": "execute_result",
          "data": {
            "text/plain": [
              "2    37846\n",
              "0    20609\n",
              "1    20609\n",
              "3    20609\n",
              "4    13900\n",
              "5    11889\n",
              "6     2275\n",
              "7     1980\n",
              "8     1284\n",
              "9      148\n",
              "Name: attack_cat_code, dtype: int64"
            ]
          },
          "metadata": {},
          "execution_count": 124
        }
      ],
      "id": "uPiqRFvrBLOi"
    },
    {
      "cell_type": "code",
      "source": [
        "# # get count of unique labels in the training fold\n",
        "# unique, counts = np.unique(y_train_resampled, return_counts=True)\n",
        "# counts = dict(zip(unique, counts))\n",
        "# print(f'Original counts:\\n{counts}') # {0: 29600, 1: 15097, 2: 8905, 3: 4850, 4: 3271, 5: 2797, 6: 542, 7: 467, 8: 302, 9: 35}"
      ],
      "metadata": {
        "outputId": "d13a3605-3287-48eb-dd97-f4b515cc835b",
        "colab": {
          "base_uri": "https://localhost:8080/"
        },
        "id": "O2neUg9FBLOj"
      },
      "execution_count": null,
      "outputs": [
        {
          "output_type": "stream",
          "name": "stdout",
          "text": [
            "Original counts:\n",
            "{0: 20609, 1: 20609, 2: 37846, 3: 20609, 4: 13900, 5: 11889, 6: 2275, 7: 1980, 8: 1284, 9: 148}\n"
          ]
        }
      ],
      "id": "O2neUg9FBLOj"
    },
    {
      "cell_type": "code",
      "source": [
        "######### resampling\n",
        "\n",
        "# get count of unique labels in the training fold\n",
        "unique, counts = np.unique(y_train_resampled, return_counts=True)\n",
        "counts = dict(zip(unique, counts))\n",
        "# print(f'Original counts:\\n{counts}')\n",
        "\n",
        "target_ratio2 =  {0: counts[0],\n",
        "              1: counts[1],\n",
        "              2: counts[2],\n",
        "              3: counts[3],\n",
        "              4: counts[4], \n",
        "              5: counts[5], \n",
        "              6: counts[6], \n",
        "              7: counts[7], \n",
        "              8: counts[1], # <<<<<<<<<<<<\n",
        "              9: counts[9] }\n",
        "\n",
        "# create SMOTE object\n",
        "sm = SMOTE(sampling_strategy = target_ratio2)\n",
        "\n",
        "# APPLY SMOTE on the train folds\n",
        "X_train_resampled, y_train_resampled = sm.fit_resample(X_train_resampled,\n",
        "                                                       y_train_resampled)\n",
        "y_train_resampled.value_counts()"
      ],
      "metadata": {
        "outputId": "eba8abc7-b613-4a5c-9452-a43b33e5b8f1",
        "colab": {
          "base_uri": "https://localhost:8080/"
        },
        "id": "t93iPWJgBLOk"
      },
      "execution_count": null,
      "outputs": [
        {
          "output_type": "execute_result",
          "data": {
            "text/plain": [
              "2    37846\n",
              "0    20609\n",
              "1    20609\n",
              "3    20609\n",
              "8    20609\n",
              "4    13900\n",
              "5    11889\n",
              "6     2275\n",
              "7     1980\n",
              "9      148\n",
              "Name: attack_cat_code, dtype: int64"
            ]
          },
          "metadata": {},
          "execution_count": 125
        }
      ],
      "id": "t93iPWJgBLOk"
    },
    {
      "cell_type": "code",
      "source": [
        "###### mapping attack classes to binary case\n",
        "y_train_resampled = y_train_resampled.apply(lambda x: 1 if x==8 else 0)\n",
        "\n",
        "# splitting into train and val\n",
        "X_train, X_val, y_train, y_val, = train_test_split(\n",
        "    X_train_resampled, \n",
        "    y_train_resampled, \n",
        "    test_size=0.25, \n",
        "    random_state=42, \n",
        "    stratify=y_train_resampled)\n",
        "\n",
        "# standardize the data\n",
        "stdsc = StandardScaler()\n",
        "# fit and transform train\n",
        "X_train_std = stdsc.fit_transform(X_train)\n",
        "\n",
        "# only transform test and val\n",
        "X_test_std = stdsc.transform(X_test)\n",
        "X_val_std = stdsc.transform(X_val)\n",
        "\n",
        "# convert to float32\n",
        "X_train_std = np.asarray(X_train_std).astype('float32')\n",
        "X_test_std = np.asarray(X_test_std).astype('float32')\n",
        "X_val_std = np.asarray(X_val_std).astype('float32')\n",
        "\n",
        "# convert to float32 and reshape\n",
        "y_train = np.asarray(y_train).astype('float32').reshape((-1,1))\n",
        "y_val = np.asarray(y_val).astype('float32').reshape((-1,1))\n",
        "y_test = np.asarray(y_test).astype('float32').reshape((-1,1))"
      ],
      "metadata": {
        "id": "xJcj29m4BLOl"
      },
      "execution_count": null,
      "outputs": [],
      "id": "xJcj29m4BLOl"
    },
    {
      "cell_type": "code",
      "source": [
        "class_weights = {}\n",
        "for val in np.unique(y_train):\n",
        "    rows = y_train[y_train == val].shape[0]\n",
        "    total = y_train.shape[0]\n",
        "    weight = (1 / rows) * (total / 2.0)\n",
        "    \n",
        "    class_weights[val] = weight\n",
        "class_weights "
      ],
      "metadata": {
        "colab": {
          "base_uri": "https://localhost:8080/"
        },
        "outputId": "3780c223-b9bf-405e-c58b-c2776f4c01b5",
        "id": "b5ACnjVyBLOl"
      },
      "execution_count": null,
      "outputs": [
        {
          "output_type": "execute_result",
          "data": {
            "text/plain": [
              "{0.0: 0.579349678638165, 1.0: 3.6506113734877403}"
            ]
          },
          "metadata": {},
          "execution_count": 127
        }
      ],
      "id": "b5ACnjVyBLOl"
    },
    {
      "cell_type": "code",
      "source": [
        "history8, model8 = create_model(X_train_std, y_train, class_weights)"
      ],
      "metadata": {
        "colab": {
          "base_uri": "https://localhost:8080/"
        },
        "outputId": "6702e620-435b-4d70-b14d-165a83d8136e",
        "id": "gbkSLKjrBLOm"
      },
      "execution_count": null,
      "outputs": [
        {
          "output_type": "stream",
          "name": "stdout",
          "text": [
            "Epoch 1/15\n",
            "111/111 [==============================] - 4s 10ms/step - loss: 0.1418 - accuracy: 0.9537 - val_loss: 0.0444 - val_accuracy: 0.9900\n",
            "Epoch 2/15\n",
            "111/111 [==============================] - 1s 9ms/step - loss: 0.0453 - accuracy: 0.9876 - val_loss: 0.0315 - val_accuracy: 0.9923\n",
            "Epoch 3/15\n",
            "111/111 [==============================] - 1s 10ms/step - loss: 0.0358 - accuracy: 0.9905 - val_loss: 0.0309 - val_accuracy: 0.9922\n",
            "Epoch 4/15\n",
            "111/111 [==============================] - 1s 11ms/step - loss: 0.0300 - accuracy: 0.9916 - val_loss: 0.0305 - val_accuracy: 0.9924\n",
            "Epoch 5/15\n",
            "111/111 [==============================] - 1s 7ms/step - loss: 0.0291 - accuracy: 0.9915 - val_loss: 0.0281 - val_accuracy: 0.9929\n",
            "Epoch 6/15\n",
            "111/111 [==============================] - 1s 7ms/step - loss: 0.0274 - accuracy: 0.9918 - val_loss: 0.0273 - val_accuracy: 0.9927\n",
            "Epoch 7/15\n",
            "111/111 [==============================] - 1s 6ms/step - loss: 0.0264 - accuracy: 0.9920 - val_loss: 0.0284 - val_accuracy: 0.9926\n",
            "Epoch 8/15\n",
            "111/111 [==============================] - 1s 7ms/step - loss: 0.0246 - accuracy: 0.9926 - val_loss: 0.0276 - val_accuracy: 0.9928\n",
            "Epoch 9/15\n",
            "111/111 [==============================] - 1s 7ms/step - loss: 0.0248 - accuracy: 0.9923 - val_loss: 0.0297 - val_accuracy: 0.9922\n",
            "Epoch 10/15\n",
            "111/111 [==============================] - 1s 6ms/step - loss: 0.0239 - accuracy: 0.9923 - val_loss: 0.0259 - val_accuracy: 0.9931\n",
            "Epoch 11/15\n",
            "111/111 [==============================] - 1s 7ms/step - loss: 0.0229 - accuracy: 0.9924 - val_loss: 0.0251 - val_accuracy: 0.9931\n",
            "Epoch 12/15\n",
            "111/111 [==============================] - 1s 7ms/step - loss: 0.0222 - accuracy: 0.9927 - val_loss: 0.0278 - val_accuracy: 0.9928\n",
            "Epoch 13/15\n",
            "111/111 [==============================] - 1s 6ms/step - loss: 0.0221 - accuracy: 0.9926 - val_loss: 0.0275 - val_accuracy: 0.9930\n",
            "Epoch 14/15\n",
            "111/111 [==============================] - 1s 7ms/step - loss: 0.0216 - accuracy: 0.9926 - val_loss: 0.0251 - val_accuracy: 0.9935\n",
            "Epoch 15/15\n",
            "111/111 [==============================] - 1s 6ms/step - loss: 0.0217 - accuracy: 0.9927 - val_loss: 0.0258 - val_accuracy: 0.9935\n"
          ]
        }
      ],
      "id": "gbkSLKjrBLOm"
    },
    {
      "cell_type": "code",
      "source": [
        "#generate predictions\n",
        "y_pred8 = model8.predict(X_test_std)\n",
        "all_preds[8] = y_pred8[:,1]\n",
        "all_preds.head()"
      ],
      "metadata": {
        "colab": {
          "base_uri": "https://localhost:8080/",
          "height": 225
        },
        "outputId": "f7202ad1-47d4-44d9-af41-97a0358c172c",
        "id": "ntLe-Ba4BLOn"
      },
      "execution_count": null,
      "outputs": [
        {
          "output_type": "stream",
          "name": "stdout",
          "text": [
            "11906/11906 [==============================] - 29s 2ms/step\n"
          ]
        },
        {
          "output_type": "execute_result",
          "data": {
            "text/plain": [
              "     0    1             2             3         4             5             6  \\\n",
              "0  0.0  0.0  8.695768e-03  1.977974e-08  0.206227  3.224547e-03  0.000000e+00   \n",
              "1  0.0  0.0  1.348376e-02  1.595309e-03  0.030508  7.674504e-04  1.932565e-07   \n",
              "2  0.0  0.0  1.603530e-07  1.523220e-21  0.000129  0.000000e+00  0.000000e+00   \n",
              "3  0.0  0.0  1.182392e-03  1.213351e-07  0.000079  1.211057e-08  5.054508e-09   \n",
              "4  0.0  0.0  1.321613e-06  1.138505e-14  0.000373  3.562502e-28  0.000000e+00   \n",
              "\n",
              "              7             8    9  \n",
              "0  0.000000e+00  0.000000e+00  0.0  \n",
              "1  6.958081e-06  2.366830e-18  0.0  \n",
              "2  2.561504e-13  2.863411e-22  0.0  \n",
              "3  1.298711e-14  2.340054e-37  0.0  \n",
              "4  9.149493e-13  1.464374e-23  0.0  "
            ],
            "text/html": [
              "\n",
              "  <div id=\"df-a851562d-28b6-4548-b2e7-189ec5324b85\">\n",
              "    <div class=\"colab-df-container\">\n",
              "      <div>\n",
              "<style scoped>\n",
              "    .dataframe tbody tr th:only-of-type {\n",
              "        vertical-align: middle;\n",
              "    }\n",
              "\n",
              "    .dataframe tbody tr th {\n",
              "        vertical-align: top;\n",
              "    }\n",
              "\n",
              "    .dataframe thead th {\n",
              "        text-align: right;\n",
              "    }\n",
              "</style>\n",
              "<table border=\"1\" class=\"dataframe\">\n",
              "  <thead>\n",
              "    <tr style=\"text-align: right;\">\n",
              "      <th></th>\n",
              "      <th>0</th>\n",
              "      <th>1</th>\n",
              "      <th>2</th>\n",
              "      <th>3</th>\n",
              "      <th>4</th>\n",
              "      <th>5</th>\n",
              "      <th>6</th>\n",
              "      <th>7</th>\n",
              "      <th>8</th>\n",
              "      <th>9</th>\n",
              "    </tr>\n",
              "  </thead>\n",
              "  <tbody>\n",
              "    <tr>\n",
              "      <th>0</th>\n",
              "      <td>0.0</td>\n",
              "      <td>0.0</td>\n",
              "      <td>8.695768e-03</td>\n",
              "      <td>1.977974e-08</td>\n",
              "      <td>0.206227</td>\n",
              "      <td>3.224547e-03</td>\n",
              "      <td>0.000000e+00</td>\n",
              "      <td>0.000000e+00</td>\n",
              "      <td>0.000000e+00</td>\n",
              "      <td>0.0</td>\n",
              "    </tr>\n",
              "    <tr>\n",
              "      <th>1</th>\n",
              "      <td>0.0</td>\n",
              "      <td>0.0</td>\n",
              "      <td>1.348376e-02</td>\n",
              "      <td>1.595309e-03</td>\n",
              "      <td>0.030508</td>\n",
              "      <td>7.674504e-04</td>\n",
              "      <td>1.932565e-07</td>\n",
              "      <td>6.958081e-06</td>\n",
              "      <td>2.366830e-18</td>\n",
              "      <td>0.0</td>\n",
              "    </tr>\n",
              "    <tr>\n",
              "      <th>2</th>\n",
              "      <td>0.0</td>\n",
              "      <td>0.0</td>\n",
              "      <td>1.603530e-07</td>\n",
              "      <td>1.523220e-21</td>\n",
              "      <td>0.000129</td>\n",
              "      <td>0.000000e+00</td>\n",
              "      <td>0.000000e+00</td>\n",
              "      <td>2.561504e-13</td>\n",
              "      <td>2.863411e-22</td>\n",
              "      <td>0.0</td>\n",
              "    </tr>\n",
              "    <tr>\n",
              "      <th>3</th>\n",
              "      <td>0.0</td>\n",
              "      <td>0.0</td>\n",
              "      <td>1.182392e-03</td>\n",
              "      <td>1.213351e-07</td>\n",
              "      <td>0.000079</td>\n",
              "      <td>1.211057e-08</td>\n",
              "      <td>5.054508e-09</td>\n",
              "      <td>1.298711e-14</td>\n",
              "      <td>2.340054e-37</td>\n",
              "      <td>0.0</td>\n",
              "    </tr>\n",
              "    <tr>\n",
              "      <th>4</th>\n",
              "      <td>0.0</td>\n",
              "      <td>0.0</td>\n",
              "      <td>1.321613e-06</td>\n",
              "      <td>1.138505e-14</td>\n",
              "      <td>0.000373</td>\n",
              "      <td>3.562502e-28</td>\n",
              "      <td>0.000000e+00</td>\n",
              "      <td>9.149493e-13</td>\n",
              "      <td>1.464374e-23</td>\n",
              "      <td>0.0</td>\n",
              "    </tr>\n",
              "  </tbody>\n",
              "</table>\n",
              "</div>\n",
              "      <button class=\"colab-df-convert\" onclick=\"convertToInteractive('df-a851562d-28b6-4548-b2e7-189ec5324b85')\"\n",
              "              title=\"Convert this dataframe to an interactive table.\"\n",
              "              style=\"display:none;\">\n",
              "        \n",
              "  <svg xmlns=\"http://www.w3.org/2000/svg\" height=\"24px\"viewBox=\"0 0 24 24\"\n",
              "       width=\"24px\">\n",
              "    <path d=\"M0 0h24v24H0V0z\" fill=\"none\"/>\n",
              "    <path d=\"M18.56 5.44l.94 2.06.94-2.06 2.06-.94-2.06-.94-.94-2.06-.94 2.06-2.06.94zm-11 1L8.5 8.5l.94-2.06 2.06-.94-2.06-.94L8.5 2.5l-.94 2.06-2.06.94zm10 10l.94 2.06.94-2.06 2.06-.94-2.06-.94-.94-2.06-.94 2.06-2.06.94z\"/><path d=\"M17.41 7.96l-1.37-1.37c-.4-.4-.92-.59-1.43-.59-.52 0-1.04.2-1.43.59L10.3 9.45l-7.72 7.72c-.78.78-.78 2.05 0 2.83L4 21.41c.39.39.9.59 1.41.59.51 0 1.02-.2 1.41-.59l7.78-7.78 2.81-2.81c.8-.78.8-2.07 0-2.86zM5.41 20L4 18.59l7.72-7.72 1.47 1.35L5.41 20z\"/>\n",
              "  </svg>\n",
              "      </button>\n",
              "      \n",
              "  <style>\n",
              "    .colab-df-container {\n",
              "      display:flex;\n",
              "      flex-wrap:wrap;\n",
              "      gap: 12px;\n",
              "    }\n",
              "\n",
              "    .colab-df-convert {\n",
              "      background-color: #E8F0FE;\n",
              "      border: none;\n",
              "      border-radius: 50%;\n",
              "      cursor: pointer;\n",
              "      display: none;\n",
              "      fill: #1967D2;\n",
              "      height: 32px;\n",
              "      padding: 0 0 0 0;\n",
              "      width: 32px;\n",
              "    }\n",
              "\n",
              "    .colab-df-convert:hover {\n",
              "      background-color: #E2EBFA;\n",
              "      box-shadow: 0px 1px 2px rgba(60, 64, 67, 0.3), 0px 1px 3px 1px rgba(60, 64, 67, 0.15);\n",
              "      fill: #174EA6;\n",
              "    }\n",
              "\n",
              "    [theme=dark] .colab-df-convert {\n",
              "      background-color: #3B4455;\n",
              "      fill: #D2E3FC;\n",
              "    }\n",
              "\n",
              "    [theme=dark] .colab-df-convert:hover {\n",
              "      background-color: #434B5C;\n",
              "      box-shadow: 0px 1px 3px 1px rgba(0, 0, 0, 0.15);\n",
              "      filter: drop-shadow(0px 1px 2px rgba(0, 0, 0, 0.3));\n",
              "      fill: #FFFFFF;\n",
              "    }\n",
              "  </style>\n",
              "\n",
              "      <script>\n",
              "        const buttonEl =\n",
              "          document.querySelector('#df-a851562d-28b6-4548-b2e7-189ec5324b85 button.colab-df-convert');\n",
              "        buttonEl.style.display =\n",
              "          google.colab.kernel.accessAllowed ? 'block' : 'none';\n",
              "\n",
              "        async function convertToInteractive(key) {\n",
              "          const element = document.querySelector('#df-a851562d-28b6-4548-b2e7-189ec5324b85');\n",
              "          const dataTable =\n",
              "            await google.colab.kernel.invokeFunction('convertToInteractive',\n",
              "                                                     [key], {});\n",
              "          if (!dataTable) return;\n",
              "\n",
              "          const docLinkHtml = 'Like what you see? Visit the ' +\n",
              "            '<a target=\"_blank\" href=https://colab.research.google.com/notebooks/data_table.ipynb>data table notebook</a>'\n",
              "            + ' to learn more about interactive tables.';\n",
              "          element.innerHTML = '';\n",
              "          dataTable['output_type'] = 'display_data';\n",
              "          await google.colab.output.renderOutput(dataTable, element);\n",
              "          const docLink = document.createElement('div');\n",
              "          docLink.innerHTML = docLinkHtml;\n",
              "          element.appendChild(docLink);\n",
              "        }\n",
              "      </script>\n",
              "    </div>\n",
              "  </div>\n",
              "  "
            ]
          },
          "metadata": {},
          "execution_count": 129
        }
      ],
      "id": "ntLe-Ba4BLOn"
    },
    {
      "cell_type": "code",
      "source": [
        "plot_training(history8)"
      ],
      "metadata": {
        "colab": {
          "base_uri": "https://localhost:8080/",
          "height": 645
        },
        "outputId": "2975d7ea-fe25-457d-89d2-9a3c02eb513a",
        "id": "5N5YLJsgBLOn"
      },
      "execution_count": null,
      "outputs": [
        {
          "output_type": "stream",
          "name": "stderr",
          "text": [
            "<ipython-input-115-3d2be021db2a>:12: MatplotlibDeprecationWarning: Auto-removal of overlapping axes is deprecated since 3.6 and will be removed two minor releases later; explicitly call ax.remove() as needed.\n",
            "  plt.subplot(2, 2, 1)\n"
          ]
        },
        {
          "output_type": "display_data",
          "data": {
            "text/plain": [
              "<Figure size 1200x600 with 4 Axes>"
            ],
            "image/png": "[encoded data removed]"
          },
          "metadata": {}
        }
      ],
      "id": "5N5YLJsgBLOn"
    },
    {
      "cell_type": "markdown",
      "source": [
        "#### Class 9"
      ],
      "metadata": {
        "id": "n5Om1OC3BRzN"
      },
      "id": "n5Om1OC3BRzN"
    },
    {
      "cell_type": "code",
      "source": [
        "# create X and y dataframes\n",
        "X_train = train.drop('attack_cat_code', axis=1)\n",
        "y_train = train['attack_cat_code']\n",
        "\n",
        "X_test = test.drop('attack_cat_code', axis=1)\n",
        "y_test = test['attack_cat_code']\n",
        "\n",
        "######### resampling\n",
        "# get count of unique labels in the training fold\n",
        "unique, counts = np.unique(train.attack_cat_code, return_counts=True)\n",
        "counts = dict(zip(unique, counts))\n",
        "print(f'Original counts:\\n{counts}') # {0: 29600, 1: 15097, 2: 8905, 3: 4850, 4: 3271, 5: 2797, 6: 542, 7: 467, 8: 302, 9: 35}\n",
        "\n",
        "# GET INITIAL LABEL COUNT\n",
        "# get the count for the second largest label of #1 \n",
        "# this will be the target ratio for upsamling the resto of the labels\n",
        "zero = counts[0] \n",
        "one = counts[1]\n",
        "two = counts[2]\n",
        "target_ratio = {0: counts[3],\n",
        "              1: counts[3],\n",
        "              2: counts[2],\n",
        "              3: counts[3],\n",
        "              4: counts[4],\n",
        "              5: counts[5],\n",
        "              6: counts[6],\n",
        "              7: counts[7], \n",
        "              8: counts[8],\n",
        "              9: counts[9] }\n",
        "\n",
        "\n",
        "# UNDERSAMPLE the majority class to match the rest of the labels\n",
        "rus = RandomUnderSampler(sampling_strategy = target_ratio,\n",
        "                        replacement = False)\n",
        "\n",
        "X_train_resampled, y_train_resampled = rus.fit_resample(X_train, y_train)\n",
        "\n",
        "y_train_resampled.value_counts()"
      ],
      "metadata": {
        "colab": {
          "base_uri": "https://localhost:8080/"
        },
        "outputId": "af7691d0-e4ab-466f-c907-525f6a281003",
        "id": "-YQhLe_yBRzO"
      },
      "execution_count": null,
      "outputs": [
        {
          "output_type": "stream",
          "name": "stdout",
          "text": [
            "Original counts:\n",
            "{0: 1885684, 1: 183159, 2: 37846, 3: 20609, 4: 13900, 5: 11889, 6: 2275, 7: 1980, 8: 1284, 9: 148}\n"
          ]
        },
        {
          "output_type": "execute_result",
          "data": {
            "text/plain": [
              "2    37846\n",
              "0    20609\n",
              "1    20609\n",
              "3    20609\n",
              "4    13900\n",
              "5    11889\n",
              "6     2275\n",
              "7     1980\n",
              "8     1284\n",
              "9      148\n",
              "Name: attack_cat_code, dtype: int64"
            ]
          },
          "metadata": {},
          "execution_count": 132
        }
      ],
      "id": "-YQhLe_yBRzO"
    },
    {
      "cell_type": "code",
      "source": [
        "# # get count of unique labels in the training fold\n",
        "# unique, counts = np.unique(y_train_resampled, return_counts=True)\n",
        "# counts = dict(zip(unique, counts))\n",
        "# print(f'Original counts:\\n{counts}') # {0: 29600, 1: 15097, 2: 8905, 3: 4850, 4: 3271, 5: 2797, 6: 542, 7: 467, 8: 302, 9: 35}"
      ],
      "metadata": {
        "outputId": "d13a3605-3287-48eb-dd97-f4b515cc835b",
        "colab": {
          "base_uri": "https://localhost:8080/"
        },
        "id": "-9iHdCOWBRzQ"
      },
      "execution_count": null,
      "outputs": [
        {
          "output_type": "stream",
          "name": "stdout",
          "text": [
            "Original counts:\n",
            "{0: 20609, 1: 20609, 2: 37846, 3: 20609, 4: 13900, 5: 11889, 6: 2275, 7: 1980, 8: 1284, 9: 148}\n"
          ]
        }
      ],
      "id": "-9iHdCOWBRzQ"
    },
    {
      "cell_type": "code",
      "source": [
        "######### resampling\n",
        "\n",
        "# get count of unique labels in the training fold\n",
        "unique, counts = np.unique(y_train_resampled, return_counts=True)\n",
        "counts = dict(zip(unique, counts))\n",
        "# print(f'Original counts:\\n{counts}')\n",
        "\n",
        "target_ratio2 =  {0: counts[0],\n",
        "              1: counts[1],\n",
        "              2: counts[2],\n",
        "              3: counts[3],\n",
        "              4: counts[4], \n",
        "              5: counts[5], \n",
        "              6: counts[6], \n",
        "              7: counts[7], \n",
        "              8: counts[8],\n",
        "              9: counts[1] # <<<<<<<<<<<<\n",
        "              }\n",
        "\n",
        "# create SMOTE object\n",
        "sm = SMOTE(sampling_strategy = target_ratio2)\n",
        "\n",
        "# APPLY SMOTE on the train folds\n",
        "X_train_resampled, y_train_resampled = sm.fit_resample(X_train_resampled,\n",
        "                                                       y_train_resampled)\n",
        "y_train_resampled.value_counts()"
      ],
      "metadata": {
        "outputId": "25e44479-0db8-4c3a-85e0-138a1696eeb6",
        "colab": {
          "base_uri": "https://localhost:8080/"
        },
        "id": "CUjMCiOABRzR"
      },
      "execution_count": null,
      "outputs": [
        {
          "output_type": "execute_result",
          "data": {
            "text/plain": [
              "2    37846\n",
              "0    20609\n",
              "1    20609\n",
              "3    20609\n",
              "9    20609\n",
              "4    13900\n",
              "5    11889\n",
              "6     2275\n",
              "7     1980\n",
              "8     1284\n",
              "Name: attack_cat_code, dtype: int64"
            ]
          },
          "metadata": {},
          "execution_count": 133
        }
      ],
      "id": "CUjMCiOABRzR"
    },
    {
      "cell_type": "code",
      "source": [
        "###### mapping attack classes to binary case\n",
        "y_train_resampled = y_train_resampled.apply(lambda x: 1 if x==9 else 0)\n",
        "\n",
        "# splitting into train and val\n",
        "X_train, X_val, y_train, y_val, = train_test_split(\n",
        "    X_train_resampled, \n",
        "    y_train_resampled, \n",
        "    test_size=0.25, \n",
        "    random_state=42, \n",
        "    stratify=y_train_resampled)\n",
        "\n",
        "# standardize the data\n",
        "stdsc = StandardScaler()\n",
        "# fit and transform train\n",
        "X_train_std = stdsc.fit_transform(X_train)\n",
        "\n",
        "# only transform test and val\n",
        "X_test_std = stdsc.transform(X_test)\n",
        "X_val_std = stdsc.transform(X_val)\n",
        "\n",
        "# convert to float32\n",
        "X_train_std = np.asarray(X_train_std).astype('float32')\n",
        "X_test_std = np.asarray(X_test_std).astype('float32')\n",
        "X_val_std = np.asarray(X_val_std).astype('float32')\n",
        "\n",
        "# convert to float32 and reshape\n",
        "y_train = np.asarray(y_train).astype('float32').reshape((-1,1))\n",
        "y_val = np.asarray(y_val).astype('float32').reshape((-1,1))\n",
        "y_test = np.asarray(y_test).astype('float32').reshape((-1,1))"
      ],
      "metadata": {
        "id": "88OvprfYBRzS"
      },
      "execution_count": null,
      "outputs": [],
      "id": "88OvprfYBRzS"
    },
    {
      "cell_type": "code",
      "source": [
        "class_weights = {}\n",
        "for val in np.unique(y_train):\n",
        "    rows = y_train[y_train == val].shape[0]\n",
        "    total = y_train.shape[0]\n",
        "    weight = (1 / rows) * (total / 2.0)\n",
        "    \n",
        "    class_weights[val] = weight\n",
        "class_weights "
      ],
      "metadata": {
        "colab": {
          "base_uri": "https://localhost:8080/"
        },
        "outputId": "04d89167-3eff-448d-ead4-69190533bd1a",
        "id": "-w4J0kPHBRzT"
      },
      "execution_count": null,
      "outputs": [
        {
          "output_type": "execute_result",
          "data": {
            "text/plain": [
              "{0.0: 0.5786615776081424, 1.0: 3.678171702141425}"
            ]
          },
          "metadata": {},
          "execution_count": 135
        }
      ],
      "id": "-w4J0kPHBRzT"
    },
    {
      "cell_type": "code",
      "source": [
        "history9, model9 = create_model(X_train_std, y_train, class_weights)"
      ],
      "metadata": {
        "colab": {
          "base_uri": "https://localhost:8080/"
        },
        "outputId": "e773c2da-8263-40c5-bad4-ff8ed7701425",
        "id": "N8bAohzkBRzU"
      },
      "execution_count": null,
      "outputs": [
        {
          "output_type": "stream",
          "name": "stdout",
          "text": [
            "Epoch 1/15\n",
            "112/112 [==============================] - 4s 10ms/step - loss: 0.3077 - accuracy: 0.8509 - val_loss: 0.2363 - val_accuracy: 0.9014\n",
            "Epoch 2/15\n",
            "112/112 [==============================] - 1s 7ms/step - loss: 0.1958 - accuracy: 0.9074 - val_loss: 0.1806 - val_accuracy: 0.9235\n",
            "Epoch 3/15\n",
            "112/112 [==============================] - 1s 10ms/step - loss: 0.1538 - accuracy: 0.9278 - val_loss: 0.1449 - val_accuracy: 0.9348\n",
            "Epoch 4/15\n",
            "112/112 [==============================] - 1s 6ms/step - loss: 0.1212 - accuracy: 0.9421 - val_loss: 0.1024 - val_accuracy: 0.9593\n",
            "Epoch 5/15\n",
            "112/112 [==============================] - 1s 5ms/step - loss: 0.1008 - accuracy: 0.9530 - val_loss: 0.0905 - val_accuracy: 0.9606\n",
            "Epoch 6/15\n",
            "112/112 [==============================] - 1s 8ms/step - loss: 0.0905 - accuracy: 0.9589 - val_loss: 0.0896 - val_accuracy: 0.9648\n",
            "Epoch 7/15\n",
            "112/112 [==============================] - 1s 7ms/step - loss: 0.0810 - accuracy: 0.9629 - val_loss: 0.0784 - val_accuracy: 0.9703\n",
            "Epoch 8/15\n",
            "112/112 [==============================] - 1s 6ms/step - loss: 0.0732 - accuracy: 0.9664 - val_loss: 0.0659 - val_accuracy: 0.9747\n",
            "Epoch 9/15\n",
            "112/112 [==============================] - 1s 9ms/step - loss: 0.0692 - accuracy: 0.9695 - val_loss: 0.0803 - val_accuracy: 0.9711\n",
            "Epoch 10/15\n",
            "112/112 [==============================] - 1s 10ms/step - loss: 0.0680 - accuracy: 0.9704 - val_loss: 0.0677 - val_accuracy: 0.9756\n",
            "Epoch 11/15\n",
            "112/112 [==============================] - 1s 8ms/step - loss: 0.0614 - accuracy: 0.9737 - val_loss: 0.0513 - val_accuracy: 0.9813\n",
            "Epoch 12/15\n",
            "112/112 [==============================] - 1s 6ms/step - loss: 0.0583 - accuracy: 0.9751 - val_loss: 0.0636 - val_accuracy: 0.9788\n",
            "Epoch 13/15\n",
            "112/112 [==============================] - 1s 6ms/step - loss: 0.0591 - accuracy: 0.9734 - val_loss: 0.0560 - val_accuracy: 0.9806\n",
            "Epoch 14/15\n",
            "112/112 [==============================] - 1s 7ms/step - loss: 0.0550 - accuracy: 0.9769 - val_loss: 0.0499 - val_accuracy: 0.9827\n",
            "Epoch 15/15\n",
            "112/112 [==============================] - 1s 6ms/step - loss: 0.0494 - accuracy: 0.9788 - val_loss: 0.0476 - val_accuracy: 0.9833\n"
          ]
        }
      ],
      "id": "N8bAohzkBRzU"
    },
    {
      "cell_type": "code",
      "source": [
        "#generate predictions\n",
        "y_pred9 = model9.predict(X_test_std)\n",
        "all_preds[9] = y_pred9[:,1]\n",
        "all_preds.head()"
      ],
      "metadata": {
        "colab": {
          "base_uri": "https://localhost:8080/",
          "height": 289
        },
        "outputId": "70f42aa0-97ea-4297-89c9-6d47545ddf5a",
        "id": "s1bfFalSBRzV"
      },
      "execution_count": null,
      "outputs": [
        {
          "output_type": "stream",
          "name": "stdout",
          "text": [
            "11906/11906 [==============================] - 27s 2ms/step\n"
          ]
        },
        {
          "output_type": "execute_result",
          "data": {
            "text/plain": [
              "     0    1             2             3         4             5             6  \\\n",
              "0  0.0  0.0  8.695768e-03  1.977974e-08  0.206227  3.224547e-03  0.000000e+00   \n",
              "1  0.0  0.0  1.348376e-02  1.595309e-03  0.030508  7.674504e-04  1.932565e-07   \n",
              "2  0.0  0.0  1.603530e-07  1.523220e-21  0.000129  0.000000e+00  0.000000e+00   \n",
              "3  0.0  0.0  1.182392e-03  1.213351e-07  0.000079  1.211057e-08  5.054508e-09   \n",
              "4  0.0  0.0  1.321613e-06  1.138505e-14  0.000373  3.562502e-28  0.000000e+00   \n",
              "\n",
              "              7             8             9  \n",
              "0  0.000000e+00  0.000000e+00  2.864321e-35  \n",
              "1  6.958081e-06  2.366830e-18  7.044948e-18  \n",
              "2  2.561504e-13  2.863411e-22  0.000000e+00  \n",
              "3  1.298711e-14  2.340054e-37  0.000000e+00  \n",
              "4  9.149493e-13  1.464374e-23  0.000000e+00  "
            ],
            "text/html": [
              "\n",
              "  <div id=\"df-1fe6c0ed-583a-4142-ba78-9d6e3674136f\">\n",
              "    <div class=\"colab-df-container\">\n",
              "      <div>\n",
              "<style scoped>\n",
              "    .dataframe tbody tr th:only-of-type {\n",
              "        vertical-align: middle;\n",
              "    }\n",
              "\n",
              "    .dataframe tbody tr th {\n",
              "        vertical-align: top;\n",
              "    }\n",
              "\n",
              "    .dataframe thead th {\n",
              "        text-align: right;\n",
              "    }\n",
              "</style>\n",
              "<table border=\"1\" class=\"dataframe\">\n",
              "  <thead>\n",
              "    <tr style=\"text-align: right;\">\n",
              "      <th></th>\n",
              "      <th>0</th>\n",
              "      <th>1</th>\n",
              "      <th>2</th>\n",
              "      <th>3</th>\n",
              "      <th>4</th>\n",
              "      <th>5</th>\n",
              "      <th>6</th>\n",
              "      <th>7</th>\n",
              "      <th>8</th>\n",
              "      <th>9</th>\n",
              "    </tr>\n",
              "  </thead>\n",
              "  <tbody>\n",
              "    <tr>\n",
              "      <th>0</th>\n",
              "      <td>0.0</td>\n",
              "      <td>0.0</td>\n",
              "      <td>8.695768e-03</td>\n",
              "      <td>1.977974e-08</td>\n",
              "      <td>0.206227</td>\n",
              "      <td>3.224547e-03</td>\n",
              "      <td>0.000000e+00</td>\n",
              "      <td>0.000000e+00</td>\n",
              "      <td>0.000000e+00</td>\n",
              "      <td>2.864321e-35</td>\n",
              "    </tr>\n",
              "    <tr>\n",
              "      <th>1</th>\n",
              "      <td>0.0</td>\n",
              "      <td>0.0</td>\n",
              "      <td>1.348376e-02</td>\n",
              "      <td>1.595309e-03</td>\n",
              "      <td>0.030508</td>\n",
              "      <td>7.674504e-04</td>\n",
              "      <td>1.932565e-07</td>\n",
              "      <td>6.958081e-06</td>\n",
              "      <td>2.366830e-18</td>\n",
              "      <td>7.044948e-18</td>\n",
              "    </tr>\n",
              "    <tr>\n",
              "      <th>2</th>\n",
              "      <td>0.0</td>\n",
              "      <td>0.0</td>\n",
              "      <td>1.603530e-07</td>\n",
              "      <td>1.523220e-21</td>\n",
              "      <td>0.000129</td>\n",
              "      <td>0.000000e+00</td>\n",
              "      <td>0.000000e+00</td>\n",
              "      <td>2.561504e-13</td>\n",
              "      <td>2.863411e-22</td>\n",
              "      <td>0.000000e+00</td>\n",
              "    </tr>\n",
              "    <tr>\n",
              "      <th>3</th>\n",
              "      <td>0.0</td>\n",
              "      <td>0.0</td>\n",
              "      <td>1.182392e-03</td>\n",
              "      <td>1.213351e-07</td>\n",
              "      <td>0.000079</td>\n",
              "      <td>1.211057e-08</td>\n",
              "      <td>5.054508e-09</td>\n",
              "      <td>1.298711e-14</td>\n",
              "      <td>2.340054e-37</td>\n",
              "      <td>0.000000e+00</td>\n",
              "    </tr>\n",
              "    <tr>\n",
              "      <th>4</th>\n",
              "      <td>0.0</td>\n",
              "      <td>0.0</td>\n",
              "      <td>1.321613e-06</td>\n",
              "      <td>1.138505e-14</td>\n",
              "      <td>0.000373</td>\n",
              "      <td>3.562502e-28</td>\n",
              "      <td>0.000000e+00</td>\n",
              "      <td>9.149493e-13</td>\n",
              "      <td>1.464374e-23</td>\n",
              "      <td>0.000000e+00</td>\n",
              "    </tr>\n",
              "  </tbody>\n",
              "</table>\n",
              "</div>\n",
              "      <button class=\"colab-df-convert\" onclick=\"convertToInteractive('df-1fe6c0ed-583a-4142-ba78-9d6e3674136f')\"\n",
              "              title=\"Convert this dataframe to an interactive table.\"\n",
              "              style=\"display:none;\">\n",
              "        \n",
              "  <svg xmlns=\"http://www.w3.org/2000/svg\" height=\"24px\"viewBox=\"0 0 24 24\"\n",
              "       width=\"24px\">\n",
              "    <path d=\"M0 0h24v24H0V0z\" fill=\"none\"/>\n",
              "    <path d=\"M18.56 5.44l.94 2.06.94-2.06 2.06-.94-2.06-.94-.94-2.06-.94 2.06-2.06.94zm-11 1L8.5 8.5l.94-2.06 2.06-.94-2.06-.94L8.5 2.5l-.94 2.06-2.06.94zm10 10l.94 2.06.94-2.06 2.06-.94-2.06-.94-.94-2.06-.94 2.06-2.06.94z\"/><path d=\"M17.41 7.96l-1.37-1.37c-.4-.4-.92-.59-1.43-.59-.52 0-1.04.2-1.43.59L10.3 9.45l-7.72 7.72c-.78.78-.78 2.05 0 2.83L4 21.41c.39.39.9.59 1.41.59.51 0 1.02-.2 1.41-.59l7.78-7.78 2.81-2.81c.8-.78.8-2.07 0-2.86zM5.41 20L4 18.59l7.72-7.72 1.47 1.35L5.41 20z\"/>\n",
              "  </svg>\n",
              "      </button>\n",
              "      \n",
              "  <style>\n",
              "    .colab-df-container {\n",
              "      display:flex;\n",
              "      flex-wrap:wrap;\n",
              "      gap: 12px;\n",
              "    }\n",
              "\n",
              "    .colab-df-convert {\n",
              "      background-color: #E8F0FE;\n",
              "      border: none;\n",
              "      border-radius: 50%;\n",
              "      cursor: pointer;\n",
              "      display: none;\n",
              "      fill: #1967D2;\n",
              "      height: 32px;\n",
              "      padding: 0 0 0 0;\n",
              "      width: 32px;\n",
              "    }\n",
              "\n",
              "    .colab-df-convert:hover {\n",
              "      background-color: #E2EBFA;\n",
              "      box-shadow: 0px 1px 2px rgba(60, 64, 67, 0.3), 0px 1px 3px 1px rgba(60, 64, 67, 0.15);\n",
              "      fill: #174EA6;\n",
              "    }\n",
              "\n",
              "    [theme=dark] .colab-df-convert {\n",
              "      background-color: #3B4455;\n",
              "      fill: #D2E3FC;\n",
              "    }\n",
              "\n",
              "    [theme=dark] .colab-df-convert:hover {\n",
              "      background-color: #434B5C;\n",
              "      box-shadow: 0px 1px 3px 1px rgba(0, 0, 0, 0.15);\n",
              "      filter: drop-shadow(0px 1px 2px rgba(0, 0, 0, 0.3));\n",
              "      fill: #FFFFFF;\n",
              "    }\n",
              "  </style>\n",
              "\n",
              "      <script>\n",
              "        const buttonEl =\n",
              "          document.querySelector('#df-1fe6c0ed-583a-4142-ba78-9d6e3674136f button.colab-df-convert');\n",
              "        buttonEl.style.display =\n",
              "          google.colab.kernel.accessAllowed ? 'block' : 'none';\n",
              "\n",
              "        async function convertToInteractive(key) {\n",
              "          const element = document.querySelector('#df-1fe6c0ed-583a-4142-ba78-9d6e3674136f');\n",
              "          const dataTable =\n",
              "            await google.colab.kernel.invokeFunction('convertToInteractive',\n",
              "                                                     [key], {});\n",
              "          if (!dataTable) return;\n",
              "\n",
              "          const docLinkHtml = 'Like what you see? Visit the ' +\n",
              "            '<a target=\"_blank\" href=https://colab.research.google.com/notebooks/data_table.ipynb>data table notebook</a>'\n",
              "            + ' to learn more about interactive tables.';\n",
              "          element.innerHTML = '';\n",
              "          dataTable['output_type'] = 'display_data';\n",
              "          await google.colab.output.renderOutput(dataTable, element);\n",
              "          const docLink = document.createElement('div');\n",
              "          docLink.innerHTML = docLinkHtml;\n",
              "          element.appendChild(docLink);\n",
              "        }\n",
              "      </script>\n",
              "    </div>\n",
              "  </div>\n",
              "  "
            ]
          },
          "metadata": {},
          "execution_count": 137
        }
      ],
      "id": "s1bfFalSBRzV"
    },
    {
      "cell_type": "code",
      "source": [
        "plot_training(history9)"
      ],
      "metadata": {
        "colab": {
          "base_uri": "https://localhost:8080/",
          "height": 92
        },
        "outputId": "cba49d2d-3849-425a-c7da-93b89985ec56",
        "id": "N2BsZa2iBRzW"
      },
      "execution_count": null,
      "outputs": [
        {
          "output_type": "stream",
          "name": "stderr",
          "text": [
            "<ipython-input-115-3d2be021db2a>:12: MatplotlibDeprecationWarning: Auto-removal of overlapping axes is deprecated since 3.6 and will be removed two minor releases later; explicitly call ax.remove() as needed.\n",
            "  plt.subplot(2, 2, 1)\n"
          ]
        },
        {
          "output_type": "display_data",
          "data": {
            "text/plain": [
              "<Figure size 1200x600 with 4 Axes>"
            ],
            "image/png": "[encoded data removed]"
          },
          "metadata": {}
        }
      ],
      "id": "N2BsZa2iBRzW"
    },
    {
      "cell_type": "markdown",
      "source": [
        "#### Analyzing Predictions"
      ],
      "metadata": {
        "id": "9nP6wl7I6oGX"
      },
      "id": "9nP6wl7I6oGX"
    },
    {
      "cell_type": "code",
      "source": [
        "complete_predictions = all_preds.copy()\n",
        "complete_predictions.head()"
      ],
      "metadata": {
        "colab": {
          "base_uri": "https://localhost:8080/",
          "height": 206
        },
        "id": "bItjlrsO685d",
        "outputId": "e819b149-fff7-4c60-d905-b6f65b1a1064"
      },
      "id": "bItjlrsO685d",
      "execution_count": null,
      "outputs": [
        {
          "output_type": "execute_result",
          "data": {
            "text/plain": [
              "          0         1             2             3         4             5  \\\n",
              "0  1.000000  0.073562  8.695768e-03  1.977974e-08  0.206227  3.224547e-03   \n",
              "1  0.999879  0.000297  1.348376e-02  1.595309e-03  0.030508  7.674504e-04   \n",
              "2  1.000000  0.000030  1.603530e-07  1.523220e-21  0.000129  0.000000e+00   \n",
              "3  1.000000  0.000118  1.182392e-03  1.213351e-07  0.000079  1.211057e-08   \n",
              "4  1.000000  0.000052  1.321613e-06  1.138505e-14  0.000373  3.562502e-28   \n",
              "\n",
              "              6             7             8             9  \n",
              "0  0.000000e+00  0.000000e+00  0.000000e+00  2.864321e-35  \n",
              "1  1.932565e-07  6.958081e-06  2.366830e-18  7.044948e-18  \n",
              "2  0.000000e+00  2.561504e-13  2.863411e-22  0.000000e+00  \n",
              "3  5.054508e-09  1.298711e-14  2.340054e-37  0.000000e+00  \n",
              "4  0.000000e+00  9.149493e-13  1.464374e-23  0.000000e+00  "
            ],
            "text/html": [
              "\n",
              "  <div id=\"df-990d3524-3957-4077-9488-beccfa022cfb\">\n",
              "    <div class=\"colab-df-container\">\n",
              "      <div>\n",
              "<style scoped>\n",
              "    .dataframe tbody tr th:only-of-type {\n",
              "        vertical-align: middle;\n",
              "    }\n",
              "\n",
              "    .dataframe tbody tr th {\n",
              "        vertical-align: top;\n",
              "    }\n",
              "\n",
              "    .dataframe thead th {\n",
              "        text-align: right;\n",
              "    }\n",
              "</style>\n",
              "<table border=\"1\" class=\"dataframe\">\n",
              "  <thead>\n",
              "    <tr style=\"text-align: right;\">\n",
              "      <th></th>\n",
              "      <th>0</th>\n",
              "      <th>1</th>\n",
              "      <th>2</th>\n",
              "      <th>3</th>\n",
              "      <th>4</th>\n",
              "      <th>5</th>\n",
              "      <th>6</th>\n",
              "      <th>7</th>\n",
              "      <th>8</th>\n",
              "      <th>9</th>\n",
              "    </tr>\n",
              "  </thead>\n",
              "  <tbody>\n",
              "    <tr>\n",
              "      <th>0</th>\n",
              "      <td>1.000000</td>\n",
              "      <td>0.073562</td>\n",
              "      <td>8.695768e-03</td>\n",
              "      <td>1.977974e-08</td>\n",
              "      <td>0.206227</td>\n",
              "      <td>3.224547e-03</td>\n",
              "      <td>0.000000e+00</td>\n",
              "      <td>0.000000e+00</td>\n",
              "      <td>0.000000e+00</td>\n",
              "      <td>2.864321e-35</td>\n",
              "    </tr>\n",
              "    <tr>\n",
              "      <th>1</th>\n",
              "      <td>0.999879</td>\n",
              "      <td>0.000297</td>\n",
              "      <td>1.348376e-02</td>\n",
              "      <td>1.595309e-03</td>\n",
              "      <td>0.030508</td>\n",
              "      <td>7.674504e-04</td>\n",
              "      <td>1.932565e-07</td>\n",
              "      <td>6.958081e-06</td>\n",
              "      <td>2.366830e-18</td>\n",
              "      <td>7.044948e-18</td>\n",
              "    </tr>\n",
              "    <tr>\n",
              "      <th>2</th>\n",
              "      <td>1.000000</td>\n",
              "      <td>0.000030</td>\n",
              "      <td>1.603530e-07</td>\n",
              "      <td>1.523220e-21</td>\n",
              "      <td>0.000129</td>\n",
              "      <td>0.000000e+00</td>\n",
              "      <td>0.000000e+00</td>\n",
              "      <td>2.561504e-13</td>\n",
              "      <td>2.863411e-22</td>\n",
              "      <td>0.000000e+00</td>\n",
              "    </tr>\n",
              "    <tr>\n",
              "      <th>3</th>\n",
              "      <td>1.000000</td>\n",
              "      <td>0.000118</td>\n",
              "      <td>1.182392e-03</td>\n",
              "      <td>1.213351e-07</td>\n",
              "      <td>0.000079</td>\n",
              "      <td>1.211057e-08</td>\n",
              "      <td>5.054508e-09</td>\n",
              "      <td>1.298711e-14</td>\n",
              "      <td>2.340054e-37</td>\n",
              "      <td>0.000000e+00</td>\n",
              "    </tr>\n",
              "    <tr>\n",
              "      <th>4</th>\n",
              "      <td>1.000000</td>\n",
              "      <td>0.000052</td>\n",
              "      <td>1.321613e-06</td>\n",
              "      <td>1.138505e-14</td>\n",
              "      <td>0.000373</td>\n",
              "      <td>3.562502e-28</td>\n",
              "      <td>0.000000e+00</td>\n",
              "      <td>9.149493e-13</td>\n",
              "      <td>1.464374e-23</td>\n",
              "      <td>0.000000e+00</td>\n",
              "    </tr>\n",
              "  </tbody>\n",
              "</table>\n",
              "</div>\n",
              "      <button class=\"colab-df-convert\" onclick=\"convertToInteractive('df-990d3524-3957-4077-9488-beccfa022cfb')\"\n",
              "              title=\"Convert this dataframe to an interactive table.\"\n",
              "              style=\"display:none;\">\n",
              "        \n",
              "  <svg xmlns=\"http://www.w3.org/2000/svg\" height=\"24px\"viewBox=\"0 0 24 24\"\n",
              "       width=\"24px\">\n",
              "    <path d=\"M0 0h24v24H0V0z\" fill=\"none\"/>\n",
              "    <path d=\"M18.56 5.44l.94 2.06.94-2.06 2.06-.94-2.06-.94-.94-2.06-.94 2.06-2.06.94zm-11 1L8.5 8.5l.94-2.06 2.06-.94-2.06-.94L8.5 2.5l-.94 2.06-2.06.94zm10 10l.94 2.06.94-2.06 2.06-.94-2.06-.94-.94-2.06-.94 2.06-2.06.94z\"/><path d=\"M17.41 7.96l-1.37-1.37c-.4-.4-.92-.59-1.43-.59-.52 0-1.04.2-1.43.59L10.3 9.45l-7.72 7.72c-.78.78-.78 2.05 0 2.83L4 21.41c.39.39.9.59 1.41.59.51 0 1.02-.2 1.41-.59l7.78-7.78 2.81-2.81c.8-.78.8-2.07 0-2.86zM5.41 20L4 18.59l7.72-7.72 1.47 1.35L5.41 20z\"/>\n",
              "  </svg>\n",
              "      </button>\n",
              "      \n",
              "  <style>\n",
              "    .colab-df-container {\n",
              "      display:flex;\n",
              "      flex-wrap:wrap;\n",
              "      gap: 12px;\n",
              "    }\n",
              "\n",
              "    .colab-df-convert {\n",
              "      background-color: #E8F0FE;\n",
              "      border: none;\n",
              "      border-radius: 50%;\n",
              "      cursor: pointer;\n",
              "      display: none;\n",
              "      fill: #1967D2;\n",
              "      height: 32px;\n",
              "      padding: 0 0 0 0;\n",
              "      width: 32px;\n",
              "    }\n",
              "\n",
              "    .colab-df-convert:hover {\n",
              "      background-color: #E2EBFA;\n",
              "      box-shadow: 0px 1px 2px rgba(60, 64, 67, 0.3), 0px 1px 3px 1px rgba(60, 64, 67, 0.15);\n",
              "      fill: #174EA6;\n",
              "    }\n",
              "\n",
              "    [theme=dark] .colab-df-convert {\n",
              "      background-color: #3B4455;\n",
              "      fill: #D2E3FC;\n",
              "    }\n",
              "\n",
              "    [theme=dark] .colab-df-convert:hover {\n",
              "      background-color: #434B5C;\n",
              "      box-shadow: 0px 1px 3px 1px rgba(0, 0, 0, 0.15);\n",
              "      filter: drop-shadow(0px 1px 2px rgba(0, 0, 0, 0.3));\n",
              "      fill: #FFFFFF;\n",
              "    }\n",
              "  </style>\n",
              "\n",
              "      <script>\n",
              "        const buttonEl =\n",
              "          document.querySelector('#df-990d3524-3957-4077-9488-beccfa022cfb button.colab-df-convert');\n",
              "        buttonEl.style.display =\n",
              "          google.colab.kernel.accessAllowed ? 'block' : 'none';\n",
              "\n",
              "        async function convertToInteractive(key) {\n",
              "          const element = document.querySelector('#df-990d3524-3957-4077-9488-beccfa022cfb');\n",
              "          const dataTable =\n",
              "            await google.colab.kernel.invokeFunction('convertToInteractive',\n",
              "                                                     [key], {});\n",
              "          if (!dataTable) return;\n",
              "\n",
              "          const docLinkHtml = 'Like what you see? Visit the ' +\n",
              "            '<a target=\"_blank\" href=https://colab.research.google.com/notebooks/data_table.ipynb>data table notebook</a>'\n",
              "            + ' to learn more about interactive tables.';\n",
              "          element.innerHTML = '';\n",
              "          dataTable['output_type'] = 'display_data';\n",
              "          await google.colab.output.renderOutput(dataTable, element);\n",
              "          const docLink = document.createElement('div');\n",
              "          docLink.innerHTML = docLinkHtml;\n",
              "          element.appendChild(docLink);\n",
              "        }\n",
              "      </script>\n",
              "    </div>\n",
              "  </div>\n",
              "  "
            ]
          },
          "metadata": {},
          "execution_count": 156
        }
      ]
    },
    {
      "cell_type": "code",
      "source": [
        "complete_predictions.to_csv('ova_preds.csv', index = False)"
      ],
      "metadata": {
        "id": "g3LwmaZBFNJQ"
      },
      "id": "g3LwmaZBFNJQ",
      "execution_count": null,
      "outputs": []
    },
    {
      "cell_type": "code",
      "source": [
        "y_test = test['attack_cat_code']\n",
        "y_test.to_csv('y_test.csv', index = False)"
      ],
      "metadata": {
        "id": "9tTwRhPUGsnR"
      },
      "id": "9tTwRhPUGsnR",
      "execution_count": null,
      "outputs": []
    },
    {
      "cell_type": "code",
      "source": [
        "complete_predictions.shape"
      ],
      "metadata": {
        "colab": {
          "base_uri": "https://localhost:8080/"
        },
        "id": "0trbkWfFFZlV",
        "outputId": "7dade800-ffab-4aa4-99ac-a1368111ca40"
      },
      "id": "0trbkWfFFZlV",
      "execution_count": null,
      "outputs": [
        {
          "output_type": "execute_result",
          "data": {
            "text/plain": [
              "(380961, 10)"
            ]
          },
          "metadata": {},
          "execution_count": 158
        }
      ]
    },
    {
      "cell_type": "code",
      "source": [
        "y_pred_collapsed = tf.argmax(input=complete_predictions, axis=1)\n",
        "y_pred_collapsed[:20]"
      ],
      "metadata": {
        "colab": {
          "base_uri": "https://localhost:8080/"
        },
        "id": "fipKjsEwFZFc",
        "outputId": "48fbb629-98ea-4e4b-8518-67c0670ea228"
      },
      "id": "fipKjsEwFZFc",
      "execution_count": null,
      "outputs": [
        {
          "output_type": "execute_result",
          "data": {
            "text/plain": [
              "<tf.Tensor: shape=(20,), dtype=int64, numpy=array([0, 0, 0, 0, 0, 0, 0, 0, 0, 0, 0, 0, 0, 0, 0, 0, 0, 1, 0, 0])>"
            ]
          },
          "metadata": {},
          "execution_count": 160
        }
      ]
    },
    {
      "cell_type": "code",
      "source": [
        "calculate_metrics(y_test, y_pred_collapsed, labels)"
      ],
      "metadata": {
        "colab": {
          "base_uri": "https://localhost:8080/",
          "height": 1000
        },
        "id": "bpzcklIbFYlY",
        "outputId": "7ceb4d19-3dc8-4a10-bb36-e7683d6aacc1"
      },
      "id": "bpzcklIbFYlY",
      "execution_count": 134,
      "outputs": [
        {
          "output_type": "stream",
          "name": "stdout",
          "text": [
            "Accuracy:0.97\n",
            "Balanced accuracy:0.77\n",
            "Precision:0.98\n",
            "Recall:0.97\n",
            "F1-score:0.98\n"
          ]
        },
        {
          "output_type": "display_data",
          "data": {
            "text/plain": [
              "<Figure size 1000x1000 with 1 Axes>"
            ],
            "image/png": "[encoded data removed]"
          },
          "metadata": {}
        },
        {
          "output_type": "stream",
          "name": "stdout",
          "text": [
            "Classification Report:\n",
            "                 precision    recall  f1-score   support\n",
            "\n",
            "        Normal       1.00      0.98      0.99    135296\n",
            "       Generic       1.00      0.97      0.99     13285\n",
            "      Exploits       0.79      0.59      0.67      2719\n",
            "       Fuzzers       0.41      0.83      0.55      1466\n",
            "           DoS       0.42      0.65      0.51       981\n",
            "Reconnaissance       0.78      0.77      0.77       857\n",
            "      Analysis       0.25      0.76      0.38       157\n",
            "      Backdoor       0.12      0.68      0.21       133\n",
            "     Shellcode       0.30      0.92      0.46        91\n",
            "         Worms       0.06      0.57      0.12        14\n",
            "\n",
            "      accuracy                           0.97    154999\n",
            "     macro avg       0.51      0.77      0.56    154999\n",
            "  weighted avg       0.98      0.97      0.98    154999\n",
            "\n"
          ]
        },
        {
          "output_type": "execute_result",
          "data": {
            "text/plain": [
              "(0.9704901321944013,\n",
              " 0.7723901808586975,\n",
              " 0.9837711335129329,\n",
              " 0.9704901321944013,\n",
              " 0.9755469529878998)"
            ]
          },
          "metadata": {},
          "execution_count": 134
        }
      ]
    }
  ],
  "metadata": {
    "colab": {
      "gpuType": "T4",
      "provenance": [],
      "collapsed_sections": [
        "QHe27VSZGBWJ"
      ]
    },
    "gpuClass": "standard",
    "kernelspec": {
      "display_name": "Python 3 (ipykernel)",
      "language": "python",
      "name": "python3"
    },
    "language_info": {
      "codemirror_mode": {
        "name": "ipython",
        "version": 3
      },
      "file_extension": ".py",
      "mimetype": "text/x-python",
      "name": "python",
      "nbconvert_exporter": "python",
      "pygments_lexer": "ipython3",
      "version": "3.9.10"
    },
    "accelerator": "GPU"
  },
  "nbformat": 4,
  "nbformat_minor": 5
}