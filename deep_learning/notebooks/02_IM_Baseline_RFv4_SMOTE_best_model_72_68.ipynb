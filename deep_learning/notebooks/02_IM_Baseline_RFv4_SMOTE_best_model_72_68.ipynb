{
  "cells": [
    {
      "cell_type": "markdown",
      "id": "72db58ca",
      "metadata": {
        "id": "72db58ca"
      },
      "source": [
        "This notebook brings together all the pieces about cross-validation and hyperparameter tuning with SMOTE.<br>\n",
        "1. Subsampled 15 percent of the imbalanced train data (22 features) to use for cross-validation\n",
        "2. Defined a function for cross-validation with upsampling using SMOTE on TRAIN folds ONLY\n",
        "3. Wrote a loop to perform a search over a dictionary of desired parameters (80 combinations of parameters)\n",
        "4. Identified the best combination of parameters using balanced accuracy as the main metric:\n",
        "{'n_estimators': 300, 'min_samples_split': 3, 'max_depth': 10, 'min_samples_leaf': 2}\n",
        "\n",
        "5. Trained Random Forest on the full balanced train set with the best set of parameters and achieved 72.68% balanced accuracy\n",
        "6. Exported the best model. Weights are available [here](https://drive.google.com/file/d/1oDon-QV8y4WR9tJfUGwvk_ucY-tijqBh/view?usp=share_link)\n"
      ]
    },
    {
      "cell_type": "markdown",
      "id": "7a056bb3",
      "metadata": {
        "id": "7a056bb3"
      },
      "source": [
        "### Import Packages"
      ]
    },
    {
      "cell_type": "code",
      "execution_count": 1,
      "id": "f174365c",
      "metadata": {
        "colab": {
          "base_uri": "https://localhost:8080/"
        },
        "id": "f174365c",
        "outputId": "997b8b3d-09eb-4ddf-a3d3-c9d6284cdc46"
      },
      "outputs": [
        {
          "output_type": "stream",
          "name": "stdout",
          "text": [
            "0.10.1\n"
          ]
        }
      ],
      "source": [
        "import pandas as pd\n",
        "import numpy as np\n",
        "import seaborn as sns\n",
        "import matplotlib.pyplot as plt\n",
        "from datetime import datetime\n",
        "from time import process_time\n",
        "\n",
        "from sklearn.model_selection import train_test_split, GridSearchCV, StratifiedKFold, KFold, cross_val_score\n",
        "from sklearn.preprocessing import StandardScaler\n",
        "from sklearn.ensemble import RandomForestClassifier\n",
        "from sklearn.metrics import accuracy_score, balanced_accuracy_score \n",
        "\n",
        "import imblearn\n",
        "from imblearn.over_sampling import SMOTE\n",
        "from imblearn.under_sampling import RandomUnderSampler\n",
        "from collections import Counter\n",
        "print(imblearn.__version__)"
      ]
    },
    {
      "cell_type": "markdown",
      "id": "207c2ae5",
      "metadata": {
        "id": "207c2ae5"
      },
      "source": [
        "### Download the Dataset"
      ]
    },
    {
      "cell_type": "code",
      "source": [
        "# getting the cleaned data from the personal Google Drive\n",
        "# !gdown '1bFPcr699XpzMVG45T9xlv4rIaan74_Ch' -O train_imbalanced.csv\n",
        "!gdown '1ICZUG9vdJKSWjS1Ojr_Vb3VKgONeTXX1' -O train_imbalanced_85.csv\n",
        "!gdown '1F1mHLwlno3OOtpSpMsiQqhoow6aj__DN' -O test_imbalanced_15.csv"
      ],
      "metadata": {
        "colab": {
          "base_uri": "https://localhost:8080/"
        },
        "id": "pc5R5OMdhJax",
        "outputId": "524d0faf-0520-4194-f374-19b5958a41b4"
      },
      "id": "pc5R5OMdhJax",
      "execution_count": 2,
      "outputs": [
        {
          "output_type": "stream",
          "name": "stdout",
          "text": [
            "Downloading...\n",
            "From: https://drive.google.com/uc?id=1ICZUG9vdJKSWjS1Ojr_Vb3VKgONeTXX1\n",
            "To: /content/train_imbalanced_85.csv\n",
            "100% 237M/237M [00:01<00:00, 171MB/s]\n",
            "Downloading...\n",
            "From: https://drive.google.com/uc?id=1F1mHLwlno3OOtpSpMsiQqhoow6aj__DN\n",
            "To: /content/test_imbalanced_15.csv\n",
            "100% 41.8M/41.8M [00:00<00:00, 189MB/s]\n"
          ]
        }
      ]
    },
    {
      "cell_type": "code",
      "source": [
        "# train = pd.read_csv('../data/train_imbalanced_85.csv') # local\n",
        "# test = pd.read_csv('../data/test_imbalanced_15.csv') # local"
      ],
      "metadata": {
        "id": "-OIW0wSWhR9C"
      },
      "id": "-OIW0wSWhR9C",
      "execution_count": 3,
      "outputs": []
    },
    {
      "cell_type": "code",
      "source": [
        "train = pd.read_csv('train_imbalanced_85.csv') # 22 features Colab\n",
        "test = pd.read_csv('test_imbalanced_15.csv') # Colab"
      ],
      "metadata": {
        "id": "NDJkAOuChR2l"
      },
      "id": "NDJkAOuChR2l",
      "execution_count": 4,
      "outputs": []
    },
    {
      "cell_type": "code",
      "execution_count": 5,
      "id": "92b3697f",
      "metadata": {
        "colab": {
          "base_uri": "https://localhost:8080/"
        },
        "id": "92b3697f",
        "outputId": "79a97832-fc1a-4bcf-fc1a-684f199e0ffb"
      },
      "outputs": [
        {
          "output_type": "execute_result",
          "data": {
            "text/plain": [
              "((2158774, 22), (2158774,), (380961, 22), (380961,))"
            ]
          },
          "metadata": {},
          "execution_count": 5
        }
      ],
      "source": [
        "# removing labels from the train and test sets, also removing spkts column due to high correlation\n",
        "X_train = train.drop(['attack_cat_code'], axis=1)\n",
        "X_test = test.drop(['attack_cat_code'], axis=1)\n",
        "\n",
        "# creating a dataframe for the target\n",
        "y_train = train['attack_cat_code']\n",
        "y_test = test['attack_cat_code']\n",
        "\n",
        "X_train.shape, y_train.shape, X_test.shape, y_test.shape"
      ]
    },
    {
      "cell_type": "code",
      "execution_count": 6,
      "id": "c0093561",
      "metadata": {
        "colab": {
          "base_uri": "https://localhost:8080/"
        },
        "id": "c0093561",
        "outputId": "da546731-e7e0-40cf-9a3e-305d15ea4b61"
      },
      "outputs": [
        {
          "output_type": "execute_result",
          "data": {
            "text/plain": [
              "0    1885684\n",
              "1     183159\n",
              "2      37846\n",
              "3      20609\n",
              "4      13900\n",
              "5      11889\n",
              "6       2275\n",
              "7       1980\n",
              "8       1284\n",
              "9        148\n",
              "Name: attack_cat_code, dtype: int64"
            ]
          },
          "metadata": {},
          "execution_count": 6
        }
      ],
      "source": [
        "y_train.value_counts()"
      ]
    },
    {
      "cell_type": "markdown",
      "id": "c6aad3a2",
      "metadata": {
        "id": "c6aad3a2"
      },
      "source": [
        "### 1. Subsampling the dataset for faster parameter search\n",
        "To speed up the training hyperparameter tunning will be performed using only 10% of the training data "
      ]
    },
    {
      "cell_type": "code",
      "execution_count": 7,
      "id": "3f79ae10",
      "metadata": {
        "colab": {
          "base_uri": "https://localhost:8080/"
        },
        "id": "3f79ae10",
        "outputId": "15f7efb7-9e0f-416a-d0f0-ebb4b1e95816"
      },
      "outputs": [
        {
          "output_type": "execute_result",
          "data": {
            "text/plain": [
              "2158774"
            ]
          },
          "metadata": {},
          "execution_count": 7
        }
      ],
      "source": [
        "len(y_train)"
      ]
    },
    {
      "cell_type": "code",
      "execution_count": 8,
      "id": "85a4b6f4",
      "metadata": {
        "colab": {
          "base_uri": "https://localhost:8080/"
        },
        "id": "85a4b6f4",
        "outputId": "a580d4de-d982-4b6e-ea27-abbc81df2adc"
      },
      "outputs": [
        {
          "output_type": "execute_result",
          "data": {
            "text/plain": [
              "((323817, 22), (323817,))"
            ]
          },
          "metadata": {},
          "execution_count": 8
        }
      ],
      "source": [
        "# splitting the train set into train and val. setting the desired ratio to 15%\n",
        "# X_gs and y_gs will be used for cross-validation -\n",
        "X_train_sub, X_gs, y_train_sub, y_gs = train_test_split(X_train, y_train, random_state=33, test_size=0.15)\n",
        "X_gs.shape, y_gs.shape"
      ]
    },
    {
      "cell_type": "code",
      "execution_count": 9,
      "id": "b66e4b4c",
      "metadata": {
        "id": "b66e4b4c"
      },
      "outputs": [],
      "source": [
        "# Standardizing\n",
        "stdsc = StandardScaler()\n",
        "X_gs_std = stdsc.fit_transform(X_gs)\n",
        "X_test_std = stdsc.transform(X_test)"
      ]
    },
    {
      "cell_type": "code",
      "execution_count": 10,
      "id": "71812ec3",
      "metadata": {
        "colab": {
          "base_uri": "https://localhost:8080/"
        },
        "id": "71812ec3",
        "outputId": "19a655f6-b725-4a6c-94ca-2d6493acdc2b"
      },
      "outputs": [
        {
          "output_type": "execute_result",
          "data": {
            "text/plain": [
              "((323817, 22), (323817,), (380961, 22))"
            ]
          },
          "metadata": {},
          "execution_count": 10
        }
      ],
      "source": [
        "X_gs_std.shape, y_gs.shape, X_test_std.shape"
      ]
    },
    {
      "cell_type": "markdown",
      "id": "403b7db4",
      "metadata": {
        "id": "403b7db4"
      },
      "source": [
        "### 2. Cross-Validation"
      ]
    },
    {
      "cell_type": "code",
      "execution_count": 11,
      "id": "87d7da82",
      "metadata": {
        "id": "87d7da82"
      },
      "outputs": [],
      "source": [
        "def smote_cross_val(model, params, X, y, cv = None):\n",
        "    \"\"\"\n",
        "    Creates folds manually, a\n",
        "    nd upsamples within each fold.\n",
        "    Returns an array of validation (recall) scores\n",
        "    \"\"\"\n",
        "    X = np.array(X)\n",
        "    y = np.array(y)\n",
        "    \n",
        "    if cv is None:\n",
        "        cv = StratifiedKFold(shuffle=True) # n_splits=5 is default\n",
        "\n",
        "    scores = []\n",
        "    models = []\n",
        "    cnt = 1\n",
        "\n",
        "    # get split indeces from the skf.splits\n",
        "    for train_idx, val_idx in cv.split(X, y):\n",
        "#         print(f'Fold #{cnt}')\n",
        "#         print(train_idx, val_idx)\n",
        "#         print(len(train_idx), len(val_idx))\n",
        "\n",
        "\n",
        "        # Use indices to get training folds\n",
        "        X_train_fold, y_train_fold = X[train_idx], y[train_idx]\n",
        "        \n",
        "        # Use indices to get validation folds. DO NOT touch until predict\n",
        "        X_val_fold, y_val_fold = X[val_idx], y[val_idx]\n",
        "\n",
        "\n",
        "        # get count of unique labels in the training fold\n",
        "        unique, counts = np.unique(y_train_fold, return_counts=True)\n",
        "        counts = dict(zip(unique, counts))\n",
        "#         print(f'Original counts:\\n{counts}') # {0: 29600, 1: 15097, 2: 8905, 3: 4850, 4: 3271, 5: 2797, 6: 542, 7: 467, 8: 302, 9: 35}\n",
        "\n",
        "        # GET INITIAL LABEL COUNT\n",
        "        # get the count for the second largest label of #1 \n",
        "        # this will be the target ratio for upsamling the resto of the labels\n",
        "        zero = counts[0] \n",
        "        one = counts[1]\n",
        "        target_ratio = {0: zero,\n",
        "                      1: one,\n",
        "                      2: one,\n",
        "                      3: one,\n",
        "                      4: one,\n",
        "                      5: one,\n",
        "                      6: one,\n",
        "                      7: one, \n",
        "                      8: one,\n",
        "                      9: one }\n",
        "\n",
        "        # print(zero, one)\n",
        "#         print(f'SMOTE target ratio:\\n{target_ratio}')\n",
        "        # create SMOTE object\n",
        "        sm = SMOTE(sampling_strategy = target_ratio)\n",
        "\n",
        "        # APPLY SMOTE on the train folds\n",
        "        X_train_smote, y_train_smote = sm.fit_resample(X_train_fold,\n",
        "                                                      y_train_fold)\n",
        "\n",
        "        # Confirm counts of unique labels in the training fold after SMOTE\n",
        "        # unique_sm, counts_sm = np.unique(y_train_smote, return_counts=True)\n",
        "        # counts_sm = dict(zip(unique_sm, counts_sm))\n",
        "        # print(counts_sm)\n",
        "\n",
        "        # UNDERSAMPLE the majority class to match the rest of the labels\n",
        "        rus = RandomUnderSampler(sampling_strategy = 'not minority',\n",
        "                               replacement = False)\n",
        "\n",
        "        X_train_resampled, y_train_resampled = rus.fit_resample(X_train_smote, y_train_smote)\n",
        "#         print(f'Undersampling Majority Class:\\n{sorted(Counter(y_train_resampled).items())}')\n",
        "\n",
        "        # Fit the model to the balanced training fold after SMOTE and undersampling\n",
        "        model_obj = model(**params).fit(X_train_resampled, \n",
        "                                      y_train_resampled)\n",
        "\n",
        "        # Score the model on the original val data (no SMOTE)\n",
        "        score = balanced_accuracy_score(y_val_fold, model_obj.predict(X_val_fold))\n",
        "#         print(f'Balanced accuracy: {score}\\n')\n",
        "\n",
        "        scores.append(score)\n",
        "        models.append(model_obj)\n",
        "        cnt += 1\n",
        "    \n",
        "    return np.array(scores), models"
      ]
    },
    {
      "cell_type": "code",
      "execution_count": 12,
      "id": "81e5b6e4",
      "metadata": {
        "id": "81e5b6e4"
      },
      "outputs": [],
      "source": [
        "# current_param_set = {'n_estimators': 100}\n",
        "\n",
        "# scores, models = smote_cross_val(RandomForestClassifier,\n",
        "#                                  current_param_set,\n",
        "#                                  X_gs_std,\n",
        "#                                  y_gs)"
      ]
    },
    {
      "cell_type": "markdown",
      "source": [
        "### 3 Hyperparameter Tuning with Grid-Search (larger set of parameters)\n"
      ],
      "metadata": {
        "id": "VSnGXpYp3OAv"
      },
      "id": "VSnGXpYp3OAv"
    },
    {
      "cell_type": "markdown",
      "source": [
        " #### Get combinations of parameters to test"
      ],
      "metadata": {
        "id": "MwW8FWn85M0m"
      },
      "id": "MwW8FWn85M0m"
    },
    {
      "cell_type": "code",
      "source": [
        "def get_param_combos(dict_):\n",
        "  '''\n",
        "  pass a dictionary of parameters to get \n",
        "  a list of possible combinations to go over\n",
        "  '''\n",
        "                     \n",
        "\n",
        "  dict_ = param_set\n",
        "  keys = list(dict_.keys())\n",
        "  total_params = len(dict_) # number of keys in the param dict\n",
        "\n",
        "  param_set_combinations = []\n",
        "\n",
        "  cnt=1\n",
        "  # if 4  types of parameters in the dict_\n",
        "  if total_params == 1:\n",
        "    for param in dict_[keys[0]]:\n",
        "      current_param_set = {\n",
        "          keys[0]: param\n",
        "          }\n",
        "      # append to the param_set_combinations\n",
        "      param_set_combinations.append(current_param_set)\n",
        "      # print(cnt, current_param_set)\n",
        "      # cnt+=1\n",
        "\n",
        "  # 2 PARAMs BLOCK\n",
        "  elif total_params == 2:\n",
        "    for param in dict_[keys[0]]:\n",
        "      for param2 in dict_[keys[1]]:\n",
        "        current_param_set = {\n",
        "                keys[0]: param,\n",
        "                keys[1]: param2\n",
        "                }\n",
        "        # append to the param_set_combinations\n",
        "        param_set_combinations.append(current_param_set)\n",
        "        # print(cnt, current_param_set)\n",
        "        # cnt+=1\n",
        "  # 3 PARAMs BLOCK\n",
        "  elif total_params == 3:\n",
        "    for param in dict_[keys[0]]:\n",
        "      for param2 in dict_[keys[1]]:\n",
        "        for param3 in dict_[keys[2]]:  \n",
        "          current_param_set = {\n",
        "                  keys[0]: param,\n",
        "                  keys[1]: param2,\n",
        "                  keys[2]: param3\n",
        "                  }\n",
        "          # append to the param_set_combinations\n",
        "          param_set_combinations.append(current_param_set)\n",
        "          # print(cnt, current_param_set)\n",
        "          # cnt+=1\n",
        "\n",
        "  # 4 PARAMs BLOCK\n",
        "  elif total_params ==4:\n",
        "    for param in dict_[keys[0]]:\n",
        "      for param2 in dict_[keys[1]]:\n",
        "        for param3 in dict_[keys[2]]:\n",
        "          for param4 in dict_[keys[3]]:\n",
        "            current_param_set = {\n",
        "                    keys[0]: param,\n",
        "                    keys[1]: param2,\n",
        "                    keys[2]: param3,\n",
        "                    keys[3]: param4\n",
        "                    }\n",
        "            # append to the param_set_combinations\n",
        "            param_set_combinations.append(current_param_set)\n",
        "            # print(cnt, current_param_set)\n",
        "            # cnt+=1\n",
        "  return param_set_combinations"
      ],
      "metadata": {
        "id": "R-VvJ_9PlplT"
      },
      "id": "R-VvJ_9PlplT",
      "execution_count": 13,
      "outputs": []
    },
    {
      "cell_type": "code",
      "source": [
        "param_set = {\n",
        "    # Number of trees \n",
        "    'n_estimators': [100, 200, 300, 400, 500,1000],\n",
        "    # Minimum number of samples required to split a node\n",
        "    'min_samples_split': [2,3],\n",
        "    # Maximum number of levels in tree\n",
        "    'max_depth': [None, 5, 10, 20],\n",
        "    # Minimum number of samples required at each leaf node\n",
        "    'min_samples_leaf': [1,2]\n",
        "\n",
        "}"
      ],
      "metadata": {
        "id": "bBXdchZo3FDy"
      },
      "id": "bBXdchZo3FDy",
      "execution_count": 49,
      "outputs": []
    },
    {
      "cell_type": "code",
      "source": [
        "param_set_combinations = get_param_combos(param_set)\n",
        "len(param_set_combinations)"
      ],
      "metadata": {
        "id": "2sOnp1uO25mD",
        "outputId": "9973e21d-f888-4cd8-e79b-ce0a42883158",
        "colab": {
          "base_uri": "https://localhost:8080/"
        }
      },
      "id": "2sOnp1uO25mD",
      "execution_count": 50,
      "outputs": [
        {
          "output_type": "execute_result",
          "data": {
            "text/plain": [
              "96"
            ]
          },
          "metadata": {},
          "execution_count": 50
        }
      ]
    },
    {
      "cell_type": "markdown",
      "source": [
        "##### Recreating score_tracker in text form after execution was interrupted"
      ],
      "metadata": {
        "id": "tKAeCT1x7lva"
      },
      "id": "tKAeCT1x7lva"
    },
    {
      "cell_type": "markdown",
      "source": [
        "Set #1. Params: {'n_estimators': 100, 'min_samples_split': 2, 'max_depth': None, 'min_samples_leaf': 1}\n",
        "Running time: 374.09405316899995\n",
        "Avg balanced accuracy: 0.6276903850296522\n",
        "\n",
        "Set #2. Params: {'n_estimators': 100, 'min_samples_split': 2, 'max_depth': None, 'min_samples_leaf': 2}\n",
        "Running time: 360.96151360199997\n",
        "Avg balanced accuracy: 0.6438976359908665\n",
        "\n",
        "Set #3. Params: {'n_estimators': 100, 'min_samples_split': 2, 'max_depth': 5, 'min_samples_leaf': 1}\n",
        "Running time: 162.76814545699995\n",
        "Avg balanced accuracy: 0.6783116330750085\n",
        "\n",
        "Set #4. Params: {'n_estimators': 100, 'min_samples_split': 2, 'max_depth': 5, 'min_samples_leaf': 2}\n",
        "Running time: 158.34734048399991\n",
        "Avg balanced accuracy: 0.6740580375336556\n",
        "\n",
        "Set #5. Params: {'n_estimators': 100, 'min_samples_split': 2, 'max_depth': 10, 'min_samples_leaf': 1}\n",
        "Running time: 246.30935170099997\n",
        "Avg balanced accuracy: 0.6910132264836163\n",
        "\n",
        "Set #6. Params: {'n_estimators': 100, 'min_samples_split': 2, 'max_depth': 10, 'min_samples_leaf': 2}\n",
        "Running time: 246.72477455099988\n",
        "Avg balanced accuracy: 0.6928759012756311\n",
        "\n",
        "Set #7. Params: {'n_estimators': 100, 'min_samples_split': 2, 'max_depth': 20, 'min_samples_leaf': 1}\n",
        "Running time: 347.43607212300003\n",
        "Avg balanced accuracy: 0.6415123771899893\n",
        "\n",
        "Set #8. Params: {'n_estimators': 100, 'min_samples_split': 2, 'max_depth': 20, 'min_samples_leaf': 2}\n",
        "Running time: 338.29599659999985\n",
        "Avg balanced accuracy: 0.6492191321073951\n",
        "\n",
        "Set #9. Params: {'n_estimators': 100, 'min_samples_split': 3, 'max_depth': None, 'min_samples_leaf': 1}\n",
        "Running time: 369.4834521120001\n",
        "Avg balanced accuracy: 0.6298011435170905\n",
        "\n",
        "Set #10. Params: {'n_estimators': 100, 'min_samples_split': 3, 'max_depth': None, 'min_samples_leaf': 2}\n",
        "Running time: 352.832800014\n",
        "Avg balanced accuracy: 0.6533579183276268\n",
        "\n",
        "Set #11. Params: {'n_estimators': 100, 'min_samples_split': 3, 'max_depth': 5, 'min_samples_leaf': 1}\n",
        "Running time: 162.50940536000007\n",
        "Avg balanced accuracy: 0.6799652606871628\n",
        "\n",
        "Set #12. Params: {'n_estimators': 100, 'min_samples_split': 3, 'max_depth': 5, 'min_samples_leaf': 2}\n",
        "Running time: 157.04441390400007\n",
        "Avg balanced accuracy: 0.6759612609261804\n",
        "\n",
        "Set #13. Params: {'n_estimators': 100, 'min_samples_split': 3, 'max_depth': 10, 'min_samples_leaf': 1}\n",
        "Running time: 240.18507602999944\n",
        "Avg balanced accuracy: 0.6886019736774451\n",
        "\n",
        "Set #14. Params: {'n_estimators': 100, 'min_samples_split': 3, 'max_depth': 10, 'min_samples_leaf': 2}\n",
        "Running time: 240.3066240779999\n",
        "Avg balanced accuracy: 0.6907601516106139\n",
        "\n",
        "Set #15. Params: {'n_estimators': 100, 'min_samples_split': 3, 'max_depth': 20, 'min_samples_leaf': 1}\n",
        "Running time: 345.22669527000016\n",
        "Avg balanced accuracy: 0.6491505773309958\n",
        "\n",
        "Set #16. Params: {'n_estimators': 100, 'min_samples_split': 3, 'max_depth': 20, 'min_samples_leaf': 2}\n",
        "Running time: 336.5618073220003\n",
        "Avg balanced accuracy: 0.6666528081297977\n",
        "\n",
        "Set #17. Params: {'n_estimators': 200, 'min_samples_split': 2, 'max_depth': None, 'min_samples_leaf': 1}\n",
        "Running time: 724.7979220139996\n",
        "Avg balanced accuracy: 0.6290723858748859\n",
        "\n",
        "Set #18. Params: {'n_estimators': 200, 'min_samples_split': 2, 'max_depth': None, 'min_samples_leaf': 2}\n",
        "Running time: 712.416204049\n",
        "Avg balanced accuracy: 0.6441980254097062\n",
        "\n",
        "Set #19. Params: {'n_estimators': 200, 'min_samples_split': 2, 'max_depth': 5, 'min_samples_leaf': 1}\n",
        "Running time: 314.22188001299946\n",
        "Avg balanced accuracy: 0.6850221488899002\n",
        "\n",
        "Set #20. Params: {'n_estimators': 200, 'min_samples_split': 2, 'max_depth': 5, 'min_samples_leaf': 2}\n",
        "Running time: 313.349664716\n",
        "Avg balanced accuracy: 0.6742065420982923\n",
        "\n",
        "Set #21. Params: {'n_estimators': 200, 'min_samples_split': 2, 'max_depth': 10, 'min_samples_leaf': 1}\n",
        "Running time: 501.1512583049998\n",
        "Avg balanced accuracy: 0.6879985489549252\n",
        "\n",
        "Set #22. Params: {'n_estimators': 200, 'min_samples_split': 2, 'max_depth': 10, 'min_samples_leaf': 2}\n",
        "Running time: 501.45546308400026\n",
        "Avg balanced accuracy: 0.686074609238762\n",
        "\n",
        "Set #23. Params: {'n_estimators': 200, 'min_samples_split': 2, 'max_depth': 20, 'min_samples_leaf': 1}\n",
        "Running time: 679.9209216349991\n",
        "Avg balanced accuracy: 0.6541872701312107\n",
        "\n",
        "Set #24. Params: {'n_estimators': 200, 'min_samples_split': 2, 'max_depth': 20, 'min_samples_leaf': 2}\n",
        "Running time: 664.7061189830001\n",
        "Avg balanced accuracy: 0.6635742840913083\n",
        "\n",
        "Set #25. Params: {'n_estimators': 200, 'min_samples_split': 3, 'max_depth': None, 'min_samples_leaf': 1}\n",
        "Running time: 722.6392026779995\n",
        "Avg balanced accuracy: 0.628107570914443\n",
        "\n",
        "Set #26. Params: {'n_estimators': 200, 'min_samples_split': 3, 'max_depth': None, 'min_samples_leaf': 2}\n",
        "Running time: 707.4803666000007\n",
        "Avg balanced accuracy: 0.6517261311128608\n",
        "\n",
        "Set #27. Params: {'n_estimators': 200, 'min_samples_split': 3, 'max_depth': 5, 'min_samples_leaf': 1}\n",
        "Running time: 315.0902155800013\n",
        "Avg balanced accuracy: 0.6782705623301468\n",
        "\n",
        "Set #28. Params: {'n_estimators': 200, 'min_samples_split': 3, 'max_depth': 5, 'min_samples_leaf': 2}\n",
        "Running time: 317.6933623730001\n",
        "Avg balanced accuracy: 0.6759088455027666\n",
        "\n",
        "Set #29. Params: {'n_estimators': 200, 'min_samples_split': 3, 'max_depth': 10, 'min_samples_leaf': 1}\n",
        "Running time: 486.3737038849995\n",
        "Avg balanced accuracy: 0.6889050320253453\n",
        "\n",
        "Set #30. Params: {'n_estimators': 200, 'min_samples_split': 3, 'max_depth': 10, 'min_samples_leaf': 2}\n",
        "Running time: 478.9405487210006\n",
        "Avg balanced accuracy: 0.6917183739524294\n",
        "\n",
        "Set #31. Params: {'n_estimators': 200, 'min_samples_split': 3, 'max_depth': 20, 'min_samples_leaf': 1}\n",
        "Running time: 666.6250665899988\n",
        "Avg balanced accuracy: 0.6453915420885483\n",
        "\n",
        "Set #32. Params: {'n_estimators': 200, 'min_samples_split': 3, 'max_depth': 20, 'min_samples_leaf': 2}\n",
        "Running time: 657.138248397001\n",
        "Avg balanced accuracy: 0.6604035588685184\n",
        "\n",
        "Set #33. Params: {'n_estimators': 300, 'min_samples_split': 2, 'max_depth': None, 'min_samples_leaf': 1}\n",
        "Running time: 1059.268977392001\n",
        "Avg balanced accuracy: 0.6278316529338841\n",
        "\n",
        "Set #34. Params: {'n_estimators': 300, 'min_samples_split': 2, 'max_depth': None, 'min_samples_leaf': 2}\n",
        "Running time: 1040.2117054209994\n",
        "Avg balanced accuracy: 0.6496093516949987\n",
        "\n",
        "Set #35. Params: {'n_estimators': 300, 'min_samples_split': 2, 'max_depth': 5, 'min_samples_leaf': 1}\n",
        "Running time: 457.23802124800204\n",
        "Avg balanced accuracy: 0.6751591387027289\n",
        "\n",
        "Set #36. Params: {'n_estimators': 300, 'min_samples_split': 2, 'max_depth': 5, 'min_samples_leaf': 2}\n",
        "Running time: 446.38330191899877\n",
        "Avg balanced accuracy: 0.671353337012029\n",
        "\n",
        "Set #37. Params: {'n_estimators': 300, 'min_samples_split': 2, 'max_depth': 10, 'min_samples_leaf': 1}\n",
        "Running time: 694.2585332439994\n",
        "Avg balanced accuracy: 0.698978458857947\n",
        "\n",
        "Set #38. Params: {'n_estimators': 300, 'min_samples_split': 2, 'max_depth': 10, 'min_samples_leaf': 2}\n",
        "Running time: 686.5984552000009\n",
        "Avg balanced accuracy: 0.6919936232835332\n",
        "\n",
        "Set #39. Params: {'n_estimators': 300, 'min_samples_split': 2, 'max_depth': 20, 'min_samples_leaf': 1}\n",
        "Running time: 998.4138463059971\n",
        "Avg balanced accuracy: 0.6398668329721119\n",
        "\n",
        "Set #40. Params: {'n_estimators': 300, 'min_samples_split': 2, 'max_depth': 20, 'min_samples_leaf': 2}\n",
        "Running time: 1003.0730402640002\n",
        "Avg balanced accuracy: 0.6515512645627742\n",
        "\n",
        "Set #41. Params: {'n_estimators': 300, 'min_samples_split': 3, 'max_depth': None, 'min_samples_leaf': 1}\n",
        "Running time: 1101.1532773809995\n",
        "Avg balanced accuracy: 0.6274122674299887\n",
        "\n",
        "Set #42. Params: {'n_estimators': 300, 'min_samples_split': 3, 'max_depth': None, 'min_samples_leaf': 2}\n",
        "Running time: 1052.9149707569995\n",
        "Avg balanced accuracy: 0.6419440161696929\n",
        "\n",
        "Set #43. Params: {'n_estimators': 300, 'min_samples_split': 3, 'max_depth': 5, 'min_samples_leaf': 1}\n",
        "Running time: 478.9616722539977\n",
        "Avg balanced accuracy: 0.6811664476279675\n",
        "\n",
        "Set #44. Params: {'n_estimators': 300, 'min_samples_split': 3, 'max_depth': 5, 'min_samples_leaf': 2}\n",
        "Running time: 469.7680346950001\n",
        "Avg balanced accuracy: 0.6686887072076795\n",
        "\n",
        "Set #45. Params: {'n_estimators': 300, 'min_samples_split': 3, 'max_depth': 10, 'min_samples_leaf': 1}\n",
        "Running time: 721.1728486219981\n",
        "Avg balanced accuracy: 0.6887758084629475\n",
        "\n",
        "Set #46. Params: {'n_estimators': 300, 'min_samples_split': 3, 'max_depth': 10, 'min_samples_leaf': 2}\n",
        "Running time: 716.6027595620035\n",
        "Avg balanced accuracy: 0.6995605335161759\n",
        "\n",
        "Set #47. Params: {'n_estimators': 300, 'min_samples_split': 3, 'max_depth': 20, 'min_samples_leaf': 1}\n",
        "Running time: 1003.702723792001\n",
        "Avg balanced accuracy: 0.6587759675183236\n",
        "\n",
        "Set #48. Params: {'n_estimators': 300, 'min_samples_split': 3, 'max_depth': 20, 'min_samples_leaf': 2}\n",
        "Running time: 1001.8894239610017\n",
        "Avg balanced accuracy: 0.6536835598235997\n",
        "\n",
        "Set #49. Params: {'n_estimators': 400, 'min_samples_split': 2, 'max_depth': None, 'min_samples_leaf': 1}\n",
        "Running time: 1447.371128103001\n",
        "Avg balanced accuracy: 0.6371578135243909\n",
        "\n",
        "Set #50. Params: {'n_estimators': 400, 'min_samples_split': 2, 'max_depth': None, 'min_samples_leaf': 2}\n",
        "Running time: 1427.0102525090006\n",
        "Avg balanced accuracy: 0.6412561172053779\n",
        "\n",
        "Set #51. Params: {'n_estimators': 400, 'min_samples_split': 2, 'max_depth': 5, 'min_samples_leaf': 1}\n",
        "Running time: 620.1665657599988\n",
        "Avg balanced accuracy: 0.6818600025170919\n",
        "\n",
        "Set #52. Params: {'n_estimators': 400, 'min_samples_split': 2, 'max_depth': 5, 'min_samples_leaf': 2}\n",
        "Running time: 596.8421582390001\n",
        "Avg balanced accuracy: 0.6727207302302695\n",
        "\n",
        "Set #53. Params: {'n_estimators': 400, 'min_samples_split': 2, 'max_depth': 10, 'min_samples_leaf': 1}\n",
        "Running time: 943.6770828549998\n",
        "Avg balanced accuracy: 0.6968593609114598\n",
        "\n",
        "Set #54. Params: {'n_estimators': 400, 'min_samples_split': 2, 'max_depth': 10, 'min_samples_leaf': 2}\n",
        "Running time: 947.2361782370026\n",
        "Avg balanced accuracy: 0.6935482682802243\n",
        "\n",
        "Set #55. Params: {'n_estimators': 400, 'min_samples_split': 2, 'max_depth': 20, 'min_samples_leaf': 1}\n",
        "Running time: 1338.4319174880002\n",
        "Avg balanced accuracy: 0.6400356725319145\n",
        "\n",
        "Set #56. Params: {'n_estimators': 400, 'min_samples_split': 2, 'max_depth': 20, 'min_samples_leaf': 2}\n",
        "Running time: 1326.078856745\n",
        "Avg balanced accuracy: 0.6577975442707056\n",
        "\n",
        "Set #57. Params: {'n_estimators': 400, 'min_samples_split': 3, 'max_depth': None, 'min_samples_leaf': 1}\n",
        "Running time: 1450.013755312997\n",
        "Avg balanced accuracy: 0.6418751410006528\n",
        "\n",
        "Set #58. Params: {'n_estimators': 400, 'min_samples_split': 3, 'max_depth': None, 'min_samples_leaf': 2}\n",
        "Running time: 1405.4404485230043\n",
        "Avg balanced accuracy: 0.6463364321598651\n",
        "\n",
        "Set #59. Params: {'n_estimators': 400, 'min_samples_split': 3, 'max_depth': 5, 'min_samples_leaf': 1}\n",
        "Running time: 606.4247355159969\n",
        "Avg balanced accuracy: 0.676504351446534\n",
        "\n",
        "Set #60. Params: {'n_estimators': 400, 'min_samples_split': 3, 'max_depth': 5, 'min_samples_leaf': 2}\n",
        "Running time: 595.9878427400035\n",
        "Avg balanced accuracy: 0.6773823386498071\n",
        "\n",
        "Set #61. Params: {'n_estimators': 400, 'min_samples_split': 3, 'max_depth': 10, 'min_samples_leaf': 1}\n",
        "Running time: 952.8766829710003\n",
        "Avg balanced accuracy: 0.6859159144569221\n",
        "\n",
        "Set #62. Params: {'n_estimators': 400, 'min_samples_split': 3, 'max_depth': 10, 'min_samples_leaf': 2}\n",
        "Running time: 962.668900951001\n",
        "Avg balanced accuracy: 0.6982817794486234\n",
        "\n",
        "Set #63. Params: {'n_estimators': 400, 'min_samples_split': 3, 'max_depth': 20, 'min_samples_leaf': 1}\n",
        "Running time: 1356.3215252890004\n",
        "Avg balanced accuracy: 0.6465333054364301\n",
        "\n",
        "Set #64. Params: {'n_estimators': 400, 'min_samples_split': 3, 'max_depth': 20, 'min_samples_leaf': 2}\n",
        "Running time: 1313.1381030050034\n",
        "Avg balanced accuracy: 0.6581216214300835\n",
        "\n",
        "Set #65. Params: {'n_estimators': 500, 'min_samples_split': 2, 'max_depth': None, 'min_samples_leaf': 1}\n",
        "Running time: 1805.528343486003\n",
        "Avg balanced accuracy: 0.6294780898819543\n",
        "\n",
        "Set #66. Params: {'n_estimators': 500, 'min_samples_split': 2, 'max_depth': None, 'min_samples_leaf': 2}\n",
        "Running time: 1801.650405732\n",
        "Avg balanced accuracy: 0.6335968055760031\n",
        "\n",
        "Set #67. Params: {'n_estimators': 500, 'min_samples_split': 2, 'max_depth': 5, 'min_samples_leaf': 1}\n",
        "Running time: 767.5430376950003\n",
        "Avg balanced accuracy: 0.6747774539932622\n",
        "\n",
        "Set #68. Params: {'n_estimators': 500, 'min_samples_split': 2, 'max_depth': 5, 'min_samples_leaf': 2}\n",
        "Running time: 789.1678652549999\n",
        "Avg balanced accuracy: 0.6815915321401846\n",
        "\n",
        "Set #69. Params: {'n_estimators': 500, 'min_samples_split': 2, 'max_depth': 10, 'min_samples_leaf': 1}\n",
        "Running time: 1235.931169428\n",
        "Avg balanced accuracy: 0.6834776894354478\n",
        "\n",
        "Set #70. Params: {'n_estimators': 500, 'min_samples_split': 2, 'max_depth': 10, 'min_samples_leaf': 2}\n",
        "Running time: 1221.9120769729998\n",
        "Avg balanced accuracy: 0.6984609188966582\n",
        "\n",
        "Set #71. Params: {'n_estimators': 500, 'min_samples_split': 2, 'max_depth': 20, 'min_samples_leaf': 1}\n",
        "Running time: 1739.4586767230003\n",
        "Avg balanced accuracy: 0.6441044513195766\n",
        "\n",
        "Set #72. Params: {'n_estimators': 500, 'min_samples_split': 2, 'max_depth': 20, 'min_samples_leaf': 2}\n",
        "Running time: 1685.455815403001\n",
        "Avg balanced accuracy: 0.6442258421477731\n",
        "\n",
        "Set #73. Params: {'n_estimators': 500, 'min_samples_split': 3, 'max_depth': None, 'min_samples_leaf': 1}\n",
        "Running time: 1872.193593937\n",
        "Avg balanced accuracy: 0.63660909286274\n",
        "\n",
        "Set #74. Params: {'n_estimators': 500, 'min_samples_split': 3, 'max_depth': None, 'min_samples_leaf': 2}\n",
        "Running time: 1822.382917489\n",
        "Avg balanced accuracy: 0.6451936032796686\n",
        "\n",
        "Set #75. Params: {'n_estimators': 500, 'min_samples_split': 3, 'max_depth': 5, 'min_samples_leaf': 1}\n",
        "Running time: 795.3577131079996\n",
        "Avg balanced accuracy: 0.6731137864302188\n",
        "\n",
        "Set #76. Params: {'n_estimators': 500, 'min_samples_split': 3, 'max_depth': 5, 'min_samples_leaf': 2}\n",
        "Running time: 791.5836899139995\n",
        "Avg balanced accuracy: 0.6772018358194207\n",
        "\n",
        "Set #77. Params: {'n_estimators': 500, 'min_samples_split': 3, 'max_depth': 10, 'min_samples_leaf': 1}\n",
        "Running time: 1240.9863157379996\n",
        "Avg balanced accuracy: 0.6944400480539433\n",
        "\n",
        "Set #78. Params: {'n_estimators': 500, 'min_samples_split': 3, 'max_depth': 10, 'min_samples_leaf': 2}\n",
        "Running time: 1235.7908969890004\n",
        "Avg balanced accuracy: 0.6888597963896601\n",
        "\n",
        "Set #79. Params: {'n_estimators': 500, 'min_samples_split': 3, 'max_depth': 20, 'min_samples_leaf': 1}\n",
        "Running time: 1762.2749730490004\n",
        "Avg balanced accuracy: 0.6470361639045924\n",
        "\n",
        "Set #80. Params: {'n_estimators': 500, 'min_samples_split': 3, 'max_depth': 20, 'min_samples_leaf': 2}\n",
        "Running time: 1739.3023663050008\n",
        "Avg balanced accuracy: 0.6565203577807195"
      ],
      "metadata": {
        "id": "ov1bAJAO7xdD"
      },
      "id": "ov1bAJAO7xdD"
    },
    {
      "cell_type": "markdown",
      "source": [
        "##### Recreating results"
      ],
      "metadata": {
        "id": "n16n-oQay6eU"
      },
      "id": "n16n-oQay6eU"
    },
    {
      "cell_type": "code",
      "source": [
        "acc_lst = [0.627690385029652,0.643897635990866,0.678311633075008,0.674058037533655,0.691013226483616,0.692875901275631,0.641512377189989,0.649219132107395,0.62980114351709,0.653357918327626,0.679965260687162,0.67596126092618,0.688601973677445,0.690760151610613,0.649150577330995,0.666652808129797,0.629072385874885,0.644198025409706,0.6850221488899,0.674206542098292,0.687998548954925,0.686074609238762,0.65418727013121,0.663574284091308,0.628107570914443,0.65172613111286,0.678270562330146,0.675908845502766,0.688905032025345,0.691718373952429,0.645391542088548,0.660403558868518,0.627831652933884,0.649609351694998,0.675159138702728,0.671353337012029,0.698978458857947,0.691993623283533,0.639866832972111,0.651551264562774,0.627412267429988,0.641944016169692,0.681166447627967,0.668688707207679,0.688775808462947,0.699560533516175,0.658775967518323,0.653683559823599,0.63715781352439,0.641256117205377,0.681860002517091,0.672720730230269,0.696859360911459,0.693548268280224,0.640035672531914,0.657797544270705,0.641875141000652,0.646336432159865,0.676504351446534,0.677382338649807,0.685915914456922,0.698281779448623,0.64653330543643,0.658121621430083,0.629478089881954,0.633596805576003,0.674777453993262,0.681591532140184,0.683477689435447,0.698460918896658,0.644104451319576,0.644225842147773,0.63660909286274,0.645193603279668,0.673113786430218,0.67720183581942,0.694440048053943,0.68885979638966,0.647036163904592,0.656520357780719]"
      ],
      "metadata": {
        "id": "gL8vtyfg61vo"
      },
      "id": "gL8vtyfg61vo",
      "execution_count": 51,
      "outputs": []
    },
    {
      "cell_type": "code",
      "source": [
        "score_tracker2 = []\n",
        "\n",
        "cnt = 0\n",
        "while len(param_set_combinations) > 16:\n",
        "  current_param_set = param_set_combinations.pop(0)\n",
        "  print(f'Set #{cnt+1}. Params: {current_param_set}')\n",
        "  score_tracker2.append(current_param_set)\n",
        "  current_param_set['balanced_accuracy'] = acc_lst[cnt]\n",
        "  cnt+=1\n",
        "\n",
        "\n",
        "print(len(param_set_combinations), len(score_tracker2), (len(param_set_combinations)+ len(score_tracker2)))"
      ],
      "metadata": {
        "colab": {
          "base_uri": "https://localhost:8080/"
        },
        "id": "iVY3ufPM3BOb",
        "outputId": "328fbbf2-3438-4f1d-bc6b-5a02c570253b"
      },
      "id": "iVY3ufPM3BOb",
      "execution_count": 52,
      "outputs": [
        {
          "output_type": "stream",
          "name": "stdout",
          "text": [
            "Set #1. Params: {'n_estimators': 100, 'min_samples_split': 2, 'max_depth': None, 'min_samples_leaf': 1}\n",
            "Set #2. Params: {'n_estimators': 100, 'min_samples_split': 2, 'max_depth': None, 'min_samples_leaf': 2}\n",
            "Set #3. Params: {'n_estimators': 100, 'min_samples_split': 2, 'max_depth': 5, 'min_samples_leaf': 1}\n",
            "Set #4. Params: {'n_estimators': 100, 'min_samples_split': 2, 'max_depth': 5, 'min_samples_leaf': 2}\n",
            "Set #5. Params: {'n_estimators': 100, 'min_samples_split': 2, 'max_depth': 10, 'min_samples_leaf': 1}\n",
            "Set #6. Params: {'n_estimators': 100, 'min_samples_split': 2, 'max_depth': 10, 'min_samples_leaf': 2}\n",
            "Set #7. Params: {'n_estimators': 100, 'min_samples_split': 2, 'max_depth': 20, 'min_samples_leaf': 1}\n",
            "Set #8. Params: {'n_estimators': 100, 'min_samples_split': 2, 'max_depth': 20, 'min_samples_leaf': 2}\n",
            "Set #9. Params: {'n_estimators': 100, 'min_samples_split': 3, 'max_depth': None, 'min_samples_leaf': 1}\n",
            "Set #10. Params: {'n_estimators': 100, 'min_samples_split': 3, 'max_depth': None, 'min_samples_leaf': 2}\n",
            "Set #11. Params: {'n_estimators': 100, 'min_samples_split': 3, 'max_depth': 5, 'min_samples_leaf': 1}\n",
            "Set #12. Params: {'n_estimators': 100, 'min_samples_split': 3, 'max_depth': 5, 'min_samples_leaf': 2}\n",
            "Set #13. Params: {'n_estimators': 100, 'min_samples_split': 3, 'max_depth': 10, 'min_samples_leaf': 1}\n",
            "Set #14. Params: {'n_estimators': 100, 'min_samples_split': 3, 'max_depth': 10, 'min_samples_leaf': 2}\n",
            "Set #15. Params: {'n_estimators': 100, 'min_samples_split': 3, 'max_depth': 20, 'min_samples_leaf': 1}\n",
            "Set #16. Params: {'n_estimators': 100, 'min_samples_split': 3, 'max_depth': 20, 'min_samples_leaf': 2}\n",
            "Set #17. Params: {'n_estimators': 200, 'min_samples_split': 2, 'max_depth': None, 'min_samples_leaf': 1}\n",
            "Set #18. Params: {'n_estimators': 200, 'min_samples_split': 2, 'max_depth': None, 'min_samples_leaf': 2}\n",
            "Set #19. Params: {'n_estimators': 200, 'min_samples_split': 2, 'max_depth': 5, 'min_samples_leaf': 1}\n",
            "Set #20. Params: {'n_estimators': 200, 'min_samples_split': 2, 'max_depth': 5, 'min_samples_leaf': 2}\n",
            "Set #21. Params: {'n_estimators': 200, 'min_samples_split': 2, 'max_depth': 10, 'min_samples_leaf': 1}\n",
            "Set #22. Params: {'n_estimators': 200, 'min_samples_split': 2, 'max_depth': 10, 'min_samples_leaf': 2}\n",
            "Set #23. Params: {'n_estimators': 200, 'min_samples_split': 2, 'max_depth': 20, 'min_samples_leaf': 1}\n",
            "Set #24. Params: {'n_estimators': 200, 'min_samples_split': 2, 'max_depth': 20, 'min_samples_leaf': 2}\n",
            "Set #25. Params: {'n_estimators': 200, 'min_samples_split': 3, 'max_depth': None, 'min_samples_leaf': 1}\n",
            "Set #26. Params: {'n_estimators': 200, 'min_samples_split': 3, 'max_depth': None, 'min_samples_leaf': 2}\n",
            "Set #27. Params: {'n_estimators': 200, 'min_samples_split': 3, 'max_depth': 5, 'min_samples_leaf': 1}\n",
            "Set #28. Params: {'n_estimators': 200, 'min_samples_split': 3, 'max_depth': 5, 'min_samples_leaf': 2}\n",
            "Set #29. Params: {'n_estimators': 200, 'min_samples_split': 3, 'max_depth': 10, 'min_samples_leaf': 1}\n",
            "Set #30. Params: {'n_estimators': 200, 'min_samples_split': 3, 'max_depth': 10, 'min_samples_leaf': 2}\n",
            "Set #31. Params: {'n_estimators': 200, 'min_samples_split': 3, 'max_depth': 20, 'min_samples_leaf': 1}\n",
            "Set #32. Params: {'n_estimators': 200, 'min_samples_split': 3, 'max_depth': 20, 'min_samples_leaf': 2}\n",
            "Set #33. Params: {'n_estimators': 300, 'min_samples_split': 2, 'max_depth': None, 'min_samples_leaf': 1}\n",
            "Set #34. Params: {'n_estimators': 300, 'min_samples_split': 2, 'max_depth': None, 'min_samples_leaf': 2}\n",
            "Set #35. Params: {'n_estimators': 300, 'min_samples_split': 2, 'max_depth': 5, 'min_samples_leaf': 1}\n",
            "Set #36. Params: {'n_estimators': 300, 'min_samples_split': 2, 'max_depth': 5, 'min_samples_leaf': 2}\n",
            "Set #37. Params: {'n_estimators': 300, 'min_samples_split': 2, 'max_depth': 10, 'min_samples_leaf': 1}\n",
            "Set #38. Params: {'n_estimators': 300, 'min_samples_split': 2, 'max_depth': 10, 'min_samples_leaf': 2}\n",
            "Set #39. Params: {'n_estimators': 300, 'min_samples_split': 2, 'max_depth': 20, 'min_samples_leaf': 1}\n",
            "Set #40. Params: {'n_estimators': 300, 'min_samples_split': 2, 'max_depth': 20, 'min_samples_leaf': 2}\n",
            "Set #41. Params: {'n_estimators': 300, 'min_samples_split': 3, 'max_depth': None, 'min_samples_leaf': 1}\n",
            "Set #42. Params: {'n_estimators': 300, 'min_samples_split': 3, 'max_depth': None, 'min_samples_leaf': 2}\n",
            "Set #43. Params: {'n_estimators': 300, 'min_samples_split': 3, 'max_depth': 5, 'min_samples_leaf': 1}\n",
            "Set #44. Params: {'n_estimators': 300, 'min_samples_split': 3, 'max_depth': 5, 'min_samples_leaf': 2}\n",
            "Set #45. Params: {'n_estimators': 300, 'min_samples_split': 3, 'max_depth': 10, 'min_samples_leaf': 1}\n",
            "Set #46. Params: {'n_estimators': 300, 'min_samples_split': 3, 'max_depth': 10, 'min_samples_leaf': 2}\n",
            "Set #47. Params: {'n_estimators': 300, 'min_samples_split': 3, 'max_depth': 20, 'min_samples_leaf': 1}\n",
            "Set #48. Params: {'n_estimators': 300, 'min_samples_split': 3, 'max_depth': 20, 'min_samples_leaf': 2}\n",
            "Set #49. Params: {'n_estimators': 400, 'min_samples_split': 2, 'max_depth': None, 'min_samples_leaf': 1}\n",
            "Set #50. Params: {'n_estimators': 400, 'min_samples_split': 2, 'max_depth': None, 'min_samples_leaf': 2}\n",
            "Set #51. Params: {'n_estimators': 400, 'min_samples_split': 2, 'max_depth': 5, 'min_samples_leaf': 1}\n",
            "Set #52. Params: {'n_estimators': 400, 'min_samples_split': 2, 'max_depth': 5, 'min_samples_leaf': 2}\n",
            "Set #53. Params: {'n_estimators': 400, 'min_samples_split': 2, 'max_depth': 10, 'min_samples_leaf': 1}\n",
            "Set #54. Params: {'n_estimators': 400, 'min_samples_split': 2, 'max_depth': 10, 'min_samples_leaf': 2}\n",
            "Set #55. Params: {'n_estimators': 400, 'min_samples_split': 2, 'max_depth': 20, 'min_samples_leaf': 1}\n",
            "Set #56. Params: {'n_estimators': 400, 'min_samples_split': 2, 'max_depth': 20, 'min_samples_leaf': 2}\n",
            "Set #57. Params: {'n_estimators': 400, 'min_samples_split': 3, 'max_depth': None, 'min_samples_leaf': 1}\n",
            "Set #58. Params: {'n_estimators': 400, 'min_samples_split': 3, 'max_depth': None, 'min_samples_leaf': 2}\n",
            "Set #59. Params: {'n_estimators': 400, 'min_samples_split': 3, 'max_depth': 5, 'min_samples_leaf': 1}\n",
            "Set #60. Params: {'n_estimators': 400, 'min_samples_split': 3, 'max_depth': 5, 'min_samples_leaf': 2}\n",
            "Set #61. Params: {'n_estimators': 400, 'min_samples_split': 3, 'max_depth': 10, 'min_samples_leaf': 1}\n",
            "Set #62. Params: {'n_estimators': 400, 'min_samples_split': 3, 'max_depth': 10, 'min_samples_leaf': 2}\n",
            "Set #63. Params: {'n_estimators': 400, 'min_samples_split': 3, 'max_depth': 20, 'min_samples_leaf': 1}\n",
            "Set #64. Params: {'n_estimators': 400, 'min_samples_split': 3, 'max_depth': 20, 'min_samples_leaf': 2}\n",
            "Set #65. Params: {'n_estimators': 500, 'min_samples_split': 2, 'max_depth': None, 'min_samples_leaf': 1}\n",
            "Set #66. Params: {'n_estimators': 500, 'min_samples_split': 2, 'max_depth': None, 'min_samples_leaf': 2}\n",
            "Set #67. Params: {'n_estimators': 500, 'min_samples_split': 2, 'max_depth': 5, 'min_samples_leaf': 1}\n",
            "Set #68. Params: {'n_estimators': 500, 'min_samples_split': 2, 'max_depth': 5, 'min_samples_leaf': 2}\n",
            "Set #69. Params: {'n_estimators': 500, 'min_samples_split': 2, 'max_depth': 10, 'min_samples_leaf': 1}\n",
            "Set #70. Params: {'n_estimators': 500, 'min_samples_split': 2, 'max_depth': 10, 'min_samples_leaf': 2}\n",
            "Set #71. Params: {'n_estimators': 500, 'min_samples_split': 2, 'max_depth': 20, 'min_samples_leaf': 1}\n",
            "Set #72. Params: {'n_estimators': 500, 'min_samples_split': 2, 'max_depth': 20, 'min_samples_leaf': 2}\n",
            "Set #73. Params: {'n_estimators': 500, 'min_samples_split': 3, 'max_depth': None, 'min_samples_leaf': 1}\n",
            "Set #74. Params: {'n_estimators': 500, 'min_samples_split': 3, 'max_depth': None, 'min_samples_leaf': 2}\n",
            "Set #75. Params: {'n_estimators': 500, 'min_samples_split': 3, 'max_depth': 5, 'min_samples_leaf': 1}\n",
            "Set #76. Params: {'n_estimators': 500, 'min_samples_split': 3, 'max_depth': 5, 'min_samples_leaf': 2}\n",
            "Set #77. Params: {'n_estimators': 500, 'min_samples_split': 3, 'max_depth': 10, 'min_samples_leaf': 1}\n",
            "Set #78. Params: {'n_estimators': 500, 'min_samples_split': 3, 'max_depth': 10, 'min_samples_leaf': 2}\n",
            "Set #79. Params: {'n_estimators': 500, 'min_samples_split': 3, 'max_depth': 20, 'min_samples_leaf': 1}\n",
            "Set #80. Params: {'n_estimators': 500, 'min_samples_split': 3, 'max_depth': 20, 'min_samples_leaf': 2}\n",
            "16 80 96\n"
          ]
        }
      ]
    },
    {
      "cell_type": "code",
      "source": [
        "score_tracker"
      ],
      "metadata": {
        "colab": {
          "base_uri": "https://localhost:8080/"
        },
        "id": "rK6uxNeC40G9",
        "outputId": "220ff799-35dd-4cbd-a948-6002d5e92b9c"
      },
      "id": "rK6uxNeC40G9",
      "execution_count": 53,
      "outputs": [
        {
          "output_type": "execute_result",
          "data": {
            "text/plain": [
              "[{'n_estimators': 500,\n",
              "  'min_samples_split': 3,\n",
              "  'max_depth': None,\n",
              "  'min_samples_leaf': 1,\n",
              "  'balanced_accuracy': 0.63660909286274},\n",
              " {'n_estimators': 500,\n",
              "  'min_samples_split': 3,\n",
              "  'max_depth': None,\n",
              "  'min_samples_leaf': 2,\n",
              "  'balanced_accuracy': 0.6451936032796686},\n",
              " {'n_estimators': 500,\n",
              "  'min_samples_split': 3,\n",
              "  'max_depth': 5,\n",
              "  'min_samples_leaf': 1,\n",
              "  'balanced_accuracy': 0.6731137864302188},\n",
              " {'n_estimators': 500,\n",
              "  'min_samples_split': 3,\n",
              "  'max_depth': 5,\n",
              "  'min_samples_leaf': 2,\n",
              "  'balanced_accuracy': 0.6772018358194207},\n",
              " {'n_estimators': 500,\n",
              "  'min_samples_split': 3,\n",
              "  'max_depth': 10,\n",
              "  'min_samples_leaf': 1,\n",
              "  'balanced_accuracy': 0.6944400480539433},\n",
              " {'n_estimators': 500,\n",
              "  'min_samples_split': 3,\n",
              "  'max_depth': 10,\n",
              "  'min_samples_leaf': 2,\n",
              "  'balanced_accuracy': 0.6888597963896601},\n",
              " {'n_estimators': 500,\n",
              "  'min_samples_split': 3,\n",
              "  'max_depth': 20,\n",
              "  'min_samples_leaf': 1,\n",
              "  'balanced_accuracy': 0.6470361639045924},\n",
              " {'n_estimators': 500,\n",
              "  'min_samples_split': 3,\n",
              "  'max_depth': 20,\n",
              "  'min_samples_leaf': 2,\n",
              "  'balanced_accuracy': 0.6565203577807195}]"
            ]
          },
          "metadata": {},
          "execution_count": 53
        }
      ]
    },
    {
      "cell_type": "code",
      "source": [
        "# score_tracker2"
      ],
      "metadata": {
        "id": "jPLoQ8O3xXY7"
      },
      "id": "jPLoQ8O3xXY7",
      "execution_count": null,
      "outputs": []
    },
    {
      "cell_type": "markdown",
      "source": [
        "##### Continuing grid search"
      ],
      "metadata": {
        "id": "l7fyESmw71FA"
      },
      "id": "l7fyESmw71FA"
    },
    {
      "cell_type": "code",
      "source": [
        "param_set_combinations = param_set_combinations[:8]"
      ],
      "metadata": {
        "id": "G0SlUTEN0l1t"
      },
      "id": "G0SlUTEN0l1t",
      "execution_count": 40,
      "outputs": []
    },
    {
      "cell_type": "code",
      "source": [
        "score_tracker = []\n",
        "# cnt = 1\n",
        "cnt = 73\n",
        "while param_set_combinations:\n",
        "  # remove the first element\n",
        "  current_param_set = param_set_combinations.pop(0)\n",
        "  print(f'Set #{cnt}. Params: {current_param_set}')\n",
        "\n",
        "  start_time = process_time()\n",
        "  # run cross-validation\n",
        "\n",
        "  \n",
        "  scores, models = smote_cross_val(RandomForestClassifier,\n",
        "                                   current_param_set, \n",
        "                                   X_gs_std,\n",
        "                                   y_gs)\n",
        "  time_to_run = process_time() - start_time\n",
        "  print(f'Running time: {time_to_run}')\n",
        "\n",
        "  # get average score from cross-validation\n",
        "  avg_score = scores.mean()\n",
        "\n",
        "  # record it in the current param set\n",
        "  current_param_set['balanced_accuracy'] = avg_score\n",
        "  print(f'Avg balanced accuracy: {avg_score}\\n')\n",
        "\n",
        "  # append current_param_set to the list\n",
        "  score_tracker.append(current_param_set)\n",
        "  # increment the count\n",
        "  cnt+=1"
      ],
      "metadata": {
        "id": "FGOY6cmDxHYh",
        "outputId": "3acf47a8-2873-4e7b-d2fb-49789f8300b6",
        "colab": {
          "base_uri": "https://localhost:8080/"
        }
      },
      "id": "FGOY6cmDxHYh",
      "execution_count": 42,
      "outputs": [
        {
          "output_type": "stream",
          "name": "stdout",
          "text": [
            "Set #73. Params: {'n_estimators': 500, 'min_samples_split': 3, 'max_depth': None, 'min_samples_leaf': 1}\n",
            "Running time: 1872.193593937\n",
            "Avg balanced accuracy: 0.63660909286274\n",
            "\n",
            "Set #74. Params: {'n_estimators': 500, 'min_samples_split': 3, 'max_depth': None, 'min_samples_leaf': 2}\n",
            "Running time: 1822.382917489\n",
            "Avg balanced accuracy: 0.6451936032796686\n",
            "\n",
            "Set #75. Params: {'n_estimators': 500, 'min_samples_split': 3, 'max_depth': 5, 'min_samples_leaf': 1}\n",
            "Running time: 795.3577131079996\n",
            "Avg balanced accuracy: 0.6731137864302188\n",
            "\n",
            "Set #76. Params: {'n_estimators': 500, 'min_samples_split': 3, 'max_depth': 5, 'min_samples_leaf': 2}\n",
            "Running time: 791.5836899139995\n",
            "Avg balanced accuracy: 0.6772018358194207\n",
            "\n",
            "Set #77. Params: {'n_estimators': 500, 'min_samples_split': 3, 'max_depth': 10, 'min_samples_leaf': 1}\n",
            "Running time: 1240.9863157379996\n",
            "Avg balanced accuracy: 0.6944400480539433\n",
            "\n",
            "Set #78. Params: {'n_estimators': 500, 'min_samples_split': 3, 'max_depth': 10, 'min_samples_leaf': 2}\n",
            "Running time: 1235.7908969890004\n",
            "Avg balanced accuracy: 0.6888597963896601\n",
            "\n",
            "Set #79. Params: {'n_estimators': 500, 'min_samples_split': 3, 'max_depth': 20, 'min_samples_leaf': 1}\n",
            "Running time: 1762.2749730490004\n",
            "Avg balanced accuracy: 0.6470361639045924\n",
            "\n",
            "Set #80. Params: {'n_estimators': 500, 'min_samples_split': 3, 'max_depth': 20, 'min_samples_leaf': 2}\n",
            "Running time: 1739.3023663050008\n",
            "Avg balanced accuracy: 0.6565203577807195\n",
            "\n"
          ]
        }
      ]
    },
    {
      "cell_type": "markdown",
      "id": "d86bf384",
      "metadata": {
        "id": "d86bf384"
      },
      "source": [
        "### 4. Get the Best Params"
      ]
    },
    {
      "cell_type": "code",
      "source": [
        "# top 5 params\n",
        "sorted(score_tracker2, key=lambda x: x['balanced_accuracy'], reverse=True)[:10]"
      ],
      "metadata": {
        "colab": {
          "base_uri": "https://localhost:8080/"
        },
        "id": "h5UVP0hW0rrC",
        "outputId": "0030fe58-765c-4d9f-8da7-0d129d40294c"
      },
      "id": "h5UVP0hW0rrC",
      "execution_count": 55,
      "outputs": [
        {
          "output_type": "execute_result",
          "data": {
            "text/plain": [
              "[{'n_estimators': 300,\n",
              "  'min_samples_split': 3,\n",
              "  'max_depth': 10,\n",
              "  'min_samples_leaf': 2,\n",
              "  'balanced_accuracy': 0.699560533516175},\n",
              " {'n_estimators': 300,\n",
              "  'min_samples_split': 2,\n",
              "  'max_depth': 10,\n",
              "  'min_samples_leaf': 1,\n",
              "  'balanced_accuracy': 0.698978458857947},\n",
              " {'n_estimators': 500,\n",
              "  'min_samples_split': 2,\n",
              "  'max_depth': 10,\n",
              "  'min_samples_leaf': 2,\n",
              "  'balanced_accuracy': 0.698460918896658},\n",
              " {'n_estimators': 400,\n",
              "  'min_samples_split': 3,\n",
              "  'max_depth': 10,\n",
              "  'min_samples_leaf': 2,\n",
              "  'balanced_accuracy': 0.698281779448623},\n",
              " {'n_estimators': 400,\n",
              "  'min_samples_split': 2,\n",
              "  'max_depth': 10,\n",
              "  'min_samples_leaf': 1,\n",
              "  'balanced_accuracy': 0.696859360911459},\n",
              " {'n_estimators': 500,\n",
              "  'min_samples_split': 3,\n",
              "  'max_depth': 10,\n",
              "  'min_samples_leaf': 1,\n",
              "  'balanced_accuracy': 0.694440048053943},\n",
              " {'n_estimators': 400,\n",
              "  'min_samples_split': 2,\n",
              "  'max_depth': 10,\n",
              "  'min_samples_leaf': 2,\n",
              "  'balanced_accuracy': 0.693548268280224},\n",
              " {'n_estimators': 100,\n",
              "  'min_samples_split': 2,\n",
              "  'max_depth': 10,\n",
              "  'min_samples_leaf': 2,\n",
              "  'balanced_accuracy': 0.692875901275631},\n",
              " {'n_estimators': 300,\n",
              "  'min_samples_split': 2,\n",
              "  'max_depth': 10,\n",
              "  'min_samples_leaf': 2,\n",
              "  'balanced_accuracy': 0.691993623283533},\n",
              " {'n_estimators': 200,\n",
              "  'min_samples_split': 3,\n",
              "  'max_depth': 10,\n",
              "  'min_samples_leaf': 2,\n",
              "  'balanced_accuracy': 0.691718373952429}]"
            ]
          },
          "metadata": {},
          "execution_count": 55
        }
      ]
    },
    {
      "cell_type": "code",
      "execution_count": 56,
      "id": "9a2108a8",
      "metadata": {
        "colab": {
          "base_uri": "https://localhost:8080/"
        },
        "id": "9a2108a8",
        "outputId": "1280fdda-2675-4e6a-c649-0452459c5fb3"
      },
      "outputs": [
        {
          "output_type": "stream",
          "name": "stdout",
          "text": [
            "{'n_estimators': 300, 'min_samples_split': 3, 'max_depth': 10, 'min_samples_leaf': 2, 'balanced_accuracy': 0.699560533516175}\n"
          ]
        },
        {
          "output_type": "execute_result",
          "data": {
            "text/plain": [
              "{'n_estimators': 300,\n",
              " 'min_samples_split': 3,\n",
              " 'max_depth': 10,\n",
              " 'min_samples_leaf': 2}"
            ]
          },
          "metadata": {},
          "execution_count": 56
        }
      ],
      "source": [
        "# Get the parameters and the balanced accuracy of the best model\n",
        "best_params_set = sorted(score_tracker2, key=lambda x: x['balanced_accuracy'], reverse=True)[0]\n",
        "print(best_params_set)\n",
        "\n",
        "# params to pass to the classifier (removing balanced accuracy)\n",
        "best_params_rf = dict(best_params_set)\n",
        "del best_params_rf['balanced_accuracy']\n",
        "best_params_rf"
      ]
    },
    {
      "cell_type": "markdown",
      "id": "4911e461",
      "metadata": {
        "id": "4911e461"
      },
      "source": [
        "### 5. Run with best params over full dataset (balanced with SMOTE)"
      ]
    },
    {
      "cell_type": "code",
      "execution_count": 57,
      "id": "74f33e3d",
      "metadata": {
        "id": "74f33e3d",
        "colab": {
          "base_uri": "https://localhost:8080/"
        },
        "outputId": "b9be9730-ea55-4c3e-f96d-93389a56fe42"
      },
      "outputs": [
        {
          "output_type": "stream",
          "name": "stdout",
          "text": [
            "Downloading...\n",
            "From: https://drive.google.com/uc?id=1ANWzAKy0MKpZsID16fNnrZ8ltmOYq8G3\n",
            "To: /content/train_balanced_85_multi_22_features.csv\n",
            "100% 231M/231M [00:46<00:00, 4.97MB/s]\n",
            "Downloading...\n",
            "From: https://drive.google.com/uc?id=1F1mHLwlno3OOtpSpMsiQqhoow6aj__DN\n",
            "To: /content/test_imbalanced_15.csv\n",
            "100% 41.8M/41.8M [00:08<00:00, 4.99MB/s]\n"
          ]
        }
      ],
      "source": [
        "!gdown '1ANWzAKy0MKpZsID16fNnrZ8ltmOYq8G3' -O train_balanced_85_multi_22_features.csv\n",
        "!gdown '1F1mHLwlno3OOtpSpMsiQqhoow6aj__DN' -O test_imbalanced_15.csv"
      ]
    },
    {
      "cell_type": "code",
      "execution_count": 58,
      "id": "f6683f12",
      "metadata": {
        "id": "f6683f12"
      },
      "outputs": [],
      "source": [
        "# Run in Colab\n",
        "train = pd.read_csv('train_balanced_85_multi_22_features.csv')\n",
        "test = pd.read_csv('test_imbalanced_15.csv')"
      ]
    },
    {
      "cell_type": "code",
      "execution_count": null,
      "id": "249843ca",
      "metadata": {
        "id": "249843ca"
      },
      "outputs": [],
      "source": [
        "# # Local destination\n",
        "# train = pd.read_csv('../data/train_balanced_85_multi_22_features.csv')\n",
        "# test = pd.read_csv('../data/test_imbalanced_15.csv')"
      ]
    },
    {
      "cell_type": "code",
      "execution_count": 59,
      "id": "9233aa84",
      "metadata": {
        "colab": {
          "base_uri": "https://localhost:8080/"
        },
        "id": "9233aa84",
        "outputId": "e1d801ce-036a-4a96-9982-b25d93f358b9"
      },
      "outputs": [
        {
          "output_type": "execute_result",
          "data": {
            "text/plain": [
              "((1831590, 22), (1831590,), (380961, 22), (380961,))"
            ]
          },
          "metadata": {},
          "execution_count": 59
        }
      ],
      "source": [
        "# removing labels from the train and test sets, also removing spkts column due to high correlation\n",
        "X_train = train.drop(['attack_cat_code'], axis=1)\n",
        "X_test = test.drop(['attack_cat_code'], axis=1)\n",
        "\n",
        "# creating a dataframe for the target\n",
        "y_train = train['attack_cat_code']\n",
        "y_test = test['attack_cat_code']\n",
        "\n",
        "X_train.shape, y_train.shape, X_test.shape, y_test.shape"
      ]
    },
    {
      "cell_type": "code",
      "execution_count": 60,
      "id": "698671aa",
      "metadata": {
        "colab": {
          "base_uri": "https://localhost:8080/"
        },
        "id": "698671aa",
        "outputId": "82a9e43d-cf75-4e80-b4a3-abd4907b94b6"
      },
      "outputs": [
        {
          "output_type": "execute_result",
          "data": {
            "text/plain": [
              "0    183159\n",
              "1    183159\n",
              "2    183159\n",
              "3    183159\n",
              "4    183159\n",
              "5    183159\n",
              "6    183159\n",
              "7    183159\n",
              "8    183159\n",
              "9    183159\n",
              "Name: attack_cat_code, dtype: int64"
            ]
          },
          "metadata": {},
          "execution_count": 60
        }
      ],
      "source": [
        "y_train.value_counts()"
      ]
    },
    {
      "cell_type": "code",
      "execution_count": 61,
      "id": "6efca9dc",
      "metadata": {
        "colab": {
          "base_uri": "https://localhost:8080/"
        },
        "id": "6efca9dc",
        "outputId": "e96eb629-0310-48fb-e1c9-180d13eb8c6d"
      },
      "outputs": [
        {
          "output_type": "execute_result",
          "data": {
            "text/plain": [
              "((1831590, 22), (1831590,), (380961, 22), (380961,))"
            ]
          },
          "metadata": {},
          "execution_count": 61
        }
      ],
      "source": [
        "# Standardizing\n",
        "stdsc = StandardScaler()\n",
        "X_train_std = stdsc.fit_transform(X_train)\n",
        "X_test_std = stdsc.transform(X_test)\n",
        "\n",
        "X_train_std.shape, y_train.shape, X_test_std.shape, y_test.shape"
      ]
    },
    {
      "cell_type": "code",
      "execution_count": 62,
      "id": "b1143a13",
      "metadata": {
        "colab": {
          "base_uri": "https://localhost:8080/"
        },
        "id": "b1143a13",
        "outputId": "89e7c440-a9d8-44bd-e215-4e97ccf2ef10"
      },
      "outputs": [
        {
          "output_type": "stream",
          "name": "stdout",
          "text": [
            "time to train: 1286.0010581529987\n",
            "inference time: 13.219265067000379\n"
          ]
        }
      ],
      "source": [
        "start_time = process_time()\n",
        "# instantiate the classifier\n",
        "rf_best_params = RandomForestClassifier()\n",
        "# pass the dictioanary with the best params determined by GridSearch\n",
        "rf_best_params.set_params(**best_params_rf)\n",
        "# fit the model\n",
        "rf_best_params.fit(X_train_std, y_train)\n",
        "time_to_train = process_time() - start_time\n",
        "print(f'time to train: {time_to_train}')\n",
        "\n",
        "start_time = process_time()\n",
        "y_pred_rf_best_params = rf_best_params.predict(X_test_std)\n",
        "time_to_train = process_time() - start_time\n",
        "print(f'inference time: {time_to_train}')"
      ]
    },
    {
      "cell_type": "code",
      "execution_count": null,
      "id": "17d0c7fd",
      "metadata": {
        "id": "17d0c7fd"
      },
      "outputs": [],
      "source": [
        "# rf_best_params.get_params()"
      ]
    },
    {
      "cell_type": "markdown",
      "source": [
        "### Function to visualize confusion matrix and classification report"
      ],
      "metadata": {
        "id": "dts7izSdyX5-"
      },
      "id": "dts7izSdyX5-"
    },
    {
      "cell_type": "code",
      "execution_count": 67,
      "id": "13b5c45d",
      "metadata": {
        "id": "13b5c45d"
      },
      "outputs": [],
      "source": [
        "codes = {'Normal':0,\n",
        "         'Generic':1,\n",
        "         'Exploits':2,\n",
        "         'Fuzzers': 3,\n",
        "         'DoS':4,\n",
        "         'Reconnaissance':5,\n",
        "         'Analysis':6,\n",
        "         'Backdoor':7,\n",
        "         'Shellcode':8,\n",
        "         'Worms':9   \n",
        "}\n",
        "labels = [x for x in codes.keys()]\n",
        "# labels\n",
        "\n",
        "# Function to visualize the performance\n",
        "from sklearn.metrics import accuracy_score, balanced_accuracy_score \n",
        "from sklearn.metrics import precision_score, recall_score, f1_score, roc_auc_score\n",
        "from sklearn.metrics import confusion_matrix, classification_report, roc_curve, auc\n",
        "\n",
        "def calculate_metrics(y_true, y_pred, labels):\n",
        "\n",
        "\n",
        "    \"\"\"\n",
        "    Calculate main metrics:\n",
        "    :param y_test - actual value\n",
        "    :param y_pred - predicted value\n",
        "    :param labels - class labels\n",
        "    :return balanced_accuracy, accuracy, precision, recall, f1\n",
        "    \"\"\"\n",
        "    accuracy = accuracy_score(y_true, y_pred)\n",
        "    # The balanced accuracy in binary and multiclass classification problems to deal with imbalanced datasets. \n",
        "    # It is defined as the average of recall obtained on each class.\n",
        "    balanced_accuracy = balanced_accuracy_score(y_true, y_pred)\n",
        "\n",
        "    # tp / (tp + fp) Ability of the classifier not to label as positive a sample that is negative.\n",
        "    precision = precision_score(y_true, y_pred, average='weighted')\n",
        "\n",
        "    # tp / (tp + fn) Ability of the classifier to find all the positive samples.\n",
        "    recall = recall_score(y_true, y_pred, average='weighted')\n",
        "\n",
        "    # F1 = 2 * (precision * recall) / (precision + recall)\n",
        "    # harmonic mean of the precision and recall\n",
        "    f1 = f1_score(y_true, y_pred, average='weighted')\n",
        "\n",
        "\n",
        "    print(f'Accuracy:{accuracy:.2f}')\n",
        "    print(f'Balanced accuracy:{balanced_accuracy:.2f}')\n",
        "    print(f'Precision:{precision:.2f}')\n",
        "    print(f'Recall:{recall:.2f}')\n",
        "    print(f'F1-score:{f1:.2f}') \n",
        "\n",
        "    cnf_matrix = confusion_matrix(y_true, y_pred, normalize='true')\n",
        "\n",
        "    fig, ax = plt.subplots(figsize=(9, 9))\n",
        "    ax.set_title('Balanced Accuracy on Test Set: {0}%\\n'.format(\"%.2f\" % (balanced_accuracy*100.0)), size=14)\n",
        "    ax.set_ylabel('Actual Label')\n",
        "    ax.set_xlabel('Predicted Label')\n",
        "\n",
        "    sns.heatmap(cnf_matrix,\n",
        "              square=True,\n",
        "              annot=True,\n",
        "              cbar=False,\n",
        "              fmt=\".2f\",\n",
        "              linewidths=0.1,\n",
        "              cmap=\"Greens\",\n",
        "              xticklabels=labels,\n",
        "              yticklabels=labels,\n",
        "              ax=ax)\n",
        "    plt.tight_layout()\n",
        "    plt.xticks(size=10)\n",
        "    plt.yticks(size=10)\n",
        "    plt.show()\n",
        "\n",
        "    print('Classification Report:\\n',\n",
        "      classification_report(y_true,\n",
        "                            y_pred,\n",
        "                            target_names=labels))\n",
        "    return accuracy, balanced_accuracy, precision, recall, f1 "
      ]
    },
    {
      "cell_type": "code",
      "execution_count": 71,
      "id": "16e551a0",
      "metadata": {
        "colab": {
          "base_uri": "https://localhost:8080/",
          "height": 1000
        },
        "id": "16e551a0",
        "outputId": "8e355db1-dc42-40f2-c947-9fb870a2d186"
      },
      "outputs": [
        {
          "output_type": "stream",
          "name": "stdout",
          "text": [
            "Accuracy:0.97\n",
            "Balanced accuracy:0.73\n",
            "Precision:0.98\n",
            "Recall:0.97\n",
            "F1-score:0.97\n"
          ]
        },
        {
          "output_type": "display_data",
          "data": {
            "text/plain": [
              "<Figure size 900x900 with 1 Axes>"
            ],
            "image/png": "[encoded data removed]"
          },
          "metadata": {}
        },
        {
          "output_type": "stream",
          "name": "stdout",
          "text": [
            "Classification Report:\n",
            "                 precision    recall  f1-score   support\n",
            "\n",
            "        Normal       1.00      0.99      0.99    332768\n",
            "       Generic       1.00      0.97      0.99     32322\n",
            "      Exploits       0.82      0.44      0.58      6679\n",
            "       Fuzzers       0.42      0.87      0.56      3637\n",
            "           DoS       0.34      0.53      0.41      2453\n",
            "Reconnaissance       0.81      0.82      0.81      2098\n",
            "      Analysis       0.12      0.25      0.16       402\n",
            "      Backdoor       0.08      0.48      0.13       349\n",
            "     Shellcode       0.49      0.98      0.66       227\n",
            "         Worms       0.04      0.92      0.07        26\n",
            "\n",
            "      accuracy                           0.97    380961\n",
            "     macro avg       0.51      0.73      0.54    380961\n",
            "  weighted avg       0.98      0.97      0.97    380961\n",
            "\n"
          ]
        },
        {
          "output_type": "execute_result",
          "data": {
            "text/plain": [
              "(0.9692986946170343,\n",
              " 0.7267500763500443,\n",
              " 0.9838231432227574,\n",
              " 0.9692986946170343,\n",
              " 0.9743839693133561)"
            ]
          },
          "metadata": {},
          "execution_count": 71
        }
      ],
      "source": [
        "plt.style.use('ggplot')\n",
        "# plt.style.use('fivethirtyeight')\n",
        "calculate_metrics(y_test, y_pred_rf_best_params, labels)"
      ]
    },
    {
      "cell_type": "markdown",
      "id": "88b17eea",
      "metadata": {
        "id": "88b17eea"
      },
      "source": [
        "### 7. Export the best model"
      ]
    },
    {
      "cell_type": "code",
      "execution_count": 66,
      "id": "339e0e8c",
      "metadata": {
        "colab": {
          "base_uri": "https://localhost:8080/"
        },
        "id": "339e0e8c",
        "outputId": "f70d5c03-32c9-4159-857a-cb62147bab2f"
      },
      "outputs": [
        {
          "output_type": "execute_result",
          "data": {
            "text/plain": [
              "['rf_best_params.joblib']"
            ]
          },
          "metadata": {},
          "execution_count": 66
        }
      ],
      "source": [
        "# Exporting the model\n",
        "from joblib import dump, load\n",
        "dump(rf_best_params, 'rf_best_params.joblib') "
      ]
    },
    {
      "cell_type": "code",
      "source": [
        "# loading to make sure the weights are OK\n",
        "loaded_rf_best_params = load('rf_best_params.joblib')\n",
        "\n",
        "start_time = process_time()\n",
        "y_pred = loaded_rf_best_params.predict(X_test_std)\n",
        "time_to_train = process_time() - start_time\n",
        "print(f'inference time: {time_to_train}')\n",
        "# visualizing\n",
        "calculate_metrics(y_test, y_pred_rf_best_params, labels)"
      ],
      "metadata": {
        "colab": {
          "base_uri": "https://localhost:8080/",
          "height": 1000
        },
        "id": "wocxd9GeBOYQ",
        "outputId": "4ce1ab4b-376b-4e56-a1a3-a29f482d9df6"
      },
      "id": "wocxd9GeBOYQ",
      "execution_count": 73,
      "outputs": [
        {
          "output_type": "stream",
          "name": "stdout",
          "text": [
            "inference time: 13.509408955000254\n",
            "Accuracy:0.97\n",
            "Balanced accuracy:0.73\n",
            "Precision:0.98\n",
            "Recall:0.97\n",
            "F1-score:0.97\n"
          ]
        },
        {
          "output_type": "display_data",
          "data": {
            "text/plain": [
              "<Figure size 900x900 with 1 Axes>"
            ],
            "image/png": "[encoded data removed]"
          },
          "metadata": {}
        },
        {
          "output_type": "stream",
          "name": "stdout",
          "text": [
            "Classification Report:\n",
            "                 precision    recall  f1-score   support\n",
            "\n",
            "        Normal       1.00      0.99      0.99    332768\n",
            "       Generic       1.00      0.97      0.99     32322\n",
            "      Exploits       0.82      0.44      0.58      6679\n",
            "       Fuzzers       0.42      0.87      0.56      3637\n",
            "           DoS       0.34      0.53      0.41      2453\n",
            "Reconnaissance       0.81      0.82      0.81      2098\n",
            "      Analysis       0.12      0.25      0.16       402\n",
            "      Backdoor       0.08      0.48      0.13       349\n",
            "     Shellcode       0.49      0.98      0.66       227\n",
            "         Worms       0.04      0.92      0.07        26\n",
            "\n",
            "      accuracy                           0.97    380961\n",
            "     macro avg       0.51      0.73      0.54    380961\n",
            "  weighted avg       0.98      0.97      0.97    380961\n",
            "\n"
          ]
        },
        {
          "output_type": "execute_result",
          "data": {
            "text/plain": [
              "(0.9692986946170343,\n",
              " 0.7267500763500443,\n",
              " 0.9838231432227574,\n",
              " 0.9692986946170343,\n",
              " 0.9743839693133561)"
            ]
          },
          "metadata": {},
          "execution_count": 73
        }
      ]
    }
  ],
  "metadata": {
    "kernelspec": {
      "display_name": "Python 3 (ipykernel)",
      "language": "python",
      "name": "python3"
    },
    "language_info": {
      "codemirror_mode": {
        "name": "ipython",
        "version": 3
      },
      "file_extension": ".py",
      "mimetype": "text/x-python",
      "name": "python",
      "nbconvert_exporter": "python",
      "pygments_lexer": "ipython3",
      "version": "3.9.10"
    },
    "colab": {
      "provenance": [],
      "collapsed_sections": [
        "7a056bb3",
        "207c2ae5",
        "403b7db4",
        "tKAeCT1x7lva",
        "n16n-oQay6eU"
      ]
    }
  },
  "nbformat": 4,
  "nbformat_minor": 5
}