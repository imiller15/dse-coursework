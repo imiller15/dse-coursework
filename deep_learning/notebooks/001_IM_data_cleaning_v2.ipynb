{
 "cells": [
  {
   "cell_type": "markdown",
   "metadata": {
    "id": "Ldrpc-bUOK40"
   },
   "source": [
    "This notebook is different from v1 in two major steps:\n",
    "1. In v1 `ct_flw_http_mthd` (53%), `is_ftp_login` (56%), and `ct_ftp_cmd` (56%) had large amounts of missing values  which were imputed with zeros. In this version we are dropping those two columns entirely.<br>\n",
    "2. Cross-referencing results of VIF, Pearson Correlation, and feature importance with random forest to remove some of the columns. Reduced the number of features from 207 to 23.\n",
    "3. Increased the test split from 10% to 15%.\n",
    "4. Identified columns with a wide range of possible values to perform log-transformation<br>\n",
    "~5. Log transformation of xxx numerical columns that have a wide range of possible values.~"
   ]
  },
  {
   "cell_type": "markdown",
   "metadata": {
    "id": "NEaNMNQoC3FY"
   },
   "source": [
    "## Downloading the Data"
   ]
  },
  {
   "cell_type": "code",
   "execution_count": null,
   "metadata": {
    "id": "xhuOwvV1_IeF"
   },
   "outputs": [],
   "source": [
    "# # Mount google drive \n",
    "# from google.colab import drive\n",
    "# drive.mount('/content/drive')\n",
    "# # change the directory to be able to import secret.py\n",
    "# %cd /content/drive/MyDrive/"
   ]
  },
  {
   "cell_type": "code",
   "execution_count": null,
   "metadata": {
    "id": "lW9jG57j_KEZ"
   },
   "outputs": [],
   "source": [
    "import pandas as pd\n",
    "import numpy as np\n",
    "import seaborn as sns\n",
    "import matplotlib.pyplot as plt\n",
    "from datetime import datetime\n",
    "\n",
    "from sklearn.model_selection import train_test_split"
   ]
  },
  {
   "cell_type": "markdown",
   "metadata": {
    "id": "W3IW8JdlS-Cm"
   },
   "source": [
    "Link to the dataset description: https://research.unsw.edu.au/projects/unsw-nb15-dataset\n",
    "\n",
    "Link to the folder with files: https://cloudstor.aarnet.edu.au/plus/index.php/s/2DhnLGDdEECo4ys?path=%2FUNSW-NB15%20-%20CSV%20Files"
   ]
  },
  {
   "cell_type": "code",
   "execution_count": null,
   "metadata": {
    "colab": {
     "base_uri": "https://localhost:8080/"
    },
    "id": "Mvz6jgpZEMVV",
    "outputId": "17ccb6e3-82d2-4d66-881e-0111e6dbbf8b"
   },
   "outputs": [
    {
     "name": "stdout",
     "output_type": "stream",
     "text": [
      "Downloading...\n",
      "From: https://drive.google.com/uc?id=1edR5QGuXZJrvu71izVCsZKh2qBouWYJ6\n",
      "To: /content/train.csv\n",
      "100% 15.4M/15.4M [00:00<00:00, 53.4MB/s]\n",
      "Downloading...\n",
      "From: https://drive.google.com/uc?id=1dHgzMHeY1t3ZYbLhRx8ViHsDIwbMvxNH\n",
      "To: /content/test.csv\n",
      "100% 32.3M/32.3M [00:00<00:00, 51.9MB/s]\n",
      "Downloading...\n",
      "From: https://drive.google.com/uc?id=1LDZsf75FCSsHCVr8rpLBt2TpFKVzN3z9\n",
      "To: /content/one.csv\n",
      "100% 169M/169M [00:03<00:00, 44.7MB/s]\n",
      "Downloading...\n",
      "From: https://drive.google.com/uc?id=1EYSkG8iqaVKNCiM5tDXjn6wzhkrVRv_4\n",
      "To: /content/two.csv\n",
      "100% 165M/165M [00:00<00:00, 167MB/s]\n",
      "Downloading...\n",
      "From: https://drive.google.com/uc?id=10ybqEC3ps2LvGh74hRzgMeSE4oSlfoGN\n",
      "To: /content/three.csv\n",
      "100% 155M/155M [00:03<00:00, 43.1MB/s]\n",
      "Downloading...\n",
      "From: https://drive.google.com/uc?id=1OcVMc1DtwKdS_-3oWFJz3kABCR9cJmly\n",
      "To: /content/four.csv\n",
      "100% 97.6M/97.6M [00:00<00:00, 152MB/s]\n"
     ]
    }
   ],
   "source": [
    "# all files have been downloaded to the personal Google Drive\n",
    "# pulling them down one by one\n",
    "!gdown '1edR5QGuXZJrvu71izVCsZKh2qBouWYJ6' -O train.csv\n",
    "!gdown '1dHgzMHeY1t3ZYbLhRx8ViHsDIwbMvxNH' -O test.csv\n",
    "!gdown '1LDZsf75FCSsHCVr8rpLBt2TpFKVzN3z9' -O one.csv\n",
    "!gdown '1EYSkG8iqaVKNCiM5tDXjn6wzhkrVRv_4' -O two.csv\n",
    "!gdown '10ybqEC3ps2LvGh74hRzgMeSE4oSlfoGN' -O three.csv\n",
    "!gdown '1OcVMc1DtwKdS_-3oWFJz3kABCR9cJmly' -O four.csv"
   ]
  },
  {
   "cell_type": "code",
   "execution_count": null,
   "metadata": {
    "colab": {
     "base_uri": "https://localhost:8080/"
    },
    "id": "iVCGQ660Du7M",
    "outputId": "26290190-9448-4500-ff46-859b73cdf878"
   },
   "outputs": [
    {
     "name": "stdout",
     "output_type": "stream",
     "text": [
      "Downloading...\n",
      "From: https://drive.google.com/uc?id=14XNYO2HfyViiJdBB99uvQIb96n0FYXSo\n",
      "To: /content/features.csv\n",
      "100% 4.04k/4.04k [00:00<00:00, 20.5MB/s]\n",
      "Downloading...\n",
      "From: https://drive.google.com/uc?id=19Q3r5W0UVG63bzJirger8sHUTEUj4IgW\n",
      "To: /content/events.csv\n",
      "100% 4.64k/4.64k [00:00<00:00, 21.1MB/s]\n",
      "Downloading...\n",
      "From: https://drive.google.com/uc?id=14WU-p-kdt2MOCf0k2rIx3954lDQNLD_O\n",
      "To: /content/gt.csv\n",
      "100% 86.4M/86.4M [00:00<00:00, 126MB/s]\n"
     ]
    }
   ],
   "source": [
    "# pulling down more files\n",
    "!gdown '14XNYO2HfyViiJdBB99uvQIb96n0FYXSo' -O features.csv\n",
    "!gdown '19Q3r5W0UVG63bzJirger8sHUTEUj4IgW' -O events.csv\n",
    "!gdown '14WU-p-kdt2MOCf0k2rIx3954lDQNLD_O' -O gt.csv #ground truth"
   ]
  },
  {
   "cell_type": "code",
   "execution_count": null,
   "metadata": {
    "id": "KdKoZKJLEVMC"
   },
   "outputs": [],
   "source": [
    "df_train = pd.read_csv('train.csv')\n",
    "df_test = pd.read_csv('test.csv')"
   ]
  },
  {
   "cell_type": "code",
   "execution_count": null,
   "metadata": {
    "id": "KB6hUtHlJkFo"
   },
   "outputs": [],
   "source": [
    "# loading features for the following four files\n",
    "features = pd.read_csv('features.csv', encoding='cp1252')\n",
    "# making sure all column names are lowercase\n",
    "features['Name'] = features['Name'].str.lower()\n",
    "cols = features['Name'].to_list()"
   ]
  },
  {
   "cell_type": "markdown",
   "metadata": {
    "id": "VwVzvBIoaHJZ"
   },
   "source": [
    "### Checking columns that aren't present in train/test sets"
   ]
  },
  {
   "cell_type": "code",
   "execution_count": null,
   "metadata": {
    "id": "3Rj5ddiBaZZT"
   },
   "outputs": [],
   "source": [
    "# creating a mask of column names that match\n",
    "msk_match = [col in df_train.columns for col in cols]"
   ]
  },
  {
   "cell_type": "code",
   "execution_count": null,
   "metadata": {
    "colab": {
     "base_uri": "https://localhost:8080/"
    },
    "id": "gm3eu0QpaZWn",
    "outputId": "38efaa58-3958-4f56-ef91-b3d137868527"
   },
   "outputs": [
    {
     "data": {
      "text/plain": [
       "37"
      ]
     },
     "execution_count": 46,
     "metadata": {},
     "output_type": "execute_result"
    }
   ],
   "source": [
    "# number of matching columns\n",
    "len(features[msk_match].Name)"
   ]
  },
  {
   "cell_type": "code",
   "execution_count": null,
   "metadata": {
    "colab": {
     "base_uri": "https://localhost:8080/",
     "height": 426
    },
    "id": "S-n3tP8zMDoM",
    "outputId": "75695e4f-a04b-49d4-e40e-5aad75e65f6c"
   },
   "outputs": [
    {
     "data": {
      "text/html": [
       "\n",
       "  <div id=\"df-610b38bf-c15a-44ed-82a6-ce9719f1cdef\">\n",
       "    <div class=\"colab-df-container\">\n",
       "      <div>\n",
       "<style scoped>\n",
       "    .dataframe tbody tr th:only-of-type {\n",
       "        vertical-align: middle;\n",
       "    }\n",
       "\n",
       "    .dataframe tbody tr th {\n",
       "        vertical-align: top;\n",
       "    }\n",
       "\n",
       "    .dataframe thead th {\n",
       "        text-align: right;\n",
       "    }\n",
       "</style>\n",
       "<table border=\"1\" class=\"dataframe\">\n",
       "  <thead>\n",
       "    <tr style=\"text-align: right;\">\n",
       "      <th></th>\n",
       "      <th>No.</th>\n",
       "      <th>Name</th>\n",
       "      <th>Type</th>\n",
       "      <th>Description</th>\n",
       "    </tr>\n",
       "  </thead>\n",
       "  <tbody>\n",
       "    <tr>\n",
       "      <th>0</th>\n",
       "      <td>1</td>\n",
       "      <td>srcip</td>\n",
       "      <td>nominal</td>\n",
       "      <td>Source IP address</td>\n",
       "    </tr>\n",
       "    <tr>\n",
       "      <th>1</th>\n",
       "      <td>2</td>\n",
       "      <td>sport</td>\n",
       "      <td>integer</td>\n",
       "      <td>Source port number</td>\n",
       "    </tr>\n",
       "    <tr>\n",
       "      <th>2</th>\n",
       "      <td>3</td>\n",
       "      <td>dstip</td>\n",
       "      <td>nominal</td>\n",
       "      <td>Destination IP address</td>\n",
       "    </tr>\n",
       "    <tr>\n",
       "      <th>3</th>\n",
       "      <td>4</td>\n",
       "      <td>dsport</td>\n",
       "      <td>integer</td>\n",
       "      <td>Destination port number</td>\n",
       "    </tr>\n",
       "    <tr>\n",
       "      <th>22</th>\n",
       "      <td>23</td>\n",
       "      <td>smeansz</td>\n",
       "      <td>integer</td>\n",
       "      <td>Mean of the ?ow packet size transmitted by the src</td>\n",
       "    </tr>\n",
       "    <tr>\n",
       "      <th>23</th>\n",
       "      <td>24</td>\n",
       "      <td>dmeansz</td>\n",
       "      <td>integer</td>\n",
       "      <td>Mean of the ?ow packet size transmitted by the dst</td>\n",
       "    </tr>\n",
       "    <tr>\n",
       "      <th>25</th>\n",
       "      <td>26</td>\n",
       "      <td>res_bdy_len</td>\n",
       "      <td>integer</td>\n",
       "      <td>Actual uncompressed content size of the data transferred from the server’s http service.</td>\n",
       "    </tr>\n",
       "    <tr>\n",
       "      <th>28</th>\n",
       "      <td>29</td>\n",
       "      <td>stime</td>\n",
       "      <td>Timestamp</td>\n",
       "      <td>record start time</td>\n",
       "    </tr>\n",
       "    <tr>\n",
       "      <th>29</th>\n",
       "      <td>30</td>\n",
       "      <td>ltime</td>\n",
       "      <td>Timestamp</td>\n",
       "      <td>record last time</td>\n",
       "    </tr>\n",
       "    <tr>\n",
       "      <th>30</th>\n",
       "      <td>31</td>\n",
       "      <td>sintpkt</td>\n",
       "      <td>Float</td>\n",
       "      <td>Source interpacket arrival time (mSec)</td>\n",
       "    </tr>\n",
       "    <tr>\n",
       "      <th>31</th>\n",
       "      <td>32</td>\n",
       "      <td>dintpkt</td>\n",
       "      <td>Float</td>\n",
       "      <td>Destination interpacket arrival time (mSec)</td>\n",
       "    </tr>\n",
       "    <tr>\n",
       "      <th>43</th>\n",
       "      <td>44</td>\n",
       "      <td>ct_src_ ltm</td>\n",
       "      <td>integer</td>\n",
       "      <td>No. of connections of the same source address (1) in 100 connections according to the last time ...</td>\n",
       "    </tr>\n",
       "  </tbody>\n",
       "</table>\n",
       "</div>\n",
       "      <button class=\"colab-df-convert\" onclick=\"convertToInteractive('df-610b38bf-c15a-44ed-82a6-ce9719f1cdef')\"\n",
       "              title=\"Convert this dataframe to an interactive table.\"\n",
       "              style=\"display:none;\">\n",
       "        \n",
       "  <svg xmlns=\"http://www.w3.org/2000/svg\" height=\"24px\"viewBox=\"0 0 24 24\"\n",
       "       width=\"24px\">\n",
       "    <path d=\"M0 0h24v24H0V0z\" fill=\"none\"/>\n",
       "    <path d=\"M18.56 5.44l.94 2.06.94-2.06 2.06-.94-2.06-.94-.94-2.06-.94 2.06-2.06.94zm-11 1L8.5 8.5l.94-2.06 2.06-.94-2.06-.94L8.5 2.5l-.94 2.06-2.06.94zm10 10l.94 2.06.94-2.06 2.06-.94-2.06-.94-.94-2.06-.94 2.06-2.06.94z\"/><path d=\"M17.41 7.96l-1.37-1.37c-.4-.4-.92-.59-1.43-.59-.52 0-1.04.2-1.43.59L10.3 9.45l-7.72 7.72c-.78.78-.78 2.05 0 2.83L4 21.41c.39.39.9.59 1.41.59.51 0 1.02-.2 1.41-.59l7.78-7.78 2.81-2.81c.8-.78.8-2.07 0-2.86zM5.41 20L4 18.59l7.72-7.72 1.47 1.35L5.41 20z\"/>\n",
       "  </svg>\n",
       "      </button>\n",
       "      \n",
       "  <style>\n",
       "    .colab-df-container {\n",
       "      display:flex;\n",
       "      flex-wrap:wrap;\n",
       "      gap: 12px;\n",
       "    }\n",
       "\n",
       "    .colab-df-convert {\n",
       "      background-color: #E8F0FE;\n",
       "      border: none;\n",
       "      border-radius: 50%;\n",
       "      cursor: pointer;\n",
       "      display: none;\n",
       "      fill: #1967D2;\n",
       "      height: 32px;\n",
       "      padding: 0 0 0 0;\n",
       "      width: 32px;\n",
       "    }\n",
       "\n",
       "    .colab-df-convert:hover {\n",
       "      background-color: #E2EBFA;\n",
       "      box-shadow: 0px 1px 2px rgba(60, 64, 67, 0.3), 0px 1px 3px 1px rgba(60, 64, 67, 0.15);\n",
       "      fill: #174EA6;\n",
       "    }\n",
       "\n",
       "    [theme=dark] .colab-df-convert {\n",
       "      background-color: #3B4455;\n",
       "      fill: #D2E3FC;\n",
       "    }\n",
       "\n",
       "    [theme=dark] .colab-df-convert:hover {\n",
       "      background-color: #434B5C;\n",
       "      box-shadow: 0px 1px 3px 1px rgba(0, 0, 0, 0.15);\n",
       "      filter: drop-shadow(0px 1px 2px rgba(0, 0, 0, 0.3));\n",
       "      fill: #FFFFFF;\n",
       "    }\n",
       "  </style>\n",
       "\n",
       "      <script>\n",
       "        const buttonEl =\n",
       "          document.querySelector('#df-610b38bf-c15a-44ed-82a6-ce9719f1cdef button.colab-df-convert');\n",
       "        buttonEl.style.display =\n",
       "          google.colab.kernel.accessAllowed ? 'block' : 'none';\n",
       "\n",
       "        async function convertToInteractive(key) {\n",
       "          const element = document.querySelector('#df-610b38bf-c15a-44ed-82a6-ce9719f1cdef');\n",
       "          const dataTable =\n",
       "            await google.colab.kernel.invokeFunction('convertToInteractive',\n",
       "                                                     [key], {});\n",
       "          if (!dataTable) return;\n",
       "\n",
       "          const docLinkHtml = 'Like what you see? Visit the ' +\n",
       "            '<a target=\"_blank\" href=https://colab.research.google.com/notebooks/data_table.ipynb>data table notebook</a>'\n",
       "            + ' to learn more about interactive tables.';\n",
       "          element.innerHTML = '';\n",
       "          dataTable['output_type'] = 'display_data';\n",
       "          await google.colab.output.renderOutput(dataTable, element);\n",
       "          const docLink = document.createElement('div');\n",
       "          docLink.innerHTML = docLinkHtml;\n",
       "          element.appendChild(docLink);\n",
       "        }\n",
       "      </script>\n",
       "    </div>\n",
       "  </div>\n",
       "  "
      ],
      "text/plain": [
       "    No.         Name      Type   \\\n",
       "0     1        srcip    nominal   \n",
       "1     2        sport    integer   \n",
       "2     3        dstip    nominal   \n",
       "3     4       dsport    integer   \n",
       "22   23      smeansz    integer   \n",
       "23   24      dmeansz    integer   \n",
       "25   26  res_bdy_len    integer   \n",
       "28   29        stime  Timestamp   \n",
       "29   30        ltime  Timestamp   \n",
       "30   31      sintpkt      Float   \n",
       "31   32      dintpkt      Float   \n",
       "43   44  ct_src_ ltm    integer   \n",
       "\n",
       "                                                                                            Description  \n",
       "0                                                                                     Source IP address  \n",
       "1                                                                                    Source port number  \n",
       "2                                                                                Destination IP address  \n",
       "3                                                                               Destination port number  \n",
       "22                                                  Mean of the ?ow packet size transmitted by the src   \n",
       "23                                                  Mean of the ?ow packet size transmitted by the dst   \n",
       "25             Actual uncompressed content size of the data transferred from the server’s http service.  \n",
       "28                                                                                    record start time  \n",
       "29                                                                                     record last time  \n",
       "30                                                               Source interpacket arrival time (mSec)  \n",
       "31                                                          Destination interpacket arrival time (mSec)  \n",
       "43  No. of connections of the same source address (1) in 100 connections according to the last time ...  "
      ]
     },
     "execution_count": 47,
     "metadata": {},
     "output_type": "execute_result"
    }
   ],
   "source": [
    "# columns that aren't present in the train set\n",
    "features[~features.Name.isin(features[msk_match].Name)]"
   ]
  },
  {
   "cell_type": "markdown",
   "metadata": {
    "id": "w_1Sr4zKOtyf"
   },
   "source": [
    "Out of the list of columns that aren't in the train set we could remove source and destination ip addresses, record start and last time, since it's unlikely that that information would allow the model to generalize"
   ]
  },
  {
   "cell_type": "markdown",
   "metadata": {
    "id": "AzFvGT9caPcp"
   },
   "source": [
    "### Concatenating dataframes"
   ]
  },
  {
   "cell_type": "code",
   "execution_count": null,
   "metadata": {
    "colab": {
     "base_uri": "https://localhost:8080/"
    },
    "id": "yKBMuZXJC-5b",
    "outputId": "9fd26492-fa92-45b1-f246-87b616e8447b"
   },
   "outputs": [
    {
     "name": "stderr",
     "output_type": "stream",
     "text": [
      "<ipython-input-48-5c027cb07bd8>:1: DtypeWarning: Columns (1,3,47) have mixed types. Specify dtype option on import or set low_memory=False.\n",
      "  df1 = pd.read_csv('one.csv', names = cols, header = 0)\n",
      "<ipython-input-48-5c027cb07bd8>:2: DtypeWarning: Columns (3,39,47) have mixed types. Specify dtype option on import or set low_memory=False.\n",
      "  df2 = pd.read_csv('two.csv', names = cols, header = 0)\n"
     ]
    }
   ],
   "source": [
    "df1 = pd.read_csv('one.csv', names = cols, header = 0)\n",
    "df2 = pd.read_csv('two.csv', names = cols, header = 0)\n",
    "df3 = pd.read_csv('three.csv', names = cols, header = 0)\n",
    "df4 = pd.read_csv('four.csv', names = cols, header = 0)"
   ]
  },
  {
   "cell_type": "code",
   "execution_count": null,
   "metadata": {
    "colab": {
     "base_uri": "https://localhost:8080/"
    },
    "id": "ynpbmo6lfOl4",
    "outputId": "b7fa514d-886b-4a0d-d847-e653113efc03"
   },
   "outputs": [
    {
     "data": {
      "text/plain": [
       "(2540043, 49)"
      ]
     },
     "execution_count": 49,
     "metadata": {},
     "output_type": "execute_result"
    }
   ],
   "source": [
    "# concatenating into one df\n",
    "data = pd.concat([df1,df2,df3,df4])\n",
    "data.shape"
   ]
  },
  {
   "cell_type": "code",
   "execution_count": null,
   "metadata": {
    "id": "z2wUtyxE7egz"
   },
   "outputs": [],
   "source": [
    "data.rename(columns = {'ct_src_ ltm': 'ct_src_ltm'}, inplace = True)"
   ]
  },
  {
   "cell_type": "code",
   "execution_count": null,
   "metadata": {
    "id": "HoOBXNOy7wCa"
   },
   "outputs": [],
   "source": [
    "# dropping the columns identified earlier\n",
    "data = data.drop(['srcip', 'dstip', 'stime','ltime'], axis = 1)"
   ]
  },
  {
   "cell_type": "markdown",
   "metadata": {
    "id": "8NYEO0pLgDHv"
   },
   "source": [
    "## EDA"
   ]
  },
  {
   "cell_type": "markdown",
   "metadata": {
    "id": "ANDOo2L0oYrV"
   },
   "source": [
    "### Missing Values"
   ]
  },
  {
   "cell_type": "code",
   "execution_count": null,
   "metadata": {
    "colab": {
     "base_uri": "https://localhost:8080/"
    },
    "id": "1q5hvTfSgEPf",
    "outputId": "de36e73f-9d19-4887-cfc6-74d64b430860"
   },
   "outputs": [
    {
     "data": {
      "text/plain": [
       "sport                     0\n",
       "dsport                    0\n",
       "proto                     0\n",
       "state                     0\n",
       "dur                       0\n",
       "sbytes                    0\n",
       "dbytes                    0\n",
       "sttl                      0\n",
       "dttl                      0\n",
       "sloss                     0\n",
       "dloss                     0\n",
       "service                   0\n",
       "sload                     0\n",
       "dload                     0\n",
       "spkts                     0\n",
       "dpkts                     0\n",
       "swin                      0\n",
       "dwin                      0\n",
       "stcpb                     0\n",
       "dtcpb                     0\n",
       "smeansz                   0\n",
       "dmeansz                   0\n",
       "trans_depth               0\n",
       "res_bdy_len               0\n",
       "sjit                      0\n",
       "djit                      0\n",
       "sintpkt                   0\n",
       "dintpkt                   0\n",
       "tcprtt                    0\n",
       "synack                    0\n",
       "ackdat                    0\n",
       "is_sm_ips_ports           0\n",
       "ct_state_ttl              0\n",
       "ct_flw_http_mthd    1348143\n",
       "is_ftp_login        1429877\n",
       "ct_ftp_cmd                0\n",
       "ct_srv_src                0\n",
       "ct_srv_dst                0\n",
       "ct_dst_ltm                0\n",
       "ct_src_ltm                0\n",
       "ct_src_dport_ltm          0\n",
       "ct_dst_sport_ltm          0\n",
       "ct_dst_src_ltm            0\n",
       "attack_cat          2218760\n",
       "label                     0\n",
       "dtype: int64"
      ]
     },
     "execution_count": 52,
     "metadata": {},
     "output_type": "execute_result"
    }
   ],
   "source": [
    "# check for missing values\n",
    "data.isna().sum()"
   ]
  },
  {
   "cell_type": "code",
   "execution_count": null,
   "metadata": {
    "colab": {
     "base_uri": "https://localhost:8080/",
     "height": 1000
    },
    "id": "yW7yDu56gcz5",
    "outputId": "4a44cf1b-c70e-4d94-b1b2-967b67af114a"
   },
   "outputs": [
    {
     "data": {
      "text/html": [
       "\n",
       "  <div id=\"df-0f1d796f-e654-44fe-92c4-173a825a042d\">\n",
       "    <div class=\"colab-df-container\">\n",
       "      <div>\n",
       "<style scoped>\n",
       "    .dataframe tbody tr th:only-of-type {\n",
       "        vertical-align: middle;\n",
       "    }\n",
       "\n",
       "    .dataframe tbody tr th {\n",
       "        vertical-align: top;\n",
       "    }\n",
       "\n",
       "    .dataframe thead th {\n",
       "        text-align: right;\n",
       "    }\n",
       "</style>\n",
       "<table border=\"1\" class=\"dataframe\">\n",
       "  <thead>\n",
       "    <tr style=\"text-align: right;\">\n",
       "      <th></th>\n",
       "      <th>No.</th>\n",
       "      <th>Name</th>\n",
       "      <th>Type</th>\n",
       "      <th>Description</th>\n",
       "    </tr>\n",
       "  </thead>\n",
       "  <tbody>\n",
       "    <tr>\n",
       "      <th>0</th>\n",
       "      <td>1</td>\n",
       "      <td>srcip</td>\n",
       "      <td>nominal</td>\n",
       "      <td>Source IP address</td>\n",
       "    </tr>\n",
       "    <tr>\n",
       "      <th>1</th>\n",
       "      <td>2</td>\n",
       "      <td>sport</td>\n",
       "      <td>integer</td>\n",
       "      <td>Source port number</td>\n",
       "    </tr>\n",
       "    <tr>\n",
       "      <th>2</th>\n",
       "      <td>3</td>\n",
       "      <td>dstip</td>\n",
       "      <td>nominal</td>\n",
       "      <td>Destination IP address</td>\n",
       "    </tr>\n",
       "    <tr>\n",
       "      <th>3</th>\n",
       "      <td>4</td>\n",
       "      <td>dsport</td>\n",
       "      <td>integer</td>\n",
       "      <td>Destination port number</td>\n",
       "    </tr>\n",
       "    <tr>\n",
       "      <th>4</th>\n",
       "      <td>5</td>\n",
       "      <td>proto</td>\n",
       "      <td>nominal</td>\n",
       "      <td>Transaction protocol</td>\n",
       "    </tr>\n",
       "    <tr>\n",
       "      <th>5</th>\n",
       "      <td>6</td>\n",
       "      <td>state</td>\n",
       "      <td>nominal</td>\n",
       "      <td>Indicates to the state and its dependent protocol, e.g. ACC, CLO, CON, ECO, ECR, FIN, INT, MAS, ...</td>\n",
       "    </tr>\n",
       "    <tr>\n",
       "      <th>6</th>\n",
       "      <td>7</td>\n",
       "      <td>dur</td>\n",
       "      <td>Float</td>\n",
       "      <td>Record total duration</td>\n",
       "    </tr>\n",
       "    <tr>\n",
       "      <th>7</th>\n",
       "      <td>8</td>\n",
       "      <td>sbytes</td>\n",
       "      <td>Integer</td>\n",
       "      <td>Source to destination transaction bytes</td>\n",
       "    </tr>\n",
       "    <tr>\n",
       "      <th>8</th>\n",
       "      <td>9</td>\n",
       "      <td>dbytes</td>\n",
       "      <td>Integer</td>\n",
       "      <td>Destination to source transaction bytes</td>\n",
       "    </tr>\n",
       "    <tr>\n",
       "      <th>9</th>\n",
       "      <td>10</td>\n",
       "      <td>sttl</td>\n",
       "      <td>Integer</td>\n",
       "      <td>Source to destination time to live value</td>\n",
       "    </tr>\n",
       "    <tr>\n",
       "      <th>10</th>\n",
       "      <td>11</td>\n",
       "      <td>dttl</td>\n",
       "      <td>Integer</td>\n",
       "      <td>Destination to source time to live value</td>\n",
       "    </tr>\n",
       "    <tr>\n",
       "      <th>11</th>\n",
       "      <td>12</td>\n",
       "      <td>sloss</td>\n",
       "      <td>Integer</td>\n",
       "      <td>Source packets retransmitted or dropped</td>\n",
       "    </tr>\n",
       "    <tr>\n",
       "      <th>12</th>\n",
       "      <td>13</td>\n",
       "      <td>dloss</td>\n",
       "      <td>Integer</td>\n",
       "      <td>Destination packets retransmitted or dropped</td>\n",
       "    </tr>\n",
       "    <tr>\n",
       "      <th>13</th>\n",
       "      <td>14</td>\n",
       "      <td>service</td>\n",
       "      <td>nominal</td>\n",
       "      <td>http, ftp, smtp, ssh, dns, ftp-data ,irc  and (-) if not much used service</td>\n",
       "    </tr>\n",
       "    <tr>\n",
       "      <th>14</th>\n",
       "      <td>15</td>\n",
       "      <td>sload</td>\n",
       "      <td>Float</td>\n",
       "      <td>Source bits per second</td>\n",
       "    </tr>\n",
       "    <tr>\n",
       "      <th>15</th>\n",
       "      <td>16</td>\n",
       "      <td>dload</td>\n",
       "      <td>Float</td>\n",
       "      <td>Destination bits per second</td>\n",
       "    </tr>\n",
       "    <tr>\n",
       "      <th>16</th>\n",
       "      <td>17</td>\n",
       "      <td>spkts</td>\n",
       "      <td>integer</td>\n",
       "      <td>Source to destination packet count</td>\n",
       "    </tr>\n",
       "    <tr>\n",
       "      <th>17</th>\n",
       "      <td>18</td>\n",
       "      <td>dpkts</td>\n",
       "      <td>integer</td>\n",
       "      <td>Destination to source packet count</td>\n",
       "    </tr>\n",
       "    <tr>\n",
       "      <th>18</th>\n",
       "      <td>19</td>\n",
       "      <td>swin</td>\n",
       "      <td>integer</td>\n",
       "      <td>Source TCP window advertisement value</td>\n",
       "    </tr>\n",
       "    <tr>\n",
       "      <th>19</th>\n",
       "      <td>20</td>\n",
       "      <td>dwin</td>\n",
       "      <td>integer</td>\n",
       "      <td>Destination TCP window advertisement value</td>\n",
       "    </tr>\n",
       "    <tr>\n",
       "      <th>20</th>\n",
       "      <td>21</td>\n",
       "      <td>stcpb</td>\n",
       "      <td>integer</td>\n",
       "      <td>Source TCP base sequence number</td>\n",
       "    </tr>\n",
       "    <tr>\n",
       "      <th>21</th>\n",
       "      <td>22</td>\n",
       "      <td>dtcpb</td>\n",
       "      <td>integer</td>\n",
       "      <td>Destination TCP base sequence number</td>\n",
       "    </tr>\n",
       "    <tr>\n",
       "      <th>22</th>\n",
       "      <td>23</td>\n",
       "      <td>smeansz</td>\n",
       "      <td>integer</td>\n",
       "      <td>Mean of the ?ow packet size transmitted by the src</td>\n",
       "    </tr>\n",
       "    <tr>\n",
       "      <th>23</th>\n",
       "      <td>24</td>\n",
       "      <td>dmeansz</td>\n",
       "      <td>integer</td>\n",
       "      <td>Mean of the ?ow packet size transmitted by the dst</td>\n",
       "    </tr>\n",
       "    <tr>\n",
       "      <th>24</th>\n",
       "      <td>25</td>\n",
       "      <td>trans_depth</td>\n",
       "      <td>integer</td>\n",
       "      <td>Represents the pipelined depth into the connection of http request/response transaction</td>\n",
       "    </tr>\n",
       "    <tr>\n",
       "      <th>25</th>\n",
       "      <td>26</td>\n",
       "      <td>res_bdy_len</td>\n",
       "      <td>integer</td>\n",
       "      <td>Actual uncompressed content size of the data transferred from the server’s http service.</td>\n",
       "    </tr>\n",
       "    <tr>\n",
       "      <th>26</th>\n",
       "      <td>27</td>\n",
       "      <td>sjit</td>\n",
       "      <td>Float</td>\n",
       "      <td>Source jitter (mSec)</td>\n",
       "    </tr>\n",
       "    <tr>\n",
       "      <th>27</th>\n",
       "      <td>28</td>\n",
       "      <td>djit</td>\n",
       "      <td>Float</td>\n",
       "      <td>Destination jitter (mSec)</td>\n",
       "    </tr>\n",
       "    <tr>\n",
       "      <th>28</th>\n",
       "      <td>29</td>\n",
       "      <td>stime</td>\n",
       "      <td>Timestamp</td>\n",
       "      <td>record start time</td>\n",
       "    </tr>\n",
       "    <tr>\n",
       "      <th>29</th>\n",
       "      <td>30</td>\n",
       "      <td>ltime</td>\n",
       "      <td>Timestamp</td>\n",
       "      <td>record last time</td>\n",
       "    </tr>\n",
       "    <tr>\n",
       "      <th>30</th>\n",
       "      <td>31</td>\n",
       "      <td>sintpkt</td>\n",
       "      <td>Float</td>\n",
       "      <td>Source interpacket arrival time (mSec)</td>\n",
       "    </tr>\n",
       "    <tr>\n",
       "      <th>31</th>\n",
       "      <td>32</td>\n",
       "      <td>dintpkt</td>\n",
       "      <td>Float</td>\n",
       "      <td>Destination interpacket arrival time (mSec)</td>\n",
       "    </tr>\n",
       "    <tr>\n",
       "      <th>32</th>\n",
       "      <td>33</td>\n",
       "      <td>tcprtt</td>\n",
       "      <td>Float</td>\n",
       "      <td>TCP connection setup round-trip time, the sum of ’synack’ and ’ackdat’.</td>\n",
       "    </tr>\n",
       "    <tr>\n",
       "      <th>33</th>\n",
       "      <td>34</td>\n",
       "      <td>synack</td>\n",
       "      <td>Float</td>\n",
       "      <td>TCP connection setup time, the time between the SYN and the SYN_ACK packets.</td>\n",
       "    </tr>\n",
       "    <tr>\n",
       "      <th>34</th>\n",
       "      <td>35</td>\n",
       "      <td>ackdat</td>\n",
       "      <td>Float</td>\n",
       "      <td>TCP connection setup time, the time between the SYN_ACK and the ACK packets.</td>\n",
       "    </tr>\n",
       "    <tr>\n",
       "      <th>35</th>\n",
       "      <td>36</td>\n",
       "      <td>is_sm_ips_ports</td>\n",
       "      <td>Binary</td>\n",
       "      <td>If source (1) and destination (3)IP addresses equal and port numbers (2)(4)  equal then, this va...</td>\n",
       "    </tr>\n",
       "    <tr>\n",
       "      <th>36</th>\n",
       "      <td>37</td>\n",
       "      <td>ct_state_ttl</td>\n",
       "      <td>Integer</td>\n",
       "      <td>No. for each state (6) according to specific range of values for source/destination time to live...</td>\n",
       "    </tr>\n",
       "    <tr>\n",
       "      <th>37</th>\n",
       "      <td>38</td>\n",
       "      <td>ct_flw_http_mthd</td>\n",
       "      <td>Integer</td>\n",
       "      <td>No. of flows that has methods such as Get and Post in http service.</td>\n",
       "    </tr>\n",
       "    <tr>\n",
       "      <th>38</th>\n",
       "      <td>39</td>\n",
       "      <td>is_ftp_login</td>\n",
       "      <td>Binary</td>\n",
       "      <td>If the ftp session is accessed by user and password then 1 else 0.</td>\n",
       "    </tr>\n",
       "    <tr>\n",
       "      <th>39</th>\n",
       "      <td>40</td>\n",
       "      <td>ct_ftp_cmd</td>\n",
       "      <td>integer</td>\n",
       "      <td>No of flows that has a command in ftp session.</td>\n",
       "    </tr>\n",
       "    <tr>\n",
       "      <th>40</th>\n",
       "      <td>41</td>\n",
       "      <td>ct_srv_src</td>\n",
       "      <td>integer</td>\n",
       "      <td>No. of connections that contain the same service (14) and source address (1) in 100 connections ...</td>\n",
       "    </tr>\n",
       "    <tr>\n",
       "      <th>41</th>\n",
       "      <td>42</td>\n",
       "      <td>ct_srv_dst</td>\n",
       "      <td>integer</td>\n",
       "      <td>No. of connections that contain the same service (14) and destination address (3) in 100 connect...</td>\n",
       "    </tr>\n",
       "    <tr>\n",
       "      <th>42</th>\n",
       "      <td>43</td>\n",
       "      <td>ct_dst_ltm</td>\n",
       "      <td>integer</td>\n",
       "      <td>No. of connections of the same destination address (3) in 100 connections according to the last ...</td>\n",
       "    </tr>\n",
       "    <tr>\n",
       "      <th>43</th>\n",
       "      <td>44</td>\n",
       "      <td>ct_src_ ltm</td>\n",
       "      <td>integer</td>\n",
       "      <td>No. of connections of the same source address (1) in 100 connections according to the last time ...</td>\n",
       "    </tr>\n",
       "    <tr>\n",
       "      <th>44</th>\n",
       "      <td>45</td>\n",
       "      <td>ct_src_dport_ltm</td>\n",
       "      <td>integer</td>\n",
       "      <td>No of connections of the same source address (1) and the destination port (4) in 100 connections...</td>\n",
       "    </tr>\n",
       "    <tr>\n",
       "      <th>45</th>\n",
       "      <td>46</td>\n",
       "      <td>ct_dst_sport_ltm</td>\n",
       "      <td>integer</td>\n",
       "      <td>No of connections of the same destination address (3) and the source port (2) in 100 connections...</td>\n",
       "    </tr>\n",
       "    <tr>\n",
       "      <th>46</th>\n",
       "      <td>47</td>\n",
       "      <td>ct_dst_src_ltm</td>\n",
       "      <td>integer</td>\n",
       "      <td>No of connections of the same source (1) and the destination (3) address in in 100 connections a...</td>\n",
       "    </tr>\n",
       "    <tr>\n",
       "      <th>47</th>\n",
       "      <td>48</td>\n",
       "      <td>attack_cat</td>\n",
       "      <td>nominal</td>\n",
       "      <td>The name of each attack category. In this data set , nine categories e.g. Fuzzers, Analysis, Bac...</td>\n",
       "    </tr>\n",
       "    <tr>\n",
       "      <th>48</th>\n",
       "      <td>49</td>\n",
       "      <td>label</td>\n",
       "      <td>binary</td>\n",
       "      <td>0 for normal and 1 for attack records</td>\n",
       "    </tr>\n",
       "  </tbody>\n",
       "</table>\n",
       "</div>\n",
       "      <button class=\"colab-df-convert\" onclick=\"convertToInteractive('df-0f1d796f-e654-44fe-92c4-173a825a042d')\"\n",
       "              title=\"Convert this dataframe to an interactive table.\"\n",
       "              style=\"display:none;\">\n",
       "        \n",
       "  <svg xmlns=\"http://www.w3.org/2000/svg\" height=\"24px\"viewBox=\"0 0 24 24\"\n",
       "       width=\"24px\">\n",
       "    <path d=\"M0 0h24v24H0V0z\" fill=\"none\"/>\n",
       "    <path d=\"M18.56 5.44l.94 2.06.94-2.06 2.06-.94-2.06-.94-.94-2.06-.94 2.06-2.06.94zm-11 1L8.5 8.5l.94-2.06 2.06-.94-2.06-.94L8.5 2.5l-.94 2.06-2.06.94zm10 10l.94 2.06.94-2.06 2.06-.94-2.06-.94-.94-2.06-.94 2.06-2.06.94z\"/><path d=\"M17.41 7.96l-1.37-1.37c-.4-.4-.92-.59-1.43-.59-.52 0-1.04.2-1.43.59L10.3 9.45l-7.72 7.72c-.78.78-.78 2.05 0 2.83L4 21.41c.39.39.9.59 1.41.59.51 0 1.02-.2 1.41-.59l7.78-7.78 2.81-2.81c.8-.78.8-2.07 0-2.86zM5.41 20L4 18.59l7.72-7.72 1.47 1.35L5.41 20z\"/>\n",
       "  </svg>\n",
       "      </button>\n",
       "      \n",
       "  <style>\n",
       "    .colab-df-container {\n",
       "      display:flex;\n",
       "      flex-wrap:wrap;\n",
       "      gap: 12px;\n",
       "    }\n",
       "\n",
       "    .colab-df-convert {\n",
       "      background-color: #E8F0FE;\n",
       "      border: none;\n",
       "      border-radius: 50%;\n",
       "      cursor: pointer;\n",
       "      display: none;\n",
       "      fill: #1967D2;\n",
       "      height: 32px;\n",
       "      padding: 0 0 0 0;\n",
       "      width: 32px;\n",
       "    }\n",
       "\n",
       "    .colab-df-convert:hover {\n",
       "      background-color: #E2EBFA;\n",
       "      box-shadow: 0px 1px 2px rgba(60, 64, 67, 0.3), 0px 1px 3px 1px rgba(60, 64, 67, 0.15);\n",
       "      fill: #174EA6;\n",
       "    }\n",
       "\n",
       "    [theme=dark] .colab-df-convert {\n",
       "      background-color: #3B4455;\n",
       "      fill: #D2E3FC;\n",
       "    }\n",
       "\n",
       "    [theme=dark] .colab-df-convert:hover {\n",
       "      background-color: #434B5C;\n",
       "      box-shadow: 0px 1px 3px 1px rgba(0, 0, 0, 0.15);\n",
       "      filter: drop-shadow(0px 1px 2px rgba(0, 0, 0, 0.3));\n",
       "      fill: #FFFFFF;\n",
       "    }\n",
       "  </style>\n",
       "\n",
       "      <script>\n",
       "        const buttonEl =\n",
       "          document.querySelector('#df-0f1d796f-e654-44fe-92c4-173a825a042d button.colab-df-convert');\n",
       "        buttonEl.style.display =\n",
       "          google.colab.kernel.accessAllowed ? 'block' : 'none';\n",
       "\n",
       "        async function convertToInteractive(key) {\n",
       "          const element = document.querySelector('#df-0f1d796f-e654-44fe-92c4-173a825a042d');\n",
       "          const dataTable =\n",
       "            await google.colab.kernel.invokeFunction('convertToInteractive',\n",
       "                                                     [key], {});\n",
       "          if (!dataTable) return;\n",
       "\n",
       "          const docLinkHtml = 'Like what you see? Visit the ' +\n",
       "            '<a target=\"_blank\" href=https://colab.research.google.com/notebooks/data_table.ipynb>data table notebook</a>'\n",
       "            + ' to learn more about interactive tables.';\n",
       "          element.innerHTML = '';\n",
       "          dataTable['output_type'] = 'display_data';\n",
       "          await google.colab.output.renderOutput(dataTable, element);\n",
       "          const docLink = document.createElement('div');\n",
       "          docLink.innerHTML = docLinkHtml;\n",
       "          element.appendChild(docLink);\n",
       "        }\n",
       "      </script>\n",
       "    </div>\n",
       "  </div>\n",
       "  "
      ],
      "text/plain": [
       "    No.              Name      Type   \\\n",
       "0     1             srcip    nominal   \n",
       "1     2             sport    integer   \n",
       "2     3             dstip    nominal   \n",
       "3     4            dsport    integer   \n",
       "4     5             proto    nominal   \n",
       "5     6             state    nominal   \n",
       "6     7               dur      Float   \n",
       "7     8            sbytes    Integer   \n",
       "8     9            dbytes    Integer   \n",
       "9    10              sttl    Integer   \n",
       "10   11              dttl    Integer   \n",
       "11   12             sloss    Integer   \n",
       "12   13             dloss    Integer   \n",
       "13   14           service    nominal   \n",
       "14   15             sload      Float   \n",
       "15   16             dload      Float   \n",
       "16   17             spkts    integer   \n",
       "17   18             dpkts    integer   \n",
       "18   19              swin    integer   \n",
       "19   20              dwin    integer   \n",
       "20   21             stcpb    integer   \n",
       "21   22             dtcpb    integer   \n",
       "22   23           smeansz    integer   \n",
       "23   24           dmeansz    integer   \n",
       "24   25       trans_depth    integer   \n",
       "25   26       res_bdy_len    integer   \n",
       "26   27              sjit      Float   \n",
       "27   28              djit      Float   \n",
       "28   29             stime  Timestamp   \n",
       "29   30             ltime  Timestamp   \n",
       "30   31           sintpkt      Float   \n",
       "31   32           dintpkt      Float   \n",
       "32   33            tcprtt      Float   \n",
       "33   34            synack      Float   \n",
       "34   35            ackdat      Float   \n",
       "35   36   is_sm_ips_ports     Binary   \n",
       "36   37      ct_state_ttl    Integer   \n",
       "37   38  ct_flw_http_mthd    Integer   \n",
       "38   39      is_ftp_login     Binary   \n",
       "39   40        ct_ftp_cmd    integer   \n",
       "40   41        ct_srv_src    integer   \n",
       "41   42        ct_srv_dst    integer   \n",
       "42   43        ct_dst_ltm    integer   \n",
       "43   44       ct_src_ ltm    integer   \n",
       "44   45  ct_src_dport_ltm    integer   \n",
       "45   46  ct_dst_sport_ltm    integer   \n",
       "46   47    ct_dst_src_ltm    integer   \n",
       "47   48        attack_cat    nominal   \n",
       "48   49             label     binary   \n",
       "\n",
       "                                                                                            Description  \n",
       "0                                                                                     Source IP address  \n",
       "1                                                                                    Source port number  \n",
       "2                                                                                Destination IP address  \n",
       "3                                                                               Destination port number  \n",
       "4                                                                                  Transaction protocol  \n",
       "5   Indicates to the state and its dependent protocol, e.g. ACC, CLO, CON, ECO, ECR, FIN, INT, MAS, ...  \n",
       "6                                                                                 Record total duration  \n",
       "7                                                              Source to destination transaction bytes   \n",
       "8                                                               Destination to source transaction bytes  \n",
       "9                                                             Source to destination time to live value   \n",
       "10                                                             Destination to source time to live value  \n",
       "11                                                             Source packets retransmitted or dropped   \n",
       "12                                                         Destination packets retransmitted or dropped  \n",
       "13                           http, ftp, smtp, ssh, dns, ftp-data ,irc  and (-) if not much used service  \n",
       "14                                                                               Source bits per second  \n",
       "15                                                                          Destination bits per second  \n",
       "16                                                                  Source to destination packet count   \n",
       "17                                                                   Destination to source packet count  \n",
       "18                                                                Source TCP window advertisement value  \n",
       "19                                                           Destination TCP window advertisement value  \n",
       "20                                                                      Source TCP base sequence number  \n",
       "21                                                                 Destination TCP base sequence number  \n",
       "22                                                  Mean of the ?ow packet size transmitted by the src   \n",
       "23                                                  Mean of the ?ow packet size transmitted by the dst   \n",
       "24              Represents the pipelined depth into the connection of http request/response transaction  \n",
       "25             Actual uncompressed content size of the data transferred from the server’s http service.  \n",
       "26                                                                                 Source jitter (mSec)  \n",
       "27                                                                            Destination jitter (mSec)  \n",
       "28                                                                                    record start time  \n",
       "29                                                                                     record last time  \n",
       "30                                                               Source interpacket arrival time (mSec)  \n",
       "31                                                          Destination interpacket arrival time (mSec)  \n",
       "32                              TCP connection setup round-trip time, the sum of ’synack’ and ’ackdat’.  \n",
       "33                         TCP connection setup time, the time between the SYN and the SYN_ACK packets.  \n",
       "34                         TCP connection setup time, the time between the SYN_ACK and the ACK packets.  \n",
       "35  If source (1) and destination (3)IP addresses equal and port numbers (2)(4)  equal then, this va...  \n",
       "36  No. for each state (6) according to specific range of values for source/destination time to live...  \n",
       "37                                  No. of flows that has methods such as Get and Post in http service.  \n",
       "38                                  If the ftp session is accessed by user and password then 1 else 0.   \n",
       "39                                                       No of flows that has a command in ftp session.  \n",
       "40  No. of connections that contain the same service (14) and source address (1) in 100 connections ...  \n",
       "41  No. of connections that contain the same service (14) and destination address (3) in 100 connect...  \n",
       "42  No. of connections of the same destination address (3) in 100 connections according to the last ...  \n",
       "43  No. of connections of the same source address (1) in 100 connections according to the last time ...  \n",
       "44  No of connections of the same source address (1) and the destination port (4) in 100 connections...  \n",
       "45  No of connections of the same destination address (3) and the source port (2) in 100 connections...  \n",
       "46  No of connections of the same source (1) and the destination (3) address in in 100 connections a...  \n",
       "47  The name of each attack category. In this data set , nine categories e.g. Fuzzers, Analysis, Bac...  \n",
       "48                                                                0 for normal and 1 for attack records  "
      ]
     },
     "execution_count": 53,
     "metadata": {},
     "output_type": "execute_result"
    }
   ],
   "source": [
    "# checking the description of columns that contain missing values\n",
    "pd.options.display.max_colwidth = 100\n",
    "features"
   ]
  },
  {
   "cell_type": "markdown",
   "metadata": {
    "id": "4akWqSHDRRpJ"
   },
   "source": [
    "#### ct_flw_http_mthd\n",
    "Next column with missing values is `ct_flw_http_mthd`"
   ]
  },
  {
   "cell_type": "code",
   "execution_count": null,
   "metadata": {
    "colab": {
     "base_uri": "https://localhost:8080/"
    },
    "id": "1X6d2AePRbG4",
    "outputId": "13b5b9f1-4269-4e26-c736-3ca1dafa3435"
   },
   "outputs": [
    {
     "data": {
      "text/plain": [
       "NaN     1348143\n",
       "0.0      986789\n",
       "1.0      188008\n",
       "6.0        7902\n",
       "4.0        6564\n",
       "3.0         738\n",
       "2.0         588\n",
       "5.0         430\n",
       "9.0         270\n",
       "14.0        224\n",
       "12.0        132\n",
       "30.0         60\n",
       "8.0          56\n",
       "16.0         48\n",
       "36.0         36\n",
       "10.0         30\n",
       "25.0         25\n",
       "Name: ct_flw_http_mthd, dtype: int64"
      ]
     },
     "execution_count": 54,
     "metadata": {},
     "output_type": "execute_result"
    }
   ],
   "source": [
    "data.ct_flw_http_mthd.value_counts(dropna=False)"
   ]
  },
  {
   "cell_type": "code",
   "execution_count": null,
   "metadata": {
    "colab": {
     "base_uri": "https://localhost:8080/"
    },
    "id": "InIOvw0SOZXY",
    "outputId": "930fb0fd-113e-4ca5-92dd-0ba9e4409d46"
   },
   "outputs": [
    {
     "data": {
      "text/plain": [
       "NaN     0.530756\n",
       "0.0     0.388493\n",
       "1.0     0.074018\n",
       "6.0     0.003111\n",
       "4.0     0.002584\n",
       "3.0     0.000291\n",
       "2.0     0.000231\n",
       "5.0     0.000169\n",
       "9.0     0.000106\n",
       "14.0    0.000088\n",
       "12.0    0.000052\n",
       "30.0    0.000024\n",
       "8.0     0.000022\n",
       "16.0    0.000019\n",
       "36.0    0.000014\n",
       "10.0    0.000012\n",
       "25.0    0.000010\n",
       "Name: ct_flw_http_mthd, dtype: float64"
      ]
     },
     "execution_count": 55,
     "metadata": {},
     "output_type": "execute_result"
    }
   ],
   "source": [
    "data.ct_flw_http_mthd.value_counts(dropna=False, normalize = True)"
   ]
  },
  {
   "cell_type": "markdown",
   "metadata": {
    "id": "LCKYdUp4eFRw"
   },
   "source": [
    "We could either replace NaN with zero (which is the second most popular value) or drop the entire column. Even though it isn't entirely clear whether replacing with zeros is correct, we are going to try that first"
   ]
  },
  {
   "cell_type": "code",
   "execution_count": null,
   "metadata": {
    "id": "wVDg9myaRbR5"
   },
   "outputs": [],
   "source": [
    "# data.ct_flw_http_mthd.fillna(0, inplace = True) # v1 approach\n",
    "# data.ct_flw_http_mthd.value_counts(dropna=False) # v1 approach"
   ]
  },
  {
   "cell_type": "code",
   "execution_count": null,
   "metadata": {
    "id": "wJfAkLAte1Zn"
   },
   "outputs": [],
   "source": [
    "data = data.drop('ct_flw_http_mthd', axis = 1) # v2 approach"
   ]
  },
  {
   "cell_type": "markdown",
   "metadata": {
    "id": "E2IlOk9xRcD1"
   },
   "source": [
    "#### Repeating the process for the `is_ftp_login` column"
   ]
  },
  {
   "cell_type": "code",
   "execution_count": null,
   "metadata": {
    "colab": {
     "base_uri": "https://localhost:8080/"
    },
    "id": "1extNeUVRz9C",
    "outputId": "610715c4-c298-4f35-cf15-aeea6e756b87"
   },
   "outputs": [
    {
     "data": {
      "text/plain": [
       "NaN    1429877\n",
       "0.0    1066591\n",
       "1.0      43389\n",
       "4.0        156\n",
       "2.0         30\n",
       "Name: is_ftp_login, dtype: int64"
      ]
     },
     "execution_count": 58,
     "metadata": {},
     "output_type": "execute_result"
    }
   ],
   "source": [
    "data.is_ftp_login.value_counts(dropna = False)"
   ]
  },
  {
   "cell_type": "code",
   "execution_count": null,
   "metadata": {
    "colab": {
     "base_uri": "https://localhost:8080/"
    },
    "id": "RoDTG5Q1OkrY",
    "outputId": "e3b2f67d-7153-4a97-e0c3-75ecb61c2727"
   },
   "outputs": [
    {
     "data": {
      "text/plain": [
       "NaN    0.562934\n",
       "0.0    0.419911\n",
       "1.0    0.017082\n",
       "4.0    0.000061\n",
       "2.0    0.000012\n",
       "Name: is_ftp_login, dtype: float64"
      ]
     },
     "execution_count": 59,
     "metadata": {},
     "output_type": "execute_result"
    }
   ],
   "source": [
    "data.is_ftp_login.value_counts(dropna=False, normalize = True)"
   ]
  },
  {
   "cell_type": "code",
   "execution_count": null,
   "metadata": {
    "id": "xkQIwcXkR6nY"
   },
   "outputs": [],
   "source": [
    "# data.is_ftp_login.fillna(0, inplace = True) # v1 approach\n",
    "# data.is_ftp_login.value_counts(dropna = False) # v1 approach\n",
    "\n",
    "data = data.drop('is_ftp_login', axis = 1) # v2 approach"
   ]
  },
  {
   "cell_type": "markdown",
   "metadata": {
    "id": "gTTSGpVc2CA1"
   },
   "source": [
    "#### Fixing values in the `attack_cat` column"
   ]
  },
  {
   "cell_type": "code",
   "execution_count": null,
   "metadata": {
    "colab": {
     "base_uri": "https://localhost:8080/"
    },
    "id": "x9Dl7hbHjYcp",
    "outputId": "7af3d4a1-2407-4fab-a2eb-69fca93d1c58"
   },
   "outputs": [
    {
     "data": {
      "text/plain": [
       "NaN                 2218760\n",
       "Generic              215481\n",
       "Exploits              44525\n",
       " Fuzzers              19195\n",
       "DoS                   16353\n",
       " Reconnaissance       12228\n",
       " Fuzzers               5051\n",
       "Analysis               2677\n",
       "Backdoor               1795\n",
       "Reconnaissance         1759\n",
       " Shellcode             1288\n",
       "Backdoors               534\n",
       "Shellcode               223\n",
       "Worms                   174\n",
       "Name: attack_cat, dtype: int64"
      ]
     },
     "execution_count": 61,
     "metadata": {},
     "output_type": "execute_result"
    }
   ],
   "source": [
    "# get count of multiclass labels\n",
    "data['attack_cat'].value_counts(dropna = False)"
   ]
  },
  {
   "cell_type": "code",
   "execution_count": null,
   "metadata": {
    "colab": {
     "base_uri": "https://localhost:8080/"
    },
    "id": "_4-X7tWykPYt",
    "outputId": "867de13e-e7c4-4e13-c0a8-e642f68f7d74"
   },
   "outputs": [
    {
     "data": {
      "text/plain": [
       "0    2218760\n",
       "1     321283\n",
       "Name: label, dtype: int64"
      ]
     },
     "execution_count": 62,
     "metadata": {},
     "output_type": "execute_result"
    }
   ],
   "source": [
    "# get count of binary labels\n",
    "data['label'].value_counts()"
   ]
  },
  {
   "cell_type": "markdown",
   "metadata": {
    "id": "jWAve7VB-mU1"
   },
   "source": [
    "It appears that count of 'NaN' values in `attack_cat` matches Normal label in binary case"
   ]
  },
  {
   "cell_type": "code",
   "execution_count": null,
   "metadata": {
    "id": "x5ZkNX6srIio"
   },
   "outputs": [],
   "source": [
    "# fill NaN values with in attack_cat with Normal\n",
    "data.fillna({'attack_cat':'Normal'}, inplace = True)"
   ]
  },
  {
   "cell_type": "code",
   "execution_count": null,
   "metadata": {
    "colab": {
     "base_uri": "https://localhost:8080/"
    },
    "id": "5aPEhdiV1thV",
    "outputId": "565f65ad-824a-4272-e99b-ce08e18e8836"
   },
   "outputs": [
    {
     "data": {
      "text/plain": [
       "0"
      ]
     },
     "execution_count": 64,
     "metadata": {},
     "output_type": "execute_result"
    }
   ],
   "source": [
    "# check for missing values again\n",
    "data['attack_cat'].isna().sum()"
   ]
  },
  {
   "cell_type": "code",
   "execution_count": null,
   "metadata": {
    "id": "FqdUXk6LObnc"
   },
   "outputs": [],
   "source": [
    "# Fixing spaces before names of attack categories\n",
    "data['attack_cat'] = data['attack_cat'].apply(lambda x: x.strip())\n",
    "# Merging Backdoor with Backdoors\n",
    "data.loc[data['attack_cat'] == 'Backdoors', 'attack_cat'] = 'Backdoor'"
   ]
  },
  {
   "cell_type": "code",
   "execution_count": null,
   "metadata": {
    "colab": {
     "base_uri": "https://localhost:8080/"
    },
    "id": "FXF4DcJP_gBS",
    "outputId": "a932f552-9f2b-4637-cd1c-0c4a61407360"
   },
   "outputs": [
    {
     "data": {
      "text/plain": [
       "10"
      ]
     },
     "execution_count": 66,
     "metadata": {},
     "output_type": "execute_result"
    }
   ],
   "source": [
    "# getting the count of total number of labels for the multiclass case\n",
    "len(data['attack_cat'].unique())"
   ]
  },
  {
   "cell_type": "code",
   "execution_count": null,
   "metadata": {
    "colab": {
     "base_uri": "https://localhost:8080/"
    },
    "id": "osy4H2Mv_r_5",
    "outputId": "ddf5840d-a329-4ca3-c0a5-1a685ea66852"
   },
   "outputs": [
    {
     "data": {
      "text/plain": [
       "Normal            0.873513\n",
       "Generic           0.084834\n",
       "Exploits          0.017529\n",
       "Fuzzers           0.009546\n",
       "DoS               0.006438\n",
       "Reconnaissance    0.005507\n",
       "Analysis          0.001054\n",
       "Backdoor          0.000917\n",
       "Shellcode         0.000595\n",
       "Worms             0.000069\n",
       "Name: attack_cat, dtype: float64"
      ]
     },
     "execution_count": 67,
     "metadata": {},
     "output_type": "execute_result"
    }
   ],
   "source": [
    "# getting the percent breakout of attack cats\n",
    "data['attack_cat'].value_counts(normalize = True)"
   ]
  },
  {
   "cell_type": "code",
   "execution_count": null,
   "metadata": {
    "colab": {
     "base_uri": "https://localhost:8080/"
    },
    "id": "v9x5bPMCf_yc",
    "outputId": "a05a300c-1190-494f-b4ee-be88df058d92"
   },
   "outputs": [
    {
     "data": {
      "text/plain": [
       "sport               0\n",
       "dsport              0\n",
       "proto               0\n",
       "state               0\n",
       "dur                 0\n",
       "sbytes              0\n",
       "dbytes              0\n",
       "sttl                0\n",
       "dttl                0\n",
       "sloss               0\n",
       "dloss               0\n",
       "service             0\n",
       "sload               0\n",
       "dload               0\n",
       "spkts               0\n",
       "dpkts               0\n",
       "swin                0\n",
       "dwin                0\n",
       "stcpb               0\n",
       "dtcpb               0\n",
       "smeansz             0\n",
       "dmeansz             0\n",
       "trans_depth         0\n",
       "res_bdy_len         0\n",
       "sjit                0\n",
       "djit                0\n",
       "sintpkt             0\n",
       "dintpkt             0\n",
       "tcprtt              0\n",
       "synack              0\n",
       "ackdat              0\n",
       "is_sm_ips_ports     0\n",
       "ct_state_ttl        0\n",
       "ct_ftp_cmd          0\n",
       "ct_srv_src          0\n",
       "ct_srv_dst          0\n",
       "ct_dst_ltm          0\n",
       "ct_src_ltm          0\n",
       "ct_src_dport_ltm    0\n",
       "ct_dst_sport_ltm    0\n",
       "ct_dst_src_ltm      0\n",
       "attack_cat          0\n",
       "label               0\n",
       "dtype: int64"
      ]
     },
     "execution_count": 68,
     "metadata": {},
     "output_type": "execute_result"
    }
   ],
   "source": [
    "# check for missing values\n",
    "data.isna().sum()"
   ]
  },
  {
   "cell_type": "markdown",
   "metadata": {
    "id": "zTI6E__ygOeG"
   },
   "source": [
    "### Mixed data types"
   ]
  },
  {
   "cell_type": "markdown",
   "metadata": {
    "id": "TputOldEO3lI"
   },
   "source": [
    "Checking current data types of all columns against the desired values from the features table"
   ]
  },
  {
   "cell_type": "markdown",
   "metadata": {
    "id": "JDMMXGKcb-0T"
   },
   "source": [
    "#### is_ftp_login"
   ]
  },
  {
   "cell_type": "code",
   "execution_count": null,
   "metadata": {
    "id": "IYf67CVocEOr"
   },
   "outputs": [],
   "source": [
    "# features[features.Name=='is_ftp_login']"
   ]
  },
  {
   "cell_type": "code",
   "execution_count": null,
   "metadata": {
    "id": "dB8jWRhHcH5i"
   },
   "outputs": [],
   "source": [
    "# data.is_ftp_login.value_counts()"
   ]
  },
  {
   "cell_type": "markdown",
   "metadata": {
    "id": "RTOj3md5cSab"
   },
   "source": [
    "The values of this column are supposed to be binary, so values 4 and 2 should not be present."
   ]
  },
  {
   "cell_type": "code",
   "execution_count": null,
   "metadata": {
    "id": "pd0hVByTeIhR"
   },
   "outputs": [],
   "source": [
    "# data.loc[data.is_ftp_login == 4, 'is_ftp_login'] = 0\n",
    "# data.loc[data.is_ftp_login == 2, 'is_ftp_login'] = 0"
   ]
  },
  {
   "cell_type": "code",
   "execution_count": null,
   "metadata": {
    "id": "-U2y2w-6dHTw"
   },
   "outputs": [],
   "source": [
    "# data.is_ftp_login.value_counts()"
   ]
  },
  {
   "cell_type": "code",
   "execution_count": null,
   "metadata": {
    "colab": {
     "base_uri": "https://localhost:8080/"
    },
    "id": "MEF7Xc26VLlk",
    "outputId": "5eb08516-f981-4f61-e860-1d343c84ad7c"
   },
   "outputs": [
    {
     "name": "stdout",
     "output_type": "stream",
     "text": [
      "Desired values:\n",
      "    Name    Type          Description\n",
      "1  sport  integer  Source port number\n",
      "\n",
      "Number of uniques:\n",
      "100343\n",
      "\n",
      "Data type:\n",
      "mixed-integer\n",
      "\n",
      "Example Values: \n",
      "[33661 1464 3593 ... 21511 35433 17293]\n",
      "\n",
      "======\n",
      "Desired values:\n",
      "     Name    Type               Description\n",
      "3  dsport  integer  Destination port number\n",
      "\n",
      "Number of uniques:\n",
      "128297\n",
      "\n",
      "Data type:\n",
      "mixed-integer\n",
      "\n",
      "Example Values: \n",
      "['1024' '53' '53' ... '21' '80' '110']\n",
      "\n",
      "======\n",
      "Desired values:\n",
      "    Name    Type            Description\n",
      "4  proto  nominal  Transaction protocol\n",
      "\n",
      "Number of uniques:\n",
      "135\n",
      "\n",
      "Data type:\n",
      "string\n",
      "\n",
      "Example Values: \n",
      "['udp' 'udp' 'udp' ... 'tcp' 'tcp' 'tcp']\n",
      "\n",
      "======\n",
      "Desired values:\n",
      "    Name    Type   \\\n",
      "5  state  nominal   \n",
      "\n",
      "                                                                                           Description  \n",
      "5  Indicates to the state and its dependent protocol, e.g. ACC, CLO, CON, ECO, ECR, FIN, INT, MAS, ...  \n",
      "\n",
      "Number of uniques:\n",
      "16\n",
      "\n",
      "Data type:\n",
      "string\n",
      "\n",
      "Example Values: \n",
      "['CON' 'CON' 'CON' ... 'CON' 'CON' 'CON']\n",
      "\n",
      "======\n",
      "Desired values:\n",
      "  Name  Type             Description\n",
      "6  dur  Float  Record total duration\n",
      "\n",
      "Number of uniques:\n",
      "587303\n",
      "\n",
      "Data type:\n",
      "floating\n",
      "\n",
      "Example Values: \n",
      "[3.613300e-02 1.119000e-03 1.209000e-03 ... 6.335154e+00 2.200934e+00\n",
      " 9.429840e-01]\n",
      "\n",
      "======\n",
      "Desired values:\n",
      "     Name    Type                                Description\n",
      "7  sbytes  Integer  Source to destination transaction bytes \n",
      "\n",
      "Number of uniques:\n",
      "14155\n",
      "\n",
      "Data type:\n",
      "integer\n",
      "\n",
      "Example Values: \n",
      "[ 528  146  132 ... 1802 3498  574]\n",
      "\n",
      "======\n",
      "Desired values:\n",
      "     Name    Type                               Description\n",
      "8  dbytes  Integer  Destination to source transaction bytes\n",
      "\n",
      "Number of uniques:\n",
      "19166\n",
      "\n",
      "Data type:\n",
      "integer\n",
      "\n",
      "Example Values: \n",
      "[   304    178    164 ...   2088 166054    676]\n",
      "\n",
      "======\n",
      "Desired values:\n",
      "   Name    Type                                 Description\n",
      "9  sttl  Integer  Source to destination time to live value \n",
      "\n",
      "Number of uniques:\n",
      "13\n",
      "\n",
      "Data type:\n",
      "integer\n",
      "\n",
      "Example Values: \n",
      "[31 31 31 ... 31 31 62]\n",
      "\n",
      "======\n",
      "Desired values:\n",
      "    Name    Type                                Description\n",
      "10  dttl  Integer  Destination to source time to live value\n",
      "\n",
      "Number of uniques:\n",
      "11\n",
      "\n",
      "Data type:\n",
      "integer\n",
      "\n",
      "Example Values: \n",
      "[ 29  29  29 ...  29  29 252]\n",
      "\n",
      "======\n",
      "Desired values:\n",
      "     Name    Type                                Description\n",
      "11  sloss  Integer  Source packets retransmitted or dropped \n",
      "\n",
      "Number of uniques:\n",
      "544\n",
      "\n",
      "Data type:\n",
      "integer\n",
      "\n",
      "Example Values: \n",
      "[0 0 0 ... 7 2 5]\n",
      "\n",
      "======\n",
      "Desired values:\n",
      "     Name    Type                                    Description\n",
      "12  dloss  Integer  Destination packets retransmitted or dropped\n",
      "\n",
      "Number of uniques:\n",
      "707\n",
      "\n",
      "Data type:\n",
      "integer\n",
      "\n",
      "Example Values: \n",
      "[ 0  0  0 ...  9 57  6]\n",
      "\n",
      "======\n",
      "Desired values:\n",
      "       Name    Type   \\\n",
      "13  service  nominal   \n",
      "\n",
      "                                                                   Description  \n",
      "13  http, ftp, smtp, ssh, dns, ftp-data ,irc  and (-) if not much used service  \n",
      "\n",
      "Number of uniques:\n",
      "13\n",
      "\n",
      "Data type:\n",
      "string\n",
      "\n",
      "Example Values: \n",
      "['-' 'dns' 'dns' ... 'ftp' 'http' 'pop3']\n",
      "\n",
      "======\n",
      "Desired values:\n",
      "     Name  Type              Description\n",
      "14  sload  Float  Source bits per second\n",
      "\n",
      "Number of uniques:\n",
      "1100258\n",
      "\n",
      "Data type:\n",
      "floating\n",
      "\n",
      "Example Values: \n",
      "[ 87676.08594  521894.5313   436724.5625   ...   2204.839844  12496.51367\n",
      "   4470.913574]\n",
      "\n",
      "======\n",
      "Desired values:\n",
      "     Name  Type                   Description\n",
      "15  dload  Float  Destination bits per second\n",
      "\n",
      "Number of uniques:\n",
      "1173739\n",
      "\n",
      "Data type:\n",
      "floating\n",
      "\n",
      "Example Values: \n",
      "[ 50480.17188  636282.375    542597.1875   ...   2549.582764 598375.0625\n",
      "   5259.898438]\n",
      "\n",
      "======\n",
      "Desired values:\n",
      "     Name    Type                           Description\n",
      "16  spkts  integer  Source to destination packet count \n",
      "\n",
      "Number of uniques:\n",
      "933\n",
      "\n",
      "Data type:\n",
      "integer\n",
      "\n",
      "Example Values: \n",
      "[ 4  2  2 ... 32 58 12]\n",
      "\n",
      "======\n",
      "Desired values:\n",
      "     Name    Type                          Description\n",
      "17  dpkts  integer  Destination to source packet count\n",
      "\n",
      "Number of uniques:\n",
      "1255\n",
      "\n",
      "Data type:\n",
      "integer\n",
      "\n",
      "Example Values: \n",
      "[  4   2   2 ...  30 116  12]\n",
      "\n",
      "======\n",
      "Desired values:\n",
      "    Name    Type                             Description\n",
      "18  swin  integer  Source TCP window advertisement value\n",
      "\n",
      "Number of uniques:\n",
      "36\n",
      "\n",
      "Data type:\n",
      "integer\n",
      "\n",
      "Example Values: \n",
      "[  0   0   0 ... 255 255 255]\n",
      "\n",
      "======\n",
      "Desired values:\n",
      "    Name    Type                                  Description\n",
      "19  dwin  integer  Destination TCP window advertisement value\n",
      "\n",
      "Number of uniques:\n",
      "32\n",
      "\n",
      "Data type:\n",
      "integer\n",
      "\n",
      "Example Values: \n",
      "[  0   0   0 ... 255 255 255]\n",
      "\n",
      "======\n",
      "Desired values:\n",
      "     Name    Type                       Description\n",
      "20  stcpb  integer  Source TCP base sequence number\n",
      "\n",
      "Number of uniques:\n",
      "1429571\n",
      "\n",
      "Data type:\n",
      "integer\n",
      "\n",
      "Example Values: \n",
      "[         0          0          0 ...  497208793 1289728069 3026824982]\n",
      "\n",
      "======\n",
      "Desired values:\n",
      "     Name    Type                            Description\n",
      "21  dtcpb  integer  Destination TCP base sequence number\n",
      "\n",
      "Number of uniques:\n",
      "1429031\n",
      "\n",
      "Data type:\n",
      "integer\n",
      "\n",
      "Example Values: \n",
      "[         0          0          0 ...  889904111 3436097151 3748412468]\n",
      "\n",
      "======\n",
      "Desired values:\n",
      "       Name    Type                                           Description\n",
      "22  smeansz  integer  Mean of the ?ow packet size transmitted by the src \n",
      "\n",
      "Number of uniques:\n",
      "1415\n",
      "\n",
      "Data type:\n",
      "integer\n",
      "\n",
      "Example Values: \n",
      "[132  73  66 ...  56  60  48]\n",
      "\n",
      "======\n",
      "Desired values:\n",
      "       Name    Type                                           Description\n",
      "23  dmeansz  integer  Mean of the ?ow packet size transmitted by the dst \n",
      "\n",
      "Number of uniques:\n",
      "1417\n",
      "\n",
      "Data type:\n",
      "integer\n",
      "\n",
      "Example Values: \n",
      "[  76   89   82 ...   70 1432   56]\n",
      "\n",
      "======\n",
      "Desired values:\n",
      "           Name    Type   \\\n",
      "24  trans_depth  integer   \n",
      "\n",
      "                                                                                Description  \n",
      "24  Represents the pipelined depth into the connection of http request/response transaction  \n",
      "\n",
      "Number of uniques:\n",
      "14\n",
      "\n",
      "Data type:\n",
      "integer\n",
      "\n",
      "Example Values: \n",
      "[0 0 0 ... 0 1 0]\n",
      "\n",
      "======\n",
      "Desired values:\n",
      "           Name    Type   \\\n",
      "25  res_bdy_len  integer   \n",
      "\n",
      "                                                                                 Description  \n",
      "25  Actual uncompressed content size of the data transferred from the server’s http service.  \n",
      "\n",
      "Number of uniques:\n",
      "2907\n",
      "\n",
      "Data type:\n",
      "integer\n",
      "\n",
      "Example Values: \n",
      "[    0     0     0 ...     0 79745     0]\n",
      "\n",
      "======\n",
      "Desired values:\n",
      "    Name  Type            Description\n",
      "26  sjit  Float  Source jitter (mSec)\n",
      "\n",
      "Number of uniques:\n",
      "1381001\n",
      "\n",
      "Data type:\n",
      "floating\n",
      "\n",
      "Example Values: \n",
      "[9.89101000e+00 0.00000000e+00 0.00000000e+00 ... 1.32337286e+04\n",
      " 2.86889314e+03 3.90352358e+03]\n",
      "\n",
      "======\n",
      "Desired values:\n",
      "    Name  Type                 Description\n",
      "27  djit  Float  Destination jitter (mSec)\n",
      "\n",
      "Number of uniques:\n",
      "1424689\n",
      "\n",
      "Data type:\n",
      "floating\n",
      "\n",
      "Example Values: \n",
      "[  10.682733    0.          0.       ...  379.05275  1951.035944\n",
      "   95.650531]\n",
      "\n",
      "======\n",
      "Desired values:\n",
      "       Name  Type                              Description\n",
      "30  sintpkt  Float  Source interpacket arrival time (mSec)\n",
      "\n",
      "Number of uniques:\n",
      "975275\n",
      "\n",
      "Data type:\n",
      "floating\n",
      "\n",
      "Example Values: \n",
      "[7.00500000e+00 1.70000000e-02 4.30000000e-02 ... 2.04359814e+02\n",
      " 3.86097000e+01 7.97140890e+01]\n",
      "\n",
      "======\n",
      "Desired values:\n",
      "       Name  Type                                   Description\n",
      "31  dintpkt  Float  Destination interpacket arrival time (mSec)\n",
      "\n",
      "Number of uniques:\n",
      "960353\n",
      "\n",
      "Data type:\n",
      "floating\n",
      "\n",
      "Example Values: \n",
      "[7.56433300e+00 1.30000000e-02 1.40000000e-02 ... 2.14372375e+02\n",
      " 1.91338260e+01 8.08271800e+01]\n",
      "\n",
      "======\n",
      "Desired values:\n",
      "      Name  Type   \\\n",
      "32  tcprtt  Float   \n",
      "\n",
      "                                                                Description  \n",
      "32  TCP connection setup round-trip time, the sum of ’synack’ and ’ackdat’.  \n",
      "\n",
      "Number of uniques:\n",
      "76931\n",
      "\n",
      "Data type:\n",
      "floating\n",
      "\n",
      "Example Values: \n",
      "[0.       0.       0.       ... 0.000617 0.00068  0.139446]\n",
      "\n",
      "======\n",
      "Desired values:\n",
      "      Name  Type   \\\n",
      "33  synack  Float   \n",
      "\n",
      "                                                                     Description  \n",
      "33  TCP connection setup time, the time between the SYN and the SYN_ACK packets.  \n",
      "\n",
      "Number of uniques:\n",
      "66997\n",
      "\n",
      "Data type:\n",
      "floating\n",
      "\n",
      "Example Values: \n",
      "[0.       0.       0.       ... 0.000485 0.000541 0.053884]\n",
      "\n",
      "======\n",
      "Desired values:\n",
      "      Name  Type   \\\n",
      "34  ackdat  Float   \n",
      "\n",
      "                                                                     Description  \n",
      "34  TCP connection setup time, the time between the SYN_ACK and the ACK packets.  \n",
      "\n",
      "Number of uniques:\n",
      "60844\n",
      "\n",
      "Data type:\n",
      "floating\n",
      "\n",
      "Example Values: \n",
      "[0.       0.       0.       ... 0.000132 0.000139 0.085562]\n",
      "\n",
      "======\n",
      "Desired values:\n",
      "               Name   Type   \\\n",
      "35  is_sm_ips_ports  Binary   \n",
      "\n",
      "                                                                                            Description  \n",
      "35  If source (1) and destination (3)IP addresses equal and port numbers (2)(4)  equal then, this va...  \n",
      "\n",
      "Number of uniques:\n",
      "2\n",
      "\n",
      "Data type:\n",
      "integer\n",
      "\n",
      "Example Values: \n",
      "[0 0 0 ... 0 0 0]\n",
      "\n",
      "======\n",
      "Desired values:\n",
      "            Name    Type   \\\n",
      "36  ct_state_ttl  Integer   \n",
      "\n",
      "                                                                                            Description  \n",
      "36  No. for each state (6) according to specific range of values for source/destination time to live...  \n",
      "\n",
      "Number of uniques:\n",
      "7\n",
      "\n",
      "Data type:\n",
      "integer\n",
      "\n",
      "Example Values: \n",
      "[0 0 0 ... 0 0 3]\n",
      "\n",
      "======\n",
      "Desired values:\n",
      "          Name    Type                                      Description\n",
      "39  ct_ftp_cmd  integer  No of flows that has a command in ftp session.\n",
      "\n",
      "Number of uniques:\n",
      "13\n",
      "\n",
      "Data type:\n",
      "mixed-integer\n",
      "\n",
      "Example Values: \n",
      "[0 0 0 ... '2' ' ' ' ']\n",
      "\n",
      "======\n",
      "Desired values:\n",
      "          Name    Type   \\\n",
      "40  ct_srv_src  integer   \n",
      "\n",
      "                                                                                            Description  \n",
      "40  No. of connections that contain the same service (14) and source address (1) in 100 connections ...  \n",
      "\n",
      "Number of uniques:\n",
      "65\n",
      "\n",
      "Data type:\n",
      "integer\n",
      "\n",
      "Example Values: \n",
      "[ 2 12  6 ...  2  1  1]\n",
      "\n",
      "======\n",
      "Desired values:\n",
      "          Name    Type   \\\n",
      "41  ct_srv_dst  integer   \n",
      "\n",
      "                                                                                            Description  \n",
      "41  No. of connections that contain the same service (14) and destination address (3) in 100 connect...  \n",
      "\n",
      "Number of uniques:\n",
      "66\n",
      "\n",
      "Data type:\n",
      "integer\n",
      "\n",
      "Example Values: \n",
      "[4 8 9 ... 2 1 1]\n",
      "\n",
      "======\n",
      "Desired values:\n",
      "          Name    Type   \\\n",
      "42  ct_dst_ltm  integer   \n",
      "\n",
      "                                                                                            Description  \n",
      "42  No. of connections of the same destination address (3) in 100 connections according to the last ...  \n",
      "\n",
      "Number of uniques:\n",
      "62\n",
      "\n",
      "Data type:\n",
      "integer\n",
      "\n",
      "Example Values: \n",
      "[2 1 1 ... 4 2 2]\n",
      "\n",
      "======\n",
      "Desired values:\n",
      "Empty DataFrame\n",
      "Columns: [Name, Type , Description]\n",
      "Index: []\n",
      "\n",
      "Number of uniques:\n",
      "62\n",
      "\n",
      "Data type:\n",
      "integer\n",
      "\n",
      "Example Values: \n",
      "[3 2 1 ... 2 4 4]\n",
      "\n",
      "======\n",
      "Desired values:\n",
      "                Name    Type   \\\n",
      "44  ct_src_dport_ltm  integer   \n",
      "\n",
      "                                                                                            Description  \n",
      "44  No of connections of the same source address (1) and the destination port (4) in 100 connections...  \n",
      "\n",
      "Number of uniques:\n",
      "62\n",
      "\n",
      "Data type:\n",
      "integer\n",
      "\n",
      "Example Values: \n",
      "[1 2 1 ... 2 2 2]\n",
      "\n",
      "======\n",
      "Desired values:\n",
      "                Name    Type   \\\n",
      "45  ct_dst_sport_ltm  integer   \n",
      "\n",
      "                                                                                            Description  \n",
      "45  No of connections of the same destination address (3) and the source port (2) in 100 connections...  \n",
      "\n",
      "Number of uniques:\n",
      "55\n",
      "\n",
      "Data type:\n",
      "integer\n",
      "\n",
      "Example Values: \n",
      "[1 1 1 ... 2 2 2]\n",
      "\n",
      "======\n",
      "Desired values:\n",
      "              Name    Type   \\\n",
      "46  ct_dst_src_ltm  integer   \n",
      "\n",
      "                                                                                            Description  \n",
      "46  No of connections of the same source (1) and the destination (3) address in in 100 connections a...  \n",
      "\n",
      "Number of uniques:\n",
      "65\n",
      "\n",
      "Data type:\n",
      "integer\n",
      "\n",
      "Example Values: \n",
      "[2 1 1 ... 2 2 2]\n",
      "\n",
      "======\n",
      "Desired values:\n",
      "          Name    Type   \\\n",
      "47  attack_cat  nominal   \n",
      "\n",
      "                                                                                            Description  \n",
      "47  The name of each attack category. In this data set , nine categories e.g. Fuzzers, Analysis, Bac...  \n",
      "\n",
      "Number of uniques:\n",
      "10\n",
      "\n",
      "Data type:\n",
      "string\n",
      "\n",
      "Example Values: \n",
      "['Normal' 'Normal' 'Normal' ... 'Normal' 'Normal' 'Exploits']\n",
      "\n",
      "======\n",
      "Desired values:\n",
      "     Name   Type                             Description\n",
      "48  label  binary  0 for normal and 1 for attack records\n",
      "\n",
      "Number of uniques:\n",
      "2\n",
      "\n",
      "Data type:\n",
      "integer\n",
      "\n",
      "Example Values: \n",
      "[0 0 0 ... 0 0 1]\n",
      "\n",
      "======\n"
     ]
    }
   ],
   "source": [
    "# here we will iterate over the columns in the dataset and compare the datatypes\n",
    "# with those in the features table to identify necessary changes\n",
    "\n",
    "for x in data.columns:\n",
    "  print('Desired values:')\n",
    "  print(features.loc[features['Name'] == x, ['Name', 'Type ', 'Description']])\n",
    "\n",
    "  print('\\nNumber of uniques:')\n",
    "  print(len(data[x].unique()))\n",
    "\n",
    "  print('\\nData type:')\n",
    "  print(pd.api.types.infer_dtype(data[x]))\n",
    "\n",
    "  print('\\nExample Values: ')\n",
    "  print(data[x].values)\n",
    "\n",
    "  print('\\n======')\n",
    "  ## proto - oh nom\n",
    "  ## state - oh nom\n",
    "  ## service - oh nom - check value counts\n",
    "\n",
    "  ## dsport - oh nom\n",
    "  ## sport - oh nom\n",
    "\n",
    "  ### targets\n",
    "  ## attack_cat - multi_label - oh nom (11 categories)\n",
    "  ## label - binary\n",
    "\n",
    "  # dur - float\n",
    "  # sbytes - int\n",
    "  # dbytes - int\n",
    "  # sttl - int\n",
    "  # dttl - int\n",
    "  # sloss - int\n",
    "  # dloss - int\n",
    "\n",
    "  # sload - float\n",
    "  # dload - float\n",
    "  # spkts - int\n",
    "  # dpkts - int\n",
    "  # swin - int should it be nominal?\n",
    "  # dwin - int should it be nominal?\n",
    "  # stcpb - int should it be nominal?\n",
    "  # dtcpb - int shuld it be nominal?\n",
    "  # smeansz - int\n",
    "  # dmeansz - int\n",
    "  # trans_depth - int should it be nominal?\n",
    "  # res_bdy_len - int\n",
    "  # sjit - float\n",
    "  # djit - float\n",
    "  # sintpkt - float\n",
    "  # dintpkt - float\n",
    "  # tcprtt - float\n",
    "  # synack - float\n",
    "  # ackdat - float\n",
    "  ## is_sm_ips_ports - to categorical (binary)\n",
    "  ## ct_state_ttl - oh nom - should be 6 values, 7 uniques are present\n",
    "  ## ct_flw_http_mthd - to int\n",
    "  ## is_ftp_login - should be binary, 4 values are present \n",
    "  # ct_ftp_cmd - int\n",
    "  # ct_srv_src - int\n",
    "  # ct_srv_dst - int\n",
    "  # ct_dst_ltm - int\n",
    "  # ct_src_ ltm - int\n",
    "  # ct_src_dport_ltm - int\n",
    "  # ct_dst_sport_ltm - int\n",
    "  # ct_dst_src_ltm - int"
   ]
  },
  {
   "cell_type": "code",
   "execution_count": null,
   "metadata": {
    "id": "zCmyHS8UP2Qz"
   },
   "outputs": [],
   "source": [
    "# # timestamps\n",
    "# data2['stime'] = data2['stime'].apply(lambda x: datetime.fromtimestamp(x).strftime(\"%A, %B %d, %Y %I:%M:%S\"))\n",
    "# data2['ltime'] = data2['ltime'].apply(lambda x: datetime.fromtimestamp(x).strftime(\"%A, %B %d, %Y %I:%M:%S\"))\n",
    "# data2['ct_flw_http_mthd'] = data2['ct_flw_http_mthd'].astype('int32')"
   ]
  },
  {
   "cell_type": "code",
   "execution_count": null,
   "metadata": {
    "id": "osgVxBBmszgS"
   },
   "outputs": [],
   "source": [
    "# convert hexadecimal values to integers\n",
    "# data2['dsport'] = data2['dsport'][data2['dsport'].apply(lambda x: int(x,0) if (isinstance(x, str)) else x)]"
   ]
  },
  {
   "cell_type": "code",
   "execution_count": null,
   "metadata": {
    "id": "TtRekWmL1rCZ"
   },
   "outputs": [],
   "source": [
    "# we can drop two rows with '-' in them\n",
    "# data2 = data2[data2['dsport'] != '-']"
   ]
  },
  {
   "cell_type": "code",
   "execution_count": null,
   "metadata": {
    "id": "IfVjxfRN4pG4"
   },
   "outputs": [],
   "source": [
    "# Set empty strings to NaN\n",
    "# data2['ct_ftp_cmd'] = data2['ct_ftp_cmd'].apply(lambda x: pd.to_numeric(x, errors = 'coerce'))"
   ]
  },
  {
   "cell_type": "code",
   "execution_count": null,
   "metadata": {
    "id": "fM6FUDFSgo9a"
   },
   "outputs": [],
   "source": [
    "# # selecting column names with object dtypes, which in reality could contain mixed datatypes\n",
    "# cat_features=[col for col in data.columns if data.dtypes[col]=='object']\n",
    "# cat_features"
   ]
  },
  {
   "cell_type": "code",
   "execution_count": null,
   "metadata": {
    "colab": {
     "base_uri": "https://localhost:8080/"
    },
    "id": "wdHRQ7y2qzCf",
    "outputId": "5d090c72-86ee-416d-d8b0-f19a2f977ebd"
   },
   "outputs": [
    {
     "name": "stdout",
     "output_type": "stream",
     "text": [
      "sport  -  mixed-integer\n",
      "dsport  -  mixed-integer\n",
      "proto  -  string\n",
      "state  -  string\n",
      "dur  -  floating\n",
      "sbytes  -  integer\n",
      "dbytes  -  integer\n",
      "sttl  -  integer\n",
      "dttl  -  integer\n",
      "sloss  -  integer\n",
      "dloss  -  integer\n",
      "service  -  string\n",
      "sload  -  floating\n",
      "dload  -  floating\n",
      "spkts  -  integer\n",
      "dpkts  -  integer\n",
      "swin  -  integer\n",
      "dwin  -  integer\n",
      "stcpb  -  integer\n",
      "dtcpb  -  integer\n",
      "smeansz  -  integer\n",
      "dmeansz  -  integer\n",
      "trans_depth  -  integer\n",
      "res_bdy_len  -  integer\n",
      "sjit  -  floating\n",
      "djit  -  floating\n",
      "sintpkt  -  floating\n",
      "dintpkt  -  floating\n",
      "tcprtt  -  floating\n",
      "synack  -  floating\n",
      "ackdat  -  floating\n",
      "is_sm_ips_ports  -  integer\n",
      "ct_state_ttl  -  integer\n",
      "ct_ftp_cmd  -  mixed-integer\n",
      "ct_srv_src  -  integer\n",
      "ct_srv_dst  -  integer\n",
      "ct_dst_ltm  -  integer\n",
      "ct_src_ltm  -  integer\n",
      "ct_src_dport_ltm  -  integer\n",
      "ct_dst_sport_ltm  -  integer\n",
      "ct_dst_src_ltm  -  integer\n",
      "attack_cat  -  string\n",
      "label  -  integer\n"
     ]
    }
   ],
   "source": [
    "# using pd.api.types.infer_dtypes() to confirm mixed datatypes\n",
    "for col in data.columns:\n",
    "  print(col,' - ', pd.api.types.infer_dtype(data[col]))"
   ]
  },
  {
   "cell_type": "markdown",
   "metadata": {
    "id": "-yz5Kt8PrMf1"
   },
   "source": [
    "We see that sport, dsport, and ct_ftp_cmd have mixed integer types. Let's deal with them one by one."
   ]
  },
  {
   "cell_type": "markdown",
   "metadata": {
    "id": "WYP7yfl_rV1L"
   },
   "source": [
    "#### SPort"
   ]
  },
  {
   "cell_type": "code",
   "execution_count": null,
   "metadata": {
    "id": "IBXh60L0wl3C"
   },
   "outputs": [],
   "source": [
    "# Converting strings to numbers and ignoring errors to account for potential strings of characters (hex)\n",
    "data['sport'] = data['sport'].apply(lambda x: pd.to_numeric(x, errors = 'ignore'))"
   ]
  },
  {
   "cell_type": "code",
   "execution_count": null,
   "metadata": {
    "colab": {
     "base_uri": "https://localhost:8080/"
    },
    "id": "RU7Du7X3vsFh",
    "outputId": "09e6e948-038b-450a-b47b-4b653b11f54b"
   },
   "outputs": [
    {
     "data": {
      "text/plain": [
       "0x000c    4\n",
       "0x000b    2\n",
       "-         2\n",
       "Name: sport, dtype: int64"
      ]
     },
     "execution_count": 83,
     "metadata": {},
     "output_type": "execute_result"
    }
   ],
   "source": [
    "#let's look for how many of the values with strings in them still exist and what they are\n",
    "data['sport'][data['sport'].apply(lambda x: isinstance(x, str))].value_counts()"
   ]
  },
  {
   "cell_type": "code",
   "execution_count": null,
   "metadata": {
    "colab": {
     "base_uri": "https://localhost:8080/"
    },
    "id": "Jhw63CWRyxql",
    "outputId": "ce9f8e4d-a8a9-4021-c651-f284329d9b05"
   },
   "outputs": [
    {
     "data": {
      "text/plain": [
       "2540043"
      ]
     },
     "execution_count": 84,
     "metadata": {},
     "output_type": "execute_result"
    }
   ],
   "source": [
    "len(data['sport'])"
   ]
  },
  {
   "cell_type": "code",
   "execution_count": null,
   "metadata": {
    "id": "LqcKCW6Cym9d"
   },
   "outputs": [],
   "source": [
    "# since only 8 values exist we could just set them to NaN\n",
    "data['sport'] = data['sport'].apply(lambda x: pd.to_numeric(x, errors = 'coerce'))\n",
    "# and only take the rows that aren't NaN\n",
    "data = data[data['sport'].notna()]\n"
   ]
  },
  {
   "cell_type": "code",
   "execution_count": null,
   "metadata": {
    "colab": {
     "base_uri": "https://localhost:8080/"
    },
    "id": "qWUfU1LJy0KQ",
    "outputId": "da28f435-2391-44d6-a86b-30a4dcb71e20"
   },
   "outputs": [
    {
     "data": {
      "text/plain": [
       "2540035"
      ]
     },
     "execution_count": 86,
     "metadata": {},
     "output_type": "execute_result"
    }
   ],
   "source": [
    "len(data['sport'])"
   ]
  },
  {
   "cell_type": "code",
   "execution_count": null,
   "metadata": {
    "colab": {
     "base_uri": "https://localhost:8080/"
    },
    "id": "M4ty6Oa66Ora",
    "outputId": "5a0cefe6-653f-49ce-a83e-fcda3c4b1c9f"
   },
   "outputs": [
    {
     "name": "stderr",
     "output_type": "stream",
     "text": [
      "<ipython-input-87-ae2fbad9b4b4>:1: SettingWithCopyWarning: \n",
      "A value is trying to be set on a copy of a slice from a DataFrame.\n",
      "Try using .loc[row_indexer,col_indexer] = value instead\n",
      "\n",
      "See the caveats in the documentation: https://pandas.pydata.org/pandas-docs/stable/user_guide/indexing.html#returning-a-view-versus-a-copy\n",
      "  data['sport'] = data['sport'].astype('int32')\n"
     ]
    },
    {
     "data": {
      "text/plain": [
       "1043     220322\n",
       "47439    203269\n",
       "0         54044\n",
       "138        3480\n",
       "5060        523\n",
       "          ...  \n",
       "922           1\n",
       "680           1\n",
       "185           1\n",
       "551           1\n",
       "706           1\n",
       "Name: sport, Length: 64597, dtype: int64"
      ]
     },
     "execution_count": 87,
     "metadata": {},
     "output_type": "execute_result"
    }
   ],
   "source": [
    "data['sport'] = data['sport'].astype('int32')\n",
    "data['sport'].value_counts()"
   ]
  },
  {
   "cell_type": "code",
   "execution_count": 99,
   "metadata": {
    "colab": {
     "base_uri": "https://localhost:8080/"
    },
    "id": "uWwhCNAEiyuB",
    "outputId": "9dd0fd62-f445-4d4b-bc60-178721c34c6a"
   },
   "outputs": [
    {
     "data": {
      "text/plain": [
       "dtype('int32')"
      ]
     },
     "execution_count": 99,
     "metadata": {},
     "output_type": "execute_result"
    }
   ],
   "source": [
    "data['sport'].dtype"
   ]
  },
  {
   "cell_type": "code",
   "execution_count": 100,
   "metadata": {
    "colab": {
     "base_uri": "https://localhost:8080/",
     "height": 36
    },
    "id": "Ot01Ma5oi65k",
    "outputId": "25ec5792-93d9-459b-b5ec-e1be2e833f18"
   },
   "outputs": [
    {
     "data": {
      "application/vnd.google.colaboratory.intrinsic+json": {
       "type": "string"
      },
      "text/plain": [
       "'integer'"
      ]
     },
     "execution_count": 100,
     "metadata": {},
     "output_type": "execute_result"
    }
   ],
   "source": [
    "pd.api.types.infer_dtype(data['sport'])"
   ]
  },
  {
   "cell_type": "markdown",
   "metadata": {
    "id": "xZ0bJbKf0JNo"
   },
   "source": [
    "#### DSPort"
   ]
  },
  {
   "cell_type": "code",
   "execution_count": null,
   "metadata": {
    "colab": {
     "base_uri": "https://localhost:8080/"
    },
    "id": "ld4IGAm2yPwV",
    "outputId": "976c1081-4619-4f63-88a9-0dc71d21a77b"
   },
   "outputs": [
    {
     "name": "stderr",
     "output_type": "stream",
     "text": [
      "<ipython-input-88-8e60890fcb9f>:3: SettingWithCopyWarning: \n",
      "A value is trying to be set on a copy of a slice from a DataFrame.\n",
      "Try using .loc[row_indexer,col_indexer] = value instead\n",
      "\n",
      "See the caveats in the documentation: https://pandas.pydata.org/pandas-docs/stable/user_guide/indexing.html#returning-a-view-versus-a-copy\n",
      "  data['dsport'] = data['dsport'].apply(lambda x: pd.to_numeric(x, errors = 'ignore'))\n"
     ]
    }
   ],
   "source": [
    "# Repeating the process for the DSPort column\n",
    "# Converting strings to numbers and ignoring errors to account for potential strings of characters (hex)\n",
    "data['dsport'] = data['dsport'].apply(lambda x: pd.to_numeric(x, errors = 'ignore'))"
   ]
  },
  {
   "cell_type": "code",
   "execution_count": null,
   "metadata": {
    "colab": {
     "base_uri": "https://localhost:8080/"
    },
    "id": "B4O3nRCd0nul",
    "outputId": "6696c2b7-e166-4160-c7da-0d1295834ac3"
   },
   "outputs": [
    {
     "data": {
      "text/plain": [
       "0xcc09        241\n",
       "0xc0a8         54\n",
       "-               4\n",
       "0x20205321      1\n",
       "Name: dsport, dtype: int64"
      ]
     },
     "execution_count": 89,
     "metadata": {},
     "output_type": "execute_result"
    }
   ],
   "source": [
    "#let's look for how many of the values with strings in them still exist and what they are\n",
    "data['dsport'][data['dsport'].apply(lambda x: isinstance(x, str))].value_counts()"
   ]
  },
  {
   "cell_type": "code",
   "execution_count": null,
   "metadata": {
    "colab": {
     "base_uri": "https://localhost:8080/"
    },
    "id": "D5o3Mkb94SN5",
    "outputId": "0efeebcd-6f18-41f3-db6e-afa7faf23649"
   },
   "outputs": [
    {
     "name": "stderr",
     "output_type": "stream",
     "text": [
      "<ipython-input-90-47925245d01f>:2: SettingWithCopyWarning: \n",
      "A value is trying to be set on a copy of a slice from a DataFrame.\n",
      "Try using .loc[row_indexer,col_indexer] = value instead\n",
      "\n",
      "See the caveats in the documentation: https://pandas.pydata.org/pandas-docs/stable/user_guide/indexing.html#returning-a-view-versus-a-copy\n",
      "  data['dsport'] = data['dsport'].apply(lambda x: pd.to_numeric(x, errors = 'coerce'))\n"
     ]
    },
    {
     "data": {
      "text/plain": [
       "2539735"
      ]
     },
     "execution_count": 90,
     "metadata": {},
     "output_type": "execute_result"
    }
   ],
   "source": [
    "# since only 8 values exist we could just set them to NaN\n",
    "data['dsport'] = data['dsport'].apply(lambda x: pd.to_numeric(x, errors = 'coerce'))\n",
    "# and only take the rows that aren't NaN\n",
    "data = data[data['dsport'].notna()]\n",
    "len(data['dsport'])"
   ]
  },
  {
   "cell_type": "code",
   "execution_count": null,
   "metadata": {
    "colab": {
     "base_uri": "https://localhost:8080/"
    },
    "id": "BisMGaaH6TGh",
    "outputId": "ffaa0f45-f1ee-408c-c9be-027e0350e005"
   },
   "outputs": [
    {
     "name": "stderr",
     "output_type": "stream",
     "text": [
      "<ipython-input-91-33f2d1b316ba>:1: SettingWithCopyWarning: \n",
      "A value is trying to be set on a copy of a slice from a DataFrame.\n",
      "Try using .loc[row_indexer,col_indexer] = value instead\n",
      "\n",
      "See the caveats in the documentation: https://pandas.pydata.org/pandas-docs/stable/user_guide/indexing.html#returning-a-view-versus-a-copy\n",
      "  data['dsport'] = data['dsport'].astype('int32')\n"
     ]
    },
    {
     "data": {
      "text/plain": [
       "53       798967\n",
       "80       226698\n",
       "6881     125156\n",
       "5190     120599\n",
       "111       93296\n",
       "          ...  \n",
       "167           1\n",
       "125           1\n",
       "4175          1\n",
       "98            1\n",
       "16488         1\n",
       "Name: dsport, Length: 64626, dtype: int64"
      ]
     },
     "execution_count": 91,
     "metadata": {},
     "output_type": "execute_result"
    }
   ],
   "source": [
    "data['dsport'] = data['dsport'].astype('int32')\n",
    "data['dsport'].value_counts()"
   ]
  },
  {
   "cell_type": "code",
   "execution_count": 95,
   "metadata": {
    "colab": {
     "base_uri": "https://localhost:8080/"
    },
    "id": "BxlBidIGh38v",
    "outputId": "01cd76f2-171a-4168-8c58-7444cf90f6c3"
   },
   "outputs": [
    {
     "data": {
      "text/plain": [
       "array([1024,   53,  111, ...,  632,  186,  518], dtype=int32)"
      ]
     },
     "execution_count": 95,
     "metadata": {},
     "output_type": "execute_result"
    }
   ],
   "source": [
    "data['dsport'].unique()"
   ]
  },
  {
   "cell_type": "code",
   "execution_count": 101,
   "metadata": {
    "colab": {
     "base_uri": "https://localhost:8080/",
     "height": 36
    },
    "id": "A3r1E4-2i_uc",
    "outputId": "81fc9571-5792-4243-f9ea-f2eb60c53790"
   },
   "outputs": [
    {
     "data": {
      "application/vnd.google.colaboratory.intrinsic+json": {
       "type": "string"
      },
      "text/plain": [
       "'integer'"
      ]
     },
     "execution_count": 101,
     "metadata": {},
     "output_type": "execute_result"
    }
   ],
   "source": [
    "pd.api.types.infer_dtype(data['dsport'])"
   ]
  },
  {
   "cell_type": "markdown",
   "metadata": {
    "id": "ewHUReOk4ft0"
   },
   "source": [
    "#### ct_ftp_cmd"
   ]
  },
  {
   "cell_type": "code",
   "execution_count": null,
   "metadata": {
    "id": "MmRrVZRa4SZp"
   },
   "outputs": [],
   "source": [
    "# Repeating the process for the ct_ftp_cmd column\n",
    "\n",
    "# Converting strings to numbers and ignoring errors to account for potential strings of characters (hex)\n",
    "data['ct_ftp_cmd'] = data['ct_ftp_cmd'].apply(lambda x: pd.to_numeric(x, errors = 'ignore'))"
   ]
  },
  {
   "cell_type": "code",
   "execution_count": null,
   "metadata": {
    "colab": {
     "base_uri": "https://localhost:8080/"
    },
    "id": "FUnX_zmt4o5Y",
    "outputId": "85809224-aad8-4cbb-e40d-92f30f6523b6"
   },
   "outputs": [
    {
     "data": {
      "text/plain": [
       "     1429636\n",
       "Name: ct_ftp_cmd, dtype: int64"
      ]
     },
     "execution_count": 93,
     "metadata": {},
     "output_type": "execute_result"
    }
   ],
   "source": [
    "#let's look for how many of the values with strings in them still exist and what they are\n",
    "data['ct_ftp_cmd'][data['ct_ftp_cmd'].apply(lambda x: isinstance(x, str))].value_counts()"
   ]
  },
  {
   "cell_type": "code",
   "execution_count": 97,
   "metadata": {
    "colab": {
     "base_uri": "https://localhost:8080/"
    },
    "id": "SDOEg3ud4ySp",
    "outputId": "f29eb8a2-67a5-4a7a-d6ab-799a03f65aa8"
   },
   "outputs": [
    {
     "data": {
      "text/plain": [
       "     0.562908\n",
       "0    0.419898\n",
       "1    0.015780\n",
       "2    0.000498\n",
       "4    0.000378\n",
       "3    0.000287\n",
       "6    0.000131\n",
       "5    0.000114\n",
       "8    0.000007\n",
       "Name: ct_ftp_cmd, dtype: float64"
      ]
     },
     "execution_count": 97,
     "metadata": {},
     "output_type": "execute_result"
    }
   ],
   "source": [
    "data['ct_ftp_cmd'].value_counts(normalize = True)"
   ]
  },
  {
   "cell_type": "code",
   "execution_count": 96,
   "metadata": {
    "colab": {
     "base_uri": "https://localhost:8080/"
    },
    "id": "lKdQTeKmh8at",
    "outputId": "b08d4875-1866-45d4-bc4a-4813a15f72b5"
   },
   "outputs": [
    {
     "data": {
      "text/plain": [
       "array([0, 1, 6, 2, 4, 8, 5, 3, ' '], dtype=object)"
      ]
     },
     "execution_count": 96,
     "metadata": {},
     "output_type": "execute_result"
    }
   ],
   "source": [
    "data['ct_ftp_cmd'].unique()"
   ]
  },
  {
   "cell_type": "code",
   "execution_count": 103,
   "metadata": {
    "colab": {
     "base_uri": "https://localhost:8080/",
     "height": 36
    },
    "id": "7-LqUfhBjTG7",
    "outputId": "5c9962df-93b8-4a57-859e-a84941504f34"
   },
   "outputs": [
    {
     "data": {
      "application/vnd.google.colaboratory.intrinsic+json": {
       "type": "string"
      },
      "text/plain": [
       "'mixed-integer'"
      ]
     },
     "execution_count": 103,
     "metadata": {},
     "output_type": "execute_result"
    }
   ],
   "source": [
    "pd.api.types.infer_dtype(data['ct_ftp_cmd'])"
   ]
  },
  {
   "cell_type": "code",
   "execution_count": 104,
   "metadata": {
    "id": "DYO4s-wqiItr"
   },
   "outputs": [],
   "source": [
    "# it appears that the majority of values in ct_ftp_cmd are missing and for a lack of a better method we'll drop them\n",
    "data = data.drop('ct_ftp_cmd', axis = 1) "
   ]
  },
  {
   "cell_type": "markdown",
   "metadata": {
    "id": "XMnH5IYnjc_r"
   },
   "source": [
    "#### Confirming all data types again"
   ]
  },
  {
   "cell_type": "code",
   "execution_count": 120,
   "metadata": {
    "colab": {
     "base_uri": "https://localhost:8080/"
    },
    "id": "5aLW85vajgOp",
    "outputId": "26eec63a-06fc-4428-9e64-6bb65c22999a"
   },
   "outputs": [
    {
     "name": "stdout",
     "output_type": "stream",
     "text": [
      "sport  -  integer\n",
      "dsport  -  integer\n",
      "proto  -  string\n",
      "state  -  string\n",
      "dur  -  floating\n",
      "sbytes  -  integer\n",
      "dbytes  -  integer\n",
      "sttl  -  integer\n",
      "dttl  -  integer\n",
      "sloss  -  integer\n",
      "dloss  -  integer\n",
      "service  -  string\n",
      "sload  -  floating\n",
      "dload  -  floating\n",
      "spkts  -  integer\n",
      "dpkts  -  integer\n",
      "swin  -  integer\n",
      "dwin  -  integer\n",
      "stcpb  -  integer\n",
      "dtcpb  -  integer\n",
      "smeansz  -  integer\n",
      "dmeansz  -  integer\n",
      "trans_depth  -  integer\n",
      "res_bdy_len  -  integer\n",
      "sjit  -  floating\n",
      "djit  -  floating\n",
      "sintpkt  -  floating\n",
      "dintpkt  -  floating\n",
      "tcprtt  -  floating\n",
      "synack  -  floating\n",
      "ackdat  -  floating\n",
      "is_sm_ips_ports  -  integer\n",
      "ct_state_ttl  -  integer\n",
      "ct_srv_src  -  integer\n",
      "ct_srv_dst  -  integer\n",
      "ct_dst_ltm  -  integer\n",
      "ct_src_ltm  -  integer\n",
      "ct_src_dport_ltm  -  integer\n",
      "ct_dst_sport_ltm  -  integer\n",
      "ct_dst_src_ltm  -  integer\n",
      "attack_cat  -  string\n",
      "label  -  integer\n",
      "attack_cat_code  -  integer\n"
     ]
    }
   ],
   "source": [
    "# using pd.api.types.infer_dtypes() to confirm mixed datatypes\n",
    "for col in data.columns:\n",
    "  print(col,' - ', pd.api.types.infer_dtype(data[col]))"
   ]
  },
  {
   "cell_type": "code",
   "execution_count": 106,
   "metadata": {
    "colab": {
     "base_uri": "https://localhost:8080/"
    },
    "id": "5il40FCVjk9P",
    "outputId": "44623648-f319-4930-e294-f2ad8639a8c9"
   },
   "outputs": [
    {
     "data": {
      "text/plain": [
       "sport               0\n",
       "dsport              0\n",
       "proto               0\n",
       "state               0\n",
       "dur                 0\n",
       "sbytes              0\n",
       "dbytes              0\n",
       "sttl                0\n",
       "dttl                0\n",
       "sloss               0\n",
       "dloss               0\n",
       "service             0\n",
       "sload               0\n",
       "dload               0\n",
       "spkts               0\n",
       "dpkts               0\n",
       "swin                0\n",
       "dwin                0\n",
       "stcpb               0\n",
       "dtcpb               0\n",
       "smeansz             0\n",
       "dmeansz             0\n",
       "trans_depth         0\n",
       "res_bdy_len         0\n",
       "sjit                0\n",
       "djit                0\n",
       "sintpkt             0\n",
       "dintpkt             0\n",
       "tcprtt              0\n",
       "synack              0\n",
       "ackdat              0\n",
       "is_sm_ips_ports     0\n",
       "ct_state_ttl        0\n",
       "ct_srv_src          0\n",
       "ct_srv_dst          0\n",
       "ct_dst_ltm          0\n",
       "ct_src_ltm          0\n",
       "ct_src_dport_ltm    0\n",
       "ct_dst_sport_ltm    0\n",
       "ct_dst_src_ltm      0\n",
       "attack_cat          0\n",
       "label               0\n",
       "dtype: int64"
      ]
     },
     "execution_count": 106,
     "metadata": {},
     "output_type": "execute_result"
    }
   ],
   "source": [
    "data.isnull().sum()"
   ]
  },
  {
   "cell_type": "markdown",
   "metadata": {
    "id": "_OgQ6EG6qunJ"
   },
   "source": [
    "#### Map attack codes to int values"
   ]
  },
  {
   "cell_type": "code",
   "execution_count": 137,
   "metadata": {
    "colab": {
     "base_uri": "https://localhost:8080/"
    },
    "id": "mhqFq581qwOf",
    "outputId": "81d99a0d-c678-4034-d602-35870ca93090"
   },
   "outputs": [
    {
     "data": {
      "text/plain": [
       "attack_cat_code  attack_cat    \n",
       "0                Normal            2218452\n",
       "1                Generic            215481\n",
       "2                Exploits            44525\n",
       "3                Fuzzers             24246\n",
       "4                DoS                 16353\n",
       "5                Reconnaissance      13987\n",
       "6                Analysis             2677\n",
       "7                Backdoor             2329\n",
       "8                Shellcode            1511\n",
       "9                Worms                 174\n",
       "dtype: int64"
      ]
     },
     "execution_count": 137,
     "metadata": {},
     "output_type": "execute_result"
    }
   ],
   "source": [
    "codes = {'Normal':0,\n",
    "         'Generic':1,\n",
    "         'Exploits':2,\n",
    "         'Fuzzers': 3,\n",
    "         'DoS':4,\n",
    "         'Reconnaissance':5,\n",
    "         'Analysis':6,\n",
    "         'Backdoor':7,\n",
    "         'Shellcode':8,\n",
    "         'Worms':9}\n",
    "\n",
    "# mapping attack codes to categories\n",
    "data['attack_cat_code'] = data['attack_cat'].map(codes)\n",
    "data[['attack_cat_code', 'attack_cat']].value_counts()"
   ]
  },
  {
   "cell_type": "code",
   "execution_count": 138,
   "metadata": {
    "colab": {
     "base_uri": "https://localhost:8080/"
    },
    "id": "w-v2fqM8q445",
    "outputId": "d3ae7b47-e491-49fe-94d5-31a65f0cbefc"
   },
   "outputs": [
    {
     "data": {
      "text/plain": [
       "Index(['proto', 'state', 'service', 'attack_cat'], dtype='object')"
      ]
     },
     "execution_count": 138,
     "metadata": {},
     "output_type": "execute_result"
    }
   ],
   "source": [
    "# Looking for a list of columns with strings\n",
    "data.loc[:, data.dtypes == object].columns"
   ]
  },
  {
   "cell_type": "code",
   "execution_count": 140,
   "metadata": {
    "id": "fEsVI_gHq9nv"
   },
   "outputs": [],
   "source": [
    "# dropping them all\n",
    "data = data.drop(['proto', 'state', 'service', 'attack_cat'], axis = 1)"
   ]
  },
  {
   "cell_type": "markdown",
   "metadata": {
    "id": "Nwrodw1x-pqb"
   },
   "source": [
    "### Reducing the memory footprint"
   ]
  },
  {
   "cell_type": "code",
   "execution_count": 141,
   "metadata": {
    "colab": {
     "base_uri": "https://localhost:8080/"
    },
    "id": "P1q76THwXVtK",
    "outputId": "3922d699-2895-42b1-8ed3-01fb391e7f19"
   },
   "outputs": [
    {
     "name": "stdout",
     "output_type": "stream",
     "text": [
      "Original memory footprint: 300.34 MB\n",
      "Memory footprint after: 283.38 MB\n",
      "Reduced memory footprint by: -5.65%\n"
     ]
    }
   ],
   "source": [
    "from pandas.api.types import is_datetime64_any_dtype as is_datetime\n",
    "from pandas.api.types import is_categorical_dtype\n",
    "\n",
    "def reduce_memory_usage(df, use_float16=False):\n",
    "\n",
    "  \"\"\" \n",
    "  Function to iterate over all columns in a dataframe and change\n",
    "  their data types to the one with the smallest possible memory footprint   \n",
    "  \"\"\"\n",
    "  # get the original memory usage\n",
    "  memory_before = df.memory_usage().sum() / 1024**2\n",
    "  \n",
    "  # iterate over all columns\n",
    "  for col in df.columns:\n",
    "    # if categorical or timestamp\n",
    "    if is_datetime(df[col]) or is_categorical_dtype(df[col]):\n",
    "      # skip\n",
    "      continue\n",
    "    # get the dtype\n",
    "    col_type = df[col].dtype\n",
    "\n",
    "    # if numerical\n",
    "    if col_type != object:\n",
    "      # get the min and max value of the column\n",
    "      col_min = df[col].min()\n",
    "      col_max = df[col].max()\n",
    "      # if integer of any kind\n",
    "      if str(col_type)[:3] == 'int':\n",
    "\n",
    "        if col_min > np.iinfo(np.int8).min and col_max < np.iinfo(np.int8).max:\n",
    "          # cast the column as int8\n",
    "          df[col] = df[col].astype(np.int8)\n",
    "        \n",
    "        elif col_min > np.iinfo(np.int16).min and col_max < np.iinfo(np.int16).max:\n",
    "            df[col] = df[col].astype(np.int16)\n",
    "        \n",
    "        elif col_min > np.iinfo(np.int32).min and col_max < np.iinfo(np.int32).max:\n",
    "          df[col] = df[col].astype(np.int32)\n",
    "\n",
    "        elif col_min > np.iinfo(np.int64).min and col_max < np.iinfo(np.int64).max:\n",
    "          df[col] = df[col].astype(np.int64)\n",
    "      # if float      \n",
    "      else:\n",
    "          if use_float16 and col_min > np.finfo(np.float16).min and col_max < np.finfo(np.float16).max:\n",
    "            df[col] = df[col].astype(np.float16)\n",
    "          elif col_min > np.finfo(np.float32).min and col_max < np.finfo(np.float32).max:\n",
    "            df[col] = df[col].astype(np.float32)\n",
    "          else:\n",
    "            df[col] = df[col].astype(np.float64)\n",
    "    else:\n",
    "        df[col] = df[col].astype('object')\n",
    "\n",
    "  # get the memory usage after changes\n",
    "  memory_after = df.memory_usage().sum() / 1024**2\n",
    "  \n",
    "  print(f'Original memory footprint: {memory_before:.2f} MB')\n",
    "  print(f'Memory footprint after: {memory_after:.2f} MB')\n",
    "  print(f'Reduced memory footprint by: {(memory_after/memory_before - 1.0)*100.0:.2f}%')\n",
    "  \n",
    "  return df\n",
    "\n",
    "data_min = reduce_memory_usage(data)"
   ]
  },
  {
   "cell_type": "markdown",
   "metadata": {
    "id": "1cb8fbTElIqU"
   },
   "source": [
    "### Variance Inflation Factor (VIF)\n",
    "So how do we detect and deal with collinearity? One way is to calculate the variance inflation factor for each feature. The VIF is given by:\n",
    "![image.png](data:image/png;base64,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)\n",
    "\n",
    "where 𝑅^2 is the coefficient of determination. A feature that has a VIF value that exceeds 5 or 10 may indicate a problematic amount of collinearity."
   ]
  },
  {
   "cell_type": "code",
   "execution_count": 142,
   "metadata": {
    "colab": {
     "base_uri": "https://localhost:8080/"
    },
    "id": "4gC141FcpgQW",
    "outputId": "661612a3-834c-419b-d134-ed992d58ce5f"
   },
   "outputs": [
    {
     "name": "stdout",
     "output_type": "stream",
     "text": [
      "sport  -  integer\n",
      "dsport  -  integer\n",
      "dur  -  floating\n",
      "sbytes  -  integer\n",
      "dbytes  -  integer\n",
      "sttl  -  integer\n",
      "dttl  -  integer\n",
      "sloss  -  integer\n",
      "dloss  -  integer\n",
      "sload  -  floating\n",
      "dload  -  floating\n",
      "spkts  -  integer\n",
      "dpkts  -  integer\n",
      "swin  -  integer\n",
      "dwin  -  integer\n",
      "stcpb  -  integer\n",
      "dtcpb  -  integer\n",
      "smeansz  -  integer\n",
      "dmeansz  -  integer\n",
      "trans_depth  -  integer\n",
      "res_bdy_len  -  integer\n",
      "sjit  -  floating\n",
      "djit  -  floating\n",
      "sintpkt  -  floating\n",
      "dintpkt  -  floating\n",
      "tcprtt  -  floating\n",
      "synack  -  floating\n",
      "ackdat  -  floating\n",
      "is_sm_ips_ports  -  integer\n",
      "ct_state_ttl  -  integer\n",
      "ct_srv_src  -  integer\n",
      "ct_srv_dst  -  integer\n",
      "ct_dst_ltm  -  integer\n",
      "ct_src_ltm  -  integer\n",
      "ct_src_dport_ltm  -  integer\n",
      "ct_dst_sport_ltm  -  integer\n",
      "ct_dst_src_ltm  -  integer\n",
      "label  -  integer\n",
      "attack_cat_code  -  integer\n"
     ]
    }
   ],
   "source": [
    "# using pd.api.types.infer_dtypes() to confirm mixed datatypes\n",
    "for col in data_min.columns:\n",
    "  print(col,' - ', pd.api.types.infer_dtype(data_min[col]))"
   ]
  },
  {
   "cell_type": "code",
   "execution_count": null,
   "metadata": {
    "id": "GZAZn2Cbm4h_"
   },
   "outputs": [],
   "source": [
    "# vif_data = data_min.drop()"
   ]
  },
  {
   "cell_type": "code",
   "execution_count": 143,
   "metadata": {
    "colab": {
     "base_uri": "https://localhost:8080/",
     "height": 1000
    },
    "id": "cBtRnCe7lLJu",
    "outputId": "f747f03c-70d4-479e-dfeb-ffc43a630ccb"
   },
   "outputs": [
    {
     "data": {
      "text/html": [
       "\n",
       "  <div id=\"df-ac6e5bc2-f1da-4363-9519-3cb189053cc8\">\n",
       "    <div class=\"colab-df-container\">\n",
       "      <div>\n",
       "<style scoped>\n",
       "    .dataframe tbody tr th:only-of-type {\n",
       "        vertical-align: middle;\n",
       "    }\n",
       "\n",
       "    .dataframe tbody tr th {\n",
       "        vertical-align: top;\n",
       "    }\n",
       "\n",
       "    .dataframe thead th {\n",
       "        text-align: right;\n",
       "    }\n",
       "</style>\n",
       "<table border=\"1\" class=\"dataframe\">\n",
       "  <thead>\n",
       "    <tr style=\"text-align: right;\">\n",
       "      <th></th>\n",
       "      <th>feature</th>\n",
       "      <th>VIF</th>\n",
       "    </tr>\n",
       "  </thead>\n",
       "  <tbody>\n",
       "    <tr>\n",
       "      <th>0</th>\n",
       "      <td>sport</td>\n",
       "      <td>8.708021e-01</td>\n",
       "    </tr>\n",
       "    <tr>\n",
       "      <th>1</th>\n",
       "      <td>dsport</td>\n",
       "      <td>1.652898e+00</td>\n",
       "    </tr>\n",
       "    <tr>\n",
       "      <th>2</th>\n",
       "      <td>dur</td>\n",
       "      <td>1.026883e+00</td>\n",
       "    </tr>\n",
       "    <tr>\n",
       "      <th>3</th>\n",
       "      <td>sbytes</td>\n",
       "      <td>1.196434e+02</td>\n",
       "    </tr>\n",
       "    <tr>\n",
       "      <th>4</th>\n",
       "      <td>dbytes</td>\n",
       "      <td>3.420032e+02</td>\n",
       "    </tr>\n",
       "    <tr>\n",
       "      <th>5</th>\n",
       "      <td>sttl</td>\n",
       "      <td>9.111624e+00</td>\n",
       "    </tr>\n",
       "    <tr>\n",
       "      <th>6</th>\n",
       "      <td>dttl</td>\n",
       "      <td>2.072862e+00</td>\n",
       "    </tr>\n",
       "    <tr>\n",
       "      <th>7</th>\n",
       "      <td>sloss</td>\n",
       "      <td>1.774923e+02</td>\n",
       "    </tr>\n",
       "    <tr>\n",
       "      <th>8</th>\n",
       "      <td>dloss</td>\n",
       "      <td>1.533979e+03</td>\n",
       "    </tr>\n",
       "    <tr>\n",
       "      <th>9</th>\n",
       "      <td>sload</td>\n",
       "      <td>1.707155e+00</td>\n",
       "    </tr>\n",
       "    <tr>\n",
       "      <th>10</th>\n",
       "      <td>dload</td>\n",
       "      <td>3.046385e+00</td>\n",
       "    </tr>\n",
       "    <tr>\n",
       "      <th>11</th>\n",
       "      <td>spkts</td>\n",
       "      <td>6.011743e+01</td>\n",
       "    </tr>\n",
       "    <tr>\n",
       "      <th>12</th>\n",
       "      <td>dpkts</td>\n",
       "      <td>1.092174e+03</td>\n",
       "    </tr>\n",
       "    <tr>\n",
       "      <th>13</th>\n",
       "      <td>swin</td>\n",
       "      <td>6.997443e+02</td>\n",
       "    </tr>\n",
       "    <tr>\n",
       "      <th>14</th>\n",
       "      <td>dwin</td>\n",
       "      <td>7.047477e+02</td>\n",
       "    </tr>\n",
       "    <tr>\n",
       "      <th>15</th>\n",
       "      <td>stcpb</td>\n",
       "      <td>2.342087e+00</td>\n",
       "    </tr>\n",
       "    <tr>\n",
       "      <th>16</th>\n",
       "      <td>dtcpb</td>\n",
       "      <td>2.344239e+00</td>\n",
       "    </tr>\n",
       "    <tr>\n",
       "      <th>17</th>\n",
       "      <td>smeansz</td>\n",
       "      <td>1.494020e+00</td>\n",
       "    </tr>\n",
       "    <tr>\n",
       "      <th>18</th>\n",
       "      <td>dmeansz</td>\n",
       "      <td>8.720504e+00</td>\n",
       "    </tr>\n",
       "    <tr>\n",
       "      <th>19</th>\n",
       "      <td>trans_depth</td>\n",
       "      <td>1.444509e+00</td>\n",
       "    </tr>\n",
       "    <tr>\n",
       "      <th>20</th>\n",
       "      <td>res_bdy_len</td>\n",
       "      <td>1.934165e+00</td>\n",
       "    </tr>\n",
       "    <tr>\n",
       "      <th>21</th>\n",
       "      <td>sjit</td>\n",
       "      <td>1.269438e+00</td>\n",
       "    </tr>\n",
       "    <tr>\n",
       "      <th>22</th>\n",
       "      <td>djit</td>\n",
       "      <td>1.534198e+00</td>\n",
       "    </tr>\n",
       "    <tr>\n",
       "      <th>23</th>\n",
       "      <td>sintpkt</td>\n",
       "      <td>1.093917e+01</td>\n",
       "    </tr>\n",
       "    <tr>\n",
       "      <th>24</th>\n",
       "      <td>dintpkt</td>\n",
       "      <td>3.887561e+00</td>\n",
       "    </tr>\n",
       "    <tr>\n",
       "      <th>25</th>\n",
       "      <td>tcprtt</td>\n",
       "      <td>6.433714e+14</td>\n",
       "    </tr>\n",
       "    <tr>\n",
       "      <th>26</th>\n",
       "      <td>synack</td>\n",
       "      <td>3.002400e+14</td>\n",
       "    </tr>\n",
       "    <tr>\n",
       "      <th>27</th>\n",
       "      <td>ackdat</td>\n",
       "      <td>2.573486e+14</td>\n",
       "    </tr>\n",
       "    <tr>\n",
       "      <th>28</th>\n",
       "      <td>is_sm_ips_ports</td>\n",
       "      <td>8.176601e+00</td>\n",
       "    </tr>\n",
       "    <tr>\n",
       "      <th>29</th>\n",
       "      <td>ct_state_ttl</td>\n",
       "      <td>1.108386e+01</td>\n",
       "    </tr>\n",
       "    <tr>\n",
       "      <th>30</th>\n",
       "      <td>ct_srv_src</td>\n",
       "      <td>1.618377e+01</td>\n",
       "    </tr>\n",
       "    <tr>\n",
       "      <th>31</th>\n",
       "      <td>ct_srv_dst</td>\n",
       "      <td>1.838659e+01</td>\n",
       "    </tr>\n",
       "    <tr>\n",
       "      <th>32</th>\n",
       "      <td>ct_dst_ltm</td>\n",
       "      <td>1.652088e+01</td>\n",
       "    </tr>\n",
       "    <tr>\n",
       "      <th>33</th>\n",
       "      <td>ct_src_ltm</td>\n",
       "      <td>1.175240e+01</td>\n",
       "    </tr>\n",
       "    <tr>\n",
       "      <th>34</th>\n",
       "      <td>ct_src_dport_ltm</td>\n",
       "      <td>2.487835e+01</td>\n",
       "    </tr>\n",
       "    <tr>\n",
       "      <th>35</th>\n",
       "      <td>ct_dst_sport_ltm</td>\n",
       "      <td>7.677091e+00</td>\n",
       "    </tr>\n",
       "    <tr>\n",
       "      <th>36</th>\n",
       "      <td>ct_dst_src_ltm</td>\n",
       "      <td>1.974469e+01</td>\n",
       "    </tr>\n",
       "    <tr>\n",
       "      <th>37</th>\n",
       "      <td>label</td>\n",
       "      <td>1.081843e+01</td>\n",
       "    </tr>\n",
       "    <tr>\n",
       "      <th>38</th>\n",
       "      <td>attack_cat_code</td>\n",
       "      <td>3.193847e+00</td>\n",
       "    </tr>\n",
       "  </tbody>\n",
       "</table>\n",
       "</div>\n",
       "      <button class=\"colab-df-convert\" onclick=\"convertToInteractive('df-ac6e5bc2-f1da-4363-9519-3cb189053cc8')\"\n",
       "              title=\"Convert this dataframe to an interactive table.\"\n",
       "              style=\"display:none;\">\n",
       "        \n",
       "  <svg xmlns=\"http://www.w3.org/2000/svg\" height=\"24px\"viewBox=\"0 0 24 24\"\n",
       "       width=\"24px\">\n",
       "    <path d=\"M0 0h24v24H0V0z\" fill=\"none\"/>\n",
       "    <path d=\"M18.56 5.44l.94 2.06.94-2.06 2.06-.94-2.06-.94-.94-2.06-.94 2.06-2.06.94zm-11 1L8.5 8.5l.94-2.06 2.06-.94-2.06-.94L8.5 2.5l-.94 2.06-2.06.94zm10 10l.94 2.06.94-2.06 2.06-.94-2.06-.94-.94-2.06-.94 2.06-2.06.94z\"/><path d=\"M17.41 7.96l-1.37-1.37c-.4-.4-.92-.59-1.43-.59-.52 0-1.04.2-1.43.59L10.3 9.45l-7.72 7.72c-.78.78-.78 2.05 0 2.83L4 21.41c.39.39.9.59 1.41.59.51 0 1.02-.2 1.41-.59l7.78-7.78 2.81-2.81c.8-.78.8-2.07 0-2.86zM5.41 20L4 18.59l7.72-7.72 1.47 1.35L5.41 20z\"/>\n",
       "  </svg>\n",
       "      </button>\n",
       "      \n",
       "  <style>\n",
       "    .colab-df-container {\n",
       "      display:flex;\n",
       "      flex-wrap:wrap;\n",
       "      gap: 12px;\n",
       "    }\n",
       "\n",
       "    .colab-df-convert {\n",
       "      background-color: #E8F0FE;\n",
       "      border: none;\n",
       "      border-radius: 50%;\n",
       "      cursor: pointer;\n",
       "      display: none;\n",
       "      fill: #1967D2;\n",
       "      height: 32px;\n",
       "      padding: 0 0 0 0;\n",
       "      width: 32px;\n",
       "    }\n",
       "\n",
       "    .colab-df-convert:hover {\n",
       "      background-color: #E2EBFA;\n",
       "      box-shadow: 0px 1px 2px rgba(60, 64, 67, 0.3), 0px 1px 3px 1px rgba(60, 64, 67, 0.15);\n",
       "      fill: #174EA6;\n",
       "    }\n",
       "\n",
       "    [theme=dark] .colab-df-convert {\n",
       "      background-color: #3B4455;\n",
       "      fill: #D2E3FC;\n",
       "    }\n",
       "\n",
       "    [theme=dark] .colab-df-convert:hover {\n",
       "      background-color: #434B5C;\n",
       "      box-shadow: 0px 1px 3px 1px rgba(0, 0, 0, 0.15);\n",
       "      filter: drop-shadow(0px 1px 2px rgba(0, 0, 0, 0.3));\n",
       "      fill: #FFFFFF;\n",
       "    }\n",
       "  </style>\n",
       "\n",
       "      <script>\n",
       "        const buttonEl =\n",
       "          document.querySelector('#df-ac6e5bc2-f1da-4363-9519-3cb189053cc8 button.colab-df-convert');\n",
       "        buttonEl.style.display =\n",
       "          google.colab.kernel.accessAllowed ? 'block' : 'none';\n",
       "\n",
       "        async function convertToInteractive(key) {\n",
       "          const element = document.querySelector('#df-ac6e5bc2-f1da-4363-9519-3cb189053cc8');\n",
       "          const dataTable =\n",
       "            await google.colab.kernel.invokeFunction('convertToInteractive',\n",
       "                                                     [key], {});\n",
       "          if (!dataTable) return;\n",
       "\n",
       "          const docLinkHtml = 'Like what you see? Visit the ' +\n",
       "            '<a target=\"_blank\" href=https://colab.research.google.com/notebooks/data_table.ipynb>data table notebook</a>'\n",
       "            + ' to learn more about interactive tables.';\n",
       "          element.innerHTML = '';\n",
       "          dataTable['output_type'] = 'display_data';\n",
       "          await google.colab.output.renderOutput(dataTable, element);\n",
       "          const docLink = document.createElement('div');\n",
       "          docLink.innerHTML = docLinkHtml;\n",
       "          element.appendChild(docLink);\n",
       "        }\n",
       "      </script>\n",
       "    </div>\n",
       "  </div>\n",
       "  "
      ],
      "text/plain": [
       "             feature           VIF\n",
       "0              sport  8.708021e-01\n",
       "1             dsport  1.652898e+00\n",
       "2                dur  1.026883e+00\n",
       "3             sbytes  1.196434e+02\n",
       "4             dbytes  3.420032e+02\n",
       "5               sttl  9.111624e+00\n",
       "6               dttl  2.072862e+00\n",
       "7              sloss  1.774923e+02\n",
       "8              dloss  1.533979e+03\n",
       "9              sload  1.707155e+00\n",
       "10             dload  3.046385e+00\n",
       "11             spkts  6.011743e+01\n",
       "12             dpkts  1.092174e+03\n",
       "13              swin  6.997443e+02\n",
       "14              dwin  7.047477e+02\n",
       "15             stcpb  2.342087e+00\n",
       "16             dtcpb  2.344239e+00\n",
       "17           smeansz  1.494020e+00\n",
       "18           dmeansz  8.720504e+00\n",
       "19       trans_depth  1.444509e+00\n",
       "20       res_bdy_len  1.934165e+00\n",
       "21              sjit  1.269438e+00\n",
       "22              djit  1.534198e+00\n",
       "23           sintpkt  1.093917e+01\n",
       "24           dintpkt  3.887561e+00\n",
       "25            tcprtt  6.433714e+14\n",
       "26            synack  3.002400e+14\n",
       "27            ackdat  2.573486e+14\n",
       "28   is_sm_ips_ports  8.176601e+00\n",
       "29      ct_state_ttl  1.108386e+01\n",
       "30        ct_srv_src  1.618377e+01\n",
       "31        ct_srv_dst  1.838659e+01\n",
       "32        ct_dst_ltm  1.652088e+01\n",
       "33        ct_src_ltm  1.175240e+01\n",
       "34  ct_src_dport_ltm  2.487835e+01\n",
       "35  ct_dst_sport_ltm  7.677091e+00\n",
       "36    ct_dst_src_ltm  1.974469e+01\n",
       "37             label  1.081843e+01\n",
       "38   attack_cat_code  3.193847e+00"
      ]
     },
     "execution_count": 143,
     "metadata": {},
     "output_type": "execute_result"
    }
   ],
   "source": [
    "from statsmodels.stats.outliers_influence import variance_inflation_factor\n",
    "\n",
    "\n",
    "VIF = pd.DataFrame()\n",
    "VIF['feature'] = data_min.columns\n",
    "VIF['VIF'] = [variance_inflation_factor(data_min.values, i) for i in range(data_min.shape[1])]\n",
    "# check the result\n",
    "VIF"
   ]
  },
  {
   "cell_type": "code",
   "execution_count": 151,
   "metadata": {
    "colab": {
     "base_uri": "https://localhost:8080/",
     "height": 1000
    },
    "id": "TLFxwq-ctfLC",
    "outputId": "30220a3b-7479-4d29-90c1-0754d2e65d99"
   },
   "outputs": [
    {
     "data": {
      "text/html": [
       "\n",
       "  <div id=\"df-5dbb3e92-dcf3-466b-b7f5-f61b1c53552e\">\n",
       "    <div class=\"colab-df-container\">\n",
       "      <div>\n",
       "<style scoped>\n",
       "    .dataframe tbody tr th:only-of-type {\n",
       "        vertical-align: middle;\n",
       "    }\n",
       "\n",
       "    .dataframe tbody tr th {\n",
       "        vertical-align: top;\n",
       "    }\n",
       "\n",
       "    .dataframe thead th {\n",
       "        text-align: right;\n",
       "    }\n",
       "</style>\n",
       "<table border=\"1\" class=\"dataframe\">\n",
       "  <thead>\n",
       "    <tr style=\"text-align: right;\">\n",
       "      <th></th>\n",
       "      <th>feature</th>\n",
       "      <th>VIF</th>\n",
       "      <th>VIF_f</th>\n",
       "    </tr>\n",
       "  </thead>\n",
       "  <tbody>\n",
       "    <tr>\n",
       "      <th>0</th>\n",
       "      <td>sport</td>\n",
       "      <td>8.708021e-01</td>\n",
       "      <td>0.870802</td>\n",
       "    </tr>\n",
       "    <tr>\n",
       "      <th>2</th>\n",
       "      <td>dur</td>\n",
       "      <td>1.026883e+00</td>\n",
       "      <td>1.026883</td>\n",
       "    </tr>\n",
       "    <tr>\n",
       "      <th>21</th>\n",
       "      <td>sjit</td>\n",
       "      <td>1.269438e+00</td>\n",
       "      <td>1.269438</td>\n",
       "    </tr>\n",
       "    <tr>\n",
       "      <th>19</th>\n",
       "      <td>trans_depth</td>\n",
       "      <td>1.444509e+00</td>\n",
       "      <td>1.444509</td>\n",
       "    </tr>\n",
       "    <tr>\n",
       "      <th>17</th>\n",
       "      <td>smeansz</td>\n",
       "      <td>1.494020e+00</td>\n",
       "      <td>1.494020</td>\n",
       "    </tr>\n",
       "    <tr>\n",
       "      <th>22</th>\n",
       "      <td>djit</td>\n",
       "      <td>1.534198e+00</td>\n",
       "      <td>1.534198</td>\n",
       "    </tr>\n",
       "    <tr>\n",
       "      <th>1</th>\n",
       "      <td>dsport</td>\n",
       "      <td>1.652898e+00</td>\n",
       "      <td>1.652898</td>\n",
       "    </tr>\n",
       "    <tr>\n",
       "      <th>9</th>\n",
       "      <td>sload</td>\n",
       "      <td>1.707155e+00</td>\n",
       "      <td>1.707155</td>\n",
       "    </tr>\n",
       "    <tr>\n",
       "      <th>20</th>\n",
       "      <td>res_bdy_len</td>\n",
       "      <td>1.934165e+00</td>\n",
       "      <td>1.934165</td>\n",
       "    </tr>\n",
       "    <tr>\n",
       "      <th>6</th>\n",
       "      <td>dttl</td>\n",
       "      <td>2.072862e+00</td>\n",
       "      <td>2.072862</td>\n",
       "    </tr>\n",
       "    <tr>\n",
       "      <th>15</th>\n",
       "      <td>stcpb</td>\n",
       "      <td>2.342087e+00</td>\n",
       "      <td>2.342087</td>\n",
       "    </tr>\n",
       "    <tr>\n",
       "      <th>16</th>\n",
       "      <td>dtcpb</td>\n",
       "      <td>2.344239e+00</td>\n",
       "      <td>2.344239</td>\n",
       "    </tr>\n",
       "    <tr>\n",
       "      <th>10</th>\n",
       "      <td>dload</td>\n",
       "      <td>3.046385e+00</td>\n",
       "      <td>3.046385</td>\n",
       "    </tr>\n",
       "    <tr>\n",
       "      <th>38</th>\n",
       "      <td>attack_cat_code</td>\n",
       "      <td>3.193847e+00</td>\n",
       "      <td>3.193847</td>\n",
       "    </tr>\n",
       "    <tr>\n",
       "      <th>24</th>\n",
       "      <td>dintpkt</td>\n",
       "      <td>3.887561e+00</td>\n",
       "      <td>3.887561</td>\n",
       "    </tr>\n",
       "    <tr>\n",
       "      <th>35</th>\n",
       "      <td>ct_dst_sport_ltm</td>\n",
       "      <td>7.677091e+00</td>\n",
       "      <td>7.677091</td>\n",
       "    </tr>\n",
       "    <tr>\n",
       "      <th>28</th>\n",
       "      <td>is_sm_ips_ports</td>\n",
       "      <td>8.176601e+00</td>\n",
       "      <td>8.176601</td>\n",
       "    </tr>\n",
       "    <tr>\n",
       "      <th>18</th>\n",
       "      <td>dmeansz</td>\n",
       "      <td>8.720504e+00</td>\n",
       "      <td>8.720504</td>\n",
       "    </tr>\n",
       "    <tr>\n",
       "      <th>5</th>\n",
       "      <td>sttl</td>\n",
       "      <td>9.111624e+00</td>\n",
       "      <td>9.111624</td>\n",
       "    </tr>\n",
       "    <tr>\n",
       "      <th>37</th>\n",
       "      <td>label</td>\n",
       "      <td>1.081843e+01</td>\n",
       "      <td>10.818429</td>\n",
       "    </tr>\n",
       "    <tr>\n",
       "      <th>23</th>\n",
       "      <td>sintpkt</td>\n",
       "      <td>1.093917e+01</td>\n",
       "      <td>10.939165</td>\n",
       "    </tr>\n",
       "    <tr>\n",
       "      <th>29</th>\n",
       "      <td>ct_state_ttl</td>\n",
       "      <td>1.108386e+01</td>\n",
       "      <td>11.083855</td>\n",
       "    </tr>\n",
       "    <tr>\n",
       "      <th>33</th>\n",
       "      <td>ct_src_ltm</td>\n",
       "      <td>1.175240e+01</td>\n",
       "      <td>11.752397</td>\n",
       "    </tr>\n",
       "    <tr>\n",
       "      <th>30</th>\n",
       "      <td>ct_srv_src</td>\n",
       "      <td>1.618377e+01</td>\n",
       "      <td>16.183774</td>\n",
       "    </tr>\n",
       "    <tr>\n",
       "      <th>32</th>\n",
       "      <td>ct_dst_ltm</td>\n",
       "      <td>1.652088e+01</td>\n",
       "      <td>16.520879</td>\n",
       "    </tr>\n",
       "    <tr>\n",
       "      <th>31</th>\n",
       "      <td>ct_srv_dst</td>\n",
       "      <td>1.838659e+01</td>\n",
       "      <td>18.386587</td>\n",
       "    </tr>\n",
       "    <tr>\n",
       "      <th>36</th>\n",
       "      <td>ct_dst_src_ltm</td>\n",
       "      <td>1.974469e+01</td>\n",
       "      <td>19.744693</td>\n",
       "    </tr>\n",
       "    <tr>\n",
       "      <th>34</th>\n",
       "      <td>ct_src_dport_ltm</td>\n",
       "      <td>2.487835e+01</td>\n",
       "      <td>24.878348</td>\n",
       "    </tr>\n",
       "    <tr>\n",
       "      <th>11</th>\n",
       "      <td>spkts</td>\n",
       "      <td>6.011743e+01</td>\n",
       "      <td>60.117434</td>\n",
       "    </tr>\n",
       "    <tr>\n",
       "      <th>3</th>\n",
       "      <td>sbytes</td>\n",
       "      <td>1.196434e+02</td>\n",
       "      <td>119.643428</td>\n",
       "    </tr>\n",
       "    <tr>\n",
       "      <th>7</th>\n",
       "      <td>sloss</td>\n",
       "      <td>1.774923e+02</td>\n",
       "      <td>177.492300</td>\n",
       "    </tr>\n",
       "    <tr>\n",
       "      <th>4</th>\n",
       "      <td>dbytes</td>\n",
       "      <td>3.420032e+02</td>\n",
       "      <td>342.003195</td>\n",
       "    </tr>\n",
       "    <tr>\n",
       "      <th>13</th>\n",
       "      <td>swin</td>\n",
       "      <td>6.997443e+02</td>\n",
       "      <td>699.744270</td>\n",
       "    </tr>\n",
       "    <tr>\n",
       "      <th>14</th>\n",
       "      <td>dwin</td>\n",
       "      <td>7.047477e+02</td>\n",
       "      <td>704.747668</td>\n",
       "    </tr>\n",
       "    <tr>\n",
       "      <th>12</th>\n",
       "      <td>dpkts</td>\n",
       "      <td>1.092174e+03</td>\n",
       "      <td>1092.173521</td>\n",
       "    </tr>\n",
       "    <tr>\n",
       "      <th>8</th>\n",
       "      <td>dloss</td>\n",
       "      <td>1.533979e+03</td>\n",
       "      <td>1533.978952</td>\n",
       "    </tr>\n",
       "    <tr>\n",
       "      <th>27</th>\n",
       "      <td>ackdat</td>\n",
       "      <td>2.573486e+14</td>\n",
       "      <td>257348550135456.906250</td>\n",
       "    </tr>\n",
       "    <tr>\n",
       "      <th>26</th>\n",
       "      <td>synack</td>\n",
       "      <td>3.002400e+14</td>\n",
       "      <td>300239975158033.062500</td>\n",
       "    </tr>\n",
       "    <tr>\n",
       "      <th>25</th>\n",
       "      <td>tcprtt</td>\n",
       "      <td>6.433714e+14</td>\n",
       "      <td>643371375338642.250000</td>\n",
       "    </tr>\n",
       "  </tbody>\n",
       "</table>\n",
       "</div>\n",
       "      <button class=\"colab-df-convert\" onclick=\"convertToInteractive('df-5dbb3e92-dcf3-466b-b7f5-f61b1c53552e')\"\n",
       "              title=\"Convert this dataframe to an interactive table.\"\n",
       "              style=\"display:none;\">\n",
       "        \n",
       "  <svg xmlns=\"http://www.w3.org/2000/svg\" height=\"24px\"viewBox=\"0 0 24 24\"\n",
       "       width=\"24px\">\n",
       "    <path d=\"M0 0h24v24H0V0z\" fill=\"none\"/>\n",
       "    <path d=\"M18.56 5.44l.94 2.06.94-2.06 2.06-.94-2.06-.94-.94-2.06-.94 2.06-2.06.94zm-11 1L8.5 8.5l.94-2.06 2.06-.94-2.06-.94L8.5 2.5l-.94 2.06-2.06.94zm10 10l.94 2.06.94-2.06 2.06-.94-2.06-.94-.94-2.06-.94 2.06-2.06.94z\"/><path d=\"M17.41 7.96l-1.37-1.37c-.4-.4-.92-.59-1.43-.59-.52 0-1.04.2-1.43.59L10.3 9.45l-7.72 7.72c-.78.78-.78 2.05 0 2.83L4 21.41c.39.39.9.59 1.41.59.51 0 1.02-.2 1.41-.59l7.78-7.78 2.81-2.81c.8-.78.8-2.07 0-2.86zM5.41 20L4 18.59l7.72-7.72 1.47 1.35L5.41 20z\"/>\n",
       "  </svg>\n",
       "      </button>\n",
       "      \n",
       "  <style>\n",
       "    .colab-df-container {\n",
       "      display:flex;\n",
       "      flex-wrap:wrap;\n",
       "      gap: 12px;\n",
       "    }\n",
       "\n",
       "    .colab-df-convert {\n",
       "      background-color: #E8F0FE;\n",
       "      border: none;\n",
       "      border-radius: 50%;\n",
       "      cursor: pointer;\n",
       "      display: none;\n",
       "      fill: #1967D2;\n",
       "      height: 32px;\n",
       "      padding: 0 0 0 0;\n",
       "      width: 32px;\n",
       "    }\n",
       "\n",
       "    .colab-df-convert:hover {\n",
       "      background-color: #E2EBFA;\n",
       "      box-shadow: 0px 1px 2px rgba(60, 64, 67, 0.3), 0px 1px 3px 1px rgba(60, 64, 67, 0.15);\n",
       "      fill: #174EA6;\n",
       "    }\n",
       "\n",
       "    [theme=dark] .colab-df-convert {\n",
       "      background-color: #3B4455;\n",
       "      fill: #D2E3FC;\n",
       "    }\n",
       "\n",
       "    [theme=dark] .colab-df-convert:hover {\n",
       "      background-color: #434B5C;\n",
       "      box-shadow: 0px 1px 3px 1px rgba(0, 0, 0, 0.15);\n",
       "      filter: drop-shadow(0px 1px 2px rgba(0, 0, 0, 0.3));\n",
       "      fill: #FFFFFF;\n",
       "    }\n",
       "  </style>\n",
       "\n",
       "      <script>\n",
       "        const buttonEl =\n",
       "          document.querySelector('#df-5dbb3e92-dcf3-466b-b7f5-f61b1c53552e button.colab-df-convert');\n",
       "        buttonEl.style.display =\n",
       "          google.colab.kernel.accessAllowed ? 'block' : 'none';\n",
       "\n",
       "        async function convertToInteractive(key) {\n",
       "          const element = document.querySelector('#df-5dbb3e92-dcf3-466b-b7f5-f61b1c53552e');\n",
       "          const dataTable =\n",
       "            await google.colab.kernel.invokeFunction('convertToInteractive',\n",
       "                                                     [key], {});\n",
       "          if (!dataTable) return;\n",
       "\n",
       "          const docLinkHtml = 'Like what you see? Visit the ' +\n",
       "            '<a target=\"_blank\" href=https://colab.research.google.com/notebooks/data_table.ipynb>data table notebook</a>'\n",
       "            + ' to learn more about interactive tables.';\n",
       "          element.innerHTML = '';\n",
       "          dataTable['output_type'] = 'display_data';\n",
       "          await google.colab.output.renderOutput(dataTable, element);\n",
       "          const docLink = document.createElement('div');\n",
       "          docLink.innerHTML = docLinkHtml;\n",
       "          element.appendChild(docLink);\n",
       "        }\n",
       "      </script>\n",
       "    </div>\n",
       "  </div>\n",
       "  "
      ],
      "text/plain": [
       "             feature           VIF                   VIF_f\n",
       "0              sport  8.708021e-01                0.870802\n",
       "2                dur  1.026883e+00                1.026883\n",
       "21              sjit  1.269438e+00                1.269438\n",
       "19       trans_depth  1.444509e+00                1.444509\n",
       "17           smeansz  1.494020e+00                1.494020\n",
       "22              djit  1.534198e+00                1.534198\n",
       "1             dsport  1.652898e+00                1.652898\n",
       "9              sload  1.707155e+00                1.707155\n",
       "20       res_bdy_len  1.934165e+00                1.934165\n",
       "6               dttl  2.072862e+00                2.072862\n",
       "15             stcpb  2.342087e+00                2.342087\n",
       "16             dtcpb  2.344239e+00                2.344239\n",
       "10             dload  3.046385e+00                3.046385\n",
       "38   attack_cat_code  3.193847e+00                3.193847\n",
       "24           dintpkt  3.887561e+00                3.887561\n",
       "35  ct_dst_sport_ltm  7.677091e+00                7.677091\n",
       "28   is_sm_ips_ports  8.176601e+00                8.176601\n",
       "18           dmeansz  8.720504e+00                8.720504\n",
       "5               sttl  9.111624e+00                9.111624\n",
       "37             label  1.081843e+01               10.818429\n",
       "23           sintpkt  1.093917e+01               10.939165\n",
       "29      ct_state_ttl  1.108386e+01               11.083855\n",
       "33        ct_src_ltm  1.175240e+01               11.752397\n",
       "30        ct_srv_src  1.618377e+01               16.183774\n",
       "32        ct_dst_ltm  1.652088e+01               16.520879\n",
       "31        ct_srv_dst  1.838659e+01               18.386587\n",
       "36    ct_dst_src_ltm  1.974469e+01               19.744693\n",
       "34  ct_src_dport_ltm  2.487835e+01               24.878348\n",
       "11             spkts  6.011743e+01               60.117434\n",
       "3             sbytes  1.196434e+02              119.643428\n",
       "7              sloss  1.774923e+02              177.492300\n",
       "4             dbytes  3.420032e+02              342.003195\n",
       "13              swin  6.997443e+02              699.744270\n",
       "14              dwin  7.047477e+02              704.747668\n",
       "12             dpkts  1.092174e+03             1092.173521\n",
       "8              dloss  1.533979e+03             1533.978952\n",
       "27            ackdat  2.573486e+14  257348550135456.906250\n",
       "26            synack  3.002400e+14  300239975158033.062500\n",
       "25            tcprtt  6.433714e+14  643371375338642.250000"
      ]
     },
     "execution_count": 151,
     "metadata": {},
     "output_type": "execute_result"
    }
   ],
   "source": [
    "VIF['VIF_f'] = VIF['VIF'].apply(lambda x: format(x, 'f'))\n",
    "VIF.sort_values('VIF')"
   ]
  },
  {
   "cell_type": "markdown",
   "metadata": {
    "id": "twoCzWYltJia"
   },
   "source": [
    "### Correlation"
   ]
  },
  {
   "cell_type": "code",
   "execution_count": 159,
   "metadata": {
    "colab": {
     "base_uri": "https://localhost:8080/"
    },
    "id": "G_c19oJCtM7T",
    "outputId": "ff2bb2a0-c121-4b55-b61e-b98fe5a03240"
   },
   "outputs": [
    {
     "data": {
      "text/plain": [
       "[('sloss', 'sbytes', 0.9534933518498535),\n",
       " ('dloss', 'dbytes', 0.9913420949181156),\n",
       " ('dload', 'dsport', 0.5104106558545095),\n",
       " ('spkts', 'sbytes', 0.6028424558765995),\n",
       " ('spkts', 'dbytes', 0.7270737106771513),\n",
       " ('spkts', 'sloss', 0.7255108148223737),\n",
       " ('spkts', 'dloss', 0.7664659723932382),\n",
       " ('dpkts', 'dbytes', 0.9708090109620348),\n",
       " ('dpkts', 'dloss', 0.9921626742606524),\n",
       " ('dpkts', 'spkts', 0.8225776198339877),\n",
       " ('dwin', 'swin', 0.9972069915267493),\n",
       " ('stcpb', 'swin', 0.7417290830172883),\n",
       " ('stcpb', 'dwin', 0.7431217550230933),\n",
       " ('dtcpb', 'swin', 0.7417315413714746),\n",
       " ('dtcpb', 'dwin', 0.743464066452724),\n",
       " ('dtcpb', 'stcpb', 0.648669868761931),\n",
       " ('dmeansz', 'dbytes', 0.5933529891153169),\n",
       " ('dmeansz', 'dloss', 0.6039470715974226),\n",
       " ('dmeansz', 'dload', 0.569168304652356),\n",
       " ('dmeansz', 'spkts', 0.5218078607341107),\n",
       " ('dmeansz', 'dpkts', 0.6033817599812672),\n",
       " ('dmeansz', 'swin', 0.5801284235938249),\n",
       " ('dmeansz', 'dwin', 0.5820646741082603),\n",
       " ('res_bdy_len', 'dbytes', 0.5606288459461233),\n",
       " ('res_bdy_len', 'dloss', 0.5384728556590622),\n",
       " ('tcprtt', 'dttl', 0.5680163249768232),\n",
       " ('synack', 'dttl', 0.5188020464968197),\n",
       " ('synack', 'tcprtt', 0.9313053011677517),\n",
       " ('ackdat', 'dttl', 0.5329908456223542),\n",
       " ('ackdat', 'tcprtt', 0.9188987905084122),\n",
       " ('ackdat', 'synack', 0.7120852375750075),\n",
       " ('is_sm_ips_ports', 'sintpkt', 0.8066290482126908),\n",
       " ('ct_state_ttl', 'sttl', 0.9060746524618526),\n",
       " ('ct_srv_dst', 'ct_srv_src', 0.9567312652722515),\n",
       " ('ct_dst_ltm', 'ct_srv_src', 0.8366558778882377),\n",
       " ('ct_dst_ltm', 'ct_srv_dst', 0.8598877768797513),\n",
       " ('ct_src_ltm', 'ct_srv_src', 0.8406144179421918),\n",
       " ('ct_src_ltm', 'ct_srv_dst', 0.824672785651357),\n",
       " ('ct_src_ltm', 'ct_dst_ltm', 0.9385165714337632),\n",
       " ('ct_src_dport_ltm', 'ct_srv_src', 0.8697482935601334),\n",
       " ('ct_src_dport_ltm', 'ct_srv_dst', 0.8759452539682323),\n",
       " ('ct_src_dport_ltm', 'ct_dst_ltm', 0.9601553344664322),\n",
       " ('ct_src_dport_ltm', 'ct_src_ltm', 0.9453336730827506),\n",
       " ('ct_dst_sport_ltm', 'ct_srv_src', 0.8405524951908403),\n",
       " ('ct_dst_sport_ltm', 'ct_srv_dst', 0.8488284495593895),\n",
       " ('ct_dst_sport_ltm', 'ct_dst_ltm', 0.8801999766787634),\n",
       " ('ct_dst_sport_ltm', 'ct_src_ltm', 0.8602689436419745),\n",
       " ('ct_dst_sport_ltm', 'ct_src_dport_ltm', 0.9214880745066969),\n",
       " ('ct_dst_src_ltm', 'sttl', 0.5136674807317609),\n",
       " ('ct_dst_src_ltm', 'sload', 0.513060310423836),\n",
       " ('ct_dst_src_ltm', 'ct_srv_src', 0.9421757658805141),\n",
       " ('ct_dst_src_ltm', 'ct_srv_dst', 0.95102660131977),\n",
       " ('ct_dst_src_ltm', 'ct_dst_ltm', 0.8764875614030958),\n",
       " ('ct_dst_src_ltm', 'ct_src_ltm', 0.8567978640634222),\n",
       " ('ct_dst_src_ltm', 'ct_src_dport_ltm', 0.9108925063184444),\n",
       " ('ct_dst_src_ltm', 'ct_dst_sport_ltm', 0.8903024453144956),\n",
       " ('label', 'sttl', 0.9044106235189687),\n",
       " ('label', 'ct_state_ttl', 0.8736947952748874),\n",
       " ('attack_cat_code', 'sttl', 0.682844742415019),\n",
       " ('attack_cat_code', 'ct_state_ttl', 0.6286577616547069),\n",
       " ('attack_cat_code', 'label', 0.772567878314205)]"
      ]
     },
     "execution_count": 159,
     "metadata": {},
     "output_type": "execute_result"
    }
   ],
   "source": [
    "corr = data_min.corr(method='pearson')\n",
    "\n",
    "\n",
    "# printing out the features with high correlations (>=0.51)\n",
    "thresh = 0.51\n",
    "high_corr = []\n",
    "for i in range(len(corr.columns)):\n",
    "  for j in range(i):\n",
    "    if abs(corr.iloc[i,j]) > thresh:\n",
    "      col_name = corr.columns[i]\n",
    "      corr_col_name = corr.columns[j]\n",
    "      corr_value = corr.iloc[i,j]\n",
    "      high_corr.append((col_name, corr_col_name, corr_value))\n",
    "\n",
    "# show the results\n",
    "high_corr"
   ]
  },
  {
   "cell_type": "code",
   "execution_count": 160,
   "metadata": {
    "colab": {
     "base_uri": "https://localhost:8080/",
     "height": 206
    },
    "id": "z0Kf58sC8V--",
    "outputId": "8bea386e-58e7-4809-9e43-e20e48323db0"
   },
   "outputs": [
    {
     "data": {
      "text/html": [
       "\n",
       "  <div id=\"df-d029f589-d56a-40be-b6e6-1754416a7867\">\n",
       "    <div class=\"colab-df-container\">\n",
       "      <div>\n",
       "<style scoped>\n",
       "    .dataframe tbody tr th:only-of-type {\n",
       "        vertical-align: middle;\n",
       "    }\n",
       "\n",
       "    .dataframe tbody tr th {\n",
       "        vertical-align: top;\n",
       "    }\n",
       "\n",
       "    .dataframe thead th {\n",
       "        text-align: right;\n",
       "    }\n",
       "</style>\n",
       "<table border=\"1\" class=\"dataframe\">\n",
       "  <thead>\n",
       "    <tr style=\"text-align: right;\">\n",
       "      <th></th>\n",
       "      <th>0</th>\n",
       "      <th>1</th>\n",
       "      <th>2</th>\n",
       "    </tr>\n",
       "  </thead>\n",
       "  <tbody>\n",
       "    <tr>\n",
       "      <th>0</th>\n",
       "      <td>sloss</td>\n",
       "      <td>sbytes</td>\n",
       "      <td>0.953493</td>\n",
       "    </tr>\n",
       "    <tr>\n",
       "      <th>1</th>\n",
       "      <td>dloss</td>\n",
       "      <td>dbytes</td>\n",
       "      <td>0.991342</td>\n",
       "    </tr>\n",
       "    <tr>\n",
       "      <th>2</th>\n",
       "      <td>dload</td>\n",
       "      <td>dsport</td>\n",
       "      <td>0.510411</td>\n",
       "    </tr>\n",
       "    <tr>\n",
       "      <th>3</th>\n",
       "      <td>spkts</td>\n",
       "      <td>sbytes</td>\n",
       "      <td>0.602842</td>\n",
       "    </tr>\n",
       "    <tr>\n",
       "      <th>4</th>\n",
       "      <td>spkts</td>\n",
       "      <td>dbytes</td>\n",
       "      <td>0.727074</td>\n",
       "    </tr>\n",
       "  </tbody>\n",
       "</table>\n",
       "</div>\n",
       "      <button class=\"colab-df-convert\" onclick=\"convertToInteractive('df-d029f589-d56a-40be-b6e6-1754416a7867')\"\n",
       "              title=\"Convert this dataframe to an interactive table.\"\n",
       "              style=\"display:none;\">\n",
       "        \n",
       "  <svg xmlns=\"http://www.w3.org/2000/svg\" height=\"24px\"viewBox=\"0 0 24 24\"\n",
       "       width=\"24px\">\n",
       "    <path d=\"M0 0h24v24H0V0z\" fill=\"none\"/>\n",
       "    <path d=\"M18.56 5.44l.94 2.06.94-2.06 2.06-.94-2.06-.94-.94-2.06-.94 2.06-2.06.94zm-11 1L8.5 8.5l.94-2.06 2.06-.94-2.06-.94L8.5 2.5l-.94 2.06-2.06.94zm10 10l.94 2.06.94-2.06 2.06-.94-2.06-.94-.94-2.06-.94 2.06-2.06.94z\"/><path d=\"M17.41 7.96l-1.37-1.37c-.4-.4-.92-.59-1.43-.59-.52 0-1.04.2-1.43.59L10.3 9.45l-7.72 7.72c-.78.78-.78 2.05 0 2.83L4 21.41c.39.39.9.59 1.41.59.51 0 1.02-.2 1.41-.59l7.78-7.78 2.81-2.81c.8-.78.8-2.07 0-2.86zM5.41 20L4 18.59l7.72-7.72 1.47 1.35L5.41 20z\"/>\n",
       "  </svg>\n",
       "      </button>\n",
       "      \n",
       "  <style>\n",
       "    .colab-df-container {\n",
       "      display:flex;\n",
       "      flex-wrap:wrap;\n",
       "      gap: 12px;\n",
       "    }\n",
       "\n",
       "    .colab-df-convert {\n",
       "      background-color: #E8F0FE;\n",
       "      border: none;\n",
       "      border-radius: 50%;\n",
       "      cursor: pointer;\n",
       "      display: none;\n",
       "      fill: #1967D2;\n",
       "      height: 32px;\n",
       "      padding: 0 0 0 0;\n",
       "      width: 32px;\n",
       "    }\n",
       "\n",
       "    .colab-df-convert:hover {\n",
       "      background-color: #E2EBFA;\n",
       "      box-shadow: 0px 1px 2px rgba(60, 64, 67, 0.3), 0px 1px 3px 1px rgba(60, 64, 67, 0.15);\n",
       "      fill: #174EA6;\n",
       "    }\n",
       "\n",
       "    [theme=dark] .colab-df-convert {\n",
       "      background-color: #3B4455;\n",
       "      fill: #D2E3FC;\n",
       "    }\n",
       "\n",
       "    [theme=dark] .colab-df-convert:hover {\n",
       "      background-color: #434B5C;\n",
       "      box-shadow: 0px 1px 3px 1px rgba(0, 0, 0, 0.15);\n",
       "      filter: drop-shadow(0px 1px 2px rgba(0, 0, 0, 0.3));\n",
       "      fill: #FFFFFF;\n",
       "    }\n",
       "  </style>\n",
       "\n",
       "      <script>\n",
       "        const buttonEl =\n",
       "          document.querySelector('#df-d029f589-d56a-40be-b6e6-1754416a7867 button.colab-df-convert');\n",
       "        buttonEl.style.display =\n",
       "          google.colab.kernel.accessAllowed ? 'block' : 'none';\n",
       "\n",
       "        async function convertToInteractive(key) {\n",
       "          const element = document.querySelector('#df-d029f589-d56a-40be-b6e6-1754416a7867');\n",
       "          const dataTable =\n",
       "            await google.colab.kernel.invokeFunction('convertToInteractive',\n",
       "                                                     [key], {});\n",
       "          if (!dataTable) return;\n",
       "\n",
       "          const docLinkHtml = 'Like what you see? Visit the ' +\n",
       "            '<a target=\"_blank\" href=https://colab.research.google.com/notebooks/data_table.ipynb>data table notebook</a>'\n",
       "            + ' to learn more about interactive tables.';\n",
       "          element.innerHTML = '';\n",
       "          dataTable['output_type'] = 'display_data';\n",
       "          await google.colab.output.renderOutput(dataTable, element);\n",
       "          const docLink = document.createElement('div');\n",
       "          docLink.innerHTML = docLinkHtml;\n",
       "          element.appendChild(docLink);\n",
       "        }\n",
       "      </script>\n",
       "    </div>\n",
       "  </div>\n",
       "  "
      ],
      "text/plain": [
       "       0       1         2\n",
       "0  sloss  sbytes  0.953493\n",
       "1  dloss  dbytes  0.991342\n",
       "2  dload  dsport  0.510411\n",
       "3  spkts  sbytes  0.602842\n",
       "4  spkts  dbytes  0.727074"
      ]
     },
     "execution_count": 160,
     "metadata": {},
     "output_type": "execute_result"
    }
   ],
   "source": [
    "corr_df = pd.DataFrame(high_corr)\n",
    "corr_df.head()"
   ]
  },
  {
   "cell_type": "code",
   "execution_count": 162,
   "metadata": {
    "id": "-kqLKhq28ejU"
   },
   "outputs": [],
   "source": [
    "corr_df.to_csv('high_corr.csv', index = False)"
   ]
  },
  {
   "cell_type": "markdown",
   "metadata": {
    "id": "3UKmUywrw5_P"
   },
   "source": [
    "### Random Forest for feature importance"
   ]
  },
  {
   "cell_type": "code",
   "execution_count": 155,
   "metadata": {
    "id": "dLQmJnfrxxvS"
   },
   "outputs": [],
   "source": [
    "X = data_min.drop(['label', 'attack_cat_code'], axis=1)\n",
    "y = data_min['attack_cat_code']"
   ]
  },
  {
   "cell_type": "code",
   "execution_count": 156,
   "metadata": {
    "colab": {
     "base_uri": "https://localhost:8080/",
     "height": 75
    },
    "id": "pPc1qXDYxAq7",
    "outputId": "4060a4ef-f6cb-4d19-dd8f-6450f09d231a"
   },
   "outputs": [
    {
     "data": {
      "text/html": [
       "<style>#sk-container-id-1 {color: black;background-color: white;}#sk-container-id-1 pre{padding: 0;}#sk-container-id-1 div.sk-toggleable {background-color: white;}#sk-container-id-1 label.sk-toggleable__label {cursor: pointer;display: block;width: 100%;margin-bottom: 0;padding: 0.3em;box-sizing: border-box;text-align: center;}#sk-container-id-1 label.sk-toggleable__label-arrow:before {content: \"▸\";float: left;margin-right: 0.25em;color: #696969;}#sk-container-id-1 label.sk-toggleable__label-arrow:hover:before {color: black;}#sk-container-id-1 div.sk-estimator:hover label.sk-toggleable__label-arrow:before {color: black;}#sk-container-id-1 div.sk-toggleable__content {max-height: 0;max-width: 0;overflow: hidden;text-align: left;background-color: #f0f8ff;}#sk-container-id-1 div.sk-toggleable__content pre {margin: 0.2em;color: black;border-radius: 0.25em;background-color: #f0f8ff;}#sk-container-id-1 input.sk-toggleable__control:checked~div.sk-toggleable__content {max-height: 200px;max-width: 100%;overflow: auto;}#sk-container-id-1 input.sk-toggleable__control:checked~label.sk-toggleable__label-arrow:before {content: \"▾\";}#sk-container-id-1 div.sk-estimator input.sk-toggleable__control:checked~label.sk-toggleable__label {background-color: #d4ebff;}#sk-container-id-1 div.sk-label input.sk-toggleable__control:checked~label.sk-toggleable__label {background-color: #d4ebff;}#sk-container-id-1 input.sk-hidden--visually {border: 0;clip: rect(1px 1px 1px 1px);clip: rect(1px, 1px, 1px, 1px);height: 1px;margin: -1px;overflow: hidden;padding: 0;position: absolute;width: 1px;}#sk-container-id-1 div.sk-estimator {font-family: monospace;background-color: #f0f8ff;border: 1px dotted black;border-radius: 0.25em;box-sizing: border-box;margin-bottom: 0.5em;}#sk-container-id-1 div.sk-estimator:hover {background-color: #d4ebff;}#sk-container-id-1 div.sk-parallel-item::after {content: \"\";width: 100%;border-bottom: 1px solid gray;flex-grow: 1;}#sk-container-id-1 div.sk-label:hover label.sk-toggleable__label {background-color: #d4ebff;}#sk-container-id-1 div.sk-serial::before {content: \"\";position: absolute;border-left: 1px solid gray;box-sizing: border-box;top: 0;bottom: 0;left: 50%;z-index: 0;}#sk-container-id-1 div.sk-serial {display: flex;flex-direction: column;align-items: center;background-color: white;padding-right: 0.2em;padding-left: 0.2em;position: relative;}#sk-container-id-1 div.sk-item {position: relative;z-index: 1;}#sk-container-id-1 div.sk-parallel {display: flex;align-items: stretch;justify-content: center;background-color: white;position: relative;}#sk-container-id-1 div.sk-item::before, #sk-container-id-1 div.sk-parallel-item::before {content: \"\";position: absolute;border-left: 1px solid gray;box-sizing: border-box;top: 0;bottom: 0;left: 50%;z-index: -1;}#sk-container-id-1 div.sk-parallel-item {display: flex;flex-direction: column;z-index: 1;position: relative;background-color: white;}#sk-container-id-1 div.sk-parallel-item:first-child::after {align-self: flex-end;width: 50%;}#sk-container-id-1 div.sk-parallel-item:last-child::after {align-self: flex-start;width: 50%;}#sk-container-id-1 div.sk-parallel-item:only-child::after {width: 0;}#sk-container-id-1 div.sk-dashed-wrapped {border: 1px dashed gray;margin: 0 0.4em 0.5em 0.4em;box-sizing: border-box;padding-bottom: 0.4em;background-color: white;}#sk-container-id-1 div.sk-label label {font-family: monospace;font-weight: bold;display: inline-block;line-height: 1.2em;}#sk-container-id-1 div.sk-label-container {text-align: center;}#sk-container-id-1 div.sk-container {/* jupyter's `normalize.less` sets `[hidden] { display: none; }` but bootstrap.min.css set `[hidden] { display: none !important; }` so we also need the `!important` here to be able to override the default hidden behavior on the sphinx rendered scikit-learn.org. See: https://github.com/scikit-learn/scikit-learn/issues/21755 */display: inline-block !important;position: relative;}#sk-container-id-1 div.sk-text-repr-fallback {display: none;}</style><div id=\"sk-container-id-1\" class=\"sk-top-container\"><div class=\"sk-text-repr-fallback\"><pre>RandomForestClassifier()</pre><b>In a Jupyter environment, please rerun this cell to show the HTML representation or trust the notebook. <br />On GitHub, the HTML representation is unable to render, please try loading this page with nbviewer.org.</b></div><div class=\"sk-container\" hidden><div class=\"sk-item\"><div class=\"sk-estimator sk-toggleable\"><input class=\"sk-toggleable__control sk-hidden--visually\" id=\"sk-estimator-id-1\" type=\"checkbox\" checked><label for=\"sk-estimator-id-1\" class=\"sk-toggleable__label sk-toggleable__label-arrow\">RandomForestClassifier</label><div class=\"sk-toggleable__content\"><pre>RandomForestClassifier()</pre></div></div></div></div></div>"
      ],
      "text/plain": [
       "RandomForestClassifier()"
      ]
     },
     "execution_count": 156,
     "metadata": {},
     "output_type": "execute_result"
    }
   ],
   "source": [
    "from sklearn.ensemble import RandomForestClassifier\n",
    "rf = RandomForestClassifier()\n",
    "rf.fit(X, y)"
   ]
  },
  {
   "cell_type": "markdown",
   "metadata": {
    "id": "kMS5Vb2ryvaZ"
   },
   "source": [
    "#### Display features in descending order of their importance"
   ]
  },
  {
   "cell_type": "code",
   "execution_count": 157,
   "metadata": {
    "colab": {
     "base_uri": "https://localhost:8080/",
     "height": 1000
    },
    "id": "aSk4TmHWxALp",
    "outputId": "263a8773-1fa0-4884-eeca-4c977694d1c4"
   },
   "outputs": [
    {
     "name": "stdout",
     "output_type": "stream",
     "text": [
      " 1) ct_state_ttl                   0.196493\n",
      " 2) sttl                           0.167359\n",
      " 3) sbytes                         0.132228\n",
      " 4) smeansz                        0.066144\n",
      " 5) sload                          0.049241\n",
      " 6) dmeansz                        0.038197\n",
      " 7) dbytes                         0.035019\n",
      " 8) dsport                         0.031849\n",
      " 9) dpkts                          0.028320\n",
      "10) ct_srv_src                     0.021640\n",
      "11) dintpkt                        0.019169\n",
      "12) ct_srv_dst                     0.018238\n",
      "13) sport                          0.018177\n",
      "14) ct_dst_sport_ltm               0.016559\n",
      "15) tcprtt                         0.016484\n",
      "16) dur                            0.015295\n",
      "17) dload                          0.015232\n",
      "18) dttl                           0.014867\n",
      "19) ct_src_dport_ltm               0.012752\n",
      "20) ct_dst_src_ltm                 0.012474\n",
      "21) synack                         0.009293\n",
      "22) ackdat                         0.008887\n",
      "23) ct_dst_ltm                     0.008453\n",
      "24) sintpkt                        0.007821\n",
      "25) ct_src_ltm                     0.007207\n",
      "26) spkts                          0.006536\n",
      "27) sjit                           0.006229\n",
      "28) dloss                          0.003732\n",
      "29) djit                           0.003296\n",
      "30) sloss                          0.003130\n",
      "31) stcpb                          0.002831\n",
      "32) dtcpb                          0.002730\n",
      "33) res_bdy_len                    0.001213\n",
      "34) swin                           0.001073\n",
      "35) trans_depth                    0.000985\n",
      "36) is_sm_ips_ports                0.000553\n",
      "37) dwin                           0.000294\n"
     ]
    },
    {
     "data": {
      "image/png": "[encoded data removed]",
      "text/plain": [
       "<Figure size 1600x1000 with 1 Axes>"
      ]
     },
     "metadata": {},
     "output_type": "display_data"
    }
   ],
   "source": [
    "# Reset style \n",
    "# plt.style.use('seaborn')\n",
    "plt.style.use('fivethirtyeight')\n",
    "\n",
    "feat_labels = X.columns\n",
    "\n",
    "importances = rf.feature_importances_\n",
    "\n",
    "indices = np.argsort(importances)[::-1]\n",
    "\n",
    "for f in range(X.shape[1]):\n",
    "    print(\"%2d) %-*s %f\" % (f + 1, 30, \n",
    "                            feat_labels[indices[f]], \n",
    "                            importances[indices[f]]))\n",
    "    \n",
    "fig, ax = plt.subplots(figsize=(16, 10))\n",
    "plt.title('Top 20 Features in Descending Order of Importance')\n",
    "plt.bar(range(20),#X_train.shape[1]), \n",
    "        importances[indices][:20],\n",
    "        align='center')\n",
    "\n",
    "plt.xticks(range(20),#X_train.shape[1]), \n",
    "           feat_labels[indices][:20], \n",
    "           rotation=90,\n",
    "          fontsize = 14)\n",
    "plt.yticks(fontsize = 14)\n",
    "plt.xlim([-1, 20])#X_train.shape[1]])\n",
    "plt.tight_layout()\n",
    "plt.show()"
   ]
  },
  {
   "cell_type": "markdown",
   "metadata": {
    "id": "YqJwzvGsy0KR"
   },
   "source": [
    "#### Identify top 95% of features"
   ]
  },
  {
   "cell_type": "code",
   "execution_count": 163,
   "metadata": {
    "id": "omtBaP7LytUH"
   },
   "outputs": [],
   "source": [
    "# List of features for later use\n",
    "feature_list = list(X.columns)\n",
    "\n",
    "# Get numerical feature importances\n",
    "importances = list(rf.feature_importances_)\n",
    "\n",
    "# List of tuples with variable and importance\n",
    "feature_importances = [(feature, round(importance, 2)) for feature, importance in zip(feature_list, importances)]\n",
    "\n",
    "# Sort the feature importances by most important first\n",
    "feature_importances = sorted(feature_importances, key = lambda x: x[1], reverse = True)\n",
    "\n",
    "# List of features sorted from most to least important\n",
    "sorted_importances = [importance[1] for importance in feature_importances]\n",
    "sorted_features = [importance[0] for importance in feature_importances]\n",
    "\n",
    "# Cumulative importances\n",
    "cumulative_importances = np.cumsum(sorted_importances)\n",
    "\n",
    "# list of x locations for plotting\n",
    "x_values = list(range(len(importances)))"
   ]
  },
  {
   "cell_type": "code",
   "execution_count": 164,
   "metadata": {
    "colab": {
     "base_uri": "https://localhost:8080/",
     "height": 1000
    },
    "id": "x-p9GWINy-dO",
    "outputId": "140abee4-147a-49a1-c5b7-7baedb828cf6"
   },
   "outputs": [
    {
     "data": {
      "image/png": "[encoded data removed]",
      "text/plain": [
       "<Figure size 1600x1000 with 1 Axes>"
      ]
     },
     "metadata": {},
     "output_type": "display_data"
    }
   ],
   "source": [
    "# Reset style \n",
    "plt.style.use('fivethirtyeight')\n",
    "# plt.style.use('seaborn')\n",
    "\n",
    "fig, ax = plt.subplots(figsize=(16, 10))\n",
    "# Make a line graph\n",
    "plt.plot(x_values, \n",
    "         cumulative_importances, 'g-')\n",
    "\n",
    "# Draw line at 95% of importance retained\n",
    "plt.hlines(y = 0.95, xmin=0, xmax=len(sorted_importances), color = 'r', linestyles = 'dashed')\n",
    "\n",
    "# Format x ticks and labels\n",
    "plt.xticks(x_values, sorted_features, rotation = 'vertical', fontsize = 14)\n",
    "plt.yticks(fontsize = 14)\n",
    "\n",
    "# Axis labels and title\n",
    "# plt.xlabel('Feature Name'); \n",
    "plt.ylabel('Feature Importance'); plt.title('Cumulative Feature Importance');"
   ]
  },
  {
   "cell_type": "markdown",
   "metadata": {
    "id": "Q-LulQmNLJVt"
   },
   "source": [
    "### Removing columns that:\n",
    "1. Of low(er) eimportance according to RF Feature importance\n",
    "2. Have high VIF values\n",
    "3. Correlated to one or more other columns\n",
    "\n",
    "You could find details in the spreadsheet:<br>\n",
    "https://docs.google.com/spreadsheets/d/1QZ2ZKKGMc-wNAIIQ8s-u_469jtdJXa848hEpJbxmUhc/edit#gid=1126102638"
   ]
  },
  {
   "cell_type": "code",
   "execution_count": 169,
   "metadata": {
    "colab": {
     "base_uri": "https://localhost:8080/",
     "height": 236
    },
    "id": "Uah779GCL7jK",
    "outputId": "5cad5124-decc-44f6-f3ca-fd2842fc794d"
   },
   "outputs": [
    {
     "data": {
      "text/html": [
       "\n",
       "  <div id=\"df-5e6a234e-7ce7-43ec-baf1-32c55f421f56\">\n",
       "    <div class=\"colab-df-container\">\n",
       "      <div>\n",
       "<style scoped>\n",
       "    .dataframe tbody tr th:only-of-type {\n",
       "        vertical-align: middle;\n",
       "    }\n",
       "\n",
       "    .dataframe tbody tr th {\n",
       "        vertical-align: top;\n",
       "    }\n",
       "\n",
       "    .dataframe thead th {\n",
       "        text-align: right;\n",
       "    }\n",
       "</style>\n",
       "<table border=\"1\" class=\"dataframe\">\n",
       "  <thead>\n",
       "    <tr style=\"text-align: right;\">\n",
       "      <th></th>\n",
       "      <th>sport</th>\n",
       "      <th>dsport</th>\n",
       "      <th>dur</th>\n",
       "      <th>sbytes</th>\n",
       "      <th>dbytes</th>\n",
       "      <th>sttl</th>\n",
       "      <th>dttl</th>\n",
       "      <th>sload</th>\n",
       "      <th>spkts</th>\n",
       "      <th>stcpb</th>\n",
       "      <th>...</th>\n",
       "      <th>sjit</th>\n",
       "      <th>djit</th>\n",
       "      <th>sintpkt</th>\n",
       "      <th>dintpkt</th>\n",
       "      <th>tcprtt</th>\n",
       "      <th>ct_srv_src</th>\n",
       "      <th>ct_src_ltm</th>\n",
       "      <th>ct_dst_sport_ltm</th>\n",
       "      <th>label</th>\n",
       "      <th>attack_cat_code</th>\n",
       "    </tr>\n",
       "  </thead>\n",
       "  <tbody>\n",
       "    <tr>\n",
       "      <th>0</th>\n",
       "      <td>33661</td>\n",
       "      <td>1024</td>\n",
       "      <td>0.036133</td>\n",
       "      <td>528</td>\n",
       "      <td>304</td>\n",
       "      <td>31</td>\n",
       "      <td>29</td>\n",
       "      <td>87676.085938</td>\n",
       "      <td>4</td>\n",
       "      <td>0</td>\n",
       "      <td>...</td>\n",
       "      <td>9.89101</td>\n",
       "      <td>10.682733</td>\n",
       "      <td>7.005</td>\n",
       "      <td>7.564333</td>\n",
       "      <td>0.0</td>\n",
       "      <td>2</td>\n",
       "      <td>3</td>\n",
       "      <td>1</td>\n",
       "      <td>0</td>\n",
       "      <td>0</td>\n",
       "    </tr>\n",
       "    <tr>\n",
       "      <th>1</th>\n",
       "      <td>1464</td>\n",
       "      <td>53</td>\n",
       "      <td>0.001119</td>\n",
       "      <td>146</td>\n",
       "      <td>178</td>\n",
       "      <td>31</td>\n",
       "      <td>29</td>\n",
       "      <td>521894.531250</td>\n",
       "      <td>2</td>\n",
       "      <td>0</td>\n",
       "      <td>...</td>\n",
       "      <td>0.00000</td>\n",
       "      <td>0.000000</td>\n",
       "      <td>0.017</td>\n",
       "      <td>0.013000</td>\n",
       "      <td>0.0</td>\n",
       "      <td>12</td>\n",
       "      <td>2</td>\n",
       "      <td>1</td>\n",
       "      <td>0</td>\n",
       "      <td>0</td>\n",
       "    </tr>\n",
       "    <tr>\n",
       "      <th>2</th>\n",
       "      <td>3593</td>\n",
       "      <td>53</td>\n",
       "      <td>0.001209</td>\n",
       "      <td>132</td>\n",
       "      <td>164</td>\n",
       "      <td>31</td>\n",
       "      <td>29</td>\n",
       "      <td>436724.562500</td>\n",
       "      <td>2</td>\n",
       "      <td>0</td>\n",
       "      <td>...</td>\n",
       "      <td>0.00000</td>\n",
       "      <td>0.000000</td>\n",
       "      <td>0.043</td>\n",
       "      <td>0.014000</td>\n",
       "      <td>0.0</td>\n",
       "      <td>6</td>\n",
       "      <td>1</td>\n",
       "      <td>1</td>\n",
       "      <td>0</td>\n",
       "      <td>0</td>\n",
       "    </tr>\n",
       "    <tr>\n",
       "      <th>3</th>\n",
       "      <td>49664</td>\n",
       "      <td>53</td>\n",
       "      <td>0.001169</td>\n",
       "      <td>146</td>\n",
       "      <td>178</td>\n",
       "      <td>31</td>\n",
       "      <td>29</td>\n",
       "      <td>499572.250000</td>\n",
       "      <td>2</td>\n",
       "      <td>0</td>\n",
       "      <td>...</td>\n",
       "      <td>0.00000</td>\n",
       "      <td>0.000000</td>\n",
       "      <td>0.005</td>\n",
       "      <td>0.003000</td>\n",
       "      <td>0.0</td>\n",
       "      <td>7</td>\n",
       "      <td>1</td>\n",
       "      <td>1</td>\n",
       "      <td>0</td>\n",
       "      <td>0</td>\n",
       "    </tr>\n",
       "    <tr>\n",
       "      <th>4</th>\n",
       "      <td>32119</td>\n",
       "      <td>111</td>\n",
       "      <td>0.078339</td>\n",
       "      <td>568</td>\n",
       "      <td>312</td>\n",
       "      <td>31</td>\n",
       "      <td>29</td>\n",
       "      <td>43503.234375</td>\n",
       "      <td>4</td>\n",
       "      <td>0</td>\n",
       "      <td>...</td>\n",
       "      <td>29.68222</td>\n",
       "      <td>34.370338</td>\n",
       "      <td>21.003</td>\n",
       "      <td>24.315001</td>\n",
       "      <td>0.0</td>\n",
       "      <td>2</td>\n",
       "      <td>3</td>\n",
       "      <td>1</td>\n",
       "      <td>0</td>\n",
       "      <td>0</td>\n",
       "    </tr>\n",
       "  </tbody>\n",
       "</table>\n",
       "<p>5 rows × 24 columns</p>\n",
       "</div>\n",
       "      <button class=\"colab-df-convert\" onclick=\"convertToInteractive('df-5e6a234e-7ce7-43ec-baf1-32c55f421f56')\"\n",
       "              title=\"Convert this dataframe to an interactive table.\"\n",
       "              style=\"display:none;\">\n",
       "        \n",
       "  <svg xmlns=\"http://www.w3.org/2000/svg\" height=\"24px\"viewBox=\"0 0 24 24\"\n",
       "       width=\"24px\">\n",
       "    <path d=\"M0 0h24v24H0V0z\" fill=\"none\"/>\n",
       "    <path d=\"M18.56 5.44l.94 2.06.94-2.06 2.06-.94-2.06-.94-.94-2.06-.94 2.06-2.06.94zm-11 1L8.5 8.5l.94-2.06 2.06-.94-2.06-.94L8.5 2.5l-.94 2.06-2.06.94zm10 10l.94 2.06.94-2.06 2.06-.94-2.06-.94-.94-2.06-.94 2.06-2.06.94z\"/><path d=\"M17.41 7.96l-1.37-1.37c-.4-.4-.92-.59-1.43-.59-.52 0-1.04.2-1.43.59L10.3 9.45l-7.72 7.72c-.78.78-.78 2.05 0 2.83L4 21.41c.39.39.9.59 1.41.59.51 0 1.02-.2 1.41-.59l7.78-7.78 2.81-2.81c.8-.78.8-2.07 0-2.86zM5.41 20L4 18.59l7.72-7.72 1.47 1.35L5.41 20z\"/>\n",
       "  </svg>\n",
       "      </button>\n",
       "      \n",
       "  <style>\n",
       "    .colab-df-container {\n",
       "      display:flex;\n",
       "      flex-wrap:wrap;\n",
       "      gap: 12px;\n",
       "    }\n",
       "\n",
       "    .colab-df-convert {\n",
       "      background-color: #E8F0FE;\n",
       "      border: none;\n",
       "      border-radius: 50%;\n",
       "      cursor: pointer;\n",
       "      display: none;\n",
       "      fill: #1967D2;\n",
       "      height: 32px;\n",
       "      padding: 0 0 0 0;\n",
       "      width: 32px;\n",
       "    }\n",
       "\n",
       "    .colab-df-convert:hover {\n",
       "      background-color: #E2EBFA;\n",
       "      box-shadow: 0px 1px 2px rgba(60, 64, 67, 0.3), 0px 1px 3px 1px rgba(60, 64, 67, 0.15);\n",
       "      fill: #174EA6;\n",
       "    }\n",
       "\n",
       "    [theme=dark] .colab-df-convert {\n",
       "      background-color: #3B4455;\n",
       "      fill: #D2E3FC;\n",
       "    }\n",
       "\n",
       "    [theme=dark] .colab-df-convert:hover {\n",
       "      background-color: #434B5C;\n",
       "      box-shadow: 0px 1px 3px 1px rgba(0, 0, 0, 0.15);\n",
       "      filter: drop-shadow(0px 1px 2px rgba(0, 0, 0, 0.3));\n",
       "      fill: #FFFFFF;\n",
       "    }\n",
       "  </style>\n",
       "\n",
       "      <script>\n",
       "        const buttonEl =\n",
       "          document.querySelector('#df-5e6a234e-7ce7-43ec-baf1-32c55f421f56 button.colab-df-convert');\n",
       "        buttonEl.style.display =\n",
       "          google.colab.kernel.accessAllowed ? 'block' : 'none';\n",
       "\n",
       "        async function convertToInteractive(key) {\n",
       "          const element = document.querySelector('#df-5e6a234e-7ce7-43ec-baf1-32c55f421f56');\n",
       "          const dataTable =\n",
       "            await google.colab.kernel.invokeFunction('convertToInteractive',\n",
       "                                                     [key], {});\n",
       "          if (!dataTable) return;\n",
       "\n",
       "          const docLinkHtml = 'Like what you see? Visit the ' +\n",
       "            '<a target=\"_blank\" href=https://colab.research.google.com/notebooks/data_table.ipynb>data table notebook</a>'\n",
       "            + ' to learn more about interactive tables.';\n",
       "          element.innerHTML = '';\n",
       "          dataTable['output_type'] = 'display_data';\n",
       "          await google.colab.output.renderOutput(dataTable, element);\n",
       "          const docLink = document.createElement('div');\n",
       "          docLink.innerHTML = docLinkHtml;\n",
       "          element.appendChild(docLink);\n",
       "        }\n",
       "      </script>\n",
       "    </div>\n",
       "  </div>\n",
       "  "
      ],
      "text/plain": [
       "   sport  dsport       dur  sbytes  dbytes  sttl  dttl          sload  spkts  \\\n",
       "0  33661    1024  0.036133     528     304    31    29   87676.085938      4   \n",
       "1   1464      53  0.001119     146     178    31    29  521894.531250      2   \n",
       "2   3593      53  0.001209     132     164    31    29  436724.562500      2   \n",
       "3  49664      53  0.001169     146     178    31    29  499572.250000      2   \n",
       "4  32119     111  0.078339     568     312    31    29   43503.234375      4   \n",
       "\n",
       "   stcpb  ...      sjit       djit  sintpkt    dintpkt  tcprtt  ct_srv_src  \\\n",
       "0      0  ...   9.89101  10.682733    7.005   7.564333     0.0           2   \n",
       "1      0  ...   0.00000   0.000000    0.017   0.013000     0.0          12   \n",
       "2      0  ...   0.00000   0.000000    0.043   0.014000     0.0           6   \n",
       "3      0  ...   0.00000   0.000000    0.005   0.003000     0.0           7   \n",
       "4      0  ...  29.68222  34.370338   21.003  24.315001     0.0           2   \n",
       "\n",
       "   ct_src_ltm  ct_dst_sport_ltm  label  attack_cat_code  \n",
       "0           3                 1      0                0  \n",
       "1           2                 1      0                0  \n",
       "2           1                 1      0                0  \n",
       "3           1                 1      0                0  \n",
       "4           3                 1      0                0  \n",
       "\n",
       "[5 rows x 24 columns]"
      ]
     },
     "execution_count": 169,
     "metadata": {},
     "output_type": "execute_result"
    }
   ],
   "source": [
    "# taking into account feature importance, getting the names of \n",
    "# highly correlated (and less important) features to drop from t\n",
    "\n",
    "# cross-referencing with feature importance and VIF see details in the google sheet\n",
    "# https://docs.google.com/spreadsheets/d/1QZ2ZKKGMc-wNAIIQ8s-u_469jtdJXa848hEpJbxmUhc/edit#gid=1126102638\n",
    "\n",
    "cols_keep = ['sttl',\n",
    "            'sbytes',\n",
    "            'smeansz',\n",
    "            'sload',\n",
    "            'dmeansz',\n",
    "            'dbytes',\n",
    "            'dsport',\n",
    "            'ct_srv_src',\n",
    "            'dintpkt',\n",
    "            'sport',\n",
    "            'ct_dst_sport_ltm',\n",
    "            'tcprtt',\n",
    "            'dur',\n",
    "            'dttl',\n",
    "            'sintpkt',\n",
    "            'ct_src_ltm',\n",
    "            'spkts',\n",
    "            'sjit',\n",
    "            'djit',\n",
    "            'stcpb',\n",
    "            'res_bdy_len',\n",
    "            'trans_depth',\n",
    "            'label', \n",
    "            'attack_cat_code']\n",
    "\n",
    "data_top = data_min[[col for col in data_min.columns if col in cols_keep]]\n",
    "data_top.head()"
   ]
  },
  {
   "cell_type": "code",
   "execution_count": 170,
   "metadata": {
    "colab": {
     "base_uri": "https://localhost:8080/"
    },
    "id": "4dVG3nj_NFDX",
    "outputId": "bfe37777-f195-4a2d-be59-a59f04307a45"
   },
   "outputs": [
    {
     "data": {
      "text/plain": [
       "Index(['sport', 'dsport', 'dur', 'sbytes', 'dbytes', 'sttl', 'dttl', 'sload',\n",
       "       'spkts', 'stcpb', 'smeansz', 'dmeansz', 'trans_depth', 'res_bdy_len',\n",
       "       'sjit', 'djit', 'sintpkt', 'dintpkt', 'tcprtt', 'ct_srv_src',\n",
       "       'ct_src_ltm', 'ct_dst_sport_ltm', 'label', 'attack_cat_code'],\n",
       "      dtype='object')"
      ]
     },
     "execution_count": 170,
     "metadata": {},
     "output_type": "execute_result"
    }
   ],
   "source": [
    "data_top.columns"
   ]
  },
  {
   "cell_type": "code",
   "execution_count": 177,
   "metadata": {
    "colab": {
     "base_uri": "https://localhost:8080/"
    },
    "id": "uo1ywRffNXaS",
    "outputId": "2a69a2e5-5105-49e6-b5a5-f1509a74e27b"
   },
   "outputs": [
    {
     "name": "stdout",
     "output_type": "stream",
     "text": [
      "2 sport integer Source port number\n"
     ]
    }
   ],
   "source": [
    "print(features.loc[features['Name'] == 'sport'].to_string(index = False, header=False))"
   ]
  },
  {
   "cell_type": "code",
   "execution_count": 179,
   "metadata": {
    "colab": {
     "base_uri": "https://localhost:8080/"
    },
    "id": "46m0bSaqNMgx",
    "outputId": "db287bd4-542f-4dc1-db1f-be908d0f0b87"
   },
   "outputs": [
    {
     "name": "stdout",
     "output_type": "stream",
     "text": [
      "2 sport integer Source port number\n",
      "4 dsport integer Destination port number\n",
      "7 dur Float Record total duration\n",
      "8 sbytes Integer Source to destination transaction bytes \n",
      "9 dbytes Integer Destination to source transaction bytes\n",
      "10 sttl Integer Source to destination time to live value \n",
      "11 dttl Integer Destination to source time to live value\n",
      "15 sload Float Source bits per second\n",
      "17 spkts integer Source to destination packet count \n",
      "21 stcpb integer Source TCP base sequence number\n",
      "23 smeansz integer Mean of the ?ow packet size transmitted by the src \n",
      "24 dmeansz integer Mean of the ?ow packet size transmitted by the dst \n",
      "25 trans_depth integer Represents the pipelined depth into the connection of http request/response transaction\n",
      "26 res_bdy_len integer Actual uncompressed content size of the data transferred from the server’s http service.\n",
      "27 sjit Float Source jitter (mSec)\n",
      "28 djit Float Destination jitter (mSec)\n",
      "31 sintpkt Float Source interpacket arrival time (mSec)\n",
      "32 dintpkt Float Destination interpacket arrival time (mSec)\n",
      "33 tcprtt Float TCP connection setup round-trip time, the sum of ’synack’ and ’ackdat’.\n",
      "41 ct_srv_src integer No. of connections that contain the same service (14) and source address (1) in 100 connections according to the last time (26).\n",
      "Empty DataFrame\n",
      "Columns: [No., Name, Type , Description]\n",
      "Index: []\n",
      "46 ct_dst_sport_ltm integer No of connections of the same destination address (3) and the source port (2) in 100 connections according to the last time (26).\n",
      "49 label binary 0 for normal and 1 for attack records\n",
      "Empty DataFrame\n",
      "Columns: [No., Name, Type , Description]\n",
      "Index: []\n"
     ]
    }
   ],
   "source": [
    "pd.options.display.max_colwidth = 100\n",
    "\n",
    "for col in data_top.columns:\n",
    "  print(features.loc[features['Name'] == col].to_string(index = False, header=False))"
   ]
  },
  {
   "cell_type": "markdown",
   "metadata": {
    "id": "yhFM2cy8DF_E"
   },
   "source": [
    "### One Hot Encoding Categorical Variables\n",
    "* sport - nominal\n",
    "* dsport - nominal\n",
    "* attack_cat_code - nominal (target for multi-class)\n",
    "* label - binary (target)\n",
    "\n"
   ]
  },
  {
   "cell_type": "code",
   "execution_count": 252,
   "metadata": {
    "colab": {
     "base_uri": "https://localhost:8080/"
    },
    "id": "LyIcD93-DJ4n",
    "outputId": "abb65ff8-13a9-4500-9b29-8df09366fd9b"
   },
   "outputs": [
    {
     "data": {
      "text/plain": [
       "(2539735, 22)"
      ]
     },
     "execution_count": 252,
     "metadata": {},
     "output_type": "execute_result"
    }
   ],
   "source": [
    "# removing labels from X \n",
    "features = data_top.drop(['label', 'attack_cat_code'], axis=1)\n",
    "features.shape"
   ]
  },
  {
   "cell_type": "code",
   "execution_count": null,
   "metadata": {
    "id": "gKQkHNl3d88z"
   },
   "outputs": [],
   "source": []
  },
  {
   "cell_type": "code",
   "execution_count": 184,
   "metadata": {
    "id": "vBpJnNvzDJxv"
   },
   "outputs": [],
   "source": [
    "# creating a dataframe for target variables\n",
    "targets = data_top[['label', 'attack_cat_code']]"
   ]
  },
  {
   "cell_type": "code",
   "execution_count": 185,
   "metadata": {
    "id": "1JA0FICDDJqL"
   },
   "outputs": [],
   "source": [
    "# creating target variables for binary and multiclass classification\n",
    "y = targets['label']\n",
    "y_m = targets['attack_cat_code']"
   ]
  },
  {
   "cell_type": "code",
   "execution_count": 186,
   "metadata": {
    "colab": {
     "base_uri": "https://localhost:8080/"
    },
    "id": "t_fAlXk7DJiG",
    "outputId": "d3850858-875b-4c02-978b-d5e869de2ea2"
   },
   "outputs": [
    {
     "data": {
      "text/plain": [
       "(2539735, 22)"
      ]
     },
     "execution_count": 186,
     "metadata": {},
     "output_type": "execute_result"
    }
   ],
   "source": [
    "# one-hot encoding the data in X IS NOT NECESSARY since even though the values are nominal, they are represented by numbers\n",
    "# data_oh = pd.get_dummies(features, drop_first = True)\n",
    "# data_oh.shape"
   ]
  },
  {
   "cell_type": "markdown",
   "metadata": {
    "id": "k7e1UPIP_KaY"
   },
   "source": [
    "## Train / Test Split\n",
    "Setting aside 10% of the original data for testing and exporiting both\n"
   ]
  },
  {
   "cell_type": "code",
   "execution_count": 192,
   "metadata": {
    "id": "OStREtdZySMo"
   },
   "outputs": [],
   "source": [
    "# splitting into train and test sets \n",
    "X_train, X_test, y_train, y_test = train_test_split(\n",
    "    features, y_m, test_size=0.15, random_state=42, stratify=y_m)"
   ]
  },
  {
   "cell_type": "code",
   "execution_count": 193,
   "metadata": {
    "colab": {
     "base_uri": "https://localhost:8080/"
    },
    "id": "mbJzbgwoy4BK",
    "outputId": "361b56c5-3e67-45da-b19c-22cf618db75a"
   },
   "outputs": [
    {
     "data": {
      "text/plain": [
       "((2158774, 22), (2158774,), (380961, 22), (380961,))"
      ]
     },
     "execution_count": 193,
     "metadata": {},
     "output_type": "execute_result"
    }
   ],
   "source": [
    "X_train.shape, y_train.shape, X_test.shape, y_test.shape"
   ]
  },
  {
   "cell_type": "code",
   "execution_count": 194,
   "metadata": {
    "colab": {
     "base_uri": "https://localhost:8080/"
    },
    "id": "Rev3dAPLySDv",
    "outputId": "b5c8f0e7-9cbe-4dd4-a0d3-a01fca92033e"
   },
   "outputs": [
    {
     "data": {
      "text/plain": [
       "0    332768\n",
       "1     32322\n",
       "2      6679\n",
       "3      3637\n",
       "4      2453\n",
       "5      2098\n",
       "6       402\n",
       "7       349\n",
       "8       227\n",
       "9        26\n",
       "Name: attack_cat_code, dtype: int64"
      ]
     },
     "execution_count": 194,
     "metadata": {},
     "output_type": "execute_result"
    }
   ],
   "source": [
    "# checking the number of classes in y_test\n",
    "y_test.value_counts()"
   ]
  },
  {
   "cell_type": "markdown",
   "metadata": {
    "id": "_Eh3PzSazm_p"
   },
   "source": [
    "### Exporting the data after the cleaning is done"
   ]
  },
  {
   "cell_type": "code",
   "execution_count": null,
   "metadata": {
    "id": "ytzDx5aHz0Cy"
   },
   "outputs": [],
   "source": [
    "# merging binary classification data into one dataframe\n",
    "train = pd.concat([X_train, y_train], axis = 1)\n",
    "# checking the result\n",
    "train.shape"
   ]
  },
  {
   "cell_type": "code",
   "execution_count": 196,
   "metadata": {
    "id": "jaUvhgcy0B34"
   },
   "outputs": [],
   "source": [
    "# exporting the results to csv\n",
    "train.to_csv('train_imbalanced_85.csv', index = False)"
   ]
  },
  {
   "cell_type": "code",
   "execution_count": 198,
   "metadata": {
    "colab": {
     "base_uri": "https://localhost:8080/",
     "height": 17
    },
    "id": "n4fAuzbZ0OS6",
    "outputId": "ded47efa-87eb-477d-d1d8-081df66b3cc8"
   },
   "outputs": [
    {
     "data": {
      "application/javascript": [
       "\n",
       "    async function download(id, filename, size) {\n",
       "      if (!google.colab.kernel.accessAllowed) {\n",
       "        return;\n",
       "      }\n",
       "      const div = document.createElement('div');\n",
       "      const label = document.createElement('label');\n",
       "      label.textContent = `Downloading \"${filename}\": `;\n",
       "      div.appendChild(label);\n",
       "      const progress = document.createElement('progress');\n",
       "      progress.max = size;\n",
       "      div.appendChild(progress);\n",
       "      document.body.appendChild(div);\n",
       "\n",
       "      const buffers = [];\n",
       "      let downloaded = 0;\n",
       "\n",
       "      const channel = await google.colab.kernel.comms.open(id);\n",
       "      // Send a message to notify the kernel that we're ready.\n",
       "      channel.send({})\n",
       "\n",
       "      for await (const message of channel.messages) {\n",
       "        // Send a message to notify the kernel that we're ready.\n",
       "        channel.send({})\n",
       "        if (message.buffers) {\n",
       "          for (const buffer of message.buffers) {\n",
       "            buffers.push(buffer);\n",
       "            downloaded += buffer.byteLength;\n",
       "            progress.value = downloaded;\n",
       "          }\n",
       "        }\n",
       "      }\n",
       "      const blob = new Blob(buffers, {type: 'application/binary'});\n",
       "      const a = document.createElement('a');\n",
       "      a.href = window.URL.createObjectURL(blob);\n",
       "      a.download = filename;\n",
       "      div.appendChild(a);\n",
       "      a.click();\n",
       "      div.remove();\n",
       "    }\n",
       "  "
      ],
      "text/plain": [
       "<IPython.core.display.Javascript object>"
      ]
     },
     "metadata": {},
     "output_type": "display_data"
    },
    {
     "data": {
      "application/javascript": [
       "download(\"download_b774fcd4-92f6-4fbd-9710-82b55cf2b0c0\", \"train_imbalanced_85.csv\", 236822842)"
      ],
      "text/plain": [
       "<IPython.core.display.Javascript object>"
      ]
     },
     "metadata": {},
     "output_type": "display_data"
    }
   ],
   "source": [
    "# downloading from colab\n",
    "from google.colab import files\n",
    "files.download('train_imbalanced_85.csv') "
   ]
  },
  {
   "cell_type": "code",
   "execution_count": 197,
   "metadata": {
    "colab": {
     "base_uri": "https://localhost:8080/"
    },
    "id": "LeaZ1H7x0iVv",
    "outputId": "9c0b7dc9-e6be-41cb-fd8c-054952c140ea"
   },
   "outputs": [
    {
     "data": {
      "text/plain": [
       "(380961, 23)"
      ]
     },
     "execution_count": 197,
     "metadata": {},
     "output_type": "execute_result"
    }
   ],
   "source": [
    "# merging binary classification data into one dataframe\n",
    "test = pd.concat([X_test, y_test], axis = 1)\n",
    "# checking the result\n",
    "test.shape"
   ]
  },
  {
   "cell_type": "code",
   "execution_count": 199,
   "metadata": {
    "colab": {
     "base_uri": "https://localhost:8080/",
     "height": 17
    },
    "id": "rdGWrZjA0iNa",
    "outputId": "74a2d6d0-2eb3-4204-fc6e-1d6662d9b893"
   },
   "outputs": [
    {
     "data": {
      "application/javascript": [
       "\n",
       "    async function download(id, filename, size) {\n",
       "      if (!google.colab.kernel.accessAllowed) {\n",
       "        return;\n",
       "      }\n",
       "      const div = document.createElement('div');\n",
       "      const label = document.createElement('label');\n",
       "      label.textContent = `Downloading \"${filename}\": `;\n",
       "      div.appendChild(label);\n",
       "      const progress = document.createElement('progress');\n",
       "      progress.max = size;\n",
       "      div.appendChild(progress);\n",
       "      document.body.appendChild(div);\n",
       "\n",
       "      const buffers = [];\n",
       "      let downloaded = 0;\n",
       "\n",
       "      const channel = await google.colab.kernel.comms.open(id);\n",
       "      // Send a message to notify the kernel that we're ready.\n",
       "      channel.send({})\n",
       "\n",
       "      for await (const message of channel.messages) {\n",
       "        // Send a message to notify the kernel that we're ready.\n",
       "        channel.send({})\n",
       "        if (message.buffers) {\n",
       "          for (const buffer of message.buffers) {\n",
       "            buffers.push(buffer);\n",
       "            downloaded += buffer.byteLength;\n",
       "            progress.value = downloaded;\n",
       "          }\n",
       "        }\n",
       "      }\n",
       "      const blob = new Blob(buffers, {type: 'application/binary'});\n",
       "      const a = document.createElement('a');\n",
       "      a.href = window.URL.createObjectURL(blob);\n",
       "      a.download = filename;\n",
       "      div.appendChild(a);\n",
       "      a.click();\n",
       "      div.remove();\n",
       "    }\n",
       "  "
      ],
      "text/plain": [
       "<IPython.core.display.Javascript object>"
      ]
     },
     "metadata": {},
     "output_type": "display_data"
    },
    {
     "data": {
      "application/javascript": [
       "download(\"download_afe1aad5-26e4-4980-bb94-6dab8ed960b7\", \"test_imbalanced_15.csv\", 41778870)"
      ],
      "text/plain": [
       "<IPython.core.display.Javascript object>"
      ]
     },
     "metadata": {},
     "output_type": "display_data"
    }
   ],
   "source": [
    "# exporting the results to csv\n",
    "test.to_csv('test_imbalanced_15.csv', index = False)\n",
    "# downloading from colab\n",
    "files.download('test_imbalanced_15.csv') "
   ]
  },
  {
   "cell_type": "markdown",
   "metadata": {
    "id": "h_xx0cp_AS4e"
   },
   "source": [
    "### Visualizing the classes"
   ]
  },
  {
   "cell_type": "code",
   "execution_count": 200,
   "metadata": {
    "id": "ItNub0VMAS4f"
   },
   "outputs": [],
   "source": [
    "# get the labels\n",
    "codes = {'Normal':0,\n",
    "         'Generic':1,\n",
    "         'Exploits':2,\n",
    "         'Fuzzers': 3,\n",
    "         'DoS':4,\n",
    "         'Reconnaissance':5,\n",
    "         'Analysis':6,\n",
    "         'Backdoor':7,\n",
    "         'Shellcode':8,\n",
    "         'Worms':9   \n",
    "}\n",
    "labels = [x for x in codes.keys()]\n",
    "# labels\n",
    "\n",
    "# reversing the codes\n",
    "reverse_codes  = dict((v,k) for k,v in codes.items())\n",
    "\n",
    "train['attack_cat'] = train['attack_cat_code'].map(reverse_codes)\n",
    "# data['attack_cat'].value_counts()"
   ]
  },
  {
   "cell_type": "code",
   "execution_count": 205,
   "metadata": {
    "colab": {
     "base_uri": "https://localhost:8080/",
     "height": 607
    },
    "id": "FBVr1auMAS4f",
    "outputId": "ba304a45-9095-4246-f989-ec070b95f4d2"
   },
   "outputs": [
    {
     "data": {
      "image/png": "[encoded data removed]",
      "text/plain": [
       "<Figure size 1400x600 with 1 Axes>"
      ]
     },
     "metadata": {},
     "output_type": "display_data"
    }
   ],
   "source": [
    "# fig = plt.figure(figsize=(14,5))\n",
    "# sns.set_style(\"whitegrid\")\n",
    "# plt.style.use('seaborn')\n",
    "plt.style.use('ggplot')\n",
    "fig, ax = plt.subplots(figsize=(14,6))\n",
    "\n",
    "ax = sns.countplot(\n",
    "    data=train,\n",
    "    x = \"attack_cat\",\n",
    "    palette='rainbow',\n",
    "    order = train[\"attack_cat\"].value_counts().index)\n",
    "\n",
    "\n",
    "        \n",
    "abs_values = train[\"attack_cat\"].value_counts(ascending=False)\n",
    "rel_values = train[\"attack_cat\"].value_counts(ascending=False, normalize=True).values * 100\n",
    "lbls = [f'{p[0]:,} ({p[1]:.2f}%)' for p in zip(abs_values, rel_values)]\n",
    "\n",
    "ax.bar_label(container=ax.containers[0], labels=lbls)#, fontsize = 14)\n",
    "\n",
    "ax.set_xlabel('Class Label', fontsize = 14)\n",
    "ax.set_ylabel('Count of data points', fontsize = 14)\n",
    "ax.set_title('Distribution of data between attack classes after Cleaning the data', fontsize = 20)\n",
    "plt.tight_layout()\n",
    "# plt.ylim((0,250000))\n",
    "plt.yticks([]) \n",
    "plt.show()\n",
    "\n"
   ]
  },
  {
   "cell_type": "code",
   "execution_count": 206,
   "metadata": {
    "colab": {
     "base_uri": "https://localhost:8080/",
     "height": 607
    },
    "id": "_n7kxEiMR2iB",
    "outputId": "8a4b4d91-aeef-4958-a807-3158a1c6bf97"
   },
   "outputs": [
    {
     "data": {
      "image/png": "[encoded data removed]",
      "text/plain": [
       "<Figure size 1400x600 with 1 Axes>"
      ]
     },
     "metadata": {},
     "output_type": "display_data"
    }
   ],
   "source": [
    "# fig = plt.figure(figsize=(14,5))\n",
    "# sns.set_style(\"whitegrid\")\n",
    "# plt.style.use('seaborn')\n",
    "plt.style.use('ggplot')\n",
    "fig, ax = plt.subplots(figsize=(14,6))\n",
    "\n",
    "ax = sns.countplot(\n",
    "    data=train,\n",
    "    x = \"attack_cat\",\n",
    "    palette='rainbow',\n",
    "    order = train[\"attack_cat\"].value_counts().index)\n",
    "\n",
    "\n",
    "        \n",
    "abs_values = train[\"attack_cat\"].value_counts(ascending=False)\n",
    "rel_values = train[\"attack_cat\"].value_counts(ascending=False, normalize=True).values * 100\n",
    "lbls = [f'{p[0]:,} ({p[1]:.2f}%)' for p in zip(abs_values, rel_values)]\n",
    "\n",
    "ax.bar_label(container=ax.containers[0], labels=lbls)#, fontsize = 14)\n",
    "\n",
    "ax.set_xlabel('Class Label', fontsize = 14)\n",
    "ax.set_ylabel('Count of data points', fontsize = 14)\n",
    "ax.set_title('Distribution of data between attack classes after Cleaning the data', fontsize = 20)\n",
    "plt.tight_layout()\n",
    "plt.ylim((0,250000))\n",
    "plt.yticks([]) \n",
    "plt.show()\n",
    "\n"
   ]
  },
  {
   "cell_type": "code",
   "execution_count": 211,
   "metadata": {
    "colab": {
     "base_uri": "https://localhost:8080/",
     "height": 236
    },
    "id": "YROdAovhWXzL",
    "outputId": "c87e68ce-de3d-42de-ddf2-051714464cb4"
   },
   "outputs": [
    {
     "data": {
      "text/html": [
       "\n",
       "  <div id=\"df-2d03329e-c4cf-495b-a9af-7cefe2f5fdd4\">\n",
       "    <div class=\"colab-df-container\">\n",
       "      <div>\n",
       "<style scoped>\n",
       "    .dataframe tbody tr th:only-of-type {\n",
       "        vertical-align: middle;\n",
       "    }\n",
       "\n",
       "    .dataframe tbody tr th {\n",
       "        vertical-align: top;\n",
       "    }\n",
       "\n",
       "    .dataframe thead th {\n",
       "        text-align: right;\n",
       "    }\n",
       "</style>\n",
       "<table border=\"1\" class=\"dataframe\">\n",
       "  <thead>\n",
       "    <tr style=\"text-align: right;\">\n",
       "      <th></th>\n",
       "      <th>sport</th>\n",
       "      <th>dsport</th>\n",
       "      <th>dur</th>\n",
       "      <th>sbytes</th>\n",
       "      <th>dbytes</th>\n",
       "      <th>sttl</th>\n",
       "      <th>dttl</th>\n",
       "      <th>sload</th>\n",
       "      <th>spkts</th>\n",
       "      <th>stcpb</th>\n",
       "      <th>...</th>\n",
       "      <th>res_bdy_len</th>\n",
       "      <th>sjit</th>\n",
       "      <th>djit</th>\n",
       "      <th>sintpkt</th>\n",
       "      <th>dintpkt</th>\n",
       "      <th>tcprtt</th>\n",
       "      <th>ct_srv_src</th>\n",
       "      <th>ct_src_ltm</th>\n",
       "      <th>ct_dst_sport_ltm</th>\n",
       "      <th>attack_cat_code</th>\n",
       "    </tr>\n",
       "  </thead>\n",
       "  <tbody>\n",
       "    <tr>\n",
       "      <th>646493</th>\n",
       "      <td>1043</td>\n",
       "      <td>53</td>\n",
       "      <td>0.000005</td>\n",
       "      <td>264</td>\n",
       "      <td>0</td>\n",
       "      <td>60</td>\n",
       "      <td>0</td>\n",
       "      <td>2.112000e+08</td>\n",
       "      <td>2</td>\n",
       "      <td>0</td>\n",
       "      <td>...</td>\n",
       "      <td>0</td>\n",
       "      <td>0.000000</td>\n",
       "      <td>0.000000</td>\n",
       "      <td>0.005000</td>\n",
       "      <td>0.000000</td>\n",
       "      <td>0.000000</td>\n",
       "      <td>23</td>\n",
       "      <td>23</td>\n",
       "      <td>23</td>\n",
       "      <td>0</td>\n",
       "    </tr>\n",
       "    <tr>\n",
       "      <th>238748</th>\n",
       "      <td>47439</td>\n",
       "      <td>53</td>\n",
       "      <td>0.000006</td>\n",
       "      <td>114</td>\n",
       "      <td>0</td>\n",
       "      <td>254</td>\n",
       "      <td>0</td>\n",
       "      <td>7.600000e+07</td>\n",
       "      <td>2</td>\n",
       "      <td>0</td>\n",
       "      <td>...</td>\n",
       "      <td>0</td>\n",
       "      <td>0.000000</td>\n",
       "      <td>0.000000</td>\n",
       "      <td>0.006000</td>\n",
       "      <td>0.000000</td>\n",
       "      <td>0.000000</td>\n",
       "      <td>51</td>\n",
       "      <td>40</td>\n",
       "      <td>18</td>\n",
       "      <td>1</td>\n",
       "    </tr>\n",
       "    <tr>\n",
       "      <th>667993</th>\n",
       "      <td>54472</td>\n",
       "      <td>53</td>\n",
       "      <td>0.001060</td>\n",
       "      <td>146</td>\n",
       "      <td>178</td>\n",
       "      <td>31</td>\n",
       "      <td>29</td>\n",
       "      <td>5.509434e+05</td>\n",
       "      <td>2</td>\n",
       "      <td>0</td>\n",
       "      <td>...</td>\n",
       "      <td>0</td>\n",
       "      <td>0.000000</td>\n",
       "      <td>0.000000</td>\n",
       "      <td>0.010000</td>\n",
       "      <td>0.006000</td>\n",
       "      <td>0.000000</td>\n",
       "      <td>4</td>\n",
       "      <td>5</td>\n",
       "      <td>1</td>\n",
       "      <td>0</td>\n",
       "    </tr>\n",
       "    <tr>\n",
       "      <th>11487</th>\n",
       "      <td>1043</td>\n",
       "      <td>53</td>\n",
       "      <td>0.000007</td>\n",
       "      <td>114</td>\n",
       "      <td>0</td>\n",
       "      <td>254</td>\n",
       "      <td>0</td>\n",
       "      <td>6.514286e+07</td>\n",
       "      <td>2</td>\n",
       "      <td>0</td>\n",
       "      <td>...</td>\n",
       "      <td>0</td>\n",
       "      <td>0.000000</td>\n",
       "      <td>0.000000</td>\n",
       "      <td>0.007000</td>\n",
       "      <td>0.000000</td>\n",
       "      <td>0.000000</td>\n",
       "      <td>25</td>\n",
       "      <td>25</td>\n",
       "      <td>25</td>\n",
       "      <td>1</td>\n",
       "    </tr>\n",
       "    <tr>\n",
       "      <th>264082</th>\n",
       "      <td>62795</td>\n",
       "      <td>5190</td>\n",
       "      <td>0.006134</td>\n",
       "      <td>1920</td>\n",
       "      <td>4312</td>\n",
       "      <td>31</td>\n",
       "      <td>29</td>\n",
       "      <td>2.390610e+06</td>\n",
       "      <td>22</td>\n",
       "      <td>3198205079</td>\n",
       "      <td>...</td>\n",
       "      <td>0</td>\n",
       "      <td>17.042793</td>\n",
       "      <td>13.784042</td>\n",
       "      <td>0.275381</td>\n",
       "      <td>0.238696</td>\n",
       "      <td>0.000808</td>\n",
       "      <td>5</td>\n",
       "      <td>3</td>\n",
       "      <td>1</td>\n",
       "      <td>0</td>\n",
       "    </tr>\n",
       "  </tbody>\n",
       "</table>\n",
       "<p>5 rows × 23 columns</p>\n",
       "</div>\n",
       "      <button class=\"colab-df-convert\" onclick=\"convertToInteractive('df-2d03329e-c4cf-495b-a9af-7cefe2f5fdd4')\"\n",
       "              title=\"Convert this dataframe to an interactive table.\"\n",
       "              style=\"display:none;\">\n",
       "        \n",
       "  <svg xmlns=\"http://www.w3.org/2000/svg\" height=\"24px\"viewBox=\"0 0 24 24\"\n",
       "       width=\"24px\">\n",
       "    <path d=\"M0 0h24v24H0V0z\" fill=\"none\"/>\n",
       "    <path d=\"M18.56 5.44l.94 2.06.94-2.06 2.06-.94-2.06-.94-.94-2.06-.94 2.06-2.06.94zm-11 1L8.5 8.5l.94-2.06 2.06-.94-2.06-.94L8.5 2.5l-.94 2.06-2.06.94zm10 10l.94 2.06.94-2.06 2.06-.94-2.06-.94-.94-2.06-.94 2.06-2.06.94z\"/><path d=\"M17.41 7.96l-1.37-1.37c-.4-.4-.92-.59-1.43-.59-.52 0-1.04.2-1.43.59L10.3 9.45l-7.72 7.72c-.78.78-.78 2.05 0 2.83L4 21.41c.39.39.9.59 1.41.59.51 0 1.02-.2 1.41-.59l7.78-7.78 2.81-2.81c.8-.78.8-2.07 0-2.86zM5.41 20L4 18.59l7.72-7.72 1.47 1.35L5.41 20z\"/>\n",
       "  </svg>\n",
       "      </button>\n",
       "      \n",
       "  <style>\n",
       "    .colab-df-container {\n",
       "      display:flex;\n",
       "      flex-wrap:wrap;\n",
       "      gap: 12px;\n",
       "    }\n",
       "\n",
       "    .colab-df-convert {\n",
       "      background-color: #E8F0FE;\n",
       "      border: none;\n",
       "      border-radius: 50%;\n",
       "      cursor: pointer;\n",
       "      display: none;\n",
       "      fill: #1967D2;\n",
       "      height: 32px;\n",
       "      padding: 0 0 0 0;\n",
       "      width: 32px;\n",
       "    }\n",
       "\n",
       "    .colab-df-convert:hover {\n",
       "      background-color: #E2EBFA;\n",
       "      box-shadow: 0px 1px 2px rgba(60, 64, 67, 0.3), 0px 1px 3px 1px rgba(60, 64, 67, 0.15);\n",
       "      fill: #174EA6;\n",
       "    }\n",
       "\n",
       "    [theme=dark] .colab-df-convert {\n",
       "      background-color: #3B4455;\n",
       "      fill: #D2E3FC;\n",
       "    }\n",
       "\n",
       "    [theme=dark] .colab-df-convert:hover {\n",
       "      background-color: #434B5C;\n",
       "      box-shadow: 0px 1px 3px 1px rgba(0, 0, 0, 0.15);\n",
       "      filter: drop-shadow(0px 1px 2px rgba(0, 0, 0, 0.3));\n",
       "      fill: #FFFFFF;\n",
       "    }\n",
       "  </style>\n",
       "\n",
       "      <script>\n",
       "        const buttonEl =\n",
       "          document.querySelector('#df-2d03329e-c4cf-495b-a9af-7cefe2f5fdd4 button.colab-df-convert');\n",
       "        buttonEl.style.display =\n",
       "          google.colab.kernel.accessAllowed ? 'block' : 'none';\n",
       "\n",
       "        async function convertToInteractive(key) {\n",
       "          const element = document.querySelector('#df-2d03329e-c4cf-495b-a9af-7cefe2f5fdd4');\n",
       "          const dataTable =\n",
       "            await google.colab.kernel.invokeFunction('convertToInteractive',\n",
       "                                                     [key], {});\n",
       "          if (!dataTable) return;\n",
       "\n",
       "          const docLinkHtml = 'Like what you see? Visit the ' +\n",
       "            '<a target=\"_blank\" href=https://colab.research.google.com/notebooks/data_table.ipynb>data table notebook</a>'\n",
       "            + ' to learn more about interactive tables.';\n",
       "          element.innerHTML = '';\n",
       "          dataTable['output_type'] = 'display_data';\n",
       "          await google.colab.output.renderOutput(dataTable, element);\n",
       "          const docLink = document.createElement('div');\n",
       "          docLink.innerHTML = docLinkHtml;\n",
       "          element.appendChild(docLink);\n",
       "        }\n",
       "      </script>\n",
       "    </div>\n",
       "  </div>\n",
       "  "
      ],
      "text/plain": [
       "        sport  dsport       dur  sbytes  dbytes  sttl  dttl         sload  \\\n",
       "646493   1043      53  0.000005     264       0    60     0  2.112000e+08   \n",
       "238748  47439      53  0.000006     114       0   254     0  7.600000e+07   \n",
       "667993  54472      53  0.001060     146     178    31    29  5.509434e+05   \n",
       "11487    1043      53  0.000007     114       0   254     0  6.514286e+07   \n",
       "264082  62795    5190  0.006134    1920    4312    31    29  2.390610e+06   \n",
       "\n",
       "        spkts       stcpb  ...  res_bdy_len       sjit       djit   sintpkt  \\\n",
       "646493      2           0  ...            0   0.000000   0.000000  0.005000   \n",
       "238748      2           0  ...            0   0.000000   0.000000  0.006000   \n",
       "667993      2           0  ...            0   0.000000   0.000000  0.010000   \n",
       "11487       2           0  ...            0   0.000000   0.000000  0.007000   \n",
       "264082     22  3198205079  ...            0  17.042793  13.784042  0.275381   \n",
       "\n",
       "         dintpkt    tcprtt  ct_srv_src  ct_src_ltm  ct_dst_sport_ltm  \\\n",
       "646493  0.000000  0.000000          23          23                23   \n",
       "238748  0.000000  0.000000          51          40                18   \n",
       "667993  0.006000  0.000000           4           5                 1   \n",
       "11487   0.000000  0.000000          25          25                25   \n",
       "264082  0.238696  0.000808           5           3                 1   \n",
       "\n",
       "        attack_cat_code  \n",
       "646493                0  \n",
       "238748                1  \n",
       "667993                0  \n",
       "11487                 1  \n",
       "264082                0  \n",
       "\n",
       "[5 rows x 23 columns]"
      ]
     },
     "execution_count": 211,
     "metadata": {},
     "output_type": "execute_result"
    }
   ],
   "source": [
    "train = train.drop('attack_cat', axis = 1)\n",
    "train.head()"
   ]
  },
  {
   "cell_type": "code",
   "execution_count": 245,
   "metadata": {
    "colab": {
     "base_uri": "https://localhost:8080/"
    },
    "id": "ptXxL0DQSORO",
    "outputId": "fe2e5551-07e4-49a6-a18f-5be7c6da8646"
   },
   "outputs": [
    {
     "name": "stdout",
     "output_type": "stream",
     "text": [
      "sport              range: 65535                mean: 30530.44762814449      std: 20441.45801137486    mean/std: 0.67\n",
      "dsport             range: 65535                mean: 11225.879235158474     std: 18427.736266711414   mean/std: 1.64\n",
      "dur                range: 8786.6376953125      mean: 0.6549458503723145     std: 12.43690299987793    mean/std: 18.99\n",
      "sbytes             range: 13677393             mean: 4320.5553999631275     std: 54964.407897604106   mean/std: 12.72\n",
      "dbytes             range: 14655417             mean: 36479.25526572027      std: 161161.44282950024   mean/std: 4.42\n",
      "sttl               range: 255                  mean: 62.790761793499456     std: 74.63929615720242    mean/std: 1.19\n",
      "dttl               range: 254                  mean: 30.77823014359076      std: 42.86910052117805    mean/std: 1.39\n",
      "sload              range: 5988000256.0         mean: 36933676.0             std: 118325104.0          mean/std: 3.20\n",
      "spkts              range: 10200                mean: 33.2854207990276       std: 75.74173720734389    mean/std: 2.28\n",
      "stcpb              range: 4294958913           mean: 1262421367.6121535     std: 1422305713.3040824   mean/std: 1.13\n",
      "smeansz            range: 1504                 mean: 124.29601987053763     std: 151.94381908169512   mean/std: 1.22\n",
      "dmeansz            range: 1500                 mean: 276.7278450639113      std: 335.6875908813672    mean/std: 1.21\n",
      "trans_depth        range: 172                  mean: 0.08338390215928115    std: 0.331499225660259    mean/std: 3.98\n",
      "res_bdy_len        range: 6558056              mean: 4243.794533378667      std: 47462.78530631164    mean/std: 11.18\n",
      "sjit               range: 1483830.875          mean: 1593.7066650390625     std: 16934.4765625        mean/std: 10.63\n",
      "djit               range: 781221.125           mean: 730.751708984375       std: 3273.253173828125    mean/std: 4.48\n",
      "sintpkt            range: 84371.4921875        mean: 193.93649291992188     std: 2787.61376953125     mean/std: 14.37\n",
      "dintpkt            range: 59485.3203125        mean: 79.35072326660156      std: 1442.1893310546875   mean/std: 18.17\n",
      "tcprtt             range: 10.037506103515625   mean: 0.0061800237745046616  std: 0.04612644761800766  mean/std: 7.46\n",
      "ct_srv_src         range: 66                   mean: 9.204898243169502      std: 10.83367045652567    mean/std: 1.18\n",
      "ct_src_ltm         range: 66                   mean: 6.901112390643949      std: 8.206115787917625    mean/std: 1.19\n",
      "ct_dst_sport_ltm   range: 59                   mean: 3.5919341255731263     std: 6.172939259099901    mean/std: 1.72\n",
      "attack_cat_code    range: 9                    mean: 0.2199567902893031     std: 0.7481384747491813   mean/std: 3.40\n"
     ]
    }
   ],
   "source": [
    "for col in train.columns:\n",
    "  c_name = col\n",
    "  f_range = train[col].max() - train[col].min()\n",
    "  mean_ = train[col].mean()\n",
    "  std_ = train[col].std()\n",
    "  # dtype_ = train[col].dtype\n",
    "  print(f'{c_name:<18} range: {f_range:<20} mean: {mean_:<22} std: {std_:<20} mean/std: {std_/mean_:.2f}')"
   ]
  },
  {
   "cell_type": "markdown",
   "metadata": {
    "id": "VLmLWhvFa_uY"
   },
   "source": [
    "\n",
    "columns with ration of mean to std above 2:\n",
    "\n",
    "* dur\n",
    "* sbytes - nominal\n",
    "* dbytes - nominal\n",
    "* sload\n",
    "* spkts\n",
    "* trans_depth\n",
    "* res_bdy_len\n",
    "* sjit\n",
    "* djit\n",
    "* sintpkt\n",
    "* dintpkt\n",
    "* tcprtt\n"
   ]
  },
  {
   "cell_type": "code",
   "execution_count": 253,
   "metadata": {
    "colab": {
     "base_uri": "https://localhost:8080/"
    },
    "id": "zOXyz6Ueem58",
    "outputId": "e8f0d6f3-10de-4900-ac34-91ffa515ad27"
   },
   "outputs": [
    {
     "data": {
      "text/plain": [
       "Index(['sport', 'dsport', 'dur', 'sbytes', 'dbytes', 'sttl', 'dttl', 'sload',\n",
       "       'spkts', 'stcpb', 'smeansz', 'dmeansz', 'trans_depth', 'res_bdy_len',\n",
       "       'sjit', 'djit', 'sintpkt', 'dintpkt', 'tcprtt', 'ct_srv_src',\n",
       "       'ct_src_ltm', 'ct_dst_sport_ltm', 'attack_cat_code'],\n",
       "      dtype='object')"
      ]
     },
     "execution_count": 253,
     "metadata": {},
     "output_type": "execute_result"
    }
   ],
   "source": [
    "train.columns"
   ]
  },
  {
   "cell_type": "code",
   "execution_count": 254,
   "metadata": {
    "colab": {
     "base_uri": "https://localhost:8080/",
     "height": 300
    },
    "id": "vFhtH2-YYhed",
    "outputId": "83dee3f8-c0f2-4f79-da5c-7157aa5baad9"
   },
   "outputs": [
    {
     "data": {
      "text/html": [
       "\n",
       "  <div id=\"df-dafe334e-21e3-4abf-9d11-4d87390cbc53\">\n",
       "    <div class=\"colab-df-container\">\n",
       "      <div>\n",
       "<style scoped>\n",
       "    .dataframe tbody tr th:only-of-type {\n",
       "        vertical-align: middle;\n",
       "    }\n",
       "\n",
       "    .dataframe tbody tr th {\n",
       "        vertical-align: top;\n",
       "    }\n",
       "\n",
       "    .dataframe thead th {\n",
       "        text-align: right;\n",
       "    }\n",
       "</style>\n",
       "<table border=\"1\" class=\"dataframe\">\n",
       "  <thead>\n",
       "    <tr style=\"text-align: right;\">\n",
       "      <th></th>\n",
       "      <th>dur</th>\n",
       "      <th>sload</th>\n",
       "      <th>spkts</th>\n",
       "      <th>trans_depth</th>\n",
       "      <th>res_bdy_len</th>\n",
       "      <th>sjit</th>\n",
       "      <th>djit</th>\n",
       "      <th>sintpkt</th>\n",
       "      <th>dintpkt</th>\n",
       "      <th>tcprtt</th>\n",
       "    </tr>\n",
       "  </thead>\n",
       "  <tbody>\n",
       "    <tr>\n",
       "      <th>count</th>\n",
       "      <td>2.158774e+06</td>\n",
       "      <td>2.158774e+06</td>\n",
       "      <td>2.158774e+06</td>\n",
       "      <td>2.158774e+06</td>\n",
       "      <td>2.158774e+06</td>\n",
       "      <td>2.158774e+06</td>\n",
       "      <td>2.158774e+06</td>\n",
       "      <td>2.158774e+06</td>\n",
       "      <td>2.158774e+06</td>\n",
       "      <td>2.158774e+06</td>\n",
       "    </tr>\n",
       "    <tr>\n",
       "      <th>mean</th>\n",
       "      <td>6.549459e-01</td>\n",
       "      <td>3.693368e+07</td>\n",
       "      <td>3.328542e+01</td>\n",
       "      <td>8.338390e-02</td>\n",
       "      <td>4.243795e+03</td>\n",
       "      <td>1.593707e+03</td>\n",
       "      <td>7.307517e+02</td>\n",
       "      <td>1.939365e+02</td>\n",
       "      <td>7.935072e+01</td>\n",
       "      <td>6.180024e-03</td>\n",
       "    </tr>\n",
       "    <tr>\n",
       "      <th>std</th>\n",
       "      <td>1.243690e+01</td>\n",
       "      <td>1.183251e+08</td>\n",
       "      <td>7.574174e+01</td>\n",
       "      <td>3.314992e-01</td>\n",
       "      <td>4.746279e+04</td>\n",
       "      <td>1.693448e+04</td>\n",
       "      <td>3.273253e+03</td>\n",
       "      <td>2.787614e+03</td>\n",
       "      <td>1.442189e+03</td>\n",
       "      <td>4.612645e-02</td>\n",
       "    </tr>\n",
       "    <tr>\n",
       "      <th>min</th>\n",
       "      <td>0.000000e+00</td>\n",
       "      <td>0.000000e+00</td>\n",
       "      <td>0.000000e+00</td>\n",
       "      <td>0.000000e+00</td>\n",
       "      <td>0.000000e+00</td>\n",
       "      <td>0.000000e+00</td>\n",
       "      <td>0.000000e+00</td>\n",
       "      <td>0.000000e+00</td>\n",
       "      <td>0.000000e+00</td>\n",
       "      <td>0.000000e+00</td>\n",
       "    </tr>\n",
       "    <tr>\n",
       "      <th>25%</th>\n",
       "      <td>1.037000e-03</td>\n",
       "      <td>1.345404e+05</td>\n",
       "      <td>2.000000e+00</td>\n",
       "      <td>0.000000e+00</td>\n",
       "      <td>0.000000e+00</td>\n",
       "      <td>0.000000e+00</td>\n",
       "      <td>0.000000e+00</td>\n",
       "      <td>9.000000e-03</td>\n",
       "      <td>6.000000e-03</td>\n",
       "      <td>0.000000e+00</td>\n",
       "    </tr>\n",
       "    <tr>\n",
       "      <th>50%</th>\n",
       "      <td>1.587100e-02</td>\n",
       "      <td>5.893038e+05</td>\n",
       "      <td>1.200000e+01</td>\n",
       "      <td>0.000000e+00</td>\n",
       "      <td>0.000000e+00</td>\n",
       "      <td>1.916203e+01</td>\n",
       "      <td>2.669062e+00</td>\n",
       "      <td>4.684970e-01</td>\n",
       "      <td>4.149020e-01</td>\n",
       "      <td>6.130000e-04</td>\n",
       "    </tr>\n",
       "    <tr>\n",
       "      <th>75%</th>\n",
       "      <td>2.161923e-01</td>\n",
       "      <td>2.038082e+06</td>\n",
       "      <td>4.400000e+01</td>\n",
       "      <td>0.000000e+00</td>\n",
       "      <td>0.000000e+00</td>\n",
       "      <td>4.161455e+02</td>\n",
       "      <td>6.365033e+01</td>\n",
       "      <td>7.401348e+00</td>\n",
       "      <td>6.224000e+00</td>\n",
       "      <td>7.020000e-04</td>\n",
       "    </tr>\n",
       "    <tr>\n",
       "      <th>max</th>\n",
       "      <td>8.786638e+03</td>\n",
       "      <td>5.988000e+09</td>\n",
       "      <td>1.020000e+04</td>\n",
       "      <td>1.720000e+02</td>\n",
       "      <td>6.558056e+06</td>\n",
       "      <td>1.483831e+06</td>\n",
       "      <td>7.812211e+05</td>\n",
       "      <td>8.437149e+04</td>\n",
       "      <td>5.948532e+04</td>\n",
       "      <td>1.003751e+01</td>\n",
       "    </tr>\n",
       "  </tbody>\n",
       "</table>\n",
       "</div>\n",
       "      <button class=\"colab-df-convert\" onclick=\"convertToInteractive('df-dafe334e-21e3-4abf-9d11-4d87390cbc53')\"\n",
       "              title=\"Convert this dataframe to an interactive table.\"\n",
       "              style=\"display:none;\">\n",
       "        \n",
       "  <svg xmlns=\"http://www.w3.org/2000/svg\" height=\"24px\"viewBox=\"0 0 24 24\"\n",
       "       width=\"24px\">\n",
       "    <path d=\"M0 0h24v24H0V0z\" fill=\"none\"/>\n",
       "    <path d=\"M18.56 5.44l.94 2.06.94-2.06 2.06-.94-2.06-.94-.94-2.06-.94 2.06-2.06.94zm-11 1L8.5 8.5l.94-2.06 2.06-.94-2.06-.94L8.5 2.5l-.94 2.06-2.06.94zm10 10l.94 2.06.94-2.06 2.06-.94-2.06-.94-.94-2.06-.94 2.06-2.06.94z\"/><path d=\"M17.41 7.96l-1.37-1.37c-.4-.4-.92-.59-1.43-.59-.52 0-1.04.2-1.43.59L10.3 9.45l-7.72 7.72c-.78.78-.78 2.05 0 2.83L4 21.41c.39.39.9.59 1.41.59.51 0 1.02-.2 1.41-.59l7.78-7.78 2.81-2.81c.8-.78.8-2.07 0-2.86zM5.41 20L4 18.59l7.72-7.72 1.47 1.35L5.41 20z\"/>\n",
       "  </svg>\n",
       "      </button>\n",
       "      \n",
       "  <style>\n",
       "    .colab-df-container {\n",
       "      display:flex;\n",
       "      flex-wrap:wrap;\n",
       "      gap: 12px;\n",
       "    }\n",
       "\n",
       "    .colab-df-convert {\n",
       "      background-color: #E8F0FE;\n",
       "      border: none;\n",
       "      border-radius: 50%;\n",
       "      cursor: pointer;\n",
       "      display: none;\n",
       "      fill: #1967D2;\n",
       "      height: 32px;\n",
       "      padding: 0 0 0 0;\n",
       "      width: 32px;\n",
       "    }\n",
       "\n",
       "    .colab-df-convert:hover {\n",
       "      background-color: #E2EBFA;\n",
       "      box-shadow: 0px 1px 2px rgba(60, 64, 67, 0.3), 0px 1px 3px 1px rgba(60, 64, 67, 0.15);\n",
       "      fill: #174EA6;\n",
       "    }\n",
       "\n",
       "    [theme=dark] .colab-df-convert {\n",
       "      background-color: #3B4455;\n",
       "      fill: #D2E3FC;\n",
       "    }\n",
       "\n",
       "    [theme=dark] .colab-df-convert:hover {\n",
       "      background-color: #434B5C;\n",
       "      box-shadow: 0px 1px 3px 1px rgba(0, 0, 0, 0.15);\n",
       "      filter: drop-shadow(0px 1px 2px rgba(0, 0, 0, 0.3));\n",
       "      fill: #FFFFFF;\n",
       "    }\n",
       "  </style>\n",
       "\n",
       "      <script>\n",
       "        const buttonEl =\n",
       "          document.querySelector('#df-dafe334e-21e3-4abf-9d11-4d87390cbc53 button.colab-df-convert');\n",
       "        buttonEl.style.display =\n",
       "          google.colab.kernel.accessAllowed ? 'block' : 'none';\n",
       "\n",
       "        async function convertToInteractive(key) {\n",
       "          const element = document.querySelector('#df-dafe334e-21e3-4abf-9d11-4d87390cbc53');\n",
       "          const dataTable =\n",
       "            await google.colab.kernel.invokeFunction('convertToInteractive',\n",
       "                                                     [key], {});\n",
       "          if (!dataTable) return;\n",
       "\n",
       "          const docLinkHtml = 'Like what you see? Visit the ' +\n",
       "            '<a target=\"_blank\" href=https://colab.research.google.com/notebooks/data_table.ipynb>data table notebook</a>'\n",
       "            + ' to learn more about interactive tables.';\n",
       "          element.innerHTML = '';\n",
       "          dataTable['output_type'] = 'display_data';\n",
       "          await google.colab.output.renderOutput(dataTable, element);\n",
       "          const docLink = document.createElement('div');\n",
       "          docLink.innerHTML = docLinkHtml;\n",
       "          element.appendChild(docLink);\n",
       "        }\n",
       "      </script>\n",
       "    </div>\n",
       "  </div>\n",
       "  "
      ],
      "text/plain": [
       "                dur         sload         spkts   trans_depth   res_bdy_len  \\\n",
       "count  2.158774e+06  2.158774e+06  2.158774e+06  2.158774e+06  2.158774e+06   \n",
       "mean   6.549459e-01  3.693368e+07  3.328542e+01  8.338390e-02  4.243795e+03   \n",
       "std    1.243690e+01  1.183251e+08  7.574174e+01  3.314992e-01  4.746279e+04   \n",
       "min    0.000000e+00  0.000000e+00  0.000000e+00  0.000000e+00  0.000000e+00   \n",
       "25%    1.037000e-03  1.345404e+05  2.000000e+00  0.000000e+00  0.000000e+00   \n",
       "50%    1.587100e-02  5.893038e+05  1.200000e+01  0.000000e+00  0.000000e+00   \n",
       "75%    2.161923e-01  2.038082e+06  4.400000e+01  0.000000e+00  0.000000e+00   \n",
       "max    8.786638e+03  5.988000e+09  1.020000e+04  1.720000e+02  6.558056e+06   \n",
       "\n",
       "               sjit          djit       sintpkt       dintpkt        tcprtt  \n",
       "count  2.158774e+06  2.158774e+06  2.158774e+06  2.158774e+06  2.158774e+06  \n",
       "mean   1.593707e+03  7.307517e+02  1.939365e+02  7.935072e+01  6.180024e-03  \n",
       "std    1.693448e+04  3.273253e+03  2.787614e+03  1.442189e+03  4.612645e-02  \n",
       "min    0.000000e+00  0.000000e+00  0.000000e+00  0.000000e+00  0.000000e+00  \n",
       "25%    0.000000e+00  0.000000e+00  9.000000e-03  6.000000e-03  0.000000e+00  \n",
       "50%    1.916203e+01  2.669062e+00  4.684970e-01  4.149020e-01  6.130000e-04  \n",
       "75%    4.161455e+02  6.365033e+01  7.401348e+00  6.224000e+00  7.020000e-04  \n",
       "max    1.483831e+06  7.812211e+05  8.437149e+04  5.948532e+04  1.003751e+01  "
      ]
     },
     "execution_count": 254,
     "metadata": {},
     "output_type": "execute_result"
    }
   ],
   "source": [
    "train[['dur', \n",
    "       'sload',\n",
    "       'spkts',\n",
    "       'trans_depth',\n",
    "       'res_bdy_len',\n",
    "       'sjit',\n",
    "       'djit',\n",
    "       'sintpkt',\n",
    "       'dintpkt',\n",
    "       'tcprtt']].describe()\n",
    "\n",
    "# Confirming that all of these columns have standard deviations that are significantly higher than the means so they could be candidates for log transformation"
   ]
  },
  {
   "cell_type": "code",
   "execution_count": null,
   "metadata": {
    "id": "zr9ltYfkW00k"
   },
   "outputs": [],
   "source": []
  }
 ],
 "metadata": {
  "colab": {
   "machine_shape": "hm",
   "provenance": []
  },
  "gpuClass": "standard",
  "kernelspec": {
   "display_name": "Python 3 (ipykernel)",
   "language": "python",
   "name": "python3"
  },
  "language_info": {
   "codemirror_mode": {
    "name": "ipython",
    "version": 3
   },
   "file_extension": ".py",
   "mimetype": "text/x-python",
   "name": "python",
   "nbconvert_exporter": "python",
   "pygments_lexer": "ipython3",
   "version": "3.9.10"
  }
 },
 "nbformat": 4,
 "nbformat_minor": 1
}
