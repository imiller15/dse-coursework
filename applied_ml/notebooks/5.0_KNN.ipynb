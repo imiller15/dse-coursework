{
 "cells": [
  {
   "cell_type": "code",
   "execution_count": 1,
   "id": "3d05c734",
   "metadata": {},
   "outputs": [],
   "source": [
    "import math\n",
    "import numpy as np\n",
    "import pandas as pd\n",
    "import seaborn as sns\n",
    "import matplotlib.pyplot as plt\n",
    "from numpy import interp\n",
    "\n",
    "from sklearn.model_selection import train_test_split\n",
    "from sklearn.pipeline import make_pipeline\n",
    "from sklearn.preprocessing import MinMaxScaler\n",
    "from sklearn.model_selection import GridSearchCV\n",
    "from sklearn.neighbors import KNeighborsClassifier as KNN\n",
    "\n",
    "from sklearn.metrics import confusion_matrix\n",
    "from sklearn.model_selection import learning_curve\n",
    "from sklearn.model_selection import validation_curve\n",
    "from sklearn.model_selection import cross_val_score, StratifiedKFold\n",
    "from sklearn.metrics import confusion_matrix, ConfusionMatrixDisplay\n",
    "from sklearn.metrics import precision_score, recall_score, f1_score, accuracy_score, classification_report\n",
    "from sklearn.metrics import roc_curve, auc\n",
    "\n",
    "from sklearn.dummy import DummyClassifier"
   ]
  },
  {
   "cell_type": "markdown",
   "id": "4d5ec9ba",
   "metadata": {},
   "source": [
    "# Load data"
   ]
  },
  {
   "cell_type": "code",
   "execution_count": 2,
   "id": "0cb35c1b",
   "metadata": {},
   "outputs": [],
   "source": [
    "emotion_labels = {0:'angry', 1:'disgust', 2:'fear', 3:'happy', 4:'sad', 5:'surprise', 6:'neutral'}\n",
    "target_labels = [val for key, val in emotion_labels.items()]\n",
    "targets = [key for key, val in emotion_labels.items()]"
   ]
  },
  {
   "cell_type": "code",
   "execution_count": 3,
   "id": "53e05b0d",
   "metadata": {},
   "outputs": [],
   "source": [
    "def load_data(df, data_type):\n",
    "    \"\"\"Load data from DataFrame and return data to list \n",
    "    \"\"\"\n",
    "    image_data = []\n",
    "    image_scaled = []\n",
    "    \n",
    "    for index, row in df.iterrows():\n",
    "        if data_type == 1:\n",
    "            field = row.pca\n",
    "        elif data_type == 2:\n",
    "            field = row.histogram\n",
    "        elif data_type == 3:\n",
    "            field = row.hog\n",
    "        elif data_type == 4:\n",
    "            field = row.lda\n",
    "        else:\n",
    "            field = row.pixels\n",
    "        image = np.fromstring(field, sep=' ')\n",
    "        image_data.append(image)\n",
    "        if data_type == 0:\n",
    "            scale = image / 255.0\n",
    "            image_scaled.append(scale)\n",
    "        \n",
    "    return image_data, image_scaled"
   ]
  },
  {
   "cell_type": "markdown",
   "id": "6d7bab95",
   "metadata": {},
   "source": [
    "# Grid Search with PCA data"
   ]
  },
  {
   "cell_type": "markdown",
   "id": "580cbd6c",
   "metadata": {},
   "source": [
    "Find out the good tuning for hyper parameter with PCA data because it takes long time to get result with original data."
   ]
  },
  {
   "cell_type": "code",
   "execution_count": 4,
   "id": "91d89dae",
   "metadata": {},
   "outputs": [
    {
     "data": {
      "text/html": [
       "<div>\n",
       "<style scoped>\n",
       "    .dataframe tbody tr th:only-of-type {\n",
       "        vertical-align: middle;\n",
       "    }\n",
       "\n",
       "    .dataframe tbody tr th {\n",
       "        vertical-align: top;\n",
       "    }\n",
       "\n",
       "    .dataframe thead th {\n",
       "        text-align: right;\n",
       "    }\n",
       "</style>\n",
       "<table border=\"1\" class=\"dataframe\">\n",
       "  <thead>\n",
       "    <tr style=\"text-align: right;\">\n",
       "      <th></th>\n",
       "      <th>usage</th>\n",
       "      <th>emotion</th>\n",
       "      <th>pca</th>\n",
       "    </tr>\n",
       "  </thead>\n",
       "  <tbody>\n",
       "    <tr>\n",
       "      <th>0</th>\n",
       "      <td>train</td>\n",
       "      <td>3</td>\n",
       "      <td>-0.45897132584662165 0.9620935463883798 -0.557...</td>\n",
       "    </tr>\n",
       "    <tr>\n",
       "      <th>1</th>\n",
       "      <td>train</td>\n",
       "      <td>3</td>\n",
       "      <td>0.49198604184990036 -1.0021801630235379 0.2740...</td>\n",
       "    </tr>\n",
       "    <tr>\n",
       "      <th>2</th>\n",
       "      <td>train</td>\n",
       "      <td>3</td>\n",
       "      <td>-0.941950107657087 1.4385249489843865 0.293738...</td>\n",
       "    </tr>\n",
       "    <tr>\n",
       "      <th>3</th>\n",
       "      <td>train</td>\n",
       "      <td>3</td>\n",
       "      <td>-1.2800578618783163 0.23932335345426428 0.4704...</td>\n",
       "    </tr>\n",
       "    <tr>\n",
       "      <th>4</th>\n",
       "      <td>train</td>\n",
       "      <td>3</td>\n",
       "      <td>0.10681625087573664 -0.7089926999517346 0.3826...</td>\n",
       "    </tr>\n",
       "  </tbody>\n",
       "</table>\n",
       "</div>"
      ],
      "text/plain": [
       "   usage  emotion                                                pca\n",
       "0  train        3  -0.45897132584662165 0.9620935463883798 -0.557...\n",
       "1  train        3  0.49198604184990036 -1.0021801630235379 0.2740...\n",
       "2  train        3  -0.941950107657087 1.4385249489843865 0.293738...\n",
       "3  train        3  -1.2800578618783163 0.23932335345426428 0.4704...\n",
       "4  train        3  0.10681625087573664 -0.7089926999517346 0.3826..."
      ]
     },
     "execution_count": 4,
     "metadata": {},
     "output_type": "execute_result"
    }
   ],
   "source": [
    "df = pd.read_csv('../data/pca/fer_pca.csv')\n",
    "df.head()"
   ]
  },
  {
   "cell_type": "code",
   "execution_count": 5,
   "id": "dca26356",
   "metadata": {},
   "outputs": [],
   "source": [
    "df_train = df[df['usage']=='train']\n",
    "df_test = df[df['usage']=='test']\n",
    "train_data, train_scaled = load_data(df_train, 1)\n",
    "train_target = list(df_train.emotion)\n",
    "test_data, test_scaled = load_data(df_test, 1)\n",
    "test_target = list(df_test.emotion)"
   ]
  },
  {
   "cell_type": "code",
   "execution_count": 6,
   "id": "a0866018",
   "metadata": {},
   "outputs": [],
   "source": [
    "X_train = np.array(train_data)\n",
    "y_train = np.array(train_target)\n",
    "X_test = np.array(test_data)\n",
    "y_test = np.array(test_target)"
   ]
  },
  {
   "cell_type": "code",
   "execution_count": 7,
   "id": "5954d53a",
   "metadata": {},
   "outputs": [
    {
     "name": "stdout",
     "output_type": "stream",
     "text": [
      "(31432, 103)\n",
      "(31432,)\n",
      "(7896, 103)\n",
      "(7896,)\n"
     ]
    }
   ],
   "source": [
    "print(X_train.shape)\n",
    "print(y_train.shape)\n",
    "print(X_test.shape)\n",
    "print(y_test.shape)"
   ]
  },
  {
   "cell_type": "markdown",
   "id": "dd401d0a",
   "metadata": {},
   "source": [
    "## Find out which hyper parameters are best"
   ]
  },
  {
   "cell_type": "code",
   "execution_count": 8,
   "id": "0462facd",
   "metadata": {},
   "outputs": [],
   "source": [
    "param_grid = [{'n_neighbors': list(range(2,50)),\n",
    "               'weights': ['uniform', 'distance'], \n",
    "               'metric': ['minkowski', 'euclidean', 'manhattan']}]\n",
    "\n",
    "knn = KNN()\n",
    "\n",
    "gs = GridSearchCV(estimator=knn, \n",
    "                  param_grid=param_grid, \n",
    "                  scoring='accuracy', \n",
    "                  refit=True,\n",
    "                  cv=10,\n",
    "                  n_jobs=-1)\n",
    "clf = gs.fit(X_train, y_train)"
   ]
  },
  {
   "cell_type": "code",
   "execution_count": 9,
   "id": "82d8cb53",
   "metadata": {},
   "outputs": [
    {
     "name": "stdout",
     "output_type": "stream",
     "text": [
      "0.4439744729391782\n",
      "{'metric': 'minkowski', 'n_neighbors': 2, 'weights': 'distance'}\n",
      "Test accuracy: 0.461\n"
     ]
    }
   ],
   "source": [
    "print(clf.best_score_)\n",
    "print(clf.best_params_)\n",
    "result = clf.best_estimator_\n",
    "print('Test accuracy: %.3f' % result.score(X_test, y_test))"
   ]
  },
  {
   "cell_type": "markdown",
   "id": "bc6c5883",
   "metadata": {},
   "source": [
    "Following comparison use n_neighbors as 2, distance weights, and minkowski metric."
   ]
  },
  {
   "cell_type": "markdown",
   "id": "a3995d48",
   "metadata": {},
   "source": [
    "# KNN with original dataset"
   ]
  },
  {
   "cell_type": "code",
   "execution_count": 10,
   "id": "168fd43f",
   "metadata": {},
   "outputs": [
    {
     "data": {
      "text/html": [
       "<div>\n",
       "<style scoped>\n",
       "    .dataframe tbody tr th:only-of-type {\n",
       "        vertical-align: middle;\n",
       "    }\n",
       "\n",
       "    .dataframe tbody tr th {\n",
       "        vertical-align: top;\n",
       "    }\n",
       "\n",
       "    .dataframe thead th {\n",
       "        text-align: right;\n",
       "    }\n",
       "</style>\n",
       "<table border=\"1\" class=\"dataframe\">\n",
       "  <thead>\n",
       "    <tr style=\"text-align: right;\">\n",
       "      <th></th>\n",
       "      <th>usage</th>\n",
       "      <th>emotion</th>\n",
       "      <th>pixels</th>\n",
       "    </tr>\n",
       "  </thead>\n",
       "  <tbody>\n",
       "    <tr>\n",
       "      <th>0</th>\n",
       "      <td>train</td>\n",
       "      <td>3</td>\n",
       "      <td>108 83 63 65 89 111 121 121 125 111 103 105 11...</td>\n",
       "    </tr>\n",
       "    <tr>\n",
       "      <th>1</th>\n",
       "      <td>train</td>\n",
       "      <td>3</td>\n",
       "      <td>137 142 159 162 158 134 113 167 174 177 164 12...</td>\n",
       "    </tr>\n",
       "    <tr>\n",
       "      <th>2</th>\n",
       "      <td>train</td>\n",
       "      <td>3</td>\n",
       "      <td>111 148 155 167 181 191 194 193 195 199 203 20...</td>\n",
       "    </tr>\n",
       "    <tr>\n",
       "      <th>3</th>\n",
       "      <td>train</td>\n",
       "      <td>3</td>\n",
       "      <td>151 156 121 100 80 116 151 169 183 185 192 190...</td>\n",
       "    </tr>\n",
       "    <tr>\n",
       "      <th>4</th>\n",
       "      <td>train</td>\n",
       "      <td>3</td>\n",
       "      <td>248 187 149 130 97 140 139 117 197 251 231 255...</td>\n",
       "    </tr>\n",
       "  </tbody>\n",
       "</table>\n",
       "</div>"
      ],
      "text/plain": [
       "   usage  emotion                                             pixels\n",
       "0  train        3  108 83 63 65 89 111 121 121 125 111 103 105 11...\n",
       "1  train        3  137 142 159 162 158 134 113 167 174 177 164 12...\n",
       "2  train        3  111 148 155 167 181 191 194 193 195 199 203 20...\n",
       "3  train        3  151 156 121 100 80 116 151 169 183 185 192 190...\n",
       "4  train        3  248 187 149 130 97 140 139 117 197 251 231 255..."
      ]
     },
     "execution_count": 10,
     "metadata": {},
     "output_type": "execute_result"
    }
   ],
   "source": [
    "df = pd.read_csv('../data/fer_data.csv')\n",
    "df.head()"
   ]
  },
  {
   "cell_type": "code",
   "execution_count": 11,
   "id": "a4d49518",
   "metadata": {},
   "outputs": [],
   "source": [
    "df_train = df[df['usage']=='train']\n",
    "df_test = df[df['usage']=='test']\n",
    "train_data, train_scaled = load_data(df_train, 0)\n",
    "train_target = list(df_train.emotion)\n",
    "test_data, test_scaled = load_data(df_test, 0)\n",
    "test_target = list(df_test.emotion)"
   ]
  },
  {
   "cell_type": "code",
   "execution_count": 12,
   "id": "520a1c62",
   "metadata": {},
   "outputs": [],
   "source": [
    "X_train = np.array(train_data)\n",
    "y_train = np.array(train_target)\n",
    "X_test = np.array(test_data)\n",
    "y_test = np.array(test_target)"
   ]
  },
  {
   "cell_type": "code",
   "execution_count": 13,
   "id": "07bec56b",
   "metadata": {},
   "outputs": [
    {
     "name": "stdout",
     "output_type": "stream",
     "text": [
      "(31432, 2304)\n",
      "(31432,)\n",
      "(7896, 2304)\n",
      "(7896,)\n"
     ]
    }
   ],
   "source": [
    "print(X_train.shape)\n",
    "print(y_train.shape)\n",
    "print(X_test.shape)\n",
    "print(y_test.shape)"
   ]
  },
  {
   "cell_type": "code",
   "execution_count": 14,
   "id": "3df6b187",
   "metadata": {},
   "outputs": [
    {
     "name": "stdout",
     "output_type": "stream",
     "text": [
      "Train Accuracy: 0.998\n",
      "Test Accuracy: 0.463\n"
     ]
    }
   ],
   "source": [
    "knn = KNN(n_neighbors=2, weights='distance', metric='minkowski')\n",
    "knn.fit(X_train, y_train)\n",
    "y_pred = knn.predict(X_test)\n",
    "print('Train Accuracy: %.3f' % knn.score(X_train, y_train))\n",
    "print('Test Accuracy: %.3f' % knn.score(X_test, y_test))"
   ]
  },
  {
   "cell_type": "code",
   "execution_count": 15,
   "id": "a821e1ba",
   "metadata": {},
   "outputs": [],
   "source": [
    "orig_predictions = [y_pred]\n",
    "orig_actuals = [y_test]"
   ]
  },
  {
   "cell_type": "code",
   "execution_count": 16,
   "id": "efe821a4",
   "metadata": {},
   "outputs": [],
   "source": [
    "# Scaled data\n",
    "X_train = np.array(train_scaled)\n",
    "y_train = np.array(train_target)\n",
    "X_test = np.array(test_scaled)\n",
    "y_test = np.array(test_target)"
   ]
  },
  {
   "cell_type": "code",
   "execution_count": 17,
   "id": "d2912b5b",
   "metadata": {},
   "outputs": [
    {
     "name": "stdout",
     "output_type": "stream",
     "text": [
      "Train Accuracy: 1.000\n",
      "Test Accuracy: 0.463\n"
     ]
    }
   ],
   "source": [
    "knn = KNN(n_neighbors=2, weights='distance', metric='minkowski')\n",
    "knn.fit(X_train, y_train)\n",
    "y_pred = knn.predict(X_test)\n",
    "print('Train Accuracy: %.3f' % knn.score(X_train, y_train))\n",
    "print('Test Accuracy: %.3f' % knn.score(X_test, y_test))"
   ]
  },
  {
   "cell_type": "code",
   "execution_count": 18,
   "id": "b5e97564",
   "metadata": {},
   "outputs": [],
   "source": [
    "orig_predictions.append(y_pred)\n",
    "orig_actuals.append(y_test)"
   ]
  },
  {
   "cell_type": "markdown",
   "id": "67bdba9f",
   "metadata": {},
   "source": [
    "## Evaluation"
   ]
  },
  {
   "cell_type": "markdown",
   "id": "a5992fe7",
   "metadata": {},
   "source": [
    "### Confusion matrix"
   ]
  },
  {
   "cell_type": "code",
   "execution_count": 19,
   "id": "958459f4",
   "metadata": {},
   "outputs": [],
   "source": [
    "def show_confusion_matrix(confmat):\n",
    "    \"\"\"Display confusion matrix with percent values \n",
    "    \"\"\"\n",
    "    \n",
    "    confmat = confmat/np.sum(confmat) * 100\n",
    "    \n",
    "    fig, ax = plt.subplots(figsize=(8, 5))\n",
    "    ax.matshow(confmat, cmap=plt.cm.Blues, alpha=0.3)\n",
    "    for i in range(confmat.shape[0]):\n",
    "        for j in range(confmat.shape[1]):\n",
    "            percent = \"{:.2f}\".format(confmat[i, j])\n",
    "            ax.text(x=j, y=i, s=percent+'%', va='center', ha='center')\n",
    "\n",
    "\n",
    "    ax.set_xticklabels([''] + target_labels)\n",
    "    ax.set_yticklabels([''] + target_labels)\n",
    "    plt.xlabel('Predicted label')\n",
    "    plt.ylabel('True label')\n",
    "\n",
    "    plt.tight_layout()\n",
    "    plt.show()"
   ]
  },
  {
   "cell_type": "code",
   "execution_count": 20,
   "id": "87b5ac9e",
   "metadata": {},
   "outputs": [
    {
     "name": "stderr",
     "output_type": "stream",
     "text": [
      "/var/folders/yd/vkjb_lqj2_30lnyhzhjqtg9w0000gp/T/ipykernel_940/2811923800.py:15: UserWarning: FixedFormatter should only be used together with FixedLocator\n",
      "  ax.set_xticklabels([''] + target_labels)\n",
      "/var/folders/yd/vkjb_lqj2_30lnyhzhjqtg9w0000gp/T/ipykernel_940/2811923800.py:16: UserWarning: FixedFormatter should only be used together with FixedLocator\n",
      "  ax.set_yticklabels([''] + target_labels)\n"
     ]
    },
    {
     "data": {
      "image/png": "[encoded data removed]",
      "text/plain": [
       "<Figure size 576x360 with 1 Axes>"
      ]
     },
     "metadata": {
      "needs_background": "light"
     },
     "output_type": "display_data"
    }
   ],
   "source": [
    "i = 0\n",
    "confmat = confusion_matrix(y_true=orig_actuals[i], y_pred=orig_predictions[i], labels=targets)\n",
    "show_confusion_matrix(confmat)"
   ]
  },
  {
   "cell_type": "markdown",
   "id": "ec66a9f2",
   "metadata": {},
   "source": [
    "### Parformance matrics & Classification reports"
   ]
  },
  {
   "cell_type": "code",
   "execution_count": 21,
   "id": "c85eae19",
   "metadata": {},
   "outputs": [
    {
     "name": "stdout",
     "output_type": "stream",
     "text": [
      "Precision: 0.485\n",
      "Recall: 0.492\n",
      "F1: 0.485\n",
      "Accuracy: 0.463\n",
      "              precision    recall  f1-score   support\n",
      "\n",
      "       angry       0.36      0.31      0.33       957\n",
      "     disgust       0.87      1.00      0.93       830\n",
      "        fear       0.41      0.39      0.40      1024\n",
      "       happy       0.45      0.40      0.42      1774\n",
      "         sad       0.36      0.32      0.34      1247\n",
      "    surprise       0.63      0.61      0.62       831\n",
      "     neutral       0.31      0.42      0.36      1233\n",
      "\n",
      "    accuracy                           0.46      7896\n",
      "   macro avg       0.48      0.49      0.49      7896\n",
      "weighted avg       0.46      0.46      0.46      7896\n",
      "\n"
     ]
    }
   ],
   "source": [
    "i = 0\n",
    "print('Precision: %.3f' % precision_score(y_true=orig_actuals[i], y_pred=orig_predictions[i], average='macro'))\n",
    "print('Recall: %.3f' % recall_score(y_true=orig_actuals[i], y_pred=orig_predictions[i], average='macro'))\n",
    "print('F1: %.3f' % f1_score(y_true=orig_actuals[i], y_pred=orig_predictions[i], average='macro'))\n",
    "print('Accuracy: %.3f' % accuracy_score(y_true=orig_actuals[i], y_pred=orig_predictions[i]))\n",
    "print(classification_report(y_true=orig_actuals[i], y_pred=orig_predictions[i], target_names=target_labels))"
   ]
  },
  {
   "cell_type": "code",
   "execution_count": 22,
   "id": "a385ee26",
   "metadata": {},
   "outputs": [
    {
     "name": "stdout",
     "output_type": "stream",
     "text": [
      "Precision: 0.485\n",
      "Recall: 0.492\n",
      "F1: 0.485\n",
      "Accuracy: 0.463\n",
      "              precision    recall  f1-score   support\n",
      "\n",
      "       angry       0.36      0.31      0.33       957\n",
      "     disgust       0.87      1.00      0.93       830\n",
      "        fear       0.41      0.39      0.40      1024\n",
      "       happy       0.45      0.40      0.42      1774\n",
      "         sad       0.36      0.32      0.34      1247\n",
      "    surprise       0.63      0.61      0.62       831\n",
      "     neutral       0.31      0.42      0.36      1233\n",
      "\n",
      "    accuracy                           0.46      7896\n",
      "   macro avg       0.48      0.49      0.49      7896\n",
      "weighted avg       0.46      0.46      0.46      7896\n",
      "\n"
     ]
    }
   ],
   "source": [
    "i = 1\n",
    "print('Precision: %.3f' % precision_score(y_true=orig_actuals[i], y_pred=orig_predictions[i], average='macro'))\n",
    "print('Recall: %.3f' % recall_score(y_true=orig_actuals[i], y_pred=orig_predictions[i], average='macro'))\n",
    "print('F1: %.3f' % f1_score(y_true=orig_actuals[i], y_pred=orig_predictions[i], average='macro'))\n",
    "print('Accuracy: %.3f' % accuracy_score(y_true=orig_actuals[i], y_pred=orig_predictions[i]))\n",
    "print(classification_report(y_true=orig_actuals[i], y_pred=orig_predictions[i], target_names=target_labels))"
   ]
  },
  {
   "cell_type": "markdown",
   "id": "bb6c053f",
   "metadata": {},
   "source": [
    "# KNN with PCA"
   ]
  },
  {
   "cell_type": "code",
   "execution_count": 23,
   "id": "a9758b46",
   "metadata": {},
   "outputs": [],
   "source": [
    "def processKNN(csv, data_type):\n",
    "    \"\"\"Process KNN for each csv data\n",
    "    \"\"\"\n",
    "    print(csv)\n",
    "    df = pd.read_csv(csv)\n",
    "    df.head()\n",
    "    \n",
    "    df_train = df[df['usage']=='train']\n",
    "    df_test = df[df['usage']=='test']\n",
    "    train_data, train_scaled = load_data(df_train, data_type)\n",
    "    train_target = list(df_train.emotion)\n",
    "    test_data, test_scaled = load_data(df_test, data_type)\n",
    "    test_target = list(df_test.emotion)\n",
    "    \n",
    "    X_train = np.array(train_data)\n",
    "    y_train = np.array(train_target)\n",
    "    X_test = np.array(test_data)\n",
    "    y_test = np.array(test_target)\n",
    "    \n",
    "    print(X_train.shape)\n",
    "    print(y_train.shape)\n",
    "    print(X_test.shape)\n",
    "    print(y_test.shape)\n",
    "    \n",
    "    knn = KNN(n_neighbors=2, weights='distance', metric='minkowski')\n",
    "    knn.fit(X_train, y_train)\n",
    "    y_pred = knn.predict(X_test)\n",
    "    print('Train Accuracy: %.3f' % knn.score(X_train, y_train))\n",
    "    print('Test Accuracy: %.3f' % knn.score(X_test, y_test))\n",
    "    \n",
    "    return y_pred, y_test"
   ]
  },
  {
   "cell_type": "code",
   "execution_count": 24,
   "id": "4e94fd0f",
   "metadata": {},
   "outputs": [],
   "source": [
    "csv_list = ['../data/pca/fer_pca.csv', '../data/pca/fer_pca_inverse.csv', '../data/pca/fer_pca_norm.csv', \n",
    "            '../data/pca/fer_pca_std.csv', '../data/pca/fer_pca_scaled.csv']"
   ]
  },
  {
   "cell_type": "code",
   "execution_count": 25,
   "id": "dfdefb3f",
   "metadata": {},
   "outputs": [
    {
     "name": "stdout",
     "output_type": "stream",
     "text": [
      "../data/pca/fer_pca.csv\n",
      "(31432, 103)\n",
      "(31432,)\n",
      "(7896, 103)\n",
      "(7896,)\n",
      "Train Accuracy: 0.999\n",
      "Test Accuracy: 0.461\n",
      "../data/pca/fer_pca_inverse.csv\n",
      "(31432, 2304)\n",
      "(31432,)\n",
      "(7896, 2304)\n",
      "(7896,)\n",
      "Train Accuracy: 0.998\n",
      "Test Accuracy: 0.471\n",
      "../data/pca/fer_pca_norm.csv\n",
      "(31432, 157)\n",
      "(31432,)\n",
      "(7896, 157)\n",
      "(7896,)\n",
      "Train Accuracy: 0.999\n",
      "Test Accuracy: 0.444\n",
      "../data/pca/fer_pca_std.csv\n",
      "(31432, 112)\n",
      "(31432,)\n",
      "(7896, 112)\n",
      "(7896,)\n",
      "Train Accuracy: 0.999\n",
      "Test Accuracy: 0.470\n",
      "../data/pca/fer_pca_scaled.csv\n",
      "(31432, 103)\n",
      "(31432,)\n",
      "(7896, 103)\n",
      "(7896,)\n",
      "Train Accuracy: 0.999\n",
      "Test Accuracy: 0.461\n"
     ]
    }
   ],
   "source": [
    "pca_predictions = []\n",
    "pca_actuals = []\n",
    "for i in range(len(csv_list)):\n",
    "    pred, act = processKNN(csv_list[i], 1)\n",
    "    pca_predictions.append(pred)\n",
    "    pca_actuals.append(act)"
   ]
  },
  {
   "cell_type": "markdown",
   "id": "3d4c4eb8",
   "metadata": {},
   "source": [
    "## Evaluation"
   ]
  },
  {
   "cell_type": "markdown",
   "id": "95fa69d9",
   "metadata": {},
   "source": [
    "### Confusion matrix"
   ]
  },
  {
   "cell_type": "code",
   "execution_count": 26,
   "id": "6cc3e093",
   "metadata": {},
   "outputs": [
    {
     "name": "stderr",
     "output_type": "stream",
     "text": [
      "/var/folders/yd/vkjb_lqj2_30lnyhzhjqtg9w0000gp/T/ipykernel_940/2811923800.py:15: UserWarning: FixedFormatter should only be used together with FixedLocator\n",
      "  ax.set_xticklabels([''] + target_labels)\n",
      "/var/folders/yd/vkjb_lqj2_30lnyhzhjqtg9w0000gp/T/ipykernel_940/2811923800.py:16: UserWarning: FixedFormatter should only be used together with FixedLocator\n",
      "  ax.set_yticklabels([''] + target_labels)\n"
     ]
    },
    {
     "data": {
      "image/png": "[encoded data removed]",
      "text/plain": [
       "<Figure size 576x360 with 1 Axes>"
      ]
     },
     "metadata": {
      "needs_background": "light"
     },
     "output_type": "display_data"
    }
   ],
   "source": [
    "# Show only the best one \n",
    "i = 1\n",
    "confmat = confusion_matrix(y_true=pca_actuals[i], y_pred=pca_predictions[i], labels=targets)\n",
    "show_confusion_matrix(confmat)"
   ]
  },
  {
   "cell_type": "markdown",
   "id": "022f409f",
   "metadata": {},
   "source": [
    "### Performance matrics & Classification reports"
   ]
  },
  {
   "cell_type": "code",
   "execution_count": 27,
   "id": "57ade953",
   "metadata": {},
   "outputs": [],
   "source": [
    "def showPerformance(predictions, actuals):\n",
    "    \"\"\"Display performance of each result\n",
    "    \"\"\"\n",
    "    for i in range(len(csv_list)):\n",
    "        print(csv_list[i])\n",
    "        print('Precision: %.3f' % precision_score(y_true=actuals[i], y_pred=predictions[i], average='macro'))\n",
    "        print('Recall: %.3f' % recall_score(y_true=actuals[i], y_pred=predictions[i], average='macro'))\n",
    "        print('F1: %.3f' % f1_score(y_true=actuals[i], y_pred=predictions[i], average='macro'))\n",
    "        print('Accuracy: %.3f' % accuracy_score(y_true=actuals[i], y_pred=predictions[i]))\n",
    "        print('Classification reports')\n",
    "        print(classification_report(actuals[i], predictions[i], target_names=list(target_labels)))"
   ]
  },
  {
   "cell_type": "code",
   "execution_count": 28,
   "id": "450d55f9",
   "metadata": {},
   "outputs": [
    {
     "name": "stdout",
     "output_type": "stream",
     "text": [
      "../data/pca/fer_pca.csv\n",
      "Precision: 0.485\n",
      "Recall: 0.487\n",
      "F1: 0.481\n",
      "Accuracy: 0.461\n",
      "Classification reports\n",
      "              precision    recall  f1-score   support\n",
      "\n",
      "       angry       0.38      0.31      0.34       957\n",
      "     disgust       0.87      1.00      0.93       830\n",
      "        fear       0.36      0.37      0.37      1024\n",
      "       happy       0.51      0.42      0.46      1774\n",
      "         sad       0.36      0.29      0.32      1247\n",
      "    surprise       0.62      0.57      0.59       831\n",
      "     neutral       0.30      0.45      0.36      1233\n",
      "\n",
      "    accuracy                           0.46      7896\n",
      "   macro avg       0.48      0.49      0.48      7896\n",
      "weighted avg       0.47      0.46      0.46      7896\n",
      "\n",
      "../data/pca/fer_pca_inverse.csv\n",
      "Precision: 0.488\n",
      "Recall: 0.499\n",
      "F1: 0.492\n",
      "Accuracy: 0.471\n",
      "Classification reports\n",
      "              precision    recall  f1-score   support\n",
      "\n",
      "       angry       0.37      0.34      0.35       957\n",
      "     disgust       0.88      1.00      0.94       830\n",
      "        fear       0.41      0.39      0.40      1024\n",
      "       happy       0.46      0.43      0.44      1774\n",
      "         sad       0.37      0.32      0.34      1247\n",
      "    surprise       0.60      0.62      0.61       831\n",
      "     neutral       0.33      0.40      0.36      1233\n",
      "\n",
      "    accuracy                           0.47      7896\n",
      "   macro avg       0.49      0.50      0.49      7896\n",
      "weighted avg       0.47      0.47      0.47      7896\n",
      "\n",
      "../data/pca/fer_pca_norm.csv\n",
      "Precision: 0.460\n",
      "Recall: 0.473\n",
      "F1: 0.460\n",
      "Accuracy: 0.444\n",
      "Classification reports\n",
      "              precision    recall  f1-score   support\n",
      "\n",
      "       angry       0.38      0.26      0.31       957\n",
      "     disgust       0.89      1.00      0.94       830\n",
      "        fear       0.32      0.39      0.36      1024\n",
      "       happy       0.47      0.40      0.43      1774\n",
      "         sad       0.36      0.24      0.29      1247\n",
      "    surprise       0.49      0.60      0.54       831\n",
      "     neutral       0.31      0.43      0.36      1233\n",
      "\n",
      "    accuracy                           0.44      7896\n",
      "   macro avg       0.46      0.47      0.46      7896\n",
      "weighted avg       0.44      0.44      0.44      7896\n",
      "\n",
      "../data/pca/fer_pca_std.csv\n",
      "Precision: 0.500\n",
      "Recall: 0.497\n",
      "F1: 0.493\n",
      "Accuracy: 0.470\n",
      "Classification reports\n",
      "              precision    recall  f1-score   support\n",
      "\n",
      "       angry       0.38      0.31      0.34       957\n",
      "     disgust       0.90      1.00      0.95       830\n",
      "        fear       0.38      0.39      0.39      1024\n",
      "       happy       0.51      0.41      0.46      1774\n",
      "         sad       0.37      0.30      0.33      1247\n",
      "    surprise       0.65      0.59      0.62       831\n",
      "     neutral       0.30      0.48      0.37      1233\n",
      "\n",
      "    accuracy                           0.47      7896\n",
      "   macro avg       0.50      0.50      0.49      7896\n",
      "weighted avg       0.48      0.47      0.47      7896\n",
      "\n",
      "../data/pca/fer_pca_scaled.csv\n",
      "Precision: 0.485\n",
      "Recall: 0.488\n",
      "F1: 0.482\n",
      "Accuracy: 0.461\n",
      "Classification reports\n",
      "              precision    recall  f1-score   support\n",
      "\n",
      "       angry       0.38      0.31      0.34       957\n",
      "     disgust       0.88      1.00      0.93       830\n",
      "        fear       0.37      0.38      0.37      1024\n",
      "       happy       0.50      0.41      0.45      1774\n",
      "         sad       0.36      0.30      0.33      1247\n",
      "    surprise       0.61      0.57      0.59       831\n",
      "     neutral       0.30      0.44      0.35      1233\n",
      "\n",
      "    accuracy                           0.46      7896\n",
      "   macro avg       0.49      0.49      0.48      7896\n",
      "weighted avg       0.47      0.46      0.46      7896\n",
      "\n"
     ]
    }
   ],
   "source": [
    "showPerformance(pca_predictions, pca_actuals)"
   ]
  },
  {
   "cell_type": "markdown",
   "id": "0f08b0ee",
   "metadata": {},
   "source": [
    "# KNN with FisherFace"
   ]
  },
  {
   "cell_type": "code",
   "execution_count": 29,
   "id": "538b4612",
   "metadata": {},
   "outputs": [],
   "source": [
    "csv_list = ['../data/lda/fer_lda.csv', '../data/lda/fer_lda_norm.csv', '../data/lda/fer_lda_std.csv', '../data/lda/fer_lda_scaled.csv']"
   ]
  },
  {
   "cell_type": "code",
   "execution_count": 30,
   "id": "3bda8880",
   "metadata": {},
   "outputs": [
    {
     "name": "stdout",
     "output_type": "stream",
     "text": [
      "../data/lda/fer_lda.csv\n",
      "(31432, 6)\n",
      "(31432,)\n",
      "(7896, 6)\n",
      "(7896,)\n",
      "Train Accuracy: 0.998\n",
      "Test Accuracy: 0.407\n",
      "../data/lda/fer_lda_norm.csv\n",
      "(31432, 6)\n",
      "(31432,)\n",
      "(7896, 6)\n",
      "(7896,)\n",
      "Train Accuracy: 0.998\n",
      "Test Accuracy: 0.401\n",
      "../data/lda/fer_lda_std.csv\n",
      "(31432, 6)\n",
      "(31432,)\n",
      "(7896, 6)\n",
      "(7896,)\n",
      "Train Accuracy: 0.998\n",
      "Test Accuracy: 0.415\n",
      "../data/lda/fer_lda_scaled.csv\n",
      "(31432, 6)\n",
      "(31432,)\n",
      "(7896, 6)\n",
      "(7896,)\n",
      "Train Accuracy: 0.998\n",
      "Test Accuracy: 0.410\n"
     ]
    }
   ],
   "source": [
    "lda_predictions = []\n",
    "lda_actuals = []\n",
    "for i in range(len(csv_list)):\n",
    "    pred, act = processKNN(csv_list[i], 4)\n",
    "    lda_predictions.append(pred)\n",
    "    lda_actuals.append(act)"
   ]
  },
  {
   "cell_type": "markdown",
   "id": "47dcf41d",
   "metadata": {},
   "source": [
    "## Evaluation"
   ]
  },
  {
   "cell_type": "markdown",
   "id": "138cb5af",
   "metadata": {},
   "source": [
    "### Confusion matrix"
   ]
  },
  {
   "cell_type": "code",
   "execution_count": 31,
   "id": "3b26587f",
   "metadata": {
    "scrolled": false
   },
   "outputs": [
    {
     "name": "stderr",
     "output_type": "stream",
     "text": [
      "/var/folders/yd/vkjb_lqj2_30lnyhzhjqtg9w0000gp/T/ipykernel_940/2811923800.py:15: UserWarning: FixedFormatter should only be used together with FixedLocator\n",
      "  ax.set_xticklabels([''] + target_labels)\n",
      "/var/folders/yd/vkjb_lqj2_30lnyhzhjqtg9w0000gp/T/ipykernel_940/2811923800.py:16: UserWarning: FixedFormatter should only be used together with FixedLocator\n",
      "  ax.set_yticklabels([''] + target_labels)\n"
     ]
    },
    {
     "data": {
      "image/png": "[encoded data removed]",
      "text/plain": [
       "<Figure size 576x360 with 1 Axes>"
      ]
     },
     "metadata": {
      "needs_background": "light"
     },
     "output_type": "display_data"
    }
   ],
   "source": [
    "# Show only the best one \n",
    "i = 2\n",
    "confmat = confusion_matrix(y_true=lda_actuals[i], y_pred=lda_predictions[i], labels=targets)\n",
    "show_confusion_matrix(confmat)"
   ]
  },
  {
   "cell_type": "markdown",
   "id": "0fc5c06e",
   "metadata": {},
   "source": [
    "### Parformance matrics & Classification reports"
   ]
  },
  {
   "cell_type": "code",
   "execution_count": 32,
   "id": "df4d7ae9",
   "metadata": {
    "scrolled": false
   },
   "outputs": [
    {
     "name": "stdout",
     "output_type": "stream",
     "text": [
      "../data/lda/fer_lda.csv\n",
      "Precision: 0.417\n",
      "Recall: 0.429\n",
      "F1: 0.423\n",
      "Accuracy: 0.407\n",
      "Classification reports\n",
      "              precision    recall  f1-score   support\n",
      "\n",
      "       angry       0.23      0.24      0.24       957\n",
      "     disgust       0.90      1.00      0.95       830\n",
      "        fear       0.28      0.28      0.28      1024\n",
      "       happy       0.46      0.44      0.45      1774\n",
      "         sad       0.27      0.26      0.26      1247\n",
      "    surprise       0.48      0.50      0.49       831\n",
      "     neutral       0.29      0.29      0.29      1233\n",
      "\n",
      "    accuracy                           0.41      7896\n",
      "   macro avg       0.42      0.43      0.42      7896\n",
      "weighted avg       0.40      0.41      0.40      7896\n",
      "\n",
      "../data/lda/fer_lda_norm.csv\n",
      "Precision: 0.411\n",
      "Recall: 0.425\n",
      "F1: 0.418\n",
      "Accuracy: 0.401\n",
      "Classification reports\n",
      "              precision    recall  f1-score   support\n",
      "\n",
      "       angry       0.24      0.25      0.24       957\n",
      "     disgust       0.89      1.00      0.94       830\n",
      "        fear       0.26      0.27      0.27      1024\n",
      "       happy       0.44      0.42      0.43      1774\n",
      "         sad       0.27      0.25      0.26      1247\n",
      "    surprise       0.48      0.50      0.49       831\n",
      "     neutral       0.30      0.29      0.30      1233\n",
      "\n",
      "    accuracy                           0.40      7896\n",
      "   macro avg       0.41      0.43      0.42      7896\n",
      "weighted avg       0.40      0.40      0.40      7896\n",
      "\n",
      "../data/lda/fer_lda_std.csv\n",
      "Precision: 0.425\n",
      "Recall: 0.438\n",
      "F1: 0.431\n",
      "Accuracy: 0.415\n",
      "Classification reports\n",
      "              precision    recall  f1-score   support\n",
      "\n",
      "       angry       0.25      0.25      0.25       957\n",
      "     disgust       0.89      1.00      0.94       830\n",
      "        fear       0.29      0.29      0.29      1024\n",
      "       happy       0.44      0.43      0.44      1774\n",
      "         sad       0.29      0.28      0.28      1247\n",
      "    surprise       0.51      0.52      0.51       831\n",
      "     neutral       0.31      0.30      0.30      1233\n",
      "\n",
      "    accuracy                           0.42      7896\n",
      "   macro avg       0.43      0.44      0.43      7896\n",
      "weighted avg       0.41      0.42      0.41      7896\n",
      "\n",
      "../data/lda/fer_lda_scaled.csv\n",
      "Precision: 0.420\n",
      "Recall: 0.432\n",
      "F1: 0.426\n",
      "Accuracy: 0.410\n",
      "Classification reports\n",
      "              precision    recall  f1-score   support\n",
      "\n",
      "       angry       0.25      0.25      0.25       957\n",
      "     disgust       0.90      1.00      0.95       830\n",
      "        fear       0.25      0.26      0.26      1024\n",
      "       happy       0.46      0.43      0.44      1774\n",
      "         sad       0.28      0.26      0.27      1247\n",
      "    surprise       0.50      0.52      0.51       831\n",
      "     neutral       0.31      0.30      0.30      1233\n",
      "\n",
      "    accuracy                           0.41      7896\n",
      "   macro avg       0.42      0.43      0.43      7896\n",
      "weighted avg       0.40      0.41      0.41      7896\n",
      "\n"
     ]
    }
   ],
   "source": [
    "showPerformance(lda_predictions, lda_actuals)"
   ]
  },
  {
   "cell_type": "markdown",
   "id": "8fa9e846",
   "metadata": {},
   "source": [
    "# KNN with SIFT"
   ]
  },
  {
   "cell_type": "code",
   "execution_count": 33,
   "id": "1a77ea53",
   "metadata": {},
   "outputs": [],
   "source": [
    "csv_list = ['../data/sift/sift_bof_100.csv', '../data/sift/sift_bof_500.csv', '../data/sift/sift_bof_1000.csv', \n",
    "            '../data/sift/sift_pca_bof_100.csv', '../data/sift/sift_pca_bof_500.csv', '../data/sift/sift_pca_bof_1000.csv']"
   ]
  },
  {
   "cell_type": "code",
   "execution_count": 34,
   "id": "81c2247a",
   "metadata": {},
   "outputs": [
    {
     "name": "stdout",
     "output_type": "stream",
     "text": [
      "../data/sift/sift_bof_100.csv\n",
      "(31427, 99)\n",
      "(31427,)\n",
      "(7895, 99)\n",
      "(7895,)\n",
      "Train Accuracy: 0.998\n",
      "Test Accuracy: 0.166\n",
      "../data/sift/sift_bof_500.csv\n",
      "(31427, 499)\n",
      "(31427,)\n",
      "(7895, 499)\n",
      "(7895,)\n",
      "Train Accuracy: 0.998\n",
      "Test Accuracy: 0.172\n",
      "../data/sift/sift_bof_1000.csv\n",
      "(31427, 999)\n",
      "(31427,)\n",
      "(7895, 999)\n",
      "(7895,)\n",
      "Train Accuracy: 0.998\n",
      "Test Accuracy: 0.190\n",
      "../data/sift/sift_pca_bof_100.csv\n",
      "(31425, 99)\n",
      "(31425,)\n",
      "(7894, 99)\n",
      "(7894,)\n",
      "Train Accuracy: 0.998\n",
      "Test Accuracy: 0.158\n",
      "../data/sift/sift_pca_bof_500.csv\n",
      "(31425, 499)\n",
      "(31425,)\n",
      "(7894, 499)\n",
      "(7894,)\n",
      "Train Accuracy: 0.998\n",
      "Test Accuracy: 0.165\n",
      "../data/sift/sift_pca_bof_1000.csv\n",
      "(31425, 999)\n",
      "(31425,)\n",
      "(7894, 999)\n",
      "(7894,)\n",
      "Train Accuracy: 0.998\n",
      "Test Accuracy: 0.185\n"
     ]
    }
   ],
   "source": [
    "sift_predictions = []\n",
    "sift_actuals = []\n",
    "for i in range(len(csv_list)):\n",
    "    pred, act = processKNN(csv_list[i], 2)\n",
    "    sift_predictions.append(pred)\n",
    "    sift_actuals.append(act)"
   ]
  },
  {
   "cell_type": "markdown",
   "id": "da3f2a1f",
   "metadata": {},
   "source": [
    "## Evaluation"
   ]
  },
  {
   "cell_type": "markdown",
   "id": "38bbe3af",
   "metadata": {},
   "source": [
    "### Confusion matrix"
   ]
  },
  {
   "cell_type": "code",
   "execution_count": 35,
   "id": "3710b6c3",
   "metadata": {},
   "outputs": [
    {
     "name": "stderr",
     "output_type": "stream",
     "text": [
      "/var/folders/yd/vkjb_lqj2_30lnyhzhjqtg9w0000gp/T/ipykernel_940/2811923800.py:15: UserWarning: FixedFormatter should only be used together with FixedLocator\n",
      "  ax.set_xticklabels([''] + target_labels)\n",
      "/var/folders/yd/vkjb_lqj2_30lnyhzhjqtg9w0000gp/T/ipykernel_940/2811923800.py:16: UserWarning: FixedFormatter should only be used together with FixedLocator\n",
      "  ax.set_yticklabels([''] + target_labels)\n"
     ]
    },
    {
     "data": {
      "image/png": "[encoded data removed]",
      "text/plain": [
       "<Figure size 576x360 with 1 Axes>"
      ]
     },
     "metadata": {
      "needs_background": "light"
     },
     "output_type": "display_data"
    }
   ],
   "source": [
    "# Show only the best one \n",
    "i = 2\n",
    "confmat = confusion_matrix(y_true=sift_actuals[i], y_pred=sift_predictions[i], labels=targets)\n",
    "show_confusion_matrix(confmat)"
   ]
  },
  {
   "cell_type": "markdown",
   "id": "222a100f",
   "metadata": {},
   "source": [
    "### Parformance matrics & Classification reports"
   ]
  },
  {
   "cell_type": "code",
   "execution_count": 36,
   "id": "5c22570b",
   "metadata": {
    "scrolled": false
   },
   "outputs": [
    {
     "name": "stdout",
     "output_type": "stream",
     "text": [
      "../data/sift/sift_bof_100.csv\n",
      "Precision: 0.137\n",
      "Recall: 0.146\n",
      "F1: 0.138\n",
      "Accuracy: 0.166\n",
      "Classification reports\n",
      "              precision    recall  f1-score   support\n",
      "\n",
      "       angry       0.14      0.14      0.14       957\n",
      "     disgust       0.04      0.00      0.01       830\n",
      "        fear       0.13      0.16      0.14      1024\n",
      "       happy       0.23      0.29      0.26      1773\n",
      "         sad       0.16      0.19      0.18      1247\n",
      "    surprise       0.10      0.07      0.08       831\n",
      "     neutral       0.16      0.16      0.16      1233\n",
      "\n",
      "    accuracy                           0.17      7895\n",
      "   macro avg       0.14      0.15      0.14      7895\n",
      "weighted avg       0.15      0.17      0.16      7895\n",
      "\n",
      "../data/sift/sift_bof_500.csv\n",
      "Precision: 0.161\n",
      "Recall: 0.142\n",
      "F1: 0.133\n",
      "Accuracy: 0.172\n",
      "Classification reports\n",
      "              precision    recall  f1-score   support\n",
      "\n",
      "       angry       0.12      0.11      0.11       957\n",
      "     disgust       0.25      0.03      0.05       830\n",
      "        fear       0.12      0.09      0.10      1024\n",
      "       happy       0.22      0.43      0.29      1773\n",
      "         sad       0.14      0.11      0.13      1247\n",
      "    surprise       0.14      0.12      0.13       831\n",
      "     neutral       0.13      0.10      0.11      1233\n",
      "\n",
      "    accuracy                           0.17      7895\n",
      "   macro avg       0.16      0.14      0.13      7895\n",
      "weighted avg       0.16      0.17      0.15      7895\n",
      "\n",
      "../data/sift/sift_bof_1000.csv\n",
      "Precision: 0.137\n",
      "Recall: 0.144\n",
      "F1: 0.118\n",
      "Accuracy: 0.190\n",
      "Classification reports\n",
      "              precision    recall  f1-score   support\n",
      "\n",
      "       angry       0.11      0.09      0.10       957\n",
      "     disgust       0.05      0.00      0.01       830\n",
      "        fear       0.15      0.13      0.14      1024\n",
      "       happy       0.22      0.61      0.33      1773\n",
      "         sad       0.18      0.08      0.11      1247\n",
      "    surprise       0.09      0.03      0.05       831\n",
      "     neutral       0.16      0.07      0.10      1233\n",
      "\n",
      "    accuracy                           0.19      7895\n",
      "   macro avg       0.14      0.14      0.12      7895\n",
      "weighted avg       0.15      0.19      0.14      7895\n",
      "\n",
      "../data/sift/sift_pca_bof_100.csv\n",
      "Precision: 0.138\n",
      "Recall: 0.137\n",
      "F1: 0.130\n",
      "Accuracy: 0.158\n",
      "Classification reports\n",
      "              precision    recall  f1-score   support\n",
      "\n",
      "       angry       0.13      0.14      0.13       957\n",
      "     disgust       0.12      0.02      0.03       830\n",
      "        fear       0.12      0.17      0.14      1024\n",
      "       happy       0.23      0.29      0.26      1772\n",
      "         sad       0.15      0.19      0.17      1247\n",
      "    surprise       0.09      0.05      0.06       831\n",
      "     neutral       0.13      0.11      0.12      1233\n",
      "\n",
      "    accuracy                           0.16      7894\n",
      "   macro avg       0.14      0.14      0.13      7894\n",
      "weighted avg       0.15      0.16      0.15      7894\n",
      "\n",
      "../data/sift/sift_pca_bof_500.csv\n",
      "Precision: 0.144\n",
      "Recall: 0.140\n",
      "F1: 0.130\n",
      "Accuracy: 0.165\n",
      "Classification reports\n",
      "              precision    recall  f1-score   support\n",
      "\n",
      "       angry       0.12      0.10      0.10       957\n",
      "     disgust       0.09      0.01      0.02       830\n",
      "        fear       0.12      0.15      0.14      1024\n",
      "       happy       0.21      0.31      0.25      1772\n",
      "         sad       0.15      0.22      0.18      1247\n",
      "    surprise       0.14      0.03      0.05       831\n",
      "     neutral       0.17      0.16      0.17      1233\n",
      "\n",
      "    accuracy                           0.16      7894\n",
      "   macro avg       0.14      0.14      0.13      7894\n",
      "weighted avg       0.15      0.16      0.15      7894\n",
      "\n",
      "../data/sift/sift_pca_bof_1000.csv\n",
      "Precision: 0.133\n",
      "Recall: 0.142\n",
      "F1: 0.119\n",
      "Accuracy: 0.185\n",
      "Classification reports\n",
      "              precision    recall  f1-score   support\n",
      "\n",
      "       angry       0.12      0.08      0.10       957\n",
      "     disgust       0.03      0.00      0.00       830\n",
      "        fear       0.13      0.10      0.12      1024\n",
      "       happy       0.22      0.52      0.31      1772\n",
      "         sad       0.16      0.16      0.16      1247\n",
      "    surprise       0.12      0.01      0.02       831\n",
      "     neutral       0.14      0.12      0.13      1233\n",
      "\n",
      "    accuracy                           0.18      7894\n",
      "   macro avg       0.13      0.14      0.12      7894\n",
      "weighted avg       0.15      0.18      0.14      7894\n",
      "\n"
     ]
    }
   ],
   "source": [
    "showPerformance(sift_predictions, sift_actuals)"
   ]
  },
  {
   "cell_type": "markdown",
   "id": "d08a90a2",
   "metadata": {},
   "source": [
    "# KNN with KAZE"
   ]
  },
  {
   "cell_type": "code",
   "execution_count": 37,
   "id": "068a3df8",
   "metadata": {},
   "outputs": [],
   "source": [
    "csv_list = ['../data/kaze/kaze_bof_100.csv', '../data/kaze/kaze_bof_500.csv', '../data/kaze/kaze_bof_1000.csv', \n",
    "            '../data/kaze/kaze_pca_bof_100.csv', '../data/kaze/kaze_pca_bof_500.csv', '../data/kaze/kaze_pca_bof_1000.csv']"
   ]
  },
  {
   "cell_type": "code",
   "execution_count": 38,
   "id": "0e1e00ce",
   "metadata": {
    "scrolled": false
   },
   "outputs": [
    {
     "name": "stdout",
     "output_type": "stream",
     "text": [
      "../data/kaze/kaze_bof_100.csv\n",
      "(31284, 99)\n",
      "(31284,)\n",
      "(7856, 99)\n",
      "(7856,)\n",
      "Train Accuracy: 0.997\n",
      "Test Accuracy: 0.165\n",
      "../data/kaze/kaze_bof_500.csv\n",
      "(31284, 499)\n",
      "(31284,)\n",
      "(7856, 499)\n",
      "(7856,)\n",
      "Train Accuracy: 0.997\n",
      "Test Accuracy: 0.167\n",
      "../data/kaze/kaze_bof_1000.csv\n",
      "(31284, 999)\n",
      "(31284,)\n",
      "(7856, 999)\n",
      "(7856,)\n",
      "Train Accuracy: 0.998\n",
      "Test Accuracy: 0.169\n",
      "../data/kaze/kaze_pca_bof_100.csv\n",
      "(31275, 99)\n",
      "(31275,)\n",
      "(7853, 99)\n",
      "(7853,)\n",
      "Train Accuracy: 0.995\n",
      "Test Accuracy: 0.163\n",
      "../data/kaze/kaze_pca_bof_500.csv\n",
      "(31275, 499)\n",
      "(31275,)\n",
      "(7853, 499)\n",
      "(7853,)\n",
      "Train Accuracy: 0.997\n",
      "Test Accuracy: 0.169\n",
      "../data/kaze/kaze_pca_bof_1000.csv\n",
      "(31275, 999)\n",
      "(31275,)\n",
      "(7853, 999)\n",
      "(7853,)\n",
      "Train Accuracy: 0.998\n",
      "Test Accuracy: 0.171\n"
     ]
    }
   ],
   "source": [
    "kaze_predictions = []\n",
    "kaze_actuals = []\n",
    "for i in range(len(csv_list)):\n",
    "    pred, act = processKNN(csv_list[i], 2)\n",
    "    kaze_predictions.append(pred)\n",
    "    kaze_actuals.append(act)"
   ]
  },
  {
   "cell_type": "markdown",
   "id": "a3638585",
   "metadata": {},
   "source": [
    "## Evaluation"
   ]
  },
  {
   "cell_type": "markdown",
   "id": "e90d8b6b",
   "metadata": {},
   "source": [
    "### Confusion matrix"
   ]
  },
  {
   "cell_type": "code",
   "execution_count": 39,
   "id": "b04d6af1",
   "metadata": {
    "scrolled": false
   },
   "outputs": [
    {
     "name": "stderr",
     "output_type": "stream",
     "text": [
      "/var/folders/yd/vkjb_lqj2_30lnyhzhjqtg9w0000gp/T/ipykernel_940/2811923800.py:15: UserWarning: FixedFormatter should only be used together with FixedLocator\n",
      "  ax.set_xticklabels([''] + target_labels)\n",
      "/var/folders/yd/vkjb_lqj2_30lnyhzhjqtg9w0000gp/T/ipykernel_940/2811923800.py:16: UserWarning: FixedFormatter should only be used together with FixedLocator\n",
      "  ax.set_yticklabels([''] + target_labels)\n"
     ]
    },
    {
     "data": {
      "image/png": "[encoded data removed]",
      "text/plain": [
       "<Figure size 576x360 with 1 Axes>"
      ]
     },
     "metadata": {
      "needs_background": "light"
     },
     "output_type": "display_data"
    }
   ],
   "source": [
    "# Show only the best one \n",
    "i = 5\n",
    "confmat = confusion_matrix(y_true=kaze_actuals[i], y_pred=kaze_predictions[i], labels=targets)\n",
    "show_confusion_matrix(confmat)"
   ]
  },
  {
   "cell_type": "markdown",
   "id": "cc54f234",
   "metadata": {},
   "source": [
    "### Parformance matrics & Classification reports"
   ]
  },
  {
   "cell_type": "code",
   "execution_count": 40,
   "id": "e40907dd",
   "metadata": {
    "scrolled": false
   },
   "outputs": [
    {
     "name": "stdout",
     "output_type": "stream",
     "text": [
      "../data/kaze/kaze_bof_100.csv\n",
      "Precision: 0.148\n",
      "Recall: 0.144\n",
      "F1: 0.138\n",
      "Accuracy: 0.165\n",
      "Classification reports\n",
      "              precision    recall  f1-score   support\n",
      "\n",
      "       angry       0.13      0.14      0.14       955\n",
      "     disgust       0.14      0.02      0.03       821\n",
      "        fear       0.14      0.17      0.15      1022\n",
      "       happy       0.22      0.31      0.26      1770\n",
      "         sad       0.16      0.15      0.15      1237\n",
      "    surprise       0.11      0.08      0.09       828\n",
      "     neutral       0.15      0.15      0.15      1223\n",
      "\n",
      "    accuracy                           0.16      7856\n",
      "   macro avg       0.15      0.14      0.14      7856\n",
      "weighted avg       0.16      0.16      0.15      7856\n",
      "\n",
      "../data/kaze/kaze_bof_500.csv\n",
      "Precision: 0.169\n",
      "Recall: 0.142\n",
      "F1: 0.135\n",
      "Accuracy: 0.167\n",
      "Classification reports\n",
      "              precision    recall  f1-score   support\n",
      "\n",
      "       angry       0.12      0.12      0.12       955\n",
      "     disgust       0.31      0.02      0.04       821\n",
      "        fear       0.12      0.15      0.13      1022\n",
      "       happy       0.23      0.35      0.28      1770\n",
      "         sad       0.16      0.14      0.15      1237\n",
      "    surprise       0.10      0.06      0.08       828\n",
      "     neutral       0.15      0.14      0.15      1223\n",
      "\n",
      "    accuracy                           0.17      7856\n",
      "   macro avg       0.17      0.14      0.14      7856\n",
      "weighted avg       0.17      0.17      0.15      7856\n",
      "\n",
      "../data/kaze/kaze_bof_1000.csv\n",
      "Precision: 0.138\n",
      "Recall: 0.143\n",
      "F1: 0.133\n",
      "Accuracy: 0.169\n",
      "Classification reports\n",
      "              precision    recall  f1-score   support\n",
      "\n",
      "       angry       0.12      0.14      0.13       955\n",
      "     disgust       0.07      0.00      0.00       821\n",
      "        fear       0.14      0.17      0.15      1022\n",
      "       happy       0.22      0.35      0.27      1770\n",
      "         sad       0.17      0.14      0.15      1237\n",
      "    surprise       0.10      0.06      0.07       828\n",
      "     neutral       0.14      0.14      0.14      1223\n",
      "\n",
      "    accuracy                           0.17      7856\n",
      "   macro avg       0.14      0.14      0.13      7856\n",
      "weighted avg       0.15      0.17      0.15      7856\n",
      "\n",
      "../data/kaze/kaze_pca_bof_100.csv\n",
      "Precision: 0.144\n",
      "Recall: 0.142\n",
      "F1: 0.135\n",
      "Accuracy: 0.163\n",
      "Classification reports\n",
      "              precision    recall  f1-score   support\n",
      "\n",
      "       angry       0.12      0.12      0.12       956\n",
      "     disgust       0.11      0.02      0.03       821\n",
      "        fear       0.12      0.18      0.15      1023\n",
      "       happy       0.22      0.30      0.25      1766\n",
      "         sad       0.16      0.17      0.17      1238\n",
      "    surprise       0.10      0.07      0.09       827\n",
      "     neutral       0.16      0.13      0.14      1222\n",
      "\n",
      "    accuracy                           0.16      7853\n",
      "   macro avg       0.14      0.14      0.14      7853\n",
      "weighted avg       0.15      0.16      0.15      7853\n",
      "\n",
      "../data/kaze/kaze_pca_bof_500.csv\n",
      "Precision: 0.161\n",
      "Recall: 0.145\n",
      "F1: 0.137\n",
      "Accuracy: 0.169\n",
      "Classification reports\n",
      "              precision    recall  f1-score   support\n",
      "\n",
      "       angry       0.12      0.13      0.12       956\n",
      "     disgust       0.21      0.02      0.04       821\n",
      "        fear       0.12      0.16      0.14      1023\n",
      "       happy       0.22      0.35      0.27      1766\n",
      "         sad       0.16      0.13      0.15      1238\n",
      "    surprise       0.13      0.06      0.09       827\n",
      "     neutral       0.16      0.16      0.16      1222\n",
      "\n",
      "    accuracy                           0.17      7853\n",
      "   macro avg       0.16      0.14      0.14      7853\n",
      "weighted avg       0.17      0.17      0.15      7853\n",
      "\n",
      "../data/kaze/kaze_pca_bof_1000.csv\n",
      "Precision: 0.144\n",
      "Recall: 0.145\n",
      "F1: 0.136\n",
      "Accuracy: 0.171\n",
      "Classification reports\n",
      "              precision    recall  f1-score   support\n",
      "\n",
      "       angry       0.12      0.11      0.12       956\n",
      "     disgust       0.10      0.01      0.03       821\n",
      "        fear       0.12      0.17      0.14      1023\n",
      "       happy       0.23      0.37      0.29      1766\n",
      "         sad       0.17      0.12      0.14      1238\n",
      "    surprise       0.10      0.06      0.08       827\n",
      "     neutral       0.16      0.16      0.16      1222\n",
      "\n",
      "    accuracy                           0.17      7853\n",
      "   macro avg       0.14      0.14      0.14      7853\n",
      "weighted avg       0.16      0.17      0.16      7853\n",
      "\n"
     ]
    }
   ],
   "source": [
    "showPerformance(kaze_predictions, kaze_actuals)"
   ]
  },
  {
   "cell_type": "markdown",
   "id": "1d059f9f",
   "metadata": {},
   "source": [
    "# KNN with ORB"
   ]
  },
  {
   "cell_type": "code",
   "execution_count": 41,
   "id": "6b4c0cfc",
   "metadata": {},
   "outputs": [],
   "source": [
    "csv_list = ['../data/orb/orb_bof_100.csv', '../data/orb/orb_bof_500.csv', '../data/orb/orb_bof_1000.csv', \n",
    "            '../data/orb/orb_pca_bof_100.csv', '../data/orb/orb_pca_bof_500.csv', '../data/orb/orb_pca_bof_1000.csv']"
   ]
  },
  {
   "cell_type": "code",
   "execution_count": 42,
   "id": "143f8721",
   "metadata": {},
   "outputs": [
    {
     "name": "stdout",
     "output_type": "stream",
     "text": [
      "../data/orb/orb_bof_100.csv\n",
      "(31430, 99)\n",
      "(31430,)\n",
      "(7896, 99)\n",
      "(7896,)\n",
      "Train Accuracy: 0.998\n",
      "Test Accuracy: 0.154\n",
      "../data/orb/orb_bof_500.csv\n",
      "(31430, 499)\n",
      "(31430,)\n",
      "(7896, 499)\n",
      "(7896,)\n",
      "Train Accuracy: 0.998\n",
      "Test Accuracy: 0.138\n",
      "../data/orb/orb_bof_1000.csv\n",
      "(31430, 999)\n",
      "(31430,)\n",
      "(7896, 999)\n",
      "(7896,)\n",
      "Train Accuracy: 0.998\n",
      "Test Accuracy: 0.133\n",
      "../data/orb/orb_pca_bof_100.csv\n",
      "(31400, 99)\n",
      "(31400,)\n",
      "(7890, 99)\n",
      "(7890,)\n",
      "Train Accuracy: 0.998\n",
      "Test Accuracy: 0.168\n",
      "../data/orb/orb_pca_bof_500.csv\n",
      "(31400, 499)\n",
      "(31400,)\n",
      "(7890, 499)\n",
      "(7890,)\n",
      "Train Accuracy: 0.998\n",
      "Test Accuracy: 0.160\n",
      "../data/orb/orb_pca_bof_1000.csv\n",
      "(31400, 999)\n",
      "(31400,)\n",
      "(7890, 999)\n",
      "(7890,)\n",
      "Train Accuracy: 0.998\n",
      "Test Accuracy: 0.169\n"
     ]
    }
   ],
   "source": [
    "orb_predictions = []\n",
    "orb_actuals = []\n",
    "for i in range(len(csv_list)):\n",
    "    pred, act = processKNN(csv_list[i], 2)\n",
    "    orb_predictions.append(pred)\n",
    "    orb_actuals.append(act)"
   ]
  },
  {
   "cell_type": "markdown",
   "id": "98b5eddd",
   "metadata": {},
   "source": [
    "## Evaluation"
   ]
  },
  {
   "cell_type": "markdown",
   "id": "b16b9779",
   "metadata": {},
   "source": [
    "### Confusion matrix"
   ]
  },
  {
   "cell_type": "code",
   "execution_count": 43,
   "id": "506bfe86",
   "metadata": {
    "scrolled": false
   },
   "outputs": [
    {
     "name": "stderr",
     "output_type": "stream",
     "text": [
      "/var/folders/yd/vkjb_lqj2_30lnyhzhjqtg9w0000gp/T/ipykernel_940/2811923800.py:15: UserWarning: FixedFormatter should only be used together with FixedLocator\n",
      "  ax.set_xticklabels([''] + target_labels)\n",
      "/var/folders/yd/vkjb_lqj2_30lnyhzhjqtg9w0000gp/T/ipykernel_940/2811923800.py:16: UserWarning: FixedFormatter should only be used together with FixedLocator\n",
      "  ax.set_yticklabels([''] + target_labels)\n"
     ]
    },
    {
     "data": {
      "image/png": "[encoded data removed]",
      "text/plain": [
       "<Figure size 576x360 with 1 Axes>"
      ]
     },
     "metadata": {
      "needs_background": "light"
     },
     "output_type": "display_data"
    }
   ],
   "source": [
    "# Show only the best one \n",
    "i = 5\n",
    "confmat = confusion_matrix(y_true=orb_actuals[i], y_pred=orb_predictions[i], labels=targets)\n",
    "show_confusion_matrix(confmat)"
   ]
  },
  {
   "cell_type": "markdown",
   "id": "5d020a38",
   "metadata": {},
   "source": [
    "### Parformance matrics & Classification reports"
   ]
  },
  {
   "cell_type": "code",
   "execution_count": 44,
   "id": "ece1e7e7",
   "metadata": {
    "scrolled": false
   },
   "outputs": [
    {
     "name": "stdout",
     "output_type": "stream",
     "text": [
      "../data/orb/orb_bof_100.csv\n",
      "Precision: 0.133\n",
      "Recall: 0.135\n",
      "F1: 0.129\n",
      "Accuracy: 0.154\n",
      "Classification reports\n",
      "              precision    recall  f1-score   support\n",
      "\n",
      "       angry       0.11      0.10      0.10       957\n",
      "     disgust       0.09      0.03      0.05       830\n",
      "        fear       0.11      0.09      0.10      1024\n",
      "       happy       0.22      0.25      0.23      1774\n",
      "         sad       0.17      0.15      0.16      1247\n",
      "    surprise       0.09      0.07      0.08       831\n",
      "     neutral       0.15      0.25      0.19      1233\n",
      "\n",
      "    accuracy                           0.15      7896\n",
      "   macro avg       0.13      0.13      0.13      7896\n",
      "weighted avg       0.14      0.15      0.15      7896\n",
      "\n",
      "../data/orb/orb_bof_500.csv\n",
      "Precision: 0.198\n",
      "Recall: 0.148\n",
      "F1: 0.103\n",
      "Accuracy: 0.138\n",
      "Classification reports\n",
      "              precision    recall  f1-score   support\n",
      "\n",
      "       angry       0.14      0.08      0.10       957\n",
      "     disgust       0.46      0.01      0.01       830\n",
      "        fear       0.13      0.62      0.22      1024\n",
      "       happy       0.24      0.04      0.06      1774\n",
      "         sad       0.15      0.05      0.07      1247\n",
      "    surprise       0.11      0.13      0.11       831\n",
      "     neutral       0.15      0.12      0.14      1233\n",
      "\n",
      "    accuracy                           0.14      7896\n",
      "   macro avg       0.20      0.15      0.10      7896\n",
      "weighted avg       0.19      0.14      0.10      7896\n",
      "\n",
      "../data/orb/orb_bof_1000.csv\n",
      "Precision: 0.137\n",
      "Recall: 0.142\n",
      "F1: 0.064\n",
      "Accuracy: 0.133\n",
      "Classification reports\n",
      "              precision    recall  f1-score   support\n",
      "\n",
      "       angry       0.13      0.02      0.03       957\n",
      "     disgust       0.00      0.00      0.00       830\n",
      "        fear       0.13      0.81      0.22      1024\n",
      "       happy       0.29      0.01      0.01      1774\n",
      "         sad       0.17      0.02      0.04      1247\n",
      "    surprise       0.09      0.00      0.01       831\n",
      "     neutral       0.15      0.12      0.14      1233\n",
      "\n",
      "    accuracy                           0.13      7896\n",
      "   macro avg       0.14      0.14      0.06      7896\n",
      "weighted avg       0.16      0.13      0.06      7896\n",
      "\n",
      "../data/orb/orb_pca_bof_100.csv\n",
      "Precision: 0.141\n",
      "Recall: 0.145\n",
      "F1: 0.136\n",
      "Accuracy: 0.168\n",
      "Classification reports\n",
      "              precision    recall  f1-score   support\n",
      "\n",
      "       angry       0.12      0.19      0.15       957\n",
      "     disgust       0.08      0.01      0.02       830\n",
      "        fear       0.14      0.13      0.13      1023\n",
      "       happy       0.24      0.31      0.27      1773\n",
      "         sad       0.17      0.18      0.18      1245\n",
      "    surprise       0.09      0.04      0.06       831\n",
      "     neutral       0.15      0.16      0.16      1231\n",
      "\n",
      "    accuracy                           0.17      7890\n",
      "   macro avg       0.14      0.15      0.14      7890\n",
      "weighted avg       0.15      0.17      0.16      7890\n",
      "\n",
      "../data/orb/orb_pca_bof_500.csv\n",
      "Precision: 0.155\n",
      "Recall: 0.147\n",
      "F1: 0.141\n",
      "Accuracy: 0.160\n",
      "Classification reports\n",
      "              precision    recall  f1-score   support\n",
      "\n",
      "       angry       0.10      0.09      0.10       957\n",
      "     disgust       0.18      0.03      0.06       830\n",
      "        fear       0.14      0.24      0.18      1023\n",
      "       happy       0.23      0.23      0.23      1773\n",
      "         sad       0.16      0.17      0.17      1245\n",
      "    surprise       0.13      0.10      0.11       831\n",
      "     neutral       0.15      0.16      0.16      1231\n",
      "\n",
      "    accuracy                           0.16      7890\n",
      "   macro avg       0.15      0.15      0.14      7890\n",
      "weighted avg       0.16      0.16      0.15      7890\n",
      "\n",
      "../data/orb/orb_pca_bof_1000.csv\n",
      "Precision: 0.150\n",
      "Recall: 0.145\n",
      "F1: 0.130\n",
      "Accuracy: 0.169\n",
      "Classification reports\n",
      "              precision    recall  f1-score   support\n",
      "\n",
      "       angry       0.13      0.10      0.11       957\n",
      "     disgust       0.13      0.00      0.01       830\n",
      "        fear       0.13      0.21      0.16      1023\n",
      "       happy       0.23      0.29      0.26      1773\n",
      "         sad       0.15      0.15      0.15      1245\n",
      "    surprise       0.12      0.02      0.03       831\n",
      "     neutral       0.15      0.24      0.19      1231\n",
      "\n",
      "    accuracy                           0.17      7890\n",
      "   macro avg       0.15      0.15      0.13      7890\n",
      "weighted avg       0.16      0.17      0.15      7890\n",
      "\n"
     ]
    },
    {
     "name": "stderr",
     "output_type": "stream",
     "text": [
      "/Users/chikakoolsen/opt/anaconda3/lib/python3.9/site-packages/sklearn/metrics/_classification.py:1318: UndefinedMetricWarning: Precision is ill-defined and being set to 0.0 in labels with no predicted samples. Use `zero_division` parameter to control this behavior.\n",
      "  _warn_prf(average, modifier, msg_start, len(result))\n",
      "/Users/chikakoolsen/opt/anaconda3/lib/python3.9/site-packages/sklearn/metrics/_classification.py:1318: UndefinedMetricWarning: Precision and F-score are ill-defined and being set to 0.0 in labels with no predicted samples. Use `zero_division` parameter to control this behavior.\n",
      "  _warn_prf(average, modifier, msg_start, len(result))\n",
      "/Users/chikakoolsen/opt/anaconda3/lib/python3.9/site-packages/sklearn/metrics/_classification.py:1318: UndefinedMetricWarning: Precision and F-score are ill-defined and being set to 0.0 in labels with no predicted samples. Use `zero_division` parameter to control this behavior.\n",
      "  _warn_prf(average, modifier, msg_start, len(result))\n",
      "/Users/chikakoolsen/opt/anaconda3/lib/python3.9/site-packages/sklearn/metrics/_classification.py:1318: UndefinedMetricWarning: Precision and F-score are ill-defined and being set to 0.0 in labels with no predicted samples. Use `zero_division` parameter to control this behavior.\n",
      "  _warn_prf(average, modifier, msg_start, len(result))\n"
     ]
    }
   ],
   "source": [
    "showPerformance(orb_predictions, orb_actuals)"
   ]
  },
  {
   "cell_type": "markdown",
   "id": "561bc824",
   "metadata": {},
   "source": [
    "# KNN with BRISK"
   ]
  },
  {
   "cell_type": "code",
   "execution_count": 45,
   "id": "5e645b6b",
   "metadata": {},
   "outputs": [],
   "source": [
    "csv_list = ['../data/brisk/brisk_bof_100.csv', '../data/brisk/brisk_bof_500.csv', '../data/brisk/brisk_bof_1000.csv', \n",
    "            '../data/brisk/brisk_pca_bof_100.csv', '../data/brisk/brisk_pca_bof_500.csv', '../data/brisk/brisk_pca_bof_1000.csv']"
   ]
  },
  {
   "cell_type": "code",
   "execution_count": 46,
   "id": "e561c82d",
   "metadata": {},
   "outputs": [
    {
     "name": "stdout",
     "output_type": "stream",
     "text": [
      "../data/brisk/brisk_bof_100.csv\n",
      "(30833, 99)\n",
      "(30833,)\n",
      "(7731, 99)\n",
      "(7731,)\n",
      "Train Accuracy: 0.979\n",
      "Test Accuracy: 0.170\n",
      "../data/brisk/brisk_bof_500.csv\n",
      "(30833, 499)\n",
      "(30833,)\n",
      "(7731, 499)\n",
      "(7731,)\n",
      "Train Accuracy: 0.990\n",
      "Test Accuracy: 0.182\n",
      "../data/brisk/brisk_bof_1000.csv\n",
      "(30833, 999)\n",
      "(30833,)\n",
      "(7731, 999)\n",
      "(7731,)\n",
      "Train Accuracy: 0.994\n",
      "Test Accuracy: 0.174\n",
      "../data/brisk/brisk_pca_bof_100.csv\n",
      "(8004, 99)\n",
      "(8004,)\n",
      "(2160, 99)\n",
      "(2160,)\n",
      "Train Accuracy: 0.696\n",
      "Test Accuracy: 0.199\n",
      "../data/brisk/brisk_pca_bof_500.csv\n",
      "(8004, 499)\n",
      "(8004,)\n",
      "(2160, 499)\n",
      "(2160,)\n",
      "Train Accuracy: 0.778\n",
      "Test Accuracy: 0.163\n",
      "../data/brisk/brisk_pca_bof_1000.csv\n",
      "(8004, 999)\n",
      "(8004,)\n",
      "(2160, 999)\n",
      "(2160,)\n",
      "Train Accuracy: 0.817\n",
      "Test Accuracy: 0.170\n"
     ]
    }
   ],
   "source": [
    "brisk_predictions = []\n",
    "brisk_actuals = []\n",
    "for i in range(len(csv_list)):\n",
    "    pred, act = processKNN(csv_list[i], 2)\n",
    "    brisk_predictions.append(pred)\n",
    "    brisk_actuals.append(act)"
   ]
  },
  {
   "cell_type": "markdown",
   "id": "f1e22a88",
   "metadata": {},
   "source": [
    "## Evaluation"
   ]
  },
  {
   "cell_type": "markdown",
   "id": "78bcce4f",
   "metadata": {},
   "source": [
    "### Confusion matrix"
   ]
  },
  {
   "cell_type": "code",
   "execution_count": 47,
   "id": "48532f19",
   "metadata": {
    "scrolled": false
   },
   "outputs": [
    {
     "name": "stderr",
     "output_type": "stream",
     "text": [
      "/var/folders/yd/vkjb_lqj2_30lnyhzhjqtg9w0000gp/T/ipykernel_940/2811923800.py:15: UserWarning: FixedFormatter should only be used together with FixedLocator\n",
      "  ax.set_xticklabels([''] + target_labels)\n",
      "/var/folders/yd/vkjb_lqj2_30lnyhzhjqtg9w0000gp/T/ipykernel_940/2811923800.py:16: UserWarning: FixedFormatter should only be used together with FixedLocator\n",
      "  ax.set_yticklabels([''] + target_labels)\n"
     ]
    },
    {
     "data": {
      "image/png": "[encoded data removed]",
      "text/plain": [
       "<Figure size 576x360 with 1 Axes>"
      ]
     },
     "metadata": {
      "needs_background": "light"
     },
     "output_type": "display_data"
    }
   ],
   "source": [
    "# Show only the best one \n",
    "i = 3\n",
    "confmat = confusion_matrix(y_true=brisk_actuals[i], y_pred=brisk_predictions[i], labels=targets)\n",
    "show_confusion_matrix(confmat)"
   ]
  },
  {
   "cell_type": "markdown",
   "id": "a6d9f3e5",
   "metadata": {},
   "source": [
    "### Parformance matrics & Classification reports"
   ]
  },
  {
   "cell_type": "code",
   "execution_count": 48,
   "id": "f691e135",
   "metadata": {
    "scrolled": false
   },
   "outputs": [
    {
     "name": "stdout",
     "output_type": "stream",
     "text": [
      "../data/brisk/brisk_bof_100.csv\n",
      "Precision: 0.137\n",
      "Recall: 0.141\n",
      "F1: 0.129\n",
      "Accuracy: 0.170\n",
      "Classification reports\n",
      "              precision    recall  f1-score   support\n",
      "\n",
      "       angry       0.13      0.12      0.12       942\n",
      "     disgust       0.05      0.01      0.01       814\n",
      "        fear       0.14      0.16      0.15      1001\n",
      "       happy       0.21      0.40      0.28      1741\n",
      "         sad       0.15      0.17      0.16      1200\n",
      "    surprise       0.13      0.05      0.07       823\n",
      "     neutral       0.14      0.08      0.10      1210\n",
      "\n",
      "    accuracy                           0.17      7731\n",
      "   macro avg       0.14      0.14      0.13      7731\n",
      "weighted avg       0.15      0.17      0.15      7731\n",
      "\n",
      "../data/brisk/brisk_bof_500.csv\n",
      "Precision: 0.146\n",
      "Recall: 0.144\n",
      "F1: 0.126\n",
      "Accuracy: 0.182\n",
      "Classification reports\n",
      "              precision    recall  f1-score   support\n",
      "\n",
      "       angry       0.14      0.10      0.11       942\n",
      "     disgust       0.12      0.02      0.03       814\n",
      "        fear       0.12      0.13      0.12      1001\n",
      "       happy       0.23      0.48      0.31      1741\n",
      "         sad       0.16      0.19      0.17      1200\n",
      "    surprise       0.10      0.02      0.03       823\n",
      "     neutral       0.16      0.07      0.10      1210\n",
      "\n",
      "    accuracy                           0.18      7731\n",
      "   macro avg       0.15      0.14      0.13      7731\n",
      "weighted avg       0.16      0.18      0.15      7731\n",
      "\n",
      "../data/brisk/brisk_bof_1000.csv\n",
      "Precision: 0.140\n",
      "Recall: 0.140\n",
      "F1: 0.125\n",
      "Accuracy: 0.174\n",
      "Classification reports\n",
      "              precision    recall  f1-score   support\n",
      "\n",
      "       angry       0.11      0.09      0.10       942\n",
      "     disgust       0.11      0.02      0.04       814\n",
      "        fear       0.12      0.15      0.13      1001\n",
      "       happy       0.22      0.43      0.29      1741\n",
      "         sad       0.16      0.20      0.17      1200\n",
      "    surprise       0.09      0.02      0.03       823\n",
      "     neutral       0.17      0.08      0.11      1210\n",
      "\n",
      "    accuracy                           0.17      7731\n",
      "   macro avg       0.14      0.14      0.12      7731\n",
      "weighted avg       0.15      0.17      0.15      7731\n",
      "\n",
      "../data/brisk/brisk_pca_bof_100.csv\n",
      "Precision: 0.165\n",
      "Recall: 0.163\n",
      "F1: 0.127\n",
      "Accuracy: 0.199\n",
      "Classification reports\n",
      "              precision    recall  f1-score   support\n",
      "\n",
      "       angry       0.24      0.11      0.15       307\n",
      "     disgust       0.00      0.00      0.00       237\n",
      "        fear       0.15      0.08      0.11       312\n",
      "       happy       0.20      0.73      0.32       412\n",
      "         sad       0.24      0.11      0.15       355\n",
      "    surprise       0.16      0.04      0.07       230\n",
      "     neutral       0.17      0.07      0.09       307\n",
      "\n",
      "    accuracy                           0.20      2160\n",
      "   macro avg       0.17      0.16      0.13      2160\n",
      "weighted avg       0.17      0.20      0.14      2160\n",
      "\n",
      "../data/brisk/brisk_pca_bof_500.csv\n",
      "Precision: 0.119\n",
      "Recall: 0.134\n",
      "F1: 0.104\n",
      "Accuracy: 0.163\n",
      "Classification reports\n",
      "              precision    recall  f1-score   support\n",
      "\n",
      "       angry       0.13      0.07      0.09       307\n",
      "     disgust       0.00      0.00      0.00       237\n",
      "        fear       0.13      0.14      0.14       312\n",
      "       happy       0.19      0.57      0.28       412\n",
      "         sad       0.15      0.09      0.11       355\n",
      "    surprise       0.07      0.03      0.04       230\n",
      "     neutral       0.16      0.04      0.07       307\n",
      "\n",
      "    accuracy                           0.16      2160\n",
      "   macro avg       0.12      0.13      0.10      2160\n",
      "weighted avg       0.13      0.16      0.12      2160\n",
      "\n",
      "../data/brisk/brisk_pca_bof_1000.csv\n",
      "Precision: 0.173\n",
      "Recall: 0.148\n",
      "F1: 0.129\n",
      "Accuracy: 0.170\n",
      "Classification reports\n",
      "              precision    recall  f1-score   support\n",
      "\n",
      "       angry       0.16      0.13      0.14       307\n",
      "     disgust       0.26      0.03      0.06       237\n",
      "        fear       0.14      0.17      0.16       312\n",
      "       happy       0.19      0.50      0.27       412\n",
      "         sad       0.16      0.09      0.11       355\n",
      "    surprise       0.18      0.06      0.09       230\n",
      "     neutral       0.12      0.05      0.07       307\n",
      "\n",
      "    accuracy                           0.17      2160\n",
      "   macro avg       0.17      0.15      0.13      2160\n",
      "weighted avg       0.17      0.17      0.14      2160\n",
      "\n"
     ]
    }
   ],
   "source": [
    "showPerformance(brisk_predictions, brisk_actuals)"
   ]
  },
  {
   "cell_type": "markdown",
   "id": "ea7fff03",
   "metadata": {},
   "source": [
    "# KNN with AKAZE"
   ]
  },
  {
   "cell_type": "code",
   "execution_count": 49,
   "id": "b34b9ad9",
   "metadata": {},
   "outputs": [],
   "source": [
    "csv_list = ['../data/akaze/akaze_bof_100.csv', '../data/akaze/akaze_bof_500.csv', '../data/akaze/akaze_bof_1000.csv', \n",
    "            '../data/akaze/akaze_pca_bof_100.csv', '../data/akaze/akaze_pca_bof_500.csv', '../data/akaze/akaze_pca_bof_1000.csv']"
   ]
  },
  {
   "cell_type": "code",
   "execution_count": 50,
   "id": "a209e248",
   "metadata": {},
   "outputs": [
    {
     "name": "stdout",
     "output_type": "stream",
     "text": [
      "../data/akaze/akaze_bof_100.csv\n",
      "(31332, 99)\n",
      "(31332,)\n",
      "(7862, 99)\n",
      "(7862,)\n",
      "Train Accuracy: 0.997\n",
      "Test Accuracy: 0.158\n",
      "../data/akaze/akaze_bof_500.csv\n",
      "(31332, 499)\n",
      "(31332,)\n",
      "(7862, 499)\n",
      "(7862,)\n",
      "Train Accuracy: 0.998\n",
      "Test Accuracy: 0.168\n",
      "../data/akaze/akaze_bof_1000.csv\n",
      "(31332, 999)\n",
      "(31332,)\n",
      "(7862, 999)\n",
      "(7862,)\n",
      "Train Accuracy: 0.998\n",
      "Test Accuracy: 0.180\n",
      "../data/akaze/akaze_pca_bof_100.csv\n",
      "(25314, 99)\n",
      "(25314,)\n",
      "(6606, 99)\n",
      "(6606,)\n",
      "Train Accuracy: 0.814\n",
      "Test Accuracy: 0.193\n",
      "../data/akaze/akaze_pca_bof_500.csv\n",
      "(25314, 499)\n",
      "(25314,)\n",
      "(6606, 499)\n",
      "(6606,)\n",
      "Train Accuracy: 0.870\n",
      "Test Accuracy: 0.202\n",
      "../data/akaze/akaze_pca_bof_1000.csv\n",
      "(25314, 999)\n",
      "(25314,)\n",
      "(6606, 999)\n",
      "(6606,)\n",
      "Train Accuracy: 0.885\n",
      "Test Accuracy: 0.196\n"
     ]
    }
   ],
   "source": [
    "akaze_predictions = []\n",
    "akaze_actuals = []\n",
    "for i in range(len(csv_list)):\n",
    "    pred, act = processKNN(csv_list[i], 2)\n",
    "    akaze_predictions.append(pred)\n",
    "    akaze_actuals.append(act)"
   ]
  },
  {
   "cell_type": "markdown",
   "id": "9bb4710c",
   "metadata": {},
   "source": [
    "## Evaluation"
   ]
  },
  {
   "cell_type": "markdown",
   "id": "7088246a",
   "metadata": {},
   "source": [
    "### Confusion matrix"
   ]
  },
  {
   "cell_type": "code",
   "execution_count": 51,
   "id": "707c8aaa",
   "metadata": {
    "scrolled": false
   },
   "outputs": [
    {
     "name": "stderr",
     "output_type": "stream",
     "text": [
      "/var/folders/yd/vkjb_lqj2_30lnyhzhjqtg9w0000gp/T/ipykernel_940/2811923800.py:15: UserWarning: FixedFormatter should only be used together with FixedLocator\n",
      "  ax.set_xticklabels([''] + target_labels)\n",
      "/var/folders/yd/vkjb_lqj2_30lnyhzhjqtg9w0000gp/T/ipykernel_940/2811923800.py:16: UserWarning: FixedFormatter should only be used together with FixedLocator\n",
      "  ax.set_yticklabels([''] + target_labels)\n"
     ]
    },
    {
     "data": {
      "image/png": "[encoded data removed]",
      "text/plain": [
       "<Figure size 576x360 with 1 Axes>"
      ]
     },
     "metadata": {
      "needs_background": "light"
     },
     "output_type": "display_data"
    }
   ],
   "source": [
    "# Show only the best one \n",
    "i = 4\n",
    "confmat = confusion_matrix(y_true=akaze_actuals[i], y_pred=akaze_predictions[i], labels=targets)\n",
    "show_confusion_matrix(confmat)"
   ]
  },
  {
   "cell_type": "markdown",
   "id": "06e81c87",
   "metadata": {},
   "source": [
    "### Parformance matrics & Classification reports"
   ]
  },
  {
   "cell_type": "code",
   "execution_count": 52,
   "id": "9602b49b",
   "metadata": {
    "scrolled": false
   },
   "outputs": [
    {
     "name": "stdout",
     "output_type": "stream",
     "text": [
      "../data/akaze/akaze_bof_100.csv\n",
      "Precision: 0.136\n",
      "Recall: 0.138\n",
      "F1: 0.132\n",
      "Accuracy: 0.158\n",
      "Classification reports\n",
      "              precision    recall  f1-score   support\n",
      "\n",
      "       angry       0.12      0.14      0.13       954\n",
      "     disgust       0.08      0.01      0.02       822\n",
      "        fear       0.11      0.13      0.12      1022\n",
      "       happy       0.21      0.27      0.24      1766\n",
      "         sad       0.15      0.19      0.17      1237\n",
      "    surprise       0.11      0.06      0.07       831\n",
      "     neutral       0.17      0.16      0.16      1230\n",
      "\n",
      "    accuracy                           0.16      7862\n",
      "   macro avg       0.14      0.14      0.13      7862\n",
      "weighted avg       0.15      0.16      0.15      7862\n",
      "\n",
      "../data/akaze/akaze_bof_500.csv\n",
      "Precision: 0.140\n",
      "Recall: 0.140\n",
      "F1: 0.129\n",
      "Accuracy: 0.168\n",
      "Classification reports\n",
      "              precision    recall  f1-score   support\n",
      "\n",
      "       angry       0.13      0.14      0.13       954\n",
      "     disgust       0.06      0.01      0.01       822\n",
      "        fear       0.13      0.12      0.13      1022\n",
      "       happy       0.22      0.36      0.27      1766\n",
      "         sad       0.15      0.21      0.17      1237\n",
      "    surprise       0.16      0.05      0.07       831\n",
      "     neutral       0.14      0.10      0.12      1230\n",
      "\n",
      "    accuracy                           0.17      7862\n",
      "   macro avg       0.14      0.14      0.13      7862\n",
      "weighted avg       0.15      0.17      0.15      7862\n",
      "\n",
      "../data/akaze/akaze_bof_1000.csv\n",
      "Precision: 0.141\n",
      "Recall: 0.149\n",
      "F1: 0.134\n",
      "Accuracy: 0.180\n",
      "Classification reports\n",
      "              precision    recall  f1-score   support\n",
      "\n",
      "       angry       0.13      0.16      0.14       954\n",
      "     disgust       0.06      0.01      0.01       822\n",
      "        fear       0.14      0.13      0.14      1022\n",
      "       happy       0.24      0.40      0.30      1766\n",
      "         sad       0.16      0.20      0.18      1237\n",
      "    surprise       0.09      0.02      0.03       831\n",
      "     neutral       0.17      0.12      0.14      1230\n",
      "\n",
      "    accuracy                           0.18      7862\n",
      "   macro avg       0.14      0.15      0.13      7862\n",
      "weighted avg       0.15      0.18      0.16      7862\n",
      "\n",
      "../data/akaze/akaze_pca_bof_100.csv\n",
      "Precision: 0.142\n",
      "Recall: 0.149\n",
      "F1: 0.124\n",
      "Accuracy: 0.193\n",
      "Classification reports\n",
      "              precision    recall  f1-score   support\n",
      "\n",
      "       angry       0.14      0.09      0.11       816\n",
      "     disgust       0.06      0.00      0.01       703\n",
      "        fear       0.15      0.13      0.14       888\n",
      "       happy       0.23      0.61      0.33      1451\n",
      "         sad       0.16      0.10      0.13       984\n",
      "    surprise       0.12      0.05      0.07       732\n",
      "     neutral       0.14      0.06      0.08      1032\n",
      "\n",
      "    accuracy                           0.19      6606\n",
      "   macro avg       0.14      0.15      0.12      6606\n",
      "weighted avg       0.15      0.19      0.15      6606\n",
      "\n",
      "../data/akaze/akaze_pca_bof_500.csv\n",
      "Precision: 0.172\n",
      "Recall: 0.150\n",
      "F1: 0.115\n",
      "Accuracy: 0.202\n",
      "Classification reports\n",
      "              precision    recall  f1-score   support\n",
      "\n",
      "       angry       0.16      0.07      0.09       816\n",
      "     disgust       0.29      0.03      0.05       703\n",
      "        fear       0.13      0.08      0.10       888\n",
      "       happy       0.23      0.72      0.34      1451\n",
      "         sad       0.15      0.09      0.11       984\n",
      "    surprise       0.13      0.03      0.05       732\n",
      "     neutral       0.12      0.03      0.05      1032\n",
      "\n",
      "    accuracy                           0.20      6606\n",
      "   macro avg       0.17      0.15      0.11      6606\n",
      "weighted avg       0.17      0.20      0.14      6606\n",
      "\n",
      "../data/akaze/akaze_pca_bof_1000.csv\n",
      "Precision: 0.137\n",
      "Recall: 0.142\n",
      "F1: 0.100\n",
      "Accuracy: 0.196\n",
      "Classification reports\n",
      "              precision    recall  f1-score   support\n",
      "\n",
      "       angry       0.12      0.05      0.07       816\n",
      "     disgust       0.06      0.00      0.01       703\n",
      "        fear       0.13      0.09      0.11       888\n",
      "       happy       0.22      0.72      0.34      1451\n",
      "         sad       0.14      0.08      0.10       984\n",
      "    surprise       0.08      0.01      0.02       732\n",
      "     neutral       0.21      0.04      0.06      1032\n",
      "\n",
      "    accuracy                           0.20      6606\n",
      "   macro avg       0.14      0.14      0.10      6606\n",
      "weighted avg       0.15      0.20      0.12      6606\n",
      "\n"
     ]
    }
   ],
   "source": [
    "showPerformance(akaze_predictions, akaze_actuals)"
   ]
  },
  {
   "cell_type": "markdown",
   "id": "31977360",
   "metadata": {},
   "source": [
    "# KNN with HoG"
   ]
  },
  {
   "cell_type": "code",
   "execution_count": 53,
   "id": "3e4b8231",
   "metadata": {},
   "outputs": [],
   "source": [
    "csv_list = ['../data/hog/hog_data2.csv', '../data/hog/hog_scaled2.csv']"
   ]
  },
  {
   "cell_type": "code",
   "execution_count": 54,
   "id": "a8ee5552",
   "metadata": {},
   "outputs": [
    {
     "name": "stdout",
     "output_type": "stream",
     "text": [
      "../data/hog/hog_data2.csv\n",
      "(31432, 2304)\n",
      "(31432,)\n",
      "(7896, 2304)\n",
      "(7896,)\n",
      "Train Accuracy: 0.998\n",
      "Test Accuracy: 0.521\n",
      "../data/hog/hog_scaled2.csv\n",
      "(31432, 2304)\n",
      "(31432,)\n",
      "(7896, 2304)\n",
      "(7896,)\n",
      "Train Accuracy: 0.998\n",
      "Test Accuracy: 0.517\n"
     ]
    }
   ],
   "source": [
    "hog_predictions = []\n",
    "hog_actuals = []\n",
    "for i in range(len(csv_list)):\n",
    "    pred, act = processKNN(csv_list[i], 3)\n",
    "    hog_predictions.append(pred)\n",
    "    hog_actuals.append(act)"
   ]
  },
  {
   "cell_type": "markdown",
   "id": "48f829a8",
   "metadata": {},
   "source": [
    "## Evaluation"
   ]
  },
  {
   "cell_type": "markdown",
   "id": "8ad994d2",
   "metadata": {},
   "source": [
    "### Confusion matrix"
   ]
  },
  {
   "cell_type": "code",
   "execution_count": 55,
   "id": "69f59c54",
   "metadata": {
    "scrolled": false
   },
   "outputs": [
    {
     "name": "stderr",
     "output_type": "stream",
     "text": [
      "/var/folders/yd/vkjb_lqj2_30lnyhzhjqtg9w0000gp/T/ipykernel_940/2811923800.py:15: UserWarning: FixedFormatter should only be used together with FixedLocator\n",
      "  ax.set_xticklabels([''] + target_labels)\n",
      "/var/folders/yd/vkjb_lqj2_30lnyhzhjqtg9w0000gp/T/ipykernel_940/2811923800.py:16: UserWarning: FixedFormatter should only be used together with FixedLocator\n",
      "  ax.set_yticklabels([''] + target_labels)\n"
     ]
    },
    {
     "data": {
      "image/png": "[encoded data removed]",
      "text/plain": [
       "<Figure size 576x360 with 1 Axes>"
      ]
     },
     "metadata": {
      "needs_background": "light"
     },
     "output_type": "display_data"
    }
   ],
   "source": [
    "# Show only the best one \n",
    "i = 0\n",
    "confmat = confusion_matrix(y_true=hog_actuals[i], y_pred=hog_predictions[i], labels=targets)\n",
    "show_confusion_matrix(confmat)"
   ]
  },
  {
   "cell_type": "markdown",
   "id": "7910c77c",
   "metadata": {},
   "source": [
    "### Parformance matrics & Classification reports"
   ]
  },
  {
   "cell_type": "code",
   "execution_count": 56,
   "id": "9b0afeef",
   "metadata": {},
   "outputs": [
    {
     "name": "stdout",
     "output_type": "stream",
     "text": [
      "../data/hog/hog_data2.csv\n",
      "Precision: 0.533\n",
      "Recall: 0.539\n",
      "F1: 0.534\n",
      "Accuracy: 0.521\n",
      "Classification reports\n",
      "              precision    recall  f1-score   support\n",
      "\n",
      "       angry       0.40      0.37      0.39       957\n",
      "     disgust       0.90      1.00      0.95       830\n",
      "        fear       0.47      0.42      0.44      1024\n",
      "       happy       0.54      0.58      0.56      1774\n",
      "         sad       0.43      0.35      0.39      1247\n",
      "    surprise       0.63      0.65      0.64       831\n",
      "     neutral       0.36      0.41      0.38      1233\n",
      "\n",
      "    accuracy                           0.52      7896\n",
      "   macro avg       0.53      0.54      0.53      7896\n",
      "weighted avg       0.52      0.52      0.52      7896\n",
      "\n",
      "../data/hog/hog_scaled2.csv\n",
      "Precision: 0.526\n",
      "Recall: 0.535\n",
      "F1: 0.529\n",
      "Accuracy: 0.517\n",
      "Classification reports\n",
      "              precision    recall  f1-score   support\n",
      "\n",
      "       angry       0.40      0.38      0.39       957\n",
      "     disgust       0.90      1.00      0.95       830\n",
      "        fear       0.46      0.42      0.44      1024\n",
      "       happy       0.54      0.58      0.56      1774\n",
      "         sad       0.38      0.32      0.35      1247\n",
      "    surprise       0.63      0.65      0.64       831\n",
      "     neutral       0.37      0.40      0.38      1233\n",
      "\n",
      "    accuracy                           0.52      7896\n",
      "   macro avg       0.53      0.53      0.53      7896\n",
      "weighted avg       0.51      0.52      0.51      7896\n",
      "\n"
     ]
    }
   ],
   "source": [
    "showPerformance(hog_predictions, hog_actuals)"
   ]
  },
  {
   "cell_type": "markdown",
   "id": "4e414e2b",
   "metadata": {},
   "source": [
    "# Benchmark"
   ]
  },
  {
   "cell_type": "markdown",
   "id": "8f6f4ee9",
   "metadata": {},
   "source": [
    "## Find out best parameter for benchmark"
   ]
  },
  {
   "cell_type": "code",
   "execution_count": 4,
   "id": "94b0e9d5",
   "metadata": {},
   "outputs": [
    {
     "data": {
      "text/html": [
       "<div>\n",
       "<style scoped>\n",
       "    .dataframe tbody tr th:only-of-type {\n",
       "        vertical-align: middle;\n",
       "    }\n",
       "\n",
       "    .dataframe tbody tr th {\n",
       "        vertical-align: top;\n",
       "    }\n",
       "\n",
       "    .dataframe thead th {\n",
       "        text-align: right;\n",
       "    }\n",
       "</style>\n",
       "<table border=\"1\" class=\"dataframe\">\n",
       "  <thead>\n",
       "    <tr style=\"text-align: right;\">\n",
       "      <th></th>\n",
       "      <th>usage</th>\n",
       "      <th>emotion</th>\n",
       "      <th>pixels</th>\n",
       "    </tr>\n",
       "  </thead>\n",
       "  <tbody>\n",
       "    <tr>\n",
       "      <th>0</th>\n",
       "      <td>train</td>\n",
       "      <td>3</td>\n",
       "      <td>108 83 63 65 89 111 121 121 125 111 103 105 11...</td>\n",
       "    </tr>\n",
       "    <tr>\n",
       "      <th>1</th>\n",
       "      <td>train</td>\n",
       "      <td>3</td>\n",
       "      <td>137 142 159 162 158 134 113 167 174 177 164 12...</td>\n",
       "    </tr>\n",
       "    <tr>\n",
       "      <th>2</th>\n",
       "      <td>train</td>\n",
       "      <td>3</td>\n",
       "      <td>111 148 155 167 181 191 194 193 195 199 203 20...</td>\n",
       "    </tr>\n",
       "    <tr>\n",
       "      <th>3</th>\n",
       "      <td>train</td>\n",
       "      <td>3</td>\n",
       "      <td>151 156 121 100 80 116 151 169 183 185 192 190...</td>\n",
       "    </tr>\n",
       "    <tr>\n",
       "      <th>4</th>\n",
       "      <td>train</td>\n",
       "      <td>3</td>\n",
       "      <td>248 187 149 130 97 140 139 117 197 251 231 255...</td>\n",
       "    </tr>\n",
       "  </tbody>\n",
       "</table>\n",
       "</div>"
      ],
      "text/plain": [
       "   usage  emotion                                             pixels\n",
       "0  train        3  108 83 63 65 89 111 121 121 125 111 103 105 11...\n",
       "1  train        3  137 142 159 162 158 134 113 167 174 177 164 12...\n",
       "2  train        3  111 148 155 167 181 191 194 193 195 199 203 20...\n",
       "3  train        3  151 156 121 100 80 116 151 169 183 185 192 190...\n",
       "4  train        3  248 187 149 130 97 140 139 117 197 251 231 255..."
      ]
     },
     "execution_count": 4,
     "metadata": {},
     "output_type": "execute_result"
    }
   ],
   "source": [
    "# Use original dataset \n",
    "df = pd.read_csv('../data/fer_data.csv')\n",
    "df.head()"
   ]
  },
  {
   "cell_type": "code",
   "execution_count": 5,
   "id": "c65bfd79",
   "metadata": {},
   "outputs": [],
   "source": [
    "df_train = df[df['usage']=='train']\n",
    "df_test = df[df['usage']=='test']\n",
    "train_data, train_scaled = load_data(df_train, 0)\n",
    "train_target = list(df_train.emotion)\n",
    "test_data, test_scaled = load_data(df_test, 0)\n",
    "test_target = list(df_test.emotion)"
   ]
  },
  {
   "cell_type": "code",
   "execution_count": 6,
   "id": "d668ec36",
   "metadata": {},
   "outputs": [],
   "source": [
    "X_train = np.array(train_data)\n",
    "y_train = np.array(train_target)\n",
    "X_test = np.array(test_data)\n",
    "y_test = np.array(test_target)"
   ]
  },
  {
   "cell_type": "code",
   "execution_count": 7,
   "id": "393ec85e",
   "metadata": {},
   "outputs": [
    {
     "data": {
      "text/plain": [
       "0.2295113260371596"
      ]
     },
     "execution_count": 7,
     "metadata": {},
     "output_type": "execute_result"
    }
   ],
   "source": [
    "# Check which strategy make is best\n",
    "dummy = DummyClassifier(strategy='most_frequent')\n",
    "dummy.fit(X_train, y_train)\n",
    "dummy.score(X_train, y_train)"
   ]
  },
  {
   "cell_type": "code",
   "execution_count": 8,
   "id": "736cd3c0",
   "metadata": {},
   "outputs": [
    {
     "data": {
      "text/plain": [
       "0.2246707193515704"
      ]
     },
     "execution_count": 8,
     "metadata": {},
     "output_type": "execute_result"
    }
   ],
   "source": [
    "dummy.score(X_test, y_test)"
   ]
  },
  {
   "cell_type": "code",
   "execution_count": 63,
   "id": "2b40869b",
   "metadata": {},
   "outputs": [
    {
     "data": {
      "text/plain": [
       "0.2295113260371596"
      ]
     },
     "execution_count": 63,
     "metadata": {},
     "output_type": "execute_result"
    }
   ],
   "source": [
    "dummy = DummyClassifier(strategy='prior')\n",
    "dummy.fit(X_train, y_train)\n",
    "dummy.score(X_train, y_train)"
   ]
  },
  {
   "cell_type": "code",
   "execution_count": 64,
   "id": "2074e8d6",
   "metadata": {},
   "outputs": [
    {
     "data": {
      "text/plain": [
       "0.2246707193515704"
      ]
     },
     "execution_count": 64,
     "metadata": {},
     "output_type": "execute_result"
    }
   ],
   "source": [
    "dummy.score(X_test, y_test)"
   ]
  },
  {
   "cell_type": "code",
   "execution_count": 65,
   "id": "d14c40b9",
   "metadata": {},
   "outputs": [
    {
     "data": {
      "text/plain": [
       "0.1583418172562993"
      ]
     },
     "execution_count": 65,
     "metadata": {},
     "output_type": "execute_result"
    }
   ],
   "source": [
    "dummy = DummyClassifier(strategy='stratified')\n",
    "dummy.fit(X_train, y_train)\n",
    "dummy.score(X_train, y_train)"
   ]
  },
  {
   "cell_type": "code",
   "execution_count": 66,
   "id": "726e59fc",
   "metadata": {},
   "outputs": [
    {
     "data": {
      "text/plain": [
       "0.1495694022289767"
      ]
     },
     "execution_count": 66,
     "metadata": {},
     "output_type": "execute_result"
    }
   ],
   "source": [
    "dummy.score(X_test, y_test)"
   ]
  },
  {
   "cell_type": "code",
   "execution_count": 67,
   "id": "651c8a01",
   "metadata": {},
   "outputs": [
    {
     "data": {
      "text/plain": [
       "0.14167090862814966"
      ]
     },
     "execution_count": 67,
     "metadata": {},
     "output_type": "execute_result"
    }
   ],
   "source": [
    "dummy = DummyClassifier(strategy='uniform', random_state=1)\n",
    "dummy.fit(X_train, y_train)\n",
    "dummy.score(X_train, y_train)"
   ]
  },
  {
   "cell_type": "code",
   "execution_count": 68,
   "id": "00f2f5b3",
   "metadata": {},
   "outputs": [
    {
     "data": {
      "text/plain": [
       "0.1469098277608916"
      ]
     },
     "execution_count": 68,
     "metadata": {},
     "output_type": "execute_result"
    }
   ],
   "source": [
    "dummy.score(X_test, y_test)"
   ]
  },
  {
   "cell_type": "code",
   "execution_count": 69,
   "id": "ad153eab",
   "metadata": {},
   "outputs": [
    {
     "data": {
      "text/plain": [
       "0.10085263425808094"
      ]
     },
     "execution_count": 69,
     "metadata": {},
     "output_type": "execute_result"
    }
   ],
   "source": [
    "dummy = DummyClassifier(strategy='constant', constant=1)\n",
    "dummy.fit(X_train, y_train)\n",
    "dummy.score(X_train, y_train)"
   ]
  },
  {
   "cell_type": "code",
   "execution_count": 70,
   "id": "2493feb3",
   "metadata": {},
   "outputs": [
    {
     "data": {
      "text/plain": [
       "0.10511651469098278"
      ]
     },
     "execution_count": 70,
     "metadata": {},
     "output_type": "execute_result"
    }
   ],
   "source": [
    "dummy.score(X_test, y_test)"
   ]
  },
  {
   "cell_type": "markdown",
   "id": "e40ec369",
   "metadata": {},
   "source": [
    "Most_frequent or prior are best for strategy parameter."
   ]
  },
  {
   "cell_type": "markdown",
   "id": "699515dc",
   "metadata": {},
   "source": [
    "## Check with Best PCA data"
   ]
  },
  {
   "cell_type": "code",
   "execution_count": 71,
   "id": "f8f32a2f",
   "metadata": {},
   "outputs": [
    {
     "data": {
      "text/html": [
       "<div>\n",
       "<style scoped>\n",
       "    .dataframe tbody tr th:only-of-type {\n",
       "        vertical-align: middle;\n",
       "    }\n",
       "\n",
       "    .dataframe tbody tr th {\n",
       "        vertical-align: top;\n",
       "    }\n",
       "\n",
       "    .dataframe thead th {\n",
       "        text-align: right;\n",
       "    }\n",
       "</style>\n",
       "<table border=\"1\" class=\"dataframe\">\n",
       "  <thead>\n",
       "    <tr style=\"text-align: right;\">\n",
       "      <th></th>\n",
       "      <th>usage</th>\n",
       "      <th>emotion</th>\n",
       "      <th>pca</th>\n",
       "    </tr>\n",
       "  </thead>\n",
       "  <tbody>\n",
       "    <tr>\n",
       "      <th>0</th>\n",
       "      <td>train</td>\n",
       "      <td>3</td>\n",
       "      <td>104 109 102 94 93 99 106 110 109 106 103 106 1...</td>\n",
       "    </tr>\n",
       "    <tr>\n",
       "      <th>1</th>\n",
       "      <td>train</td>\n",
       "      <td>3</td>\n",
       "      <td>146 148 148 148 151 153 155 154 152 150 151 15...</td>\n",
       "    </tr>\n",
       "    <tr>\n",
       "      <th>2</th>\n",
       "      <td>train</td>\n",
       "      <td>3</td>\n",
       "      <td>111 122 135 152 172 185 193 196 196 198 198 20...</td>\n",
       "    </tr>\n",
       "    <tr>\n",
       "      <th>3</th>\n",
       "      <td>train</td>\n",
       "      <td>3</td>\n",
       "      <td>143 142 133 123 118 125 141 162 183 198 205 20...</td>\n",
       "    </tr>\n",
       "    <tr>\n",
       "      <th>4</th>\n",
       "      <td>train</td>\n",
       "      <td>3</td>\n",
       "      <td>220 201 167 130 99 94 110 138 165 181 193 191 ...</td>\n",
       "    </tr>\n",
       "  </tbody>\n",
       "</table>\n",
       "</div>"
      ],
      "text/plain": [
       "   usage  emotion                                                pca\n",
       "0  train        3  104 109 102 94 93 99 106 110 109 106 103 106 1...\n",
       "1  train        3  146 148 148 148 151 153 155 154 152 150 151 15...\n",
       "2  train        3  111 122 135 152 172 185 193 196 196 198 198 20...\n",
       "3  train        3  143 142 133 123 118 125 141 162 183 198 205 20...\n",
       "4  train        3  220 201 167 130 99 94 110 138 165 181 193 191 ..."
      ]
     },
     "execution_count": 71,
     "metadata": {},
     "output_type": "execute_result"
    }
   ],
   "source": [
    "df = pd.read_csv('../data/pca/fer_pca_inverse.csv')\n",
    "df.head()"
   ]
  },
  {
   "cell_type": "code",
   "execution_count": 72,
   "id": "21e984e4",
   "metadata": {},
   "outputs": [],
   "source": [
    "df_train = df[df['usage']=='train']\n",
    "df_test = df[df['usage']=='test']\n",
    "train_data, train_scaled = load_data(df_train, 1)\n",
    "train_target = list(df_train.emotion)\n",
    "test_data, test_scaled = load_data(df_test, 1)\n",
    "test_target = list(df_test.emotion)"
   ]
  },
  {
   "cell_type": "code",
   "execution_count": 73,
   "id": "dde4c99b",
   "metadata": {},
   "outputs": [],
   "source": [
    "X_train = np.array(train_data)\n",
    "y_train = np.array(train_target)\n",
    "X_test = np.array(test_data)\n",
    "y_test = np.array(test_target)"
   ]
  },
  {
   "cell_type": "code",
   "execution_count": 74,
   "id": "6ee0792a",
   "metadata": {
    "scrolled": true
   },
   "outputs": [
    {
     "data": {
      "text/plain": [
       "0.2295113260371596"
      ]
     },
     "execution_count": 74,
     "metadata": {},
     "output_type": "execute_result"
    }
   ],
   "source": [
    "dummy = DummyClassifier(strategy='most_frequent')\n",
    "dummy.fit(X_train, y_train)\n",
    "dummy.score(X_train, y_train)"
   ]
  },
  {
   "cell_type": "code",
   "execution_count": 75,
   "id": "1263b91a",
   "metadata": {},
   "outputs": [
    {
     "data": {
      "text/plain": [
       "0.2246707193515704"
      ]
     },
     "execution_count": 75,
     "metadata": {},
     "output_type": "execute_result"
    }
   ],
   "source": [
    "dummy.score(X_test, y_test)"
   ]
  },
  {
   "cell_type": "markdown",
   "id": "cdf2cb74",
   "metadata": {},
   "source": [
    "## Check with Best LDA data"
   ]
  },
  {
   "cell_type": "code",
   "execution_count": 76,
   "id": "55f549fa",
   "metadata": {},
   "outputs": [
    {
     "data": {
      "text/html": [
       "<div>\n",
       "<style scoped>\n",
       "    .dataframe tbody tr th:only-of-type {\n",
       "        vertical-align: middle;\n",
       "    }\n",
       "\n",
       "    .dataframe tbody tr th {\n",
       "        vertical-align: top;\n",
       "    }\n",
       "\n",
       "    .dataframe thead th {\n",
       "        text-align: right;\n",
       "    }\n",
       "</style>\n",
       "<table border=\"1\" class=\"dataframe\">\n",
       "  <thead>\n",
       "    <tr style=\"text-align: right;\">\n",
       "      <th></th>\n",
       "      <th>usage</th>\n",
       "      <th>emotion</th>\n",
       "      <th>lda</th>\n",
       "    </tr>\n",
       "  </thead>\n",
       "  <tbody>\n",
       "    <tr>\n",
       "      <th>0</th>\n",
       "      <td>train</td>\n",
       "      <td>3</td>\n",
       "      <td>0.7894818314647534 0.2147150019296881 -0.87952...</td>\n",
       "    </tr>\n",
       "    <tr>\n",
       "      <th>1</th>\n",
       "      <td>train</td>\n",
       "      <td>3</td>\n",
       "      <td>0.6069599043975686 -0.20427589187483838 0.2641...</td>\n",
       "    </tr>\n",
       "    <tr>\n",
       "      <th>2</th>\n",
       "      <td>train</td>\n",
       "      <td>3</td>\n",
       "      <td>-0.2795828858633714 1.0125084423693098 -0.1462...</td>\n",
       "    </tr>\n",
       "    <tr>\n",
       "      <th>3</th>\n",
       "      <td>train</td>\n",
       "      <td>3</td>\n",
       "      <td>-0.12393359351771732 0.4088989785758754 -1.315...</td>\n",
       "    </tr>\n",
       "    <tr>\n",
       "      <th>4</th>\n",
       "      <td>train</td>\n",
       "      <td>3</td>\n",
       "      <td>-0.14131908024016165 1.0288778060846748 -0.484...</td>\n",
       "    </tr>\n",
       "  </tbody>\n",
       "</table>\n",
       "</div>"
      ],
      "text/plain": [
       "   usage  emotion                                                lda\n",
       "0  train        3  0.7894818314647534 0.2147150019296881 -0.87952...\n",
       "1  train        3  0.6069599043975686 -0.20427589187483838 0.2641...\n",
       "2  train        3  -0.2795828858633714 1.0125084423693098 -0.1462...\n",
       "3  train        3  -0.12393359351771732 0.4088989785758754 -1.315...\n",
       "4  train        3  -0.14131908024016165 1.0288778060846748 -0.484..."
      ]
     },
     "execution_count": 76,
     "metadata": {},
     "output_type": "execute_result"
    }
   ],
   "source": [
    "df = pd.read_csv('../data/lda/fer_lda_std.csv')\n",
    "df.head()"
   ]
  },
  {
   "cell_type": "code",
   "execution_count": 77,
   "id": "1be8daf0",
   "metadata": {},
   "outputs": [],
   "source": [
    "df_train = df[df['usage']=='train']\n",
    "df_test = df[df['usage']=='test']\n",
    "train_data, train_scaled = load_data(df_train, 4)\n",
    "train_target = list(df_train.emotion)\n",
    "test_data, test_scaled = load_data(df_test, 4)\n",
    "test_target = list(df_test.emotion)"
   ]
  },
  {
   "cell_type": "code",
   "execution_count": 78,
   "id": "8078a07c",
   "metadata": {},
   "outputs": [],
   "source": [
    "X_train = np.array(train_data)\n",
    "y_train = np.array(train_target)\n",
    "X_test = np.array(test_data)\n",
    "y_test = np.array(test_target)"
   ]
  },
  {
   "cell_type": "code",
   "execution_count": 79,
   "id": "53195d4d",
   "metadata": {
    "scrolled": true
   },
   "outputs": [
    {
     "data": {
      "text/plain": [
       "0.2295113260371596"
      ]
     },
     "execution_count": 79,
     "metadata": {},
     "output_type": "execute_result"
    }
   ],
   "source": [
    "dummy = DummyClassifier(strategy='most_frequent')\n",
    "dummy.fit(X_train, y_train)\n",
    "dummy.score(X_train, y_train)"
   ]
  },
  {
   "cell_type": "code",
   "execution_count": 80,
   "id": "a9137d75",
   "metadata": {},
   "outputs": [
    {
     "data": {
      "text/plain": [
       "0.2246707193515704"
      ]
     },
     "execution_count": 80,
     "metadata": {},
     "output_type": "execute_result"
    }
   ],
   "source": [
    "dummy.score(X_test, y_test)"
   ]
  },
  {
   "cell_type": "markdown",
   "id": "245a205e",
   "metadata": {},
   "source": [
    "## Check with best BoF"
   ]
  },
  {
   "cell_type": "code",
   "execution_count": 81,
   "id": "fa271ea0",
   "metadata": {},
   "outputs": [
    {
     "data": {
      "text/html": [
       "<div>\n",
       "<style scoped>\n",
       "    .dataframe tbody tr th:only-of-type {\n",
       "        vertical-align: middle;\n",
       "    }\n",
       "\n",
       "    .dataframe tbody tr th {\n",
       "        vertical-align: top;\n",
       "    }\n",
       "\n",
       "    .dataframe thead th {\n",
       "        text-align: right;\n",
       "    }\n",
       "</style>\n",
       "<table border=\"1\" class=\"dataframe\">\n",
       "  <thead>\n",
       "    <tr style=\"text-align: right;\">\n",
       "      <th></th>\n",
       "      <th>usage</th>\n",
       "      <th>emotion</th>\n",
       "      <th>histogram</th>\n",
       "    </tr>\n",
       "  </thead>\n",
       "  <tbody>\n",
       "    <tr>\n",
       "      <th>0</th>\n",
       "      <td>train</td>\n",
       "      <td>3</td>\n",
       "      <td>0 0 0 0 0 0 0 0 0 1 0 0 0 0 0 0 0 0 0 0 0 0 0 ...</td>\n",
       "    </tr>\n",
       "    <tr>\n",
       "      <th>1</th>\n",
       "      <td>train</td>\n",
       "      <td>3</td>\n",
       "      <td>0 0 0 0 1 0 0 0 1 1 0 0 0 0 0 0 0 1 0 1 0 0 0 ...</td>\n",
       "    </tr>\n",
       "    <tr>\n",
       "      <th>2</th>\n",
       "      <td>train</td>\n",
       "      <td>3</td>\n",
       "      <td>1 2 0 0 0 0 0 0 1 1 2 0 0 0 0 0 0 0 1 0 0 1 0 ...</td>\n",
       "    </tr>\n",
       "    <tr>\n",
       "      <th>3</th>\n",
       "      <td>train</td>\n",
       "      <td>3</td>\n",
       "      <td>0 0 0 0 1 0 0 0 0 0 0 2 0 0 0 0 1 0 0 0 0 1 0 ...</td>\n",
       "    </tr>\n",
       "    <tr>\n",
       "      <th>4</th>\n",
       "      <td>train</td>\n",
       "      <td>3</td>\n",
       "      <td>0 1 2 0 1 0 1 0 0 0 0 1 0 1 1 0 0 3 0 0 0 1 0 ...</td>\n",
       "    </tr>\n",
       "  </tbody>\n",
       "</table>\n",
       "</div>"
      ],
      "text/plain": [
       "   usage  emotion                                          histogram\n",
       "0  train        3  0 0 0 0 0 0 0 0 0 1 0 0 0 0 0 0 0 0 0 0 0 0 0 ...\n",
       "1  train        3  0 0 0 0 1 0 0 0 1 1 0 0 0 0 0 0 0 1 0 1 0 0 0 ...\n",
       "2  train        3  1 2 0 0 0 0 0 0 1 1 2 0 0 0 0 0 0 0 1 0 0 1 0 ...\n",
       "3  train        3  0 0 0 0 1 0 0 0 0 0 0 2 0 0 0 0 1 0 0 0 0 1 0 ...\n",
       "4  train        3  0 1 2 0 1 0 1 0 0 0 0 1 0 1 1 0 0 3 0 0 0 1 0 ..."
      ]
     },
     "execution_count": 81,
     "metadata": {},
     "output_type": "execute_result"
    }
   ],
   "source": [
    "df = pd.read_csv('../data/sift/sift_bof_100.csv')\n",
    "df.head()"
   ]
  },
  {
   "cell_type": "code",
   "execution_count": 82,
   "id": "169abb16",
   "metadata": {},
   "outputs": [],
   "source": [
    "df_train = df[df['usage']=='train']\n",
    "df_test = df[df['usage']=='test']\n",
    "train_data, train_scaled = load_data(df_train, 2)\n",
    "train_target = list(df_train.emotion)\n",
    "test_data, test_scaled = load_data(df_test, 2)\n",
    "test_target = list(df_test.emotion)"
   ]
  },
  {
   "cell_type": "code",
   "execution_count": 83,
   "id": "d7b44e64",
   "metadata": {},
   "outputs": [],
   "source": [
    "X_train = np.array(train_data)\n",
    "y_train = np.array(train_target)\n",
    "X_test = np.array(test_data)\n",
    "y_test = np.array(test_target)"
   ]
  },
  {
   "cell_type": "code",
   "execution_count": 84,
   "id": "410f1026",
   "metadata": {},
   "outputs": [
    {
     "data": {
      "text/plain": [
       "0.22954784102841505"
      ]
     },
     "execution_count": 84,
     "metadata": {},
     "output_type": "execute_result"
    }
   ],
   "source": [
    "dummy = DummyClassifier(strategy='most_frequent')\n",
    "dummy.fit(X_train, y_train)\n",
    "dummy.score(X_train, y_train)"
   ]
  },
  {
   "cell_type": "code",
   "execution_count": 85,
   "id": "c2cf122a",
   "metadata": {},
   "outputs": [
    {
     "data": {
      "text/plain": [
       "0.224572514249525"
      ]
     },
     "execution_count": 85,
     "metadata": {},
     "output_type": "execute_result"
    }
   ],
   "source": [
    "dummy.score(X_test, y_test)"
   ]
  },
  {
   "cell_type": "markdown",
   "id": "cfa6f90d",
   "metadata": {},
   "source": [
    "## Check with best HoG"
   ]
  },
  {
   "cell_type": "code",
   "execution_count": 11,
   "id": "f6c991bf",
   "metadata": {},
   "outputs": [
    {
     "data": {
      "text/html": [
       "<div>\n",
       "<style scoped>\n",
       "    .dataframe tbody tr th:only-of-type {\n",
       "        vertical-align: middle;\n",
       "    }\n",
       "\n",
       "    .dataframe tbody tr th {\n",
       "        vertical-align: top;\n",
       "    }\n",
       "\n",
       "    .dataframe thead th {\n",
       "        text-align: right;\n",
       "    }\n",
       "</style>\n",
       "<table border=\"1\" class=\"dataframe\">\n",
       "  <thead>\n",
       "    <tr style=\"text-align: right;\">\n",
       "      <th></th>\n",
       "      <th>usage</th>\n",
       "      <th>emotion</th>\n",
       "      <th>hog</th>\n",
       "    </tr>\n",
       "  </thead>\n",
       "  <tbody>\n",
       "    <tr>\n",
       "      <th>0</th>\n",
       "      <td>train</td>\n",
       "      <td>3</td>\n",
       "      <td>0 0 0 0 0 0 0 0 0 0 0 0 0 0 0 0 0 0 0 0 0 0 0 ...</td>\n",
       "    </tr>\n",
       "    <tr>\n",
       "      <th>1</th>\n",
       "      <td>train</td>\n",
       "      <td>3</td>\n",
       "      <td>0 0 0 0 0 0 0 0 0 0 0 0 0 0 0 0 0 0 0 0 0 0 0 ...</td>\n",
       "    </tr>\n",
       "    <tr>\n",
       "      <th>2</th>\n",
       "      <td>train</td>\n",
       "      <td>3</td>\n",
       "      <td>0 0 0 0 0 0 0 0 0 0 0 0 0 0 0 0 0 0 0 0 0 0 0 ...</td>\n",
       "    </tr>\n",
       "    <tr>\n",
       "      <th>3</th>\n",
       "      <td>train</td>\n",
       "      <td>3</td>\n",
       "      <td>0 0 0 0 0 0 0 0 0 0 0 0 0 0 0 0 0 0 0 0 0 0 0 ...</td>\n",
       "    </tr>\n",
       "    <tr>\n",
       "      <th>4</th>\n",
       "      <td>train</td>\n",
       "      <td>3</td>\n",
       "      <td>0 0 0 0 0 0 0 0 0 0 0 0 0 0 0 0 0 0 0 0 0 0 0 ...</td>\n",
       "    </tr>\n",
       "  </tbody>\n",
       "</table>\n",
       "</div>"
      ],
      "text/plain": [
       "   usage  emotion                                                hog\n",
       "0  train        3  0 0 0 0 0 0 0 0 0 0 0 0 0 0 0 0 0 0 0 0 0 0 0 ...\n",
       "1  train        3  0 0 0 0 0 0 0 0 0 0 0 0 0 0 0 0 0 0 0 0 0 0 0 ...\n",
       "2  train        3  0 0 0 0 0 0 0 0 0 0 0 0 0 0 0 0 0 0 0 0 0 0 0 ...\n",
       "3  train        3  0 0 0 0 0 0 0 0 0 0 0 0 0 0 0 0 0 0 0 0 0 0 0 ...\n",
       "4  train        3  0 0 0 0 0 0 0 0 0 0 0 0 0 0 0 0 0 0 0 0 0 0 0 ..."
      ]
     },
     "execution_count": 11,
     "metadata": {},
     "output_type": "execute_result"
    }
   ],
   "source": [
    "df = pd.read_csv('../data/hog/hog_data2.csv')\n",
    "df.head()"
   ]
  },
  {
   "cell_type": "code",
   "execution_count": 12,
   "id": "2081bf84",
   "metadata": {},
   "outputs": [],
   "source": [
    "df_train = df[df['usage']=='train']\n",
    "df_test = df[df['usage']=='test']\n",
    "train_data, train_scaled = load_data(df_train, 3)\n",
    "train_target = list(df_train.emotion)\n",
    "test_data, test_scaled = load_data(df_test, 3)\n",
    "test_target = list(df_test.emotion)"
   ]
  },
  {
   "cell_type": "code",
   "execution_count": 13,
   "id": "a41895b5",
   "metadata": {},
   "outputs": [],
   "source": [
    "X_train = np.array(train_data)\n",
    "y_train = np.array(train_target)\n",
    "X_test = np.array(test_data)\n",
    "y_test = np.array(test_target)"
   ]
  },
  {
   "cell_type": "code",
   "execution_count": 14,
   "id": "8bea577d",
   "metadata": {},
   "outputs": [
    {
     "data": {
      "text/plain": [
       "0.2295113260371596"
      ]
     },
     "execution_count": 14,
     "metadata": {},
     "output_type": "execute_result"
    }
   ],
   "source": [
    "dummy = DummyClassifier(strategy='most_frequent')\n",
    "dummy.fit(X_train, y_train)\n",
    "dummy.score(X_train, y_train)"
   ]
  },
  {
   "cell_type": "code",
   "execution_count": 15,
   "id": "e1b0cdb4",
   "metadata": {},
   "outputs": [
    {
     "data": {
      "text/plain": [
       "0.2246707193515704"
      ]
     },
     "execution_count": 15,
     "metadata": {},
     "output_type": "execute_result"
    }
   ],
   "source": [
    "dummy.score(X_test, y_test)"
   ]
  },
  {
   "cell_type": "markdown",
   "id": "53ae9a43",
   "metadata": {},
   "source": [
    "### Performance and Classification report"
   ]
  },
  {
   "cell_type": "code",
   "execution_count": 16,
   "id": "f2d755a5",
   "metadata": {},
   "outputs": [],
   "source": [
    "y_pred = dummy.predict(X_test)"
   ]
  },
  {
   "cell_type": "code",
   "execution_count": 17,
   "id": "b0792699",
   "metadata": {},
   "outputs": [
    {
     "name": "stdout",
     "output_type": "stream",
     "text": [
      "Precision: 0.032\n",
      "Recall: 0.143\n",
      "F1: 0.052\n",
      "Accuracy: 0.225\n",
      "              precision    recall  f1-score   support\n",
      "\n",
      "       angry       0.00      0.00      0.00       957\n",
      "     disgust       0.00      0.00      0.00       830\n",
      "        fear       0.00      0.00      0.00      1024\n",
      "       happy       0.22      1.00      0.37      1774\n",
      "         sad       0.00      0.00      0.00      1247\n",
      "    surprise       0.00      0.00      0.00       831\n",
      "     neutral       0.00      0.00      0.00      1233\n",
      "\n",
      "    accuracy                           0.22      7896\n",
      "   macro avg       0.03      0.14      0.05      7896\n",
      "weighted avg       0.05      0.22      0.08      7896\n",
      "\n"
     ]
    },
    {
     "name": "stderr",
     "output_type": "stream",
     "text": [
      "/Users/chikakoolsen/opt/anaconda3/lib/python3.9/site-packages/sklearn/metrics/_classification.py:1318: UndefinedMetricWarning: Precision is ill-defined and being set to 0.0 in labels with no predicted samples. Use `zero_division` parameter to control this behavior.\n",
      "  _warn_prf(average, modifier, msg_start, len(result))\n",
      "/Users/chikakoolsen/opt/anaconda3/lib/python3.9/site-packages/sklearn/metrics/_classification.py:1318: UndefinedMetricWarning: Precision and F-score are ill-defined and being set to 0.0 in labels with no predicted samples. Use `zero_division` parameter to control this behavior.\n",
      "  _warn_prf(average, modifier, msg_start, len(result))\n",
      "/Users/chikakoolsen/opt/anaconda3/lib/python3.9/site-packages/sklearn/metrics/_classification.py:1318: UndefinedMetricWarning: Precision and F-score are ill-defined and being set to 0.0 in labels with no predicted samples. Use `zero_division` parameter to control this behavior.\n",
      "  _warn_prf(average, modifier, msg_start, len(result))\n",
      "/Users/chikakoolsen/opt/anaconda3/lib/python3.9/site-packages/sklearn/metrics/_classification.py:1318: UndefinedMetricWarning: Precision and F-score are ill-defined and being set to 0.0 in labels with no predicted samples. Use `zero_division` parameter to control this behavior.\n",
      "  _warn_prf(average, modifier, msg_start, len(result))\n"
     ]
    }
   ],
   "source": [
    "print('Precision: %.3f' % precision_score(y_true=y_test, y_pred=y_pred, average='macro'))\n",
    "print('Recall: %.3f' % recall_score(y_true=y_test, y_pred=y_pred, average='macro'))\n",
    "print('F1: %.3f' % f1_score(y_true=y_test, y_pred=y_pred, average='macro'))\n",
    "print('Accuracy: %.3f' % accuracy_score(y_true=y_test, y_pred=y_pred))\n",
    "print(classification_report(y_true=y_test, y_pred=y_pred, target_names=target_labels))"
   ]
  },
  {
   "cell_type": "markdown",
   "id": "9c113651",
   "metadata": {},
   "source": [
    "# Get better result"
   ]
  },
  {
   "cell_type": "markdown",
   "id": "ba9d024d",
   "metadata": {},
   "source": [
    "## Hyper parameter tuning"
   ]
  },
  {
   "cell_type": "markdown",
   "id": "b7e0d165",
   "metadata": {},
   "source": [
    "Use HoG data"
   ]
  },
  {
   "cell_type": "code",
   "execution_count": 19,
   "id": "ea0ba2a3",
   "metadata": {},
   "outputs": [
    {
     "data": {
      "text/html": [
       "<div>\n",
       "<style scoped>\n",
       "    .dataframe tbody tr th:only-of-type {\n",
       "        vertical-align: middle;\n",
       "    }\n",
       "\n",
       "    .dataframe tbody tr th {\n",
       "        vertical-align: top;\n",
       "    }\n",
       "\n",
       "    .dataframe thead th {\n",
       "        text-align: right;\n",
       "    }\n",
       "</style>\n",
       "<table border=\"1\" class=\"dataframe\">\n",
       "  <thead>\n",
       "    <tr style=\"text-align: right;\">\n",
       "      <th></th>\n",
       "      <th>usage</th>\n",
       "      <th>emotion</th>\n",
       "      <th>hog</th>\n",
       "    </tr>\n",
       "  </thead>\n",
       "  <tbody>\n",
       "    <tr>\n",
       "      <th>0</th>\n",
       "      <td>train</td>\n",
       "      <td>3</td>\n",
       "      <td>0 0 0 0 0 0 0 0 0 0 0 0 0 0 0 0 0 0 0 0 0 0 0 ...</td>\n",
       "    </tr>\n",
       "    <tr>\n",
       "      <th>1</th>\n",
       "      <td>train</td>\n",
       "      <td>3</td>\n",
       "      <td>0 0 0 0 0 0 0 0 0 0 0 0 0 0 0 0 0 0 0 0 0 0 0 ...</td>\n",
       "    </tr>\n",
       "    <tr>\n",
       "      <th>2</th>\n",
       "      <td>train</td>\n",
       "      <td>3</td>\n",
       "      <td>0 0 0 0 0 0 0 0 0 0 0 0 0 0 0 0 0 0 0 0 0 0 0 ...</td>\n",
       "    </tr>\n",
       "    <tr>\n",
       "      <th>3</th>\n",
       "      <td>train</td>\n",
       "      <td>3</td>\n",
       "      <td>0 0 0 0 0 0 0 0 0 0 0 0 0 0 0 0 0 0 0 0 0 0 0 ...</td>\n",
       "    </tr>\n",
       "    <tr>\n",
       "      <th>4</th>\n",
       "      <td>train</td>\n",
       "      <td>3</td>\n",
       "      <td>0 0 0 0 0 0 0 0 0 0 0 0 0 0 0 0 0 0 0 0 0 0 0 ...</td>\n",
       "    </tr>\n",
       "  </tbody>\n",
       "</table>\n",
       "</div>"
      ],
      "text/plain": [
       "   usage  emotion                                                hog\n",
       "0  train        3  0 0 0 0 0 0 0 0 0 0 0 0 0 0 0 0 0 0 0 0 0 0 0 ...\n",
       "1  train        3  0 0 0 0 0 0 0 0 0 0 0 0 0 0 0 0 0 0 0 0 0 0 0 ...\n",
       "2  train        3  0 0 0 0 0 0 0 0 0 0 0 0 0 0 0 0 0 0 0 0 0 0 0 ...\n",
       "3  train        3  0 0 0 0 0 0 0 0 0 0 0 0 0 0 0 0 0 0 0 0 0 0 0 ...\n",
       "4  train        3  0 0 0 0 0 0 0 0 0 0 0 0 0 0 0 0 0 0 0 0 0 0 0 ..."
      ]
     },
     "execution_count": 19,
     "metadata": {},
     "output_type": "execute_result"
    }
   ],
   "source": [
    "df = pd.read_csv('../data/hog/hog_scaled2.csv')\n",
    "df.head()"
   ]
  },
  {
   "cell_type": "code",
   "execution_count": 20,
   "id": "530cbf1b",
   "metadata": {},
   "outputs": [],
   "source": [
    "df_train = df[df['usage']=='train']\n",
    "df_test = df[df['usage']=='test']\n",
    "train_data, train_scaled = load_data(df_train, 3)\n",
    "train_target = list(df_train.emotion)\n",
    "test_data, test_scaled = load_data(df_test, 3)\n",
    "test_target = list(df_test.emotion)"
   ]
  },
  {
   "cell_type": "code",
   "execution_count": 21,
   "id": "d11d2585",
   "metadata": {},
   "outputs": [],
   "source": [
    "X_train = np.array(train_data)\n",
    "y_train = np.array(train_target)\n",
    "X_test = np.array(test_data)\n",
    "y_test = np.array(test_target)"
   ]
  },
  {
   "cell_type": "code",
   "execution_count": 16,
   "id": "240c5eab",
   "metadata": {},
   "outputs": [],
   "source": [
    "param_grid = [{'weights': ['uniform', 'distance'], \n",
    "               'metric': ['minkowski', 'euclidean', 'manhattan']}]\n",
    "\n",
    "knn = KNN(n_neighbors=2)\n",
    "\n",
    "gs = GridSearchCV(estimator=knn, \n",
    "                  param_grid=param_grid, \n",
    "                  scoring='accuracy', \n",
    "                  refit=True,\n",
    "                  cv=10,\n",
    "                  n_jobs=-1)\n",
    "clf = gs.fit(X_train, y_train)"
   ]
  },
  {
   "cell_type": "code",
   "execution_count": 17,
   "id": "8a8b207d",
   "metadata": {},
   "outputs": [
    {
     "name": "stdout",
     "output_type": "stream",
     "text": [
      "0.4958642190448665\n",
      "{'metric': 'minkowski', 'weights': 'distance'}\n",
      "Train accuracy: 0.998\n",
      "Test accuracy: 0.517\n"
     ]
    }
   ],
   "source": [
    "print(clf.best_score_)\n",
    "print(clf.best_params_)\n",
    "result = clf.best_estimator_\n",
    "print('Train accuracy: %.3f' % result.score(X_train, y_train))\n",
    "print('Test accuracy: %.3f' % result.score(X_test, y_test))"
   ]
  },
  {
   "cell_type": "markdown",
   "id": "0c2f14bf",
   "metadata": {},
   "source": [
    "Minkowski metric and distance weights are still the best."
   ]
  },
  {
   "cell_type": "markdown",
   "id": "fef65fcc",
   "metadata": {},
   "source": [
    "## K-fold cross-validation"
   ]
  },
  {
   "cell_type": "code",
   "execution_count": 22,
   "id": "4acf281c",
   "metadata": {},
   "outputs": [
    {
     "name": "stdout",
     "output_type": "stream",
     "text": [
      "CV accuracy scores: [0.4821883  0.50604326 0.48934139 0.50079542 0.48584155 0.51193128\n",
      " 0.5058861  0.48647789 0.49825008 0.50652243]\n",
      "CV accuracy: 0.497 +/- 0.010\n",
      "CV accuracy scores: [0.48250636 0.50508906 0.48997773 0.50047725 0.48297805 0.5097041\n",
      " 0.50397709 0.48711422 0.49538657 0.50143175]\n",
      "CV accuracy: 0.496 +/- 0.009\n",
      "CV accuracy scores: [0.48346056 0.50636132 0.48711422 0.49761374 0.49061406 0.50811327\n",
      " 0.49793191 0.48806872 0.49856825 0.49984092]\n",
      "CV accuracy: 0.496 +/- 0.008\n",
      "CV accuracy scores: [0.48664122 0.50381679 0.47916004 0.50015908 0.48552339 0.50620426\n",
      " 0.49347757 0.48297805 0.49188673 0.50047725]\n",
      "CV accuracy: 0.493 +/- 0.009\n",
      "CV accuracy scores: [0.47582697 0.50763359 0.47979637 0.49665924 0.47788737 0.49729558\n",
      " 0.4912504  0.47502386 0.49379574 0.49825008]\n",
      "CV accuracy: 0.489 +/- 0.011\n",
      "CV accuracy scores: [0.4764631  0.50540712 0.47629653 0.49093223 0.48170538 0.49156857\n",
      " 0.49284123 0.47820554 0.48806872 0.50015908]\n",
      "CV accuracy: 0.488 +/- 0.009\n",
      "CV accuracy scores: [0.47232824 0.5        0.47597836 0.4912504  0.47311486 0.49475024\n",
      " 0.49093223 0.48138721 0.48297805 0.49697741]\n",
      "CV accuracy: 0.486 +/- 0.010\n",
      "CV accuracy scores: [0.47137405 0.49650127 0.47438753 0.49156857 0.47502386 0.48965956\n",
      " 0.48679605 0.4747057  0.47884187 0.4912504 ]\n",
      "CV accuracy: 0.483 +/- 0.009\n",
      "CV accuracy scores: [0.47455471 0.4971374  0.47216036 0.48361438 0.46516067 0.48520522\n",
      " 0.48870506 0.47279669 0.47534203 0.48965956]\n",
      "CV accuracy: 0.480 +/- 0.009\n",
      "CV accuracy scores: [0.46660305 0.49554707 0.47247852 0.48584155 0.46420617 0.48297805\n",
      " 0.48106904 0.46929685 0.46802418 0.49061406]\n",
      "CV accuracy: 0.478 +/- 0.010\n",
      "CV accuracy scores: [0.46215013 0.48886768 0.46897868 0.48265988 0.46388801 0.48106904\n",
      " 0.48075087 0.46770601 0.47025135 0.48679605]\n",
      "CV accuracy: 0.475 +/- 0.009\n",
      "CV accuracy scores: [0.46246819 0.48473282 0.46388801 0.47820554 0.46484251 0.47406936\n",
      " 0.48361438 0.46452434 0.47120585 0.48011454]\n",
      "CV accuracy: 0.473 +/- 0.008\n",
      "CV accuracy scores: [0.4596056  0.48441476 0.45911549 0.48138721 0.46070633 0.47947821\n",
      " 0.47534203 0.46579701 0.46738785 0.47502386]\n",
      "CV accuracy: 0.471 +/- 0.009\n",
      "CV accuracy scores: [0.45356234 0.47900763 0.46325167 0.48170538 0.46229717 0.47406936\n",
      " 0.47216036 0.46484251 0.46770601 0.47502386]\n",
      "CV accuracy: 0.469 +/- 0.008\n",
      "CV accuracy scores: [0.45706107 0.47614504 0.46452434 0.4756602  0.45720649 0.46961502\n",
      " 0.47375119 0.46038816 0.47088769 0.47502386]\n",
      "CV accuracy: 0.468 +/- 0.007\n",
      "CV accuracy scores: [0.45483461 0.47264631 0.45975183 0.4785237  0.45466115 0.46611518\n",
      " 0.47279669 0.46325167 0.47025135 0.47343303]\n",
      "CV accuracy: 0.467 +/- 0.008\n",
      "CV accuracy scores: [0.45165394 0.47868957 0.45720649 0.4747057  0.45561565 0.46134267\n",
      " 0.47120585 0.46388801 0.46738785 0.47629653]\n",
      "CV accuracy: 0.466 +/- 0.009\n",
      "CV accuracy scores: [0.4586514  0.47423664 0.45688832 0.47088769 0.45561565 0.45943366\n",
      " 0.47279669 0.4610245  0.46738785 0.47725103]\n",
      "CV accuracy: 0.465 +/- 0.008\n",
      "CV accuracy scores: [0.45483461 0.47614504 0.45561565 0.47184219 0.45688832 0.45975183\n",
      " 0.4756602  0.46166083 0.46420617 0.4756602 ]\n",
      "CV accuracy: 0.465 +/- 0.008\n",
      "CV accuracy scores: [0.4557888  0.4764631  0.45275215 0.46643334 0.45179765 0.45720649\n",
      " 0.47247852 0.46038816 0.4629335  0.47502386]\n",
      "CV accuracy: 0.463 +/- 0.009\n",
      "CV accuracy scores: [0.45419847 0.47487277 0.45370665 0.46866052 0.45466115 0.45529749\n",
      " 0.46834235 0.46007    0.46261534 0.47120585]\n",
      "CV accuracy: 0.462 +/- 0.008\n",
      "CV accuracy scores: [0.45419847 0.47423664 0.45116131 0.46738785 0.45084314 0.45497932\n",
      " 0.46420617 0.46325167 0.46261534 0.46897868]\n",
      "CV accuracy: 0.461 +/- 0.008\n",
      "CV accuracy scores: [0.45388041 0.47360051 0.45275215 0.46834235 0.44988864 0.45688832\n",
      " 0.46802418 0.45816099 0.45943366 0.47088769]\n",
      "CV accuracy: 0.461 +/- 0.008\n",
      "CV accuracy scores: [0.45101781 0.47487277 0.45434298 0.46866052 0.44988864 0.45593382\n",
      " 0.4629335  0.45816099 0.46007    0.46834235]\n",
      "CV accuracy: 0.460 +/- 0.008\n",
      "CV accuracy scores: [0.44688295 0.47423664 0.45657016 0.47088769 0.44861597 0.45752466\n",
      " 0.46261534 0.46038816 0.45720649 0.46866052]\n",
      "CV accuracy: 0.460 +/- 0.009\n",
      "CV accuracy scores: [0.44433842 0.47201018 0.45975183 0.4756602  0.44766147 0.45911549\n",
      " 0.4629335  0.45975183 0.45497932 0.46770601]\n",
      "CV accuracy: 0.460 +/- 0.009\n",
      "CV accuracy scores: [0.44402036 0.47073791 0.46229717 0.47629653 0.44670697 0.45752466\n",
      " 0.46484251 0.45657016 0.45784283 0.47056952]\n",
      "CV accuracy: 0.461 +/- 0.010\n",
      "CV accuracy scores: [0.44274809 0.47328244 0.45911549 0.47375119 0.44384346 0.45593382\n",
      " 0.46038816 0.45497932 0.45816099 0.46738785]\n",
      "CV accuracy: 0.459 +/- 0.010\n",
      "CV accuracy scores: [0.44497455 0.46723919 0.45975183 0.47247852 0.44766147 0.45307031\n",
      " 0.46134267 0.45434298 0.45943366 0.47056952]\n",
      "CV accuracy: 0.459 +/- 0.009\n",
      "CV accuracy scores: [0.44211196 0.47010178 0.461979   0.47120585 0.44416163 0.45370665\n",
      " 0.4629335  0.45338848 0.4610245  0.46993318]\n",
      "CV accuracy: 0.459 +/- 0.010\n",
      "CV accuracy scores: [0.44243003 0.47328244 0.46356984 0.46993318 0.44766147 0.45593382\n",
      " 0.46325167 0.45466115 0.45816099 0.46770601]\n",
      "CV accuracy: 0.460 +/- 0.009\n",
      "CV accuracy scores: [0.44402036 0.47455471 0.45975183 0.46706968 0.44511613 0.45529749\n",
      " 0.46134267 0.45370665 0.45752466 0.46866052]\n",
      "CV accuracy: 0.459 +/- 0.009\n",
      "CV accuracy scores: [0.44306616 0.47296438 0.4610245  0.46643334 0.44702514 0.45497932\n",
      " 0.46325167 0.45275215 0.45847916 0.46611518]\n",
      "CV accuracy: 0.459 +/- 0.009\n",
      "CV accuracy scores: [0.44274809 0.47010178 0.45847916 0.46643334 0.44670697 0.45402482\n",
      " 0.46802418 0.45179765 0.45816099 0.46770601]\n",
      "CV accuracy: 0.458 +/- 0.009\n",
      "CV accuracy scores: [0.44370229 0.46978372 0.45752466 0.46516067 0.44670697 0.45243398\n",
      " 0.46738785 0.45147948 0.45497932 0.46675151]\n",
      "CV accuracy: 0.458 +/- 0.009\n",
      "CV accuracy scores: [0.44115776 0.47264631 0.45688832 0.46579701 0.44670697 0.45688832\n",
      " 0.46452434 0.44957047 0.45370665 0.46802418]\n",
      "CV accuracy: 0.458 +/- 0.010\n",
      "CV accuracy scores: [0.44211196 0.47041985 0.45657016 0.46770601 0.44575247 0.45561565\n",
      " 0.46802418 0.44925231 0.45466115 0.46706968]\n",
      "CV accuracy: 0.458 +/- 0.010\n",
      "CV accuracy scores: [0.44083969 0.46946565 0.45847916 0.46611518 0.44479796 0.45402482\n",
      " 0.46706968 0.4473433  0.45179765 0.46738785]\n",
      "CV accuracy: 0.457 +/- 0.010\n",
      "CV accuracy scores: [0.44243003 0.46787532 0.46038816 0.46547884 0.44352529 0.45816099\n",
      " 0.46675151 0.45052498 0.45370665 0.46770601]\n",
      "CV accuracy: 0.458 +/- 0.009\n",
      "CV accuracy scores: [0.44338422 0.46723919 0.45816099 0.46738785 0.4454343  0.45720649\n",
      " 0.46866052 0.44957047 0.45338848 0.46738785]\n",
      "CV accuracy: 0.458 +/- 0.009\n",
      "CV accuracy scores: [0.44274809 0.46755725 0.46007    0.4629335  0.4454343  0.45402482\n",
      " 0.46579701 0.44670697 0.45243398 0.46770601]\n",
      "CV accuracy: 0.457 +/- 0.009\n",
      "CV accuracy scores: [0.44211196 0.46660305 0.45943366 0.46356984 0.44702514 0.45625199\n",
      " 0.46420617 0.44607063 0.45466115 0.46738785]\n",
      "CV accuracy: 0.457 +/- 0.009\n",
      "CV accuracy scores: [0.44402036 0.46596692 0.45943366 0.46038816 0.4473433  0.45688832\n",
      " 0.46452434 0.44670697 0.45402482 0.46675151]\n",
      "CV accuracy: 0.457 +/- 0.008\n",
      "CV accuracy scores: [0.44274809 0.46087786 0.45784283 0.45975183 0.4482978  0.45529749\n",
      " 0.46611518 0.4454343  0.45116131 0.47056952]\n",
      "CV accuracy: 0.456 +/- 0.009\n",
      "CV accuracy scores: [0.44147583 0.45992366 0.45879733 0.45816099 0.44893414 0.45529749\n",
      " 0.46388801 0.44797964 0.45116131 0.46738785]\n",
      "CV accuracy: 0.455 +/- 0.008\n",
      "CV accuracy scores: [0.44179389 0.46087786 0.45720649 0.45879733 0.44797964 0.45529749\n",
      " 0.46643334 0.4473433  0.44893414 0.46452434]\n",
      "CV accuracy: 0.455 +/- 0.008\n",
      "CV accuracy scores: [0.4389313  0.46215013 0.45720649 0.46038816 0.44257079 0.45147948\n",
      " 0.46356984 0.44797964 0.44766147 0.46802418]\n",
      "CV accuracy: 0.454 +/- 0.009\n",
      "CV accuracy scores: [0.43861323 0.45801527 0.45593382 0.46038816 0.44607063 0.45179765\n",
      " 0.46516067 0.44988864 0.44925231 0.46770601]\n",
      "CV accuracy: 0.454 +/- 0.008\n",
      "CV accuracy scores: [0.4398855  0.4576972  0.45720649 0.45625199 0.44352529 0.45147948\n",
      " 0.46356984 0.44988864 0.44702514 0.46643334]\n",
      "CV accuracy: 0.453 +/- 0.008\n"
     ]
    }
   ],
   "source": [
    "k_list = list(range(1,50))\n",
    "cv_scores = []\n",
    "for k in k_list:\n",
    "    knn = KNN(n_neighbors=k, weights='distance', metric='minkowski')\n",
    "    scores = cross_val_score(knn, X_train, y_train, cv=10, scoring='accuracy')\n",
    "    # Append avg score to the list\n",
    "    cv_scores.append(scores.mean())\n",
    "    print('CV accuracy scores: %s' % scores)\n",
    "    print('CV accuracy: %.3f +/- %.3f' % (np.mean(scores), np.std(scores)))"
   ]
  },
  {
   "cell_type": "code",
   "execution_count": 24,
   "id": "75c07561",
   "metadata": {},
   "outputs": [
    {
     "data": {
      "image/png": "[encoded data removed]",
      "text/plain": [
       "<Figure size 720x432 with 1 Axes>"
      ]
     },
     "metadata": {
      "needs_background": "light"
     },
     "output_type": "display_data"
    }
   ],
   "source": [
    "# Plot the cross-validated accuracy against n_neighbors parameter\n",
    "plt.figure(figsize=(10,6))\n",
    "plt.plot(k_list, cv_scores, color = 'red')\n",
    "plt.title('KNN Accuracy vs. Number of Neighbors', size=15)\n",
    "plt.xticks( range(0,50,10) )\n",
    "plt.xlabel('Number of Neighbors (K)')\n",
    "plt.ylabel('Cross-Validated Accuracy')\n",
    "plt.show()"
   ]
  },
  {
   "cell_type": "markdown",
   "id": "d192b1c6",
   "metadata": {},
   "source": [
    "# Visualizing learning curves"
   ]
  },
  {
   "cell_type": "code",
   "execution_count": 25,
   "id": "48eca67e",
   "metadata": {},
   "outputs": [
    {
     "data": {
      "image/png": "[encoded data removed]",
      "text/plain": [
       "<Figure size 432x288 with 1 Axes>"
      ]
     },
     "metadata": {
      "needs_background": "light"
     },
     "output_type": "display_data"
    }
   ],
   "source": [
    "knn = KNN(n_neighbors=2, weights='distance', metric='minkowski')\n",
    "\n",
    "train_sizes, train_scores, test_scores =\\\n",
    "                learning_curve(estimator=knn,\n",
    "                               X=X_train,\n",
    "                               y=y_train,\n",
    "                               train_sizes=np.linspace(0.1, 1.0, 10),\n",
    "                               cv=10,\n",
    "                               n_jobs=1)\n",
    "\n",
    "train_mean = np.mean(train_scores, axis=1)\n",
    "train_std = np.std(train_scores, axis=1)\n",
    "test_mean = np.mean(test_scores, axis=1)\n",
    "test_std = np.std(test_scores, axis=1)\n",
    "\n",
    "plt.plot(train_sizes, train_mean,\n",
    "         color='blue', marker='o',\n",
    "         markersize=5, label='Training accuracy')\n",
    "\n",
    "plt.fill_between(train_sizes,\n",
    "                 train_mean + train_std,\n",
    "                 train_mean - train_std,\n",
    "                 alpha=0.15, color='blue')\n",
    "\n",
    "plt.plot(train_sizes, test_mean,\n",
    "         color='green', linestyle='--',\n",
    "         marker='s', markersize=5,\n",
    "         label='Validation accuracy')\n",
    "\n",
    "plt.fill_between(train_sizes,\n",
    "                 test_mean + test_std,\n",
    "                 test_mean - test_std,\n",
    "                 alpha=0.15, color='green')\n",
    "\n",
    "plt.grid()\n",
    "plt.xlabel('Number of training examples')\n",
    "plt.ylabel('Accuracy')\n",
    "plt.legend(loc='lower right')\n",
    "plt.tight_layout()\n",
    "plt.show()"
   ]
  }
 ],
 "metadata": {
  "kernelspec": {
   "display_name": "Python 3 (ipykernel)",
   "language": "python",
   "name": "python3"
  },
  "language_info": {
   "codemirror_mode": {
    "name": "ipython",
    "version": 3
   },
   "file_extension": ".py",
   "mimetype": "text/x-python",
   "name": "python",
   "nbconvert_exporter": "python",
   "pygments_lexer": "ipython3",
   "version": "3.9.12"
  }
 },
 "nbformat": 4,
 "nbformat_minor": 5
}
